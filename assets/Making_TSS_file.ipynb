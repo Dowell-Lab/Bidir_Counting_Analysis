{
 "cells": [
  {
   "cell_type": "code",
   "execution_count": 1,
   "id": "f3409875-3704-488a-a72a-895085f4309f",
   "metadata": {},
   "outputs": [],
   "source": [
    "library(data.table)"
   ]
  },
  {
   "cell_type": "code",
   "execution_count": 2,
   "id": "bc80d89b-9c46-4a86-ac31-29e346b5cd31",
   "metadata": {},
   "outputs": [
    {
     "data": {
      "text/html": [
       "<table class=\"dataframe\">\n",
       "<caption>A data.table: 2 × 6</caption>\n",
       "<thead>\n",
       "\t<tr><th scope=col>V1</th><th scope=col>V2</th><th scope=col>V3</th><th scope=col>V4</th><th scope=col>V5</th><th scope=col>V6</th></tr>\n",
       "\t<tr><th scope=col>&lt;chr&gt;</th><th scope=col>&lt;int&gt;</th><th scope=col>&lt;int&gt;</th><th scope=col>&lt;chr&gt;</th><th scope=col>&lt;chr&gt;</th><th scope=col>&lt;chr&gt;</th></tr>\n",
       "</thead>\n",
       "<tbody>\n",
       "\t<tr><td>chr1</td><td>11373</td><td>12373</td><td>DDX11L1:NR_046018.2</td><td>.</td><td>+</td></tr>\n",
       "\t<tr><td>chr1</td><td>28870</td><td>29870</td><td>WASH7P:NR_024540.1 </td><td>.</td><td>-</td></tr>\n",
       "</tbody>\n",
       "</table>\n"
      ],
      "text/latex": [
       "A data.table: 2 × 6\n",
       "\\begin{tabular}{llllll}\n",
       " V1 & V2 & V3 & V4 & V5 & V6\\\\\n",
       " <chr> & <int> & <int> & <chr> & <chr> & <chr>\\\\\n",
       "\\hline\n",
       "\t chr1 & 11373 & 12373 & DDX11L1:NR\\_046018.2 & . & +\\\\\n",
       "\t chr1 & 28870 & 29870 & WASH7P:NR\\_024540.1  & . & -\\\\\n",
       "\\end{tabular}\n"
      ],
      "text/markdown": [
       "\n",
       "A data.table: 2 × 6\n",
       "\n",
       "| V1 &lt;chr&gt; | V2 &lt;int&gt; | V3 &lt;int&gt; | V4 &lt;chr&gt; | V5 &lt;chr&gt; | V6 &lt;chr&gt; |\n",
       "|---|---|---|---|---|---|\n",
       "| chr1 | 11373 | 12373 | DDX11L1:NR_046018.2 | . | + |\n",
       "| chr1 | 28870 | 29870 | WASH7P:NR_024540.1  | . | - |\n",
       "\n"
      ],
      "text/plain": [
       "  V1   V2    V3    V4                  V5 V6\n",
       "1 chr1 11373 12373 DDX11L1:NR_046018.2 .  + \n",
       "2 chr1 28870 29870 WASH7P:NR_024540.1  .  - "
      ]
     },
     "metadata": {},
     "output_type": "display_data"
    }
   ],
   "source": [
    "tss_bed <- fread(\"hg38_TSS1kb_refseq_diff53prime_with_putatives.bed\")\n",
    "tss_bed[1:2,]"
   ]
  },
  {
   "cell_type": "code",
   "execution_count": 3,
   "id": "448978ed-08d5-4934-a144-4514a7d784c2",
   "metadata": {},
   "outputs": [
    {
     "data": {
      "text/html": [
       "500"
      ],
      "text/latex": [
       "500"
      ],
      "text/markdown": [
       "500"
      ],
      "text/plain": [
       "[1] 500"
      ]
     },
     "metadata": {},
     "output_type": "display_data"
    },
    {
     "data": {
      "text/html": [
       "500"
      ],
      "text/latex": [
       "500"
      ],
      "text/markdown": [
       "500"
      ],
      "text/plain": [
       "[1] 500"
      ]
     },
     "metadata": {},
     "output_type": "display_data"
    }
   ],
   "source": [
    "# Get the TSS again (midpoint)\n",
    "tss_bed$TSS <- as.integer((tss_bed$V2+tss_bed$V3)/2)\n",
    "# Get the difference to double check\n",
    "unique(tss_bed$TSS - tss_bed$V2)\n",
    "unique(tss_bed$V3 - tss_bed$TSS)"
   ]
  },
  {
   "cell_type": "code",
   "execution_count": 4,
   "id": "b8c0afce-587d-42af-8b76-83f667f7f460",
   "metadata": {},
   "outputs": [
    {
     "data": {
      "text/html": [
       "<table class=\"dataframe\">\n",
       "<caption>A data.table: 3 × 9</caption>\n",
       "<thead>\n",
       "\t<tr><th scope=col>V1</th><th scope=col>V2</th><th scope=col>V3</th><th scope=col>V4</th><th scope=col>V5</th><th scope=col>V6</th><th scope=col>TSS</th><th scope=col>start_900</th><th scope=col>stop_900</th></tr>\n",
       "\t<tr><th scope=col>&lt;chr&gt;</th><th scope=col>&lt;int&gt;</th><th scope=col>&lt;int&gt;</th><th scope=col>&lt;chr&gt;</th><th scope=col>&lt;chr&gt;</th><th scope=col>&lt;chr&gt;</th><th scope=col>&lt;int&gt;</th><th scope=col>&lt;dbl&gt;</th><th scope=col>&lt;dbl&gt;</th></tr>\n",
       "</thead>\n",
       "<tbody>\n",
       "\t<tr><td>chr1</td><td>11373</td><td>12373</td><td>DDX11L1:NR_046018.2  </td><td>.</td><td>+</td><td>11873</td><td>10973</td><td>12773</td></tr>\n",
       "\t<tr><td>chr1</td><td>28870</td><td>29870</td><td>WASH7P:NR_024540.1   </td><td>.</td><td>-</td><td>29370</td><td>28470</td><td>30270</td></tr>\n",
       "\t<tr><td>chr1</td><td>16936</td><td>17936</td><td>MIR6859-1:NR_106918.1</td><td>.</td><td>-</td><td>17436</td><td>16536</td><td>18336</td></tr>\n",
       "</tbody>\n",
       "</table>\n"
      ],
      "text/latex": [
       "A data.table: 3 × 9\n",
       "\\begin{tabular}{lllllllll}\n",
       " V1 & V2 & V3 & V4 & V5 & V6 & TSS & start\\_900 & stop\\_900\\\\\n",
       " <chr> & <int> & <int> & <chr> & <chr> & <chr> & <int> & <dbl> & <dbl>\\\\\n",
       "\\hline\n",
       "\t chr1 & 11373 & 12373 & DDX11L1:NR\\_046018.2   & . & + & 11873 & 10973 & 12773\\\\\n",
       "\t chr1 & 28870 & 29870 & WASH7P:NR\\_024540.1    & . & - & 29370 & 28470 & 30270\\\\\n",
       "\t chr1 & 16936 & 17936 & MIR6859-1:NR\\_106918.1 & . & - & 17436 & 16536 & 18336\\\\\n",
       "\\end{tabular}\n"
      ],
      "text/markdown": [
       "\n",
       "A data.table: 3 × 9\n",
       "\n",
       "| V1 &lt;chr&gt; | V2 &lt;int&gt; | V3 &lt;int&gt; | V4 &lt;chr&gt; | V5 &lt;chr&gt; | V6 &lt;chr&gt; | TSS &lt;int&gt; | start_900 &lt;dbl&gt; | stop_900 &lt;dbl&gt; |\n",
       "|---|---|---|---|---|---|---|---|---|\n",
       "| chr1 | 11373 | 12373 | DDX11L1:NR_046018.2   | . | + | 11873 | 10973 | 12773 |\n",
       "| chr1 | 28870 | 29870 | WASH7P:NR_024540.1    | . | - | 29370 | 28470 | 30270 |\n",
       "| chr1 | 16936 | 17936 | MIR6859-1:NR_106918.1 | . | - | 17436 | 16536 | 18336 |\n",
       "\n"
      ],
      "text/plain": [
       "  V1   V2    V3    V4                    V5 V6 TSS   start_900 stop_900\n",
       "1 chr1 11373 12373 DDX11L1:NR_046018.2   .  +  11873 10973     12773   \n",
       "2 chr1 28870 29870 WASH7P:NR_024540.1    .  -  29370 28470     30270   \n",
       "3 chr1 16936 17936 MIR6859-1:NR_106918.1 .  -  17436 16536     18336   "
      ]
     },
     "metadata": {},
     "output_type": "display_data"
    }
   ],
   "source": [
    "# make it 900bp instead\n",
    "tss_bed$start_900 <- tss_bed$TSS - 900\n",
    "tss_bed$stop_900 <- tss_bed$TSS + 900\n",
    "tss_bed[1:3,]"
   ]
  },
  {
   "cell_type": "code",
   "execution_count": 5,
   "id": "0a3bfabd-2bce-4532-8e27-72dd01935d67",
   "metadata": {},
   "outputs": [],
   "source": [
    "write.table(tss_bed[,c(\"V1\", \"start_900\", \"stop_900\", \"V4\", \"V5\", \"V6\")], \n",
    "            \"hg38_TSS1.8kb_refseq_diff53prime_with_putatives.bed\", \n",
    "            quote=FALSE, sep=\"\\t\", col.names=FALSE, row.names=FALSE)"
   ]
  },
  {
   "cell_type": "code",
   "execution_count": null,
   "id": "658b2047-975f-45a9-b756-da6b0b49bb70",
   "metadata": {},
   "outputs": [],
   "source": []
  }
 ],
 "metadata": {
  "kernelspec": {
   "display_name": "R 4.4",
   "language": "R",
   "name": "ir44"
  },
  "language_info": {
   "codemirror_mode": "r",
   "file_extension": ".r",
   "mimetype": "text/x-r-source",
   "name": "R",
   "pygments_lexer": "r",
   "version": "4.4.0"
  }
 },
 "nbformat": 4,
 "nbformat_minor": 5
}
