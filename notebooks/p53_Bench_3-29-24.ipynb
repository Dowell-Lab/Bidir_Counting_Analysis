{
 "cells": [
  {
   "cell_type": "markdown",
   "id": "d4d4013d-cdfe-4648-bffa-5183cfb4808b",
   "metadata": {},
   "source": [
    "# Benchmarking DE methods with p53 data\n",
    "This will follow the same basic pipeline as p53_Bench_3-9-24.ipynb but is using counts according to the mumErged bidirectionals for the data in question rather than the master bidirectional file"
   ]
  },
  {
   "cell_type": "code",
   "execution_count": 1,
   "id": "639939fa-fbd9-463a-8642-8c8aeceb9d24",
   "metadata": {},
   "outputs": [
    {
     "name": "stderr",
     "output_type": "stream",
     "text": [
      "Loading required package: mgcv\n",
      "\n",
      "Loading required package: nlme\n",
      "\n",
      "This is mgcv 1.8-42. For overview type 'help(\"mgcv-package\")'.\n",
      "\n",
      "Loading required package: genefilter\n",
      "\n",
      "Loading required package: BiocParallel\n",
      "\n",
      "Loading required package: S4Vectors\n",
      "\n",
      "Loading required package: stats4\n",
      "\n",
      "Loading required package: BiocGenerics\n",
      "\n",
      "\n",
      "Attaching package: ‘BiocGenerics’\n",
      "\n",
      "\n",
      "The following object is masked from ‘package:gridExtra’:\n",
      "\n",
      "    combine\n",
      "\n",
      "\n",
      "The following object is masked from ‘package:limma’:\n",
      "\n",
      "    plotMA\n",
      "\n",
      "\n",
      "The following objects are masked from ‘package:stats’:\n",
      "\n",
      "    IQR, mad, sd, var, xtabs\n",
      "\n",
      "\n",
      "The following objects are masked from ‘package:base’:\n",
      "\n",
      "    anyDuplicated, aperm, append, as.data.frame, basename, cbind,\n",
      "    colnames, dirname, do.call, duplicated, eval, evalq, Filter, Find,\n",
      "    get, grep, grepl, intersect, is.unsorted, lapply, Map, mapply,\n",
      "    match, mget, order, paste, pmax, pmax.int, pmin, pmin.int,\n",
      "    Position, rank, rbind, Reduce, rownames, sapply, setdiff, sort,\n",
      "    table, tapply, union, unique, unsplit, which.max, which.min\n",
      "\n",
      "\n",
      "\n",
      "Attaching package: ‘S4Vectors’\n",
      "\n",
      "\n",
      "The following objects are masked from ‘package:data.table’:\n",
      "\n",
      "    first, second\n",
      "\n",
      "\n",
      "The following object is masked from ‘package:utils’:\n",
      "\n",
      "    findMatches\n",
      "\n",
      "\n",
      "The following objects are masked from ‘package:base’:\n",
      "\n",
      "    expand.grid, I, unname\n",
      "\n",
      "\n",
      "Loading required package: IRanges\n",
      "\n",
      "\n",
      "Attaching package: ‘IRanges’\n",
      "\n",
      "\n",
      "The following object is masked from ‘package:data.table’:\n",
      "\n",
      "    shift\n",
      "\n",
      "\n",
      "The following object is masked from ‘package:nlme’:\n",
      "\n",
      "    collapse\n",
      "\n",
      "\n",
      "Loading required package: GenomicRanges\n",
      "\n",
      "Loading required package: GenomeInfoDb\n",
      "\n",
      "Loading required package: SummarizedExperiment\n",
      "\n",
      "Loading required package: MatrixGenerics\n",
      "\n",
      "Loading required package: matrixStats\n",
      "\n",
      "\n",
      "Attaching package: ‘matrixStats’\n",
      "\n",
      "\n",
      "The following objects are masked from ‘package:genefilter’:\n",
      "\n",
      "    rowSds, rowVars\n",
      "\n",
      "\n",
      "\n",
      "Attaching package: ‘MatrixGenerics’\n",
      "\n",
      "\n",
      "The following objects are masked from ‘package:matrixStats’:\n",
      "\n",
      "    colAlls, colAnyNAs, colAnys, colAvgsPerRowSet, colCollapse,\n",
      "    colCounts, colCummaxs, colCummins, colCumprods, colCumsums,\n",
      "    colDiffs, colIQRDiffs, colIQRs, colLogSumExps, colMadDiffs,\n",
      "    colMads, colMaxs, colMeans2, colMedians, colMins, colOrderStats,\n",
      "    colProds, colQuantiles, colRanges, colRanks, colSdDiffs, colSds,\n",
      "    colSums2, colTabulates, colVarDiffs, colVars, colWeightedMads,\n",
      "    colWeightedMeans, colWeightedMedians, colWeightedSds,\n",
      "    colWeightedVars, rowAlls, rowAnyNAs, rowAnys, rowAvgsPerColSet,\n",
      "    rowCollapse, rowCounts, rowCummaxs, rowCummins, rowCumprods,\n",
      "    rowCumsums, rowDiffs, rowIQRDiffs, rowIQRs, rowLogSumExps,\n",
      "    rowMadDiffs, rowMads, rowMaxs, rowMeans2, rowMedians, rowMins,\n",
      "    rowOrderStats, rowProds, rowQuantiles, rowRanges, rowRanks,\n",
      "    rowSdDiffs, rowSds, rowSums2, rowTabulates, rowVarDiffs, rowVars,\n",
      "    rowWeightedMads, rowWeightedMeans, rowWeightedMedians,\n",
      "    rowWeightedSds, rowWeightedVars\n",
      "\n",
      "\n",
      "The following objects are masked from ‘package:genefilter’:\n",
      "\n",
      "    rowSds, rowVars\n",
      "\n",
      "\n",
      "Loading required package: Biobase\n",
      "\n",
      "Welcome to Bioconductor\n",
      "\n",
      "    Vignettes contain introductory material; view with\n",
      "    'browseVignettes()'. To cite Bioconductor, see\n",
      "    'citation(\"Biobase\")', and for packages 'citation(\"pkgname\")'.\n",
      "\n",
      "\n",
      "\n",
      "Attaching package: ‘Biobase’\n",
      "\n",
      "\n",
      "The following object is masked from ‘package:MatrixGenerics’:\n",
      "\n",
      "    rowMedians\n",
      "\n",
      "\n",
      "The following objects are masked from ‘package:matrixStats’:\n",
      "\n",
      "    anyMissing, rowMedians\n",
      "\n",
      "\n"
     ]
    }
   ],
   "source": [
    "# get the appropriate libaries loaded\n",
    "## libraries\n",
    "library(limma)\n",
    "library(edgeR)  # BiocManager::install(\"edgeR\")\n",
    "library(seqgendiff)\n",
    "library(sva)\n",
    "library(data.table)\n",
    "library(stringr)\n",
    "library(ggplot2)\n",
    "library(qvalue) # BiocManager::install(\"qvalue\")\n",
    "library(cowplot)\n",
    "library(gridExtra)\n",
    "library(DESeq2)\n"
   ]
  },
  {
   "cell_type": "code",
   "execution_count": 2,
   "id": "c4cb000d-a561-4fb0-bb69-feea32c152b9",
   "metadata": {},
   "outputs": [],
   "source": [
    "outdir <- \"/Users/hopekirby/Desktop/TF_Enh_Linking/Bench_DE/p53/out/\"\n",
    "\n",
    "get_metadata <- function(counts) {\n",
    "    split <- str_split_fixed(colnames(counts), \"_\", 3)\n",
    "    data.frame(data.table(\n",
    "    \"Name\"=colnames(counts), \n",
    "    \"Replicate\"= as.factor(split[,3]), \n",
    "    \"Treatment\"=as.factor(split[,2])))\n",
    "    }\n",
    "\n",
    "plotPCA_hope_meta <- function(counts, metadata, ntop=500) {\n",
    "    rv <- rowVars(counts)\n",
    "    length(rv) == nrow(counts)\n",
    "    select <- order(rv, decreasing = TRUE)[seq_len(min(ntop,  length(rv)))]\n",
    "    pca <- prcomp(t(counts[select, ]))\n",
    "      percentVar <- pca$sdev^2/sum(pca$sdev^2)\n",
    "    \n",
    "  ## Select the PCAs and percentVar that you like instead of 1 and 2\n",
    "  d <- data.frame(PC1 = pca$x[, 1], PC2 = pca$x[, 2], metadata)\n",
    "    ggplot() + \n",
    "    geom_point(data=d, aes(x = PC1, y = PC2, color=Treatment), size = 5) + \n",
    "    xlab(paste0(\"PC1: \", round(percentVar[1] * 100, 3), \"% variance\")) + \n",
    "    ylab(paste0(\"PC2: \", round(percentVar[2] * 100, 3), \"% variance\")) + \n",
    "     theme_bw(base_size=15)\n",
    "}"
   ]
  },
  {
   "cell_type": "markdown",
   "id": "d30ef140-b1e0-4c7d-82f1-83e566cee31d",
   "metadata": {},
   "source": [
    "## 0. Set Up"
   ]
  },
  {
   "cell_type": "code",
   "execution_count": 3,
   "id": "1f5698a2-bafe-4ff3-be78-b3493486efcb",
   "metadata": {},
   "outputs": [
    {
     "data": {
      "text/html": [
       "<style>\n",
       ".list-inline {list-style: none; margin:0; padding: 0}\n",
       ".list-inline>li {display: inline-block}\n",
       ".list-inline>li:not(:last-child)::after {content: \"\\00b7\"; padding: 0 .5ex}\n",
       "</style>\n",
       "<ol class=list-inline><li>166982</li><li>22</li></ol>\n"
      ],
      "text/latex": [
       "\\begin{enumerate*}\n",
       "\\item 166982\n",
       "\\item 22\n",
       "\\end{enumerate*}\n"
      ],
      "text/markdown": [
       "1. 166982\n",
       "2. 22\n",
       "\n",
       "\n"
      ],
      "text/plain": [
       "[1] 166982     22"
      ]
     },
     "metadata": {},
     "output_type": "display_data"
    },
    {
     "data": {
      "text/html": [
       "<style>\n",
       ".list-inline {list-style: none; margin:0; padding: 0}\n",
       ".list-inline>li {display: inline-block}\n",
       ".list-inline>li:not(:last-child)::after {content: \"\\00b7\"; padding: 0 .5ex}\n",
       "</style>\n",
       "<ol class=list-inline><li>42207</li><li>22</li></ol>\n"
      ],
      "text/latex": [
       "\\begin{enumerate*}\n",
       "\\item 42207\n",
       "\\item 22\n",
       "\\end{enumerate*}\n"
      ],
      "text/markdown": [
       "1. 42207\n",
       "2. 22\n",
       "\n",
       "\n"
      ],
      "text/plain": [
       "[1] 42207    22"
      ]
     },
     "metadata": {},
     "output_type": "display_data"
    },
    {
     "data": {
      "text/html": [
       "<style>\n",
       ".list-inline {list-style: none; margin:0; padding: 0}\n",
       ".list-inline>li {display: inline-block}\n",
       ".list-inline>li:not(:last-child)::after {content: \"\\00b7\"; padding: 0 .5ex}\n",
       "</style>\n",
       "<ol class=list-inline><li>83826</li><li>22</li></ol>\n"
      ],
      "text/latex": [
       "\\begin{enumerate*}\n",
       "\\item 83826\n",
       "\\item 22\n",
       "\\end{enumerate*}\n"
      ],
      "text/markdown": [
       "1. 83826\n",
       "2. 22\n",
       "\n",
       "\n"
      ],
      "text/plain": [
       "[1] 83826    22"
      ]
     },
     "metadata": {},
     "output_type": "display_data"
    },
    {
     "data": {
      "text/html": [
       "<table class=\"dataframe\">\n",
       "<caption>A data.frame: 1 × 22</caption>\n",
       "<thead>\n",
       "\t<tr><th></th><th scope=col>Geneid</th><th scope=col>Chr</th><th scope=col>Start</th><th scope=col>End</th><th scope=col>Strand</th><th scope=col>Length</th><th scope=col>MCF10A_DMSO_R1</th><th scope=col>MCF10A_DMSO_R2</th><th scope=col>MCF10A_Nut_R1</th><th scope=col>MCF10A_Nut_R2</th><th scope=col>⋯</th><th scope=col>HCT116_Nut_R1</th><th scope=col>HCT116_Nut_R2</th><th scope=col>MCF7_DMSO_R1</th><th scope=col>MCF7_DMSO_R2</th><th scope=col>MCF7_Nut_R1</th><th scope=col>MCF7_Nut_R2</th><th scope=col>SJSA_DMSO_R1</th><th scope=col>SJSA_DMSO_R2</th><th scope=col>SJSA_Nut_R1</th><th scope=col>SJSA_Nut_R2</th></tr>\n",
       "\t<tr><th></th><th scope=col>&lt;chr&gt;</th><th scope=col>&lt;chr&gt;</th><th scope=col>&lt;int&gt;</th><th scope=col>&lt;int&gt;</th><th scope=col>&lt;chr&gt;</th><th scope=col>&lt;int&gt;</th><th scope=col>&lt;int&gt;</th><th scope=col>&lt;int&gt;</th><th scope=col>&lt;int&gt;</th><th scope=col>&lt;int&gt;</th><th scope=col>⋯</th><th scope=col>&lt;int&gt;</th><th scope=col>&lt;int&gt;</th><th scope=col>&lt;int&gt;</th><th scope=col>&lt;int&gt;</th><th scope=col>&lt;int&gt;</th><th scope=col>&lt;int&gt;</th><th scope=col>&lt;int&gt;</th><th scope=col>&lt;int&gt;</th><th scope=col>&lt;int&gt;</th><th scope=col>&lt;int&gt;</th></tr>\n",
       "</thead>\n",
       "<tbody>\n",
       "\t<tr><th scope=row>1</th><td>chr1:16266-16416-tfit</td><td>chr1</td><td>16041</td><td>16641</td><td>+</td><td>601</td><td>6</td><td>7</td><td>15</td><td>9</td><td>⋯</td><td>171</td><td>65</td><td>16</td><td>12</td><td>17</td><td>14</td><td>36</td><td>100</td><td>43</td><td>43</td></tr>\n",
       "</tbody>\n",
       "</table>\n"
      ],
      "text/latex": [
       "A data.frame: 1 × 22\n",
       "\\begin{tabular}{r|lllllllllllllllllllll}\n",
       "  & Geneid & Chr & Start & End & Strand & Length & MCF10A\\_DMSO\\_R1 & MCF10A\\_DMSO\\_R2 & MCF10A\\_Nut\\_R1 & MCF10A\\_Nut\\_R2 & ⋯ & HCT116\\_Nut\\_R1 & HCT116\\_Nut\\_R2 & MCF7\\_DMSO\\_R1 & MCF7\\_DMSO\\_R2 & MCF7\\_Nut\\_R1 & MCF7\\_Nut\\_R2 & SJSA\\_DMSO\\_R1 & SJSA\\_DMSO\\_R2 & SJSA\\_Nut\\_R1 & SJSA\\_Nut\\_R2\\\\\n",
       "  & <chr> & <chr> & <int> & <int> & <chr> & <int> & <int> & <int> & <int> & <int> & ⋯ & <int> & <int> & <int> & <int> & <int> & <int> & <int> & <int> & <int> & <int>\\\\\n",
       "\\hline\n",
       "\t1 & chr1:16266-16416-tfit & chr1 & 16041 & 16641 & + & 601 & 6 & 7 & 15 & 9 & ⋯ & 171 & 65 & 16 & 12 & 17 & 14 & 36 & 100 & 43 & 43\\\\\n",
       "\\end{tabular}\n"
      ],
      "text/markdown": [
       "\n",
       "A data.frame: 1 × 22\n",
       "\n",
       "| <!--/--> | Geneid &lt;chr&gt; | Chr &lt;chr&gt; | Start &lt;int&gt; | End &lt;int&gt; | Strand &lt;chr&gt; | Length &lt;int&gt; | MCF10A_DMSO_R1 &lt;int&gt; | MCF10A_DMSO_R2 &lt;int&gt; | MCF10A_Nut_R1 &lt;int&gt; | MCF10A_Nut_R2 &lt;int&gt; | ⋯ ⋯ | HCT116_Nut_R1 &lt;int&gt; | HCT116_Nut_R2 &lt;int&gt; | MCF7_DMSO_R1 &lt;int&gt; | MCF7_DMSO_R2 &lt;int&gt; | MCF7_Nut_R1 &lt;int&gt; | MCF7_Nut_R2 &lt;int&gt; | SJSA_DMSO_R1 &lt;int&gt; | SJSA_DMSO_R2 &lt;int&gt; | SJSA_Nut_R1 &lt;int&gt; | SJSA_Nut_R2 &lt;int&gt; |\n",
       "|---|---|---|---|---|---|---|---|---|---|---|---|---|---|---|---|---|---|---|---|---|---|\n",
       "| 1 | chr1:16266-16416-tfit | chr1 | 16041 | 16641 | + | 601 | 6 | 7 | 15 | 9 | ⋯ | 171 | 65 | 16 | 12 | 17 | 14 | 36 | 100 | 43 | 43 |\n",
       "\n"
      ],
      "text/plain": [
       "  Geneid                Chr  Start End   Strand Length MCF10A_DMSO_R1\n",
       "1 chr1:16266-16416-tfit chr1 16041 16641 +      601    6             \n",
       "  MCF10A_DMSO_R2 MCF10A_Nut_R1 MCF10A_Nut_R2 ⋯ HCT116_Nut_R1 HCT116_Nut_R2\n",
       "1 7              15            9             ⋯ 171           65           \n",
       "  MCF7_DMSO_R1 MCF7_DMSO_R2 MCF7_Nut_R1 MCF7_Nut_R2 SJSA_DMSO_R1 SJSA_DMSO_R2\n",
       "1 16           12           17          14          36           100         \n",
       "  SJSA_Nut_R1 SJSA_Nut_R2\n",
       "1 43          43         "
      ]
     },
     "metadata": {},
     "output_type": "display_data"
    },
    {
     "data": {
      "text/html": [
       "<table class=\"dataframe\">\n",
       "<caption>A data.frame: 1 × 22</caption>\n",
       "<thead>\n",
       "\t<tr><th></th><th scope=col>Geneid</th><th scope=col>Chr</th><th scope=col>Start</th><th scope=col>End</th><th scope=col>Strand</th><th scope=col>Length</th><th scope=col>MCF10A_DMSO_R1</th><th scope=col>MCF10A_DMSO_R2</th><th scope=col>MCF10A_Nut_R1</th><th scope=col>MCF10A_Nut_R2</th><th scope=col>⋯</th><th scope=col>HCT116_Nut_R1</th><th scope=col>HCT116_Nut_R2</th><th scope=col>MCF7_DMSO_R1</th><th scope=col>MCF7_DMSO_R2</th><th scope=col>MCF7_Nut_R1</th><th scope=col>MCF7_Nut_R2</th><th scope=col>SJSA_DMSO_R1</th><th scope=col>SJSA_DMSO_R2</th><th scope=col>SJSA_Nut_R1</th><th scope=col>SJSA_Nut_R2</th></tr>\n",
       "\t<tr><th></th><th scope=col>&lt;chr&gt;</th><th scope=col>&lt;chr&gt;</th><th scope=col>&lt;int&gt;</th><th scope=col>&lt;int&gt;</th><th scope=col>&lt;chr&gt;</th><th scope=col>&lt;int&gt;</th><th scope=col>&lt;int&gt;</th><th scope=col>&lt;int&gt;</th><th scope=col>&lt;int&gt;</th><th scope=col>&lt;int&gt;</th><th scope=col>⋯</th><th scope=col>&lt;int&gt;</th><th scope=col>&lt;int&gt;</th><th scope=col>&lt;int&gt;</th><th scope=col>&lt;int&gt;</th><th scope=col>&lt;int&gt;</th><th scope=col>&lt;int&gt;</th><th scope=col>&lt;int&gt;</th><th scope=col>&lt;int&gt;</th><th scope=col>&lt;int&gt;</th><th scope=col>&lt;int&gt;</th></tr>\n",
       "</thead>\n",
       "<tbody>\n",
       "\t<tr><th scope=row>1</th><td>chr1:17484-17578-tfit</td><td>chr1</td><td>17231</td><td>17831</td><td>+</td><td>601</td><td>3</td><td>1</td><td>14</td><td>11</td><td>⋯</td><td>51</td><td>52</td><td>16</td><td>19</td><td>13</td><td>16</td><td>22</td><td>31</td><td>20</td><td>16</td></tr>\n",
       "</tbody>\n",
       "</table>\n"
      ],
      "text/latex": [
       "A data.frame: 1 × 22\n",
       "\\begin{tabular}{r|lllllllllllllllllllll}\n",
       "  & Geneid & Chr & Start & End & Strand & Length & MCF10A\\_DMSO\\_R1 & MCF10A\\_DMSO\\_R2 & MCF10A\\_Nut\\_R1 & MCF10A\\_Nut\\_R2 & ⋯ & HCT116\\_Nut\\_R1 & HCT116\\_Nut\\_R2 & MCF7\\_DMSO\\_R1 & MCF7\\_DMSO\\_R2 & MCF7\\_Nut\\_R1 & MCF7\\_Nut\\_R2 & SJSA\\_DMSO\\_R1 & SJSA\\_DMSO\\_R2 & SJSA\\_Nut\\_R1 & SJSA\\_Nut\\_R2\\\\\n",
       "  & <chr> & <chr> & <int> & <int> & <chr> & <int> & <int> & <int> & <int> & <int> & ⋯ & <int> & <int> & <int> & <int> & <int> & <int> & <int> & <int> & <int> & <int>\\\\\n",
       "\\hline\n",
       "\t1 & chr1:17484-17578-tfit & chr1 & 17231 & 17831 & + & 601 & 3 & 1 & 14 & 11 & ⋯ & 51 & 52 & 16 & 19 & 13 & 16 & 22 & 31 & 20 & 16\\\\\n",
       "\\end{tabular}\n"
      ],
      "text/markdown": [
       "\n",
       "A data.frame: 1 × 22\n",
       "\n",
       "| <!--/--> | Geneid &lt;chr&gt; | Chr &lt;chr&gt; | Start &lt;int&gt; | End &lt;int&gt; | Strand &lt;chr&gt; | Length &lt;int&gt; | MCF10A_DMSO_R1 &lt;int&gt; | MCF10A_DMSO_R2 &lt;int&gt; | MCF10A_Nut_R1 &lt;int&gt; | MCF10A_Nut_R2 &lt;int&gt; | ⋯ ⋯ | HCT116_Nut_R1 &lt;int&gt; | HCT116_Nut_R2 &lt;int&gt; | MCF7_DMSO_R1 &lt;int&gt; | MCF7_DMSO_R2 &lt;int&gt; | MCF7_Nut_R1 &lt;int&gt; | MCF7_Nut_R2 &lt;int&gt; | SJSA_DMSO_R1 &lt;int&gt; | SJSA_DMSO_R2 &lt;int&gt; | SJSA_Nut_R1 &lt;int&gt; | SJSA_Nut_R2 &lt;int&gt; |\n",
       "|---|---|---|---|---|---|---|---|---|---|---|---|---|---|---|---|---|---|---|---|---|---|\n",
       "| 1 | chr1:17484-17578-tfit | chr1 | 17231 | 17831 | + | 601 | 3 | 1 | 14 | 11 | ⋯ | 51 | 52 | 16 | 19 | 13 | 16 | 22 | 31 | 20 | 16 |\n",
       "\n"
      ],
      "text/plain": [
       "  Geneid                Chr  Start End   Strand Length MCF10A_DMSO_R1\n",
       "1 chr1:17484-17578-tfit chr1 17231 17831 +      601    3             \n",
       "  MCF10A_DMSO_R2 MCF10A_Nut_R1 MCF10A_Nut_R2 ⋯ HCT116_Nut_R1 HCT116_Nut_R2\n",
       "1 1              14            11            ⋯ 51            52           \n",
       "  MCF7_DMSO_R1 MCF7_DMSO_R2 MCF7_Nut_R1 MCF7_Nut_R2 SJSA_DMSO_R1 SJSA_DMSO_R2\n",
       "1 16           19           13          16          22           31          \n",
       "  SJSA_Nut_R1 SJSA_Nut_R2\n",
       "1 20          16         "
      ]
     },
     "metadata": {},
     "output_type": "display_data"
    }
   ],
   "source": [
    "# read in the counts tables\n",
    "# directories\n",
    "count_dir <- \"/Users/hopekirby/Desktop/TF_Enh_Linking/Bench_DE/p53/data/counts/\"\n",
    "\n",
    "# read in counts\n",
    "bid_counts <- as.data.frame(fread(paste0(count_dir, \"AndryJones7_uns_bidirs.txt\")))\n",
    "bid_fix_counts <- as.data.frame(fread(paste0(count_dir, \"AndryJones7_fixed_bids_03_27_2024.txt\")))\n",
    "gene_fix_counts <- as.data.frame(fread(paste0(count_dir, \"AndryJones7_str_fixed_genes_03_27_2024.txt\")))\n",
    "gene_counts <- as.data.frame(fread(paste0(count_dir, \"AndryJones_str_put_genes.txt\")))\n",
    "dim(bid_counts)\n",
    "dim(gene_fix_counts)\n",
    "dim(gene_counts)\n",
    "bid_counts[1,]\n",
    "bid_fix_counts[1,]"
   ]
  },
  {
   "cell_type": "markdown",
   "id": "23057fd1-cf4b-4276-a31a-78cdd67bd641",
   "metadata": {},
   "source": [
    "### 0A. Filter the genes (long nonputative long isoforms)"
   ]
  },
  {
   "cell_type": "code",
   "execution_count": 4,
   "id": "4cad2850-b10a-47c7-a58d-bc8fea6bd834",
   "metadata": {},
   "outputs": [
    {
     "data": {
      "text/html": [
       "<style>\n",
       ".list-inline {list-style: none; margin:0; padding: 0}\n",
       ".list-inline>li {display: inline-block}\n",
       ".list-inline>li:not(:last-child)::after {content: \"\\00b7\"; padding: 0 .5ex}\n",
       "</style>\n",
       "<ol class=list-inline><li>28889</li><li>6</li></ol>\n"
      ],
      "text/latex": [
       "\\begin{enumerate*}\n",
       "\\item 28889\n",
       "\\item 6\n",
       "\\end{enumerate*}\n"
      ],
      "text/markdown": [
       "1. 28889\n",
       "2. 6\n",
       "\n",
       "\n"
      ],
      "text/plain": [
       "[1] 28889     6"
      ]
     },
     "metadata": {},
     "output_type": "display_data"
    },
    {
     "data": {
      "text/html": [
       "28875"
      ],
      "text/latex": [
       "28875"
      ],
      "text/markdown": [
       "28875"
      ],
      "text/plain": [
       "[1] 28875"
      ]
     },
     "metadata": {},
     "output_type": "display_data"
    },
    {
     "data": {
      "text/html": [
       "28889"
      ],
      "text/latex": [
       "28889"
      ],
      "text/markdown": [
       "28889"
      ],
      "text/plain": [
       "[1] 28889"
      ]
     },
     "metadata": {},
     "output_type": "display_data"
    },
    {
     "data": {
      "text/html": [
       "<style>\n",
       ".list-inline {list-style: none; margin:0; padding: 0}\n",
       ".list-inline>li {display: inline-block}\n",
       ".list-inline>li:not(:last-child)::after {content: \"\\00b7\"; padding: 0 .5ex}\n",
       "</style>\n",
       "<ol class=list-inline><li>28875</li><li>22</li></ol>\n"
      ],
      "text/latex": [
       "\\begin{enumerate*}\n",
       "\\item 28875\n",
       "\\item 22\n",
       "\\end{enumerate*}\n"
      ],
      "text/markdown": [
       "1. 28875\n",
       "2. 22\n",
       "\n",
       "\n"
      ],
      "text/plain": [
       "[1] 28875    22"
      ]
     },
     "metadata": {},
     "output_type": "display_data"
    },
    {
     "data": {
      "text/html": [
       "<style>\n",
       ".list-inline {list-style: none; margin:0; padding: 0}\n",
       ".list-inline>li {display: inline-block}\n",
       ".list-inline>li:not(:last-child)::after {content: \"\\00b7\"; padding: 0 .5ex}\n",
       "</style>\n",
       "<ol class=list-inline><li>28889</li><li>22</li></ol>\n"
      ],
      "text/latex": [
       "\\begin{enumerate*}\n",
       "\\item 28889\n",
       "\\item 22\n",
       "\\end{enumerate*}\n"
      ],
      "text/markdown": [
       "1. 28889\n",
       "2. 22\n",
       "\n",
       "\n"
      ],
      "text/plain": [
       "[1] 28889    22"
      ]
     },
     "metadata": {},
     "output_type": "display_data"
    },
    {
     "data": {
      "text/html": [
       "<table class=\"dataframe\">\n",
       "<caption>A data.frame: 2 × 22</caption>\n",
       "<thead>\n",
       "\t<tr><th></th><th scope=col>Geneid</th><th scope=col>Chr</th><th scope=col>Start</th><th scope=col>End</th><th scope=col>Strand</th><th scope=col>Length</th><th scope=col>/scratch/Users/hoto7260/Bench_DE/raw_data/bams2/7_DMSO_3hr_R1.sorted.bam</th><th scope=col>/scratch/Users/hoto7260/Bench_DE/raw_data/bams2/7_DMSO_3hr_R2.sorted.bam</th><th scope=col>/scratch/Users/hoto7260/Bench_DE/raw_data/bams2/7_Nutlin_3hr_R1.sorted.bam</th><th scope=col>/scratch/Users/hoto7260/Bench_DE/raw_data/bams2/7_Nutlin_3hr_R2.sorted.bam</th><th scope=col>⋯</th><th scope=col>/scratch/Users/hoto7260/Bench_DE/raw_data/bams2/SRR4090100.sorted.bam</th><th scope=col>/scratch/Users/hoto7260/Bench_DE/raw_data/bams2/SRR4090101.sorted.bam</th><th scope=col>/scratch/Users/hoto7260/Bench_DE/raw_data/bams2/SRR4090102.sorted.bam</th><th scope=col>/scratch/Users/hoto7260/Bench_DE/raw_data/bams2/SRR4090103.sorted.bam</th><th scope=col>/scratch/Users/hoto7260/Bench_DE/raw_data/bams2/SRR4090104.sorted.bam</th><th scope=col>/scratch/Users/hoto7260/Bench_DE/raw_data/bams2/SRR4090105.sorted.bam</th><th scope=col>/scratch/Users/hoto7260/Bench_DE/raw_data/bams2/SRR4090106.sorted.bam</th><th scope=col>/scratch/Users/hoto7260/Bench_DE/raw_data/bams2/SRR4090107.sorted.bam</th><th scope=col>/scratch/Users/hoto7260/Bench_DE/raw_data/bams2/SRR4090108.sorted.bam</th><th scope=col>/scratch/Users/hoto7260/Bench_DE/raw_data/bams2/SRR4090109.sorted.bam</th></tr>\n",
       "\t<tr><th></th><th scope=col>&lt;chr&gt;</th><th scope=col>&lt;chr&gt;</th><th scope=col>&lt;int&gt;</th><th scope=col>&lt;int&gt;</th><th scope=col>&lt;chr&gt;</th><th scope=col>&lt;int&gt;</th><th scope=col>&lt;int&gt;</th><th scope=col>&lt;int&gt;</th><th scope=col>&lt;int&gt;</th><th scope=col>&lt;int&gt;</th><th scope=col>⋯</th><th scope=col>&lt;int&gt;</th><th scope=col>&lt;int&gt;</th><th scope=col>&lt;int&gt;</th><th scope=col>&lt;int&gt;</th><th scope=col>&lt;int&gt;</th><th scope=col>&lt;int&gt;</th><th scope=col>&lt;int&gt;</th><th scope=col>&lt;int&gt;</th><th scope=col>&lt;int&gt;</th><th scope=col>&lt;int&gt;</th></tr>\n",
       "</thead>\n",
       "<tbody>\n",
       "\t<tr><th scope=row>1</th><td>DDX11L1</td><td>chr1</td><td>12623</td><td>14409</td><td>+</td><td> 1787</td><td> 0</td><td> 0</td><td> 0</td><td> 0</td><td>⋯</td><td>  0</td><td>  0</td><td> 0</td><td> 0</td><td> 0</td><td> 0</td><td> 0</td><td>  0</td><td> 0</td><td> 0</td></tr>\n",
       "\t<tr><th scope=row>2</th><td>WASH7P </td><td>chr1</td><td>14361</td><td>28620</td><td>-</td><td>14260</td><td>16</td><td>15</td><td>38</td><td>35</td><td>⋯</td><td>237</td><td>131</td><td>36</td><td>36</td><td>36</td><td>30</td><td>82</td><td>185</td><td>73</td><td>66</td></tr>\n",
       "</tbody>\n",
       "</table>\n"
      ],
      "text/latex": [
       "A data.frame: 2 × 22\n",
       "\\begin{tabular}{r|lllllllllllllllllllll}\n",
       "  & Geneid & Chr & Start & End & Strand & Length & /scratch/Users/hoto7260/Bench\\_DE/raw\\_data/bams2/7\\_DMSO\\_3hr\\_R1.sorted.bam & /scratch/Users/hoto7260/Bench\\_DE/raw\\_data/bams2/7\\_DMSO\\_3hr\\_R2.sorted.bam & /scratch/Users/hoto7260/Bench\\_DE/raw\\_data/bams2/7\\_Nutlin\\_3hr\\_R1.sorted.bam & /scratch/Users/hoto7260/Bench\\_DE/raw\\_data/bams2/7\\_Nutlin\\_3hr\\_R2.sorted.bam & ⋯ & /scratch/Users/hoto7260/Bench\\_DE/raw\\_data/bams2/SRR4090100.sorted.bam & /scratch/Users/hoto7260/Bench\\_DE/raw\\_data/bams2/SRR4090101.sorted.bam & /scratch/Users/hoto7260/Bench\\_DE/raw\\_data/bams2/SRR4090102.sorted.bam & /scratch/Users/hoto7260/Bench\\_DE/raw\\_data/bams2/SRR4090103.sorted.bam & /scratch/Users/hoto7260/Bench\\_DE/raw\\_data/bams2/SRR4090104.sorted.bam & /scratch/Users/hoto7260/Bench\\_DE/raw\\_data/bams2/SRR4090105.sorted.bam & /scratch/Users/hoto7260/Bench\\_DE/raw\\_data/bams2/SRR4090106.sorted.bam & /scratch/Users/hoto7260/Bench\\_DE/raw\\_data/bams2/SRR4090107.sorted.bam & /scratch/Users/hoto7260/Bench\\_DE/raw\\_data/bams2/SRR4090108.sorted.bam & /scratch/Users/hoto7260/Bench\\_DE/raw\\_data/bams2/SRR4090109.sorted.bam\\\\\n",
       "  & <chr> & <chr> & <int> & <int> & <chr> & <int> & <int> & <int> & <int> & <int> & ⋯ & <int> & <int> & <int> & <int> & <int> & <int> & <int> & <int> & <int> & <int>\\\\\n",
       "\\hline\n",
       "\t1 & DDX11L1 & chr1 & 12623 & 14409 & + &  1787 &  0 &  0 &  0 &  0 & ⋯ &   0 &   0 &  0 &  0 &  0 &  0 &  0 &   0 &  0 &  0\\\\\n",
       "\t2 & WASH7P  & chr1 & 14361 & 28620 & - & 14260 & 16 & 15 & 38 & 35 & ⋯ & 237 & 131 & 36 & 36 & 36 & 30 & 82 & 185 & 73 & 66\\\\\n",
       "\\end{tabular}\n"
      ],
      "text/markdown": [
       "\n",
       "A data.frame: 2 × 22\n",
       "\n",
       "| <!--/--> | Geneid &lt;chr&gt; | Chr &lt;chr&gt; | Start &lt;int&gt; | End &lt;int&gt; | Strand &lt;chr&gt; | Length &lt;int&gt; | /scratch/Users/hoto7260/Bench_DE/raw_data/bams2/7_DMSO_3hr_R1.sorted.bam &lt;int&gt; | /scratch/Users/hoto7260/Bench_DE/raw_data/bams2/7_DMSO_3hr_R2.sorted.bam &lt;int&gt; | /scratch/Users/hoto7260/Bench_DE/raw_data/bams2/7_Nutlin_3hr_R1.sorted.bam &lt;int&gt; | /scratch/Users/hoto7260/Bench_DE/raw_data/bams2/7_Nutlin_3hr_R2.sorted.bam &lt;int&gt; | ⋯ ⋯ | /scratch/Users/hoto7260/Bench_DE/raw_data/bams2/SRR4090100.sorted.bam &lt;int&gt; | /scratch/Users/hoto7260/Bench_DE/raw_data/bams2/SRR4090101.sorted.bam &lt;int&gt; | /scratch/Users/hoto7260/Bench_DE/raw_data/bams2/SRR4090102.sorted.bam &lt;int&gt; | /scratch/Users/hoto7260/Bench_DE/raw_data/bams2/SRR4090103.sorted.bam &lt;int&gt; | /scratch/Users/hoto7260/Bench_DE/raw_data/bams2/SRR4090104.sorted.bam &lt;int&gt; | /scratch/Users/hoto7260/Bench_DE/raw_data/bams2/SRR4090105.sorted.bam &lt;int&gt; | /scratch/Users/hoto7260/Bench_DE/raw_data/bams2/SRR4090106.sorted.bam &lt;int&gt; | /scratch/Users/hoto7260/Bench_DE/raw_data/bams2/SRR4090107.sorted.bam &lt;int&gt; | /scratch/Users/hoto7260/Bench_DE/raw_data/bams2/SRR4090108.sorted.bam &lt;int&gt; | /scratch/Users/hoto7260/Bench_DE/raw_data/bams2/SRR4090109.sorted.bam &lt;int&gt; |\n",
       "|---|---|---|---|---|---|---|---|---|---|---|---|---|---|---|---|---|---|---|---|---|---|\n",
       "| 1 | DDX11L1 | chr1 | 12623 | 14409 | + |  1787 |  0 |  0 |  0 |  0 | ⋯ |   0 |   0 |  0 |  0 |  0 |  0 |  0 |   0 |  0 |  0 |\n",
       "| 2 | WASH7P  | chr1 | 14361 | 28620 | - | 14260 | 16 | 15 | 38 | 35 | ⋯ | 237 | 131 | 36 | 36 | 36 | 30 | 82 | 185 | 73 | 66 |\n",
       "\n"
      ],
      "text/plain": [
       "  Geneid  Chr  Start End   Strand Length\n",
       "1 DDX11L1 chr1 12623 14409 +       1787 \n",
       "2 WASH7P  chr1 14361 28620 -      14260 \n",
       "  /scratch/Users/hoto7260/Bench_DE/raw_data/bams2/7_DMSO_3hr_R1.sorted.bam\n",
       "1  0                                                                      \n",
       "2 16                                                                      \n",
       "  /scratch/Users/hoto7260/Bench_DE/raw_data/bams2/7_DMSO_3hr_R2.sorted.bam\n",
       "1  0                                                                      \n",
       "2 15                                                                      \n",
       "  /scratch/Users/hoto7260/Bench_DE/raw_data/bams2/7_Nutlin_3hr_R1.sorted.bam\n",
       "1  0                                                                        \n",
       "2 38                                                                        \n",
       "  /scratch/Users/hoto7260/Bench_DE/raw_data/bams2/7_Nutlin_3hr_R2.sorted.bam ⋯\n",
       "1  0                                                                         ⋯\n",
       "2 35                                                                         ⋯\n",
       "  /scratch/Users/hoto7260/Bench_DE/raw_data/bams2/SRR4090100.sorted.bam\n",
       "1   0                                                                  \n",
       "2 237                                                                  \n",
       "  /scratch/Users/hoto7260/Bench_DE/raw_data/bams2/SRR4090101.sorted.bam\n",
       "1   0                                                                  \n",
       "2 131                                                                  \n",
       "  /scratch/Users/hoto7260/Bench_DE/raw_data/bams2/SRR4090102.sorted.bam\n",
       "1  0                                                                   \n",
       "2 36                                                                   \n",
       "  /scratch/Users/hoto7260/Bench_DE/raw_data/bams2/SRR4090103.sorted.bam\n",
       "1  0                                                                   \n",
       "2 36                                                                   \n",
       "  /scratch/Users/hoto7260/Bench_DE/raw_data/bams2/SRR4090104.sorted.bam\n",
       "1  0                                                                   \n",
       "2 36                                                                   \n",
       "  /scratch/Users/hoto7260/Bench_DE/raw_data/bams2/SRR4090105.sorted.bam\n",
       "1  0                                                                   \n",
       "2 30                                                                   \n",
       "  /scratch/Users/hoto7260/Bench_DE/raw_data/bams2/SRR4090106.sorted.bam\n",
       "1  0                                                                   \n",
       "2 82                                                                   \n",
       "  /scratch/Users/hoto7260/Bench_DE/raw_data/bams2/SRR4090107.sorted.bam\n",
       "1   0                                                                  \n",
       "2 185                                                                  \n",
       "  /scratch/Users/hoto7260/Bench_DE/raw_data/bams2/SRR4090108.sorted.bam\n",
       "1  0                                                                   \n",
       "2 73                                                                   \n",
       "  /scratch/Users/hoto7260/Bench_DE/raw_data/bams2/SRR4090109.sorted.bam\n",
       "1  0                                                                   \n",
       "2 66                                                                   "
      ]
     },
     "metadata": {},
     "output_type": "display_data"
    },
    {
     "data": {
      "text/html": [
       "<table class=\"dataframe\">\n",
       "<caption>A data.frame: 2 × 22</caption>\n",
       "<thead>\n",
       "\t<tr><th></th><th scope=col>Geneid</th><th scope=col>Chr</th><th scope=col>Start</th><th scope=col>End</th><th scope=col>Strand</th><th scope=col>Length</th><th scope=col>/scratch/Users/hoto7260/Bench_DE/raw_data/bams2/7_DMSO_3hr_R1.sorted.bam</th><th scope=col>/scratch/Users/hoto7260/Bench_DE/raw_data/bams2/7_DMSO_3hr_R2.sorted.bam</th><th scope=col>/scratch/Users/hoto7260/Bench_DE/raw_data/bams2/7_Nutlin_3hr_R1.sorted.bam</th><th scope=col>/scratch/Users/hoto7260/Bench_DE/raw_data/bams2/7_Nutlin_3hr_R2.sorted.bam</th><th scope=col>⋯</th><th scope=col>/scratch/Users/hoto7260/Bench_DE/raw_data/bams2/SRR4090100.sorted.bam</th><th scope=col>/scratch/Users/hoto7260/Bench_DE/raw_data/bams2/SRR4090101.sorted.bam</th><th scope=col>/scratch/Users/hoto7260/Bench_DE/raw_data/bams2/SRR4090102.sorted.bam</th><th scope=col>/scratch/Users/hoto7260/Bench_DE/raw_data/bams2/SRR4090103.sorted.bam</th><th scope=col>/scratch/Users/hoto7260/Bench_DE/raw_data/bams2/SRR4090104.sorted.bam</th><th scope=col>/scratch/Users/hoto7260/Bench_DE/raw_data/bams2/SRR4090105.sorted.bam</th><th scope=col>/scratch/Users/hoto7260/Bench_DE/raw_data/bams2/SRR4090106.sorted.bam</th><th scope=col>/scratch/Users/hoto7260/Bench_DE/raw_data/bams2/SRR4090107.sorted.bam</th><th scope=col>/scratch/Users/hoto7260/Bench_DE/raw_data/bams2/SRR4090108.sorted.bam</th><th scope=col>/scratch/Users/hoto7260/Bench_DE/raw_data/bams2/SRR4090109.sorted.bam</th></tr>\n",
       "\t<tr><th></th><th scope=col>&lt;chr&gt;</th><th scope=col>&lt;chr&gt;</th><th scope=col>&lt;chr&gt;</th><th scope=col>&lt;chr&gt;</th><th scope=col>&lt;chr&gt;</th><th scope=col>&lt;int&gt;</th><th scope=col>&lt;int&gt;</th><th scope=col>&lt;int&gt;</th><th scope=col>&lt;int&gt;</th><th scope=col>&lt;int&gt;</th><th scope=col>⋯</th><th scope=col>&lt;int&gt;</th><th scope=col>&lt;int&gt;</th><th scope=col>&lt;int&gt;</th><th scope=col>&lt;int&gt;</th><th scope=col>&lt;int&gt;</th><th scope=col>&lt;int&gt;</th><th scope=col>&lt;int&gt;</th><th scope=col>&lt;int&gt;</th><th scope=col>&lt;int&gt;</th><th scope=col>&lt;int&gt;</th></tr>\n",
       "</thead>\n",
       "<tbody>\n",
       "\t<tr><th scope=row>2</th><td>FGFR1OP2</td><td>chr12;chr12</td><td>26939220;26958207</td><td>26957606;26966648</td><td>+;+</td><td>26829</td><td> 780</td><td>438</td><td> 546</td><td> 590</td><td>⋯</td><td>2050</td><td>1683</td><td>269</td><td>427</td><td>295</td><td>339</td><td> 741</td><td>2600</td><td> 930</td><td> 596</td></tr>\n",
       "\t<tr><th scope=row>5</th><td>ATAD3B  </td><td>chr1;chr1  </td><td>1472515;1487585  </td><td>1486984;1497848  </td><td>+;+</td><td>24734</td><td>1179</td><td>865</td><td>1580</td><td>1654</td><td>⋯</td><td>5176</td><td>3753</td><td>810</td><td>955</td><td>646</td><td>659</td><td>1867</td><td>4996</td><td>1717</td><td>1819</td></tr>\n",
       "</tbody>\n",
       "</table>\n"
      ],
      "text/latex": [
       "A data.frame: 2 × 22\n",
       "\\begin{tabular}{r|lllllllllllllllllllll}\n",
       "  & Geneid & Chr & Start & End & Strand & Length & /scratch/Users/hoto7260/Bench\\_DE/raw\\_data/bams2/7\\_DMSO\\_3hr\\_R1.sorted.bam & /scratch/Users/hoto7260/Bench\\_DE/raw\\_data/bams2/7\\_DMSO\\_3hr\\_R2.sorted.bam & /scratch/Users/hoto7260/Bench\\_DE/raw\\_data/bams2/7\\_Nutlin\\_3hr\\_R1.sorted.bam & /scratch/Users/hoto7260/Bench\\_DE/raw\\_data/bams2/7\\_Nutlin\\_3hr\\_R2.sorted.bam & ⋯ & /scratch/Users/hoto7260/Bench\\_DE/raw\\_data/bams2/SRR4090100.sorted.bam & /scratch/Users/hoto7260/Bench\\_DE/raw\\_data/bams2/SRR4090101.sorted.bam & /scratch/Users/hoto7260/Bench\\_DE/raw\\_data/bams2/SRR4090102.sorted.bam & /scratch/Users/hoto7260/Bench\\_DE/raw\\_data/bams2/SRR4090103.sorted.bam & /scratch/Users/hoto7260/Bench\\_DE/raw\\_data/bams2/SRR4090104.sorted.bam & /scratch/Users/hoto7260/Bench\\_DE/raw\\_data/bams2/SRR4090105.sorted.bam & /scratch/Users/hoto7260/Bench\\_DE/raw\\_data/bams2/SRR4090106.sorted.bam & /scratch/Users/hoto7260/Bench\\_DE/raw\\_data/bams2/SRR4090107.sorted.bam & /scratch/Users/hoto7260/Bench\\_DE/raw\\_data/bams2/SRR4090108.sorted.bam & /scratch/Users/hoto7260/Bench\\_DE/raw\\_data/bams2/SRR4090109.sorted.bam\\\\\n",
       "  & <chr> & <chr> & <chr> & <chr> & <chr> & <int> & <int> & <int> & <int> & <int> & ⋯ & <int> & <int> & <int> & <int> & <int> & <int> & <int> & <int> & <int> & <int>\\\\\n",
       "\\hline\n",
       "\t2 & FGFR1OP2 & chr12;chr12 & 26939220;26958207 & 26957606;26966648 & +;+ & 26829 &  780 & 438 &  546 &  590 & ⋯ & 2050 & 1683 & 269 & 427 & 295 & 339 &  741 & 2600 &  930 &  596\\\\\n",
       "\t5 & ATAD3B   & chr1;chr1   & 1472515;1487585   & 1486984;1497848   & +;+ & 24734 & 1179 & 865 & 1580 & 1654 & ⋯ & 5176 & 3753 & 810 & 955 & 646 & 659 & 1867 & 4996 & 1717 & 1819\\\\\n",
       "\\end{tabular}\n"
      ],
      "text/markdown": [
       "\n",
       "A data.frame: 2 × 22\n",
       "\n",
       "| <!--/--> | Geneid &lt;chr&gt; | Chr &lt;chr&gt; | Start &lt;chr&gt; | End &lt;chr&gt; | Strand &lt;chr&gt; | Length &lt;int&gt; | /scratch/Users/hoto7260/Bench_DE/raw_data/bams2/7_DMSO_3hr_R1.sorted.bam &lt;int&gt; | /scratch/Users/hoto7260/Bench_DE/raw_data/bams2/7_DMSO_3hr_R2.sorted.bam &lt;int&gt; | /scratch/Users/hoto7260/Bench_DE/raw_data/bams2/7_Nutlin_3hr_R1.sorted.bam &lt;int&gt; | /scratch/Users/hoto7260/Bench_DE/raw_data/bams2/7_Nutlin_3hr_R2.sorted.bam &lt;int&gt; | ⋯ ⋯ | /scratch/Users/hoto7260/Bench_DE/raw_data/bams2/SRR4090100.sorted.bam &lt;int&gt; | /scratch/Users/hoto7260/Bench_DE/raw_data/bams2/SRR4090101.sorted.bam &lt;int&gt; | /scratch/Users/hoto7260/Bench_DE/raw_data/bams2/SRR4090102.sorted.bam &lt;int&gt; | /scratch/Users/hoto7260/Bench_DE/raw_data/bams2/SRR4090103.sorted.bam &lt;int&gt; | /scratch/Users/hoto7260/Bench_DE/raw_data/bams2/SRR4090104.sorted.bam &lt;int&gt; | /scratch/Users/hoto7260/Bench_DE/raw_data/bams2/SRR4090105.sorted.bam &lt;int&gt; | /scratch/Users/hoto7260/Bench_DE/raw_data/bams2/SRR4090106.sorted.bam &lt;int&gt; | /scratch/Users/hoto7260/Bench_DE/raw_data/bams2/SRR4090107.sorted.bam &lt;int&gt; | /scratch/Users/hoto7260/Bench_DE/raw_data/bams2/SRR4090108.sorted.bam &lt;int&gt; | /scratch/Users/hoto7260/Bench_DE/raw_data/bams2/SRR4090109.sorted.bam &lt;int&gt; |\n",
       "|---|---|---|---|---|---|---|---|---|---|---|---|---|---|---|---|---|---|---|---|---|---|\n",
       "| 2 | FGFR1OP2 | chr12;chr12 | 26939220;26958207 | 26957606;26966648 | +;+ | 26829 |  780 | 438 |  546 |  590 | ⋯ | 2050 | 1683 | 269 | 427 | 295 | 339 |  741 | 2600 |  930 |  596 |\n",
       "| 5 | ATAD3B   | chr1;chr1   | 1472515;1487585   | 1486984;1497848   | +;+ | 24734 | 1179 | 865 | 1580 | 1654 | ⋯ | 5176 | 3753 | 810 | 955 | 646 | 659 | 1867 | 4996 | 1717 | 1819 |\n",
       "\n"
      ],
      "text/plain": [
       "  Geneid   Chr         Start             End               Strand Length\n",
       "2 FGFR1OP2 chr12;chr12 26939220;26958207 26957606;26966648 +;+    26829 \n",
       "5 ATAD3B   chr1;chr1   1472515;1487585   1486984;1497848   +;+    24734 \n",
       "  /scratch/Users/hoto7260/Bench_DE/raw_data/bams2/7_DMSO_3hr_R1.sorted.bam\n",
       "2  780                                                                    \n",
       "5 1179                                                                    \n",
       "  /scratch/Users/hoto7260/Bench_DE/raw_data/bams2/7_DMSO_3hr_R2.sorted.bam\n",
       "2 438                                                                     \n",
       "5 865                                                                     \n",
       "  /scratch/Users/hoto7260/Bench_DE/raw_data/bams2/7_Nutlin_3hr_R1.sorted.bam\n",
       "2  546                                                                      \n",
       "5 1580                                                                      \n",
       "  /scratch/Users/hoto7260/Bench_DE/raw_data/bams2/7_Nutlin_3hr_R2.sorted.bam ⋯\n",
       "2  590                                                                       ⋯\n",
       "5 1654                                                                       ⋯\n",
       "  /scratch/Users/hoto7260/Bench_DE/raw_data/bams2/SRR4090100.sorted.bam\n",
       "2 2050                                                                 \n",
       "5 5176                                                                 \n",
       "  /scratch/Users/hoto7260/Bench_DE/raw_data/bams2/SRR4090101.sorted.bam\n",
       "2 1683                                                                 \n",
       "5 3753                                                                 \n",
       "  /scratch/Users/hoto7260/Bench_DE/raw_data/bams2/SRR4090102.sorted.bam\n",
       "2 269                                                                  \n",
       "5 810                                                                  \n",
       "  /scratch/Users/hoto7260/Bench_DE/raw_data/bams2/SRR4090103.sorted.bam\n",
       "2 427                                                                  \n",
       "5 955                                                                  \n",
       "  /scratch/Users/hoto7260/Bench_DE/raw_data/bams2/SRR4090104.sorted.bam\n",
       "2 295                                                                  \n",
       "5 646                                                                  \n",
       "  /scratch/Users/hoto7260/Bench_DE/raw_data/bams2/SRR4090105.sorted.bam\n",
       "2 339                                                                  \n",
       "5 659                                                                  \n",
       "  /scratch/Users/hoto7260/Bench_DE/raw_data/bams2/SRR4090106.sorted.bam\n",
       "2  741                                                                 \n",
       "5 1867                                                                 \n",
       "  /scratch/Users/hoto7260/Bench_DE/raw_data/bams2/SRR4090107.sorted.bam\n",
       "2 2600                                                                 \n",
       "5 4996                                                                 \n",
       "  /scratch/Users/hoto7260/Bench_DE/raw_data/bams2/SRR4090108.sorted.bam\n",
       "2  930                                                                 \n",
       "5 1717                                                                 \n",
       "  /scratch/Users/hoto7260/Bench_DE/raw_data/bams2/SRR4090109.sorted.bam\n",
       "2  596                                                                 \n",
       "5 1819                                                                 "
      ]
     },
     "metadata": {},
     "output_type": "display_data"
    }
   ],
   "source": [
    "## Only use the long isoforms\n",
    "long <- fread(\"/Users/hopekirby/Desktop/TF_Enh_Linking/fix_counts_p53_DESeq/data/processed_annotations/hg38/hg38_refseq_longisof_transcripts_counting.bed\")\n",
    "\n",
    "dim(long)\n",
    "length(intersect(long$V4, gene_fix_counts$Geneid))\n",
    "length(intersect(long$V4, gene_counts$Geneid))\n",
    "\n",
    "gene_fix_counts <- gene_fix_counts[gene_fix_counts$Geneid %in% long$V4,]\n",
    "dim(gene_fix_counts)\n",
    "\n",
    "gene_counts <- gene_counts[gene_counts$Geneid %in% long$V4,]\n",
    "dim(gene_counts)\n",
    "\n",
    "# and change name to just the gene\n",
    "gene_counts$Geneid <- str_split_fixed(gene_counts$Geneid, \":\", 2)[,1]\n",
    "gene_counts[1:2,]\n",
    "gene_fix_counts$Geneid <- str_split_fixed(gene_fix_counts$Geneid, \":\", 2)[,1]\n",
    "gene_fix_counts[1:2,]"
   ]
  },
  {
   "cell_type": "markdown",
   "id": "04434cbc-6b15-40ce-ba39-6c84e58686a2",
   "metadata": {},
   "source": [
    "### 0B. Split up the TSS & nonTSS counts"
   ]
  },
  {
   "cell_type": "code",
   "execution_count": 5,
   "id": "93f43e91-06f6-4112-9749-324fe6df2a19",
   "metadata": {},
   "outputs": [
    {
     "data": {
      "text/html": [
       "23203"
      ],
      "text/latex": [
       "23203"
      ],
      "text/markdown": [
       "23203"
      ],
      "text/plain": [
       "[1] 23203"
      ]
     },
     "metadata": {},
     "output_type": "display_data"
    },
    {
     "data": {
      "text/html": [
       "23203"
      ],
      "text/latex": [
       "23203"
      ],
      "text/markdown": [
       "23203"
      ],
      "text/plain": [
       "[1] 23203"
      ]
     },
     "metadata": {},
     "output_type": "display_data"
    },
    {
     "data": {
      "text/html": [
       "141399"
      ],
      "text/latex": [
       "141399"
      ],
      "text/markdown": [
       "141399"
      ],
      "text/plain": [
       "[1] 141399"
      ]
     },
     "metadata": {},
     "output_type": "display_data"
    },
    {
     "data": {
      "text/html": [
       "141399"
      ],
      "text/latex": [
       "141399"
      ],
      "text/markdown": [
       "141399"
      ],
      "text/plain": [
       "[1] 141399"
      ]
     },
     "metadata": {},
     "output_type": "display_data"
    }
   ],
   "source": [
    "tss = fread(\"/Users/hopekirby/Desktop/TF_Enh_Linking/Bench_DE/p53/data/counts/tss_bid_AndryJones7_50bpwin_03-28-24.txt\")\n",
    "tss = unique(tss$BidID)\n",
    "length(tss)\n",
    "\n",
    "tss_bid_fix_counts <- bid_fix_counts[bid_fix_counts$Geneid %in% tss,]\n",
    "nontss_bid_fix_counts <- bid_fix_counts[!bid_fix_counts$Geneid %in% tss,]\n",
    "nrow(tss_bid_fix_counts)\n",
    "nrow(bid_fix_counts) - length(tss)\n",
    "nrow(nontss_bid_fix_counts)"
   ]
  },
  {
   "cell_type": "markdown",
   "id": "e3526810-858f-407c-8e6e-79c1fff44ce1",
   "metadata": {},
   "source": [
    "### 0C. Prep Metadata"
   ]
  },
  {
   "cell_type": "code",
   "execution_count": 6,
   "id": "0bf96799-1528-43a4-87cf-5b946f42120d",
   "metadata": {},
   "outputs": [
    {
     "data": {
      "text/html": [
       "TRUE"
      ],
      "text/latex": [
       "TRUE"
      ],
      "text/markdown": [
       "TRUE"
      ],
      "text/plain": [
       "[1] TRUE"
      ]
     },
     "metadata": {},
     "output_type": "display_data"
    }
   ],
   "source": [
    "identical(colnames(gene_fix_counts), colnames(gene_counts))\n",
    "cols <- c(\"Geneid\", \"Chr\", \"Start\", \"End\", \"Strand\", \"Length\", \n",
    "                     \"MCF10A_DMSO_R1\", \"MCF10A_DMSO_R2\", \"MCF10A_Nut_R1\", \"MCF10A_Nut_R2\", \n",
    "                     \"HCT116_DMSO_R1\", \"HCT116_DMSO_R2\", \"HCT116_Nut_R1\", \"HCT116_Nut_R2\", \n",
    "                     \"MCF7_DMSO_R1\", \"MCF7_DMSO_R2\", \"MCF7_Nut_R1\", \"MCF7_Nut_R2\", \n",
    "                     \"SJSA_DMSO_R1\", \"SJSA_DMSO_R2\", \"SJSA_Nut_R1\", \"SJSA_Nut_R2\")\n",
    "colnames(gene_fix_counts) <- cols\n",
    "colnames(gene_counts) <- cols"
   ]
  },
  {
   "cell_type": "markdown",
   "id": "1fea2a19-d793-4d55-ae87-e000f0abc141",
   "metadata": {},
   "source": [
    "### 0D. Split up counts according to Cell Type"
   ]
  },
  {
   "cell_type": "code",
   "execution_count": 7,
   "id": "b385fab6-d1bf-4278-926c-8c0aaf0d68c2",
   "metadata": {},
   "outputs": [
    {
     "data": {
      "text/html": [
       "<style>\n",
       ".list-inline {list-style: none; margin:0; padding: 0}\n",
       ".list-inline>li {display: inline-block}\n",
       ".list-inline>li:not(:last-child)::after {content: \"\\00b7\"; padding: 0 .5ex}\n",
       "</style>\n",
       "<ol class=list-inline><li>166982</li><li>4</li></ol>\n"
      ],
      "text/latex": [
       "\\begin{enumerate*}\n",
       "\\item 166982\n",
       "\\item 4\n",
       "\\end{enumerate*}\n"
      ],
      "text/markdown": [
       "1. 166982\n",
       "2. 4\n",
       "\n",
       "\n"
      ],
      "text/plain": [
       "[1] 166982      4"
      ]
     },
     "metadata": {},
     "output_type": "display_data"
    },
    {
     "data": {
      "text/html": [
       "<style>\n",
       ".list-inline {list-style: none; margin:0; padding: 0}\n",
       ".list-inline>li {display: inline-block}\n",
       ".list-inline>li:not(:last-child)::after {content: \"\\00b7\"; padding: 0 .5ex}\n",
       "</style>\n",
       "<ol class=list-inline><li>164602</li><li>4</li></ol>\n"
      ],
      "text/latex": [
       "\\begin{enumerate*}\n",
       "\\item 164602\n",
       "\\item 4\n",
       "\\end{enumerate*}\n"
      ],
      "text/markdown": [
       "1. 164602\n",
       "2. 4\n",
       "\n",
       "\n"
      ],
      "text/plain": [
       "[1] 164602      4"
      ]
     },
     "metadata": {},
     "output_type": "display_data"
    },
    {
     "data": {
      "text/html": [
       "<style>\n",
       ".list-inline {list-style: none; margin:0; padding: 0}\n",
       ".list-inline>li {display: inline-block}\n",
       ".list-inline>li:not(:last-child)::after {content: \"\\00b7\"; padding: 0 .5ex}\n",
       "</style>\n",
       "<ol class=list-inline><li>23203</li><li>22</li></ol>\n"
      ],
      "text/latex": [
       "\\begin{enumerate*}\n",
       "\\item 23203\n",
       "\\item 22\n",
       "\\end{enumerate*}\n"
      ],
      "text/markdown": [
       "1. 23203\n",
       "2. 22\n",
       "\n",
       "\n"
      ],
      "text/plain": [
       "[1] 23203    22"
      ]
     },
     "metadata": {},
     "output_type": "display_data"
    },
    {
     "data": {
      "text/html": [
       "<style>\n",
       ".list-inline {list-style: none; margin:0; padding: 0}\n",
       ".list-inline>li {display: inline-block}\n",
       ".list-inline>li:not(:last-child)::after {content: \"\\00b7\"; padding: 0 .5ex}\n",
       "</style>\n",
       "<ol class=list-inline><li>23203</li><li>4</li></ol>\n"
      ],
      "text/latex": [
       "\\begin{enumerate*}\n",
       "\\item 23203\n",
       "\\item 4\n",
       "\\end{enumerate*}\n"
      ],
      "text/markdown": [
       "1. 23203\n",
       "2. 4\n",
       "\n",
       "\n"
      ],
      "text/plain": [
       "[1] 23203     4"
      ]
     },
     "metadata": {},
     "output_type": "display_data"
    },
    {
     "data": {
      "text/html": [
       "<style>\n",
       ".list-inline {list-style: none; margin:0; padding: 0}\n",
       ".list-inline>li {display: inline-block}\n",
       ".list-inline>li:not(:last-child)::after {content: \"\\00b7\"; padding: 0 .5ex}\n",
       "</style>\n",
       "<ol class=list-inline><li>141399</li><li>22</li></ol>\n"
      ],
      "text/latex": [
       "\\begin{enumerate*}\n",
       "\\item 141399\n",
       "\\item 22\n",
       "\\end{enumerate*}\n"
      ],
      "text/markdown": [
       "1. 141399\n",
       "2. 22\n",
       "\n",
       "\n"
      ],
      "text/plain": [
       "[1] 141399     22"
      ]
     },
     "metadata": {},
     "output_type": "display_data"
    },
    {
     "data": {
      "text/html": [
       "<style>\n",
       ".list-inline {list-style: none; margin:0; padding: 0}\n",
       ".list-inline>li {display: inline-block}\n",
       ".list-inline>li:not(:last-child)::after {content: \"\\00b7\"; padding: 0 .5ex}\n",
       "</style>\n",
       "<ol class=list-inline><li>141399</li><li>4</li></ol>\n"
      ],
      "text/latex": [
       "\\begin{enumerate*}\n",
       "\\item 141399\n",
       "\\item 4\n",
       "\\end{enumerate*}\n"
      ],
      "text/markdown": [
       "1. 141399\n",
       "2. 4\n",
       "\n",
       "\n"
      ],
      "text/plain": [
       "[1] 141399      4"
      ]
     },
     "metadata": {},
     "output_type": "display_data"
    },
    {
     "data": {
      "text/html": [
       "<style>\n",
       ".list-inline {list-style: none; margin:0; padding: 0}\n",
       ".list-inline>li {display: inline-block}\n",
       ".list-inline>li:not(:last-child)::after {content: \"\\00b7\"; padding: 0 .5ex}\n",
       "</style>\n",
       "<ol class=list-inline><li>28889</li><li>4</li></ol>\n"
      ],
      "text/latex": [
       "\\begin{enumerate*}\n",
       "\\item 28889\n",
       "\\item 4\n",
       "\\end{enumerate*}\n"
      ],
      "text/markdown": [
       "1. 28889\n",
       "2. 4\n",
       "\n",
       "\n"
      ],
      "text/plain": [
       "[1] 28889     4"
      ]
     },
     "metadata": {},
     "output_type": "display_data"
    },
    {
     "data": {
      "text/html": [
       "<style>\n",
       ".list-inline {list-style: none; margin:0; padding: 0}\n",
       ".list-inline>li {display: inline-block}\n",
       ".list-inline>li:not(:last-child)::after {content: \"\\00b7\"; padding: 0 .5ex}\n",
       "</style>\n",
       "<ol class=list-inline><li>28875</li><li>4</li></ol>\n"
      ],
      "text/latex": [
       "\\begin{enumerate*}\n",
       "\\item 28875\n",
       "\\item 4\n",
       "\\end{enumerate*}\n"
      ],
      "text/markdown": [
       "1. 28875\n",
       "2. 4\n",
       "\n",
       "\n"
      ],
      "text/plain": [
       "[1] 28875     4"
      ]
     },
     "metadata": {},
     "output_type": "display_data"
    }
   ],
   "source": [
    "# Orig Bids\n",
    "bid_counts_hct116_matrix <- as.matrix(bid_counts[, 11:14])\n",
    "bid_counts_mcf7_matrix <- as.matrix(bid_counts[, 15:18])\n",
    "bid_counts_sjsa_matrix <- as.matrix(bid_counts[, 19:22])\n",
    "bid_counts_mcf10a_matrix <- as.matrix(bid_counts[, 7:10])\n",
    "rownames(bid_counts_hct116_matrix) <- bid_counts$Geneid\n",
    "rownames(bid_counts_mcf7_matrix) <- bid_counts$Geneid\n",
    "rownames(bid_counts_sjsa_matrix) <- bid_counts$Geneid\n",
    "rownames(bid_counts_mcf10a_matrix) <- bid_counts$Geneid\n",
    "dim(bid_counts_hct116_matrix)\n",
    "\n",
    "# Fixed Bids (All)\n",
    "bid_fix_counts_hct116_matrix <- as.matrix(bid_fix_counts[, 11:14])\n",
    "bid_fix_counts_mcf7_matrix <- as.matrix(bid_fix_counts[, 15:18])\n",
    "bid_fix_counts_sjsa_matrix <- as.matrix(bid_fix_counts[, 19:22])\n",
    "bid_fix_counts_mcf10a_matrix <- as.matrix(bid_fix_counts[, 7:10])\n",
    "rownames(bid_fix_counts_hct116_matrix) <- bid_fix_counts$Geneid\n",
    "rownames(bid_fix_counts_mcf7_matrix) <- bid_fix_counts$Geneid\n",
    "rownames(bid_fix_counts_sjsa_matrix) <- bid_fix_counts$Geneid\n",
    "rownames(bid_fix_counts_mcf10a_matrix) <- bid_fix_counts$Geneid\n",
    "dim(bid_fix_counts_hct116_matrix)\n",
    "# Fixed Bids (TSS)\n",
    "tss_bid_fix_counts_hct116_matrix <- as.matrix(tss_bid_fix_counts[, 11:14])\n",
    "tss_bid_fix_counts_mcf7_matrix <- as.matrix(tss_bid_fix_counts[, 15:18])\n",
    "tss_bid_fix_counts_sjsa_matrix <- as.matrix(tss_bid_fix_counts[, 19:22])\n",
    "tss_bid_fix_counts_mcf10a_matrix <- as.matrix(tss_bid_fix_counts[, 7:10])\n",
    "rownames(tss_bid_fix_counts_hct116_matrix) <- tss_bid_fix_counts$Geneid\n",
    "rownames(tss_bid_fix_counts_mcf7_matrix) <- tss_bid_fix_counts$Geneid\n",
    "rownames(tss_bid_fix_counts_sjsa_matrix) <- tss_bid_fix_counts$Geneid\n",
    "rownames(tss_bid_fix_counts_mcf10a_matrix) <- tss_bid_fix_counts$Geneid\n",
    "dim(tss_bid_fix_counts)\n",
    "dim(tss_bid_fix_counts_hct116_matrix)\n",
    "# Fixed Bids (NonTSS)\n",
    "nontss_bid_fix_counts_hct116_matrix <- as.matrix(nontss_bid_fix_counts[, 11:14])\n",
    "nontss_bid_fix_counts_mcf7_matrix <- as.matrix(nontss_bid_fix_counts[, 15:18])\n",
    "nontss_bid_fix_counts_sjsa_matrix <- as.matrix(nontss_bid_fix_counts[, 19:22])\n",
    "nontss_bid_fix_counts_mcf10a_matrix <- as.matrix(nontss_bid_fix_counts[, 7:10])\n",
    "rownames(nontss_bid_fix_counts_hct116_matrix) <- nontss_bid_fix_counts$Geneid\n",
    "rownames(nontss_bid_fix_counts_mcf7_matrix) <- nontss_bid_fix_counts$Geneid\n",
    "rownames(nontss_bid_fix_counts_sjsa_matrix) <- nontss_bid_fix_counts$Geneid\n",
    "rownames(nontss_bid_fix_counts_mcf10a_matrix) <- nontss_bid_fix_counts$Geneid\n",
    "dim(nontss_bid_fix_counts)\n",
    "dim(nontss_bid_fix_counts_hct116_matrix)\n",
    "\n",
    "# Orig Genes\n",
    "gene_counts_hct116_matrix <- as.matrix(gene_counts[, 11:14])\n",
    "gene_counts_mcf7_matrix <- as.matrix(gene_counts[, 15:18])\n",
    "gene_counts_sjsa_matrix <- as.matrix(gene_counts[, 19:22])\n",
    "gene_counts_mcf10a_matrix <- as.matrix(gene_counts[, 7:10])\n",
    "rownames(gene_counts_hct116_matrix) <- gene_counts$Geneid\n",
    "rownames(gene_counts_mcf7_matrix) <- gene_counts$Geneid\n",
    "rownames(gene_counts_sjsa_matrix) <- gene_counts$Geneid\n",
    "rownames(gene_counts_mcf10a_matrix) <- gene_counts$Geneid\n",
    "dim(gene_counts_hct116_matrix)\n",
    "# Fixed Genes\n",
    "gene_fix_counts_hct116_matrix <- as.matrix(gene_fix_counts[, 11:14])\n",
    "gene_fix_counts_mcf7_matrix <- as.matrix(gene_fix_counts[, 15:18])\n",
    "gene_fix_counts_sjsa_matrix <- as.matrix(gene_fix_counts[, 19:22])\n",
    "gene_fix_counts_mcf10a_matrix <- as.matrix(gene_fix_counts[, 7:10])\n",
    "rownames(gene_fix_counts_hct116_matrix) <- gene_fix_counts$Geneid\n",
    "rownames(gene_fix_counts_mcf7_matrix) <- gene_fix_counts$Geneid\n",
    "rownames(gene_fix_counts_sjsa_matrix) <- gene_fix_counts$Geneid\n",
    "rownames(gene_fix_counts_mcf10a_matrix) <- gene_fix_counts$Geneid\n",
    "dim(gene_fix_counts_hct116_matrix)"
   ]
  },
  {
   "cell_type": "markdown",
   "id": "ce5c3a28-955e-494d-aa56-1b76e585a9e6",
   "metadata": {},
   "source": [
    "### 0E. Pick one of the cell types to run through"
   ]
  },
  {
   "cell_type": "code",
   "execution_count": 118,
   "id": "2a000902-4fad-43e2-9eed-65fb5f69fc8c",
   "metadata": {},
   "outputs": [],
   "source": [
    "celltype = \"HCT116\"\n",
    "bid_counts = bid_counts_hct116_matrix\n",
    "bid_fix_counts = bid_fix_counts_hct116_matrix\n",
    "tss_bid_fix_counts = tss_bid_fix_counts_hct116_matrix\n",
    "nontss_bid_fix_counts = nontss_bid_fix_counts_hct116_matrix\n",
    "gene_counts = gene_counts_hct116_matrix\n",
    "gene_fix_counts = gene_fix_counts_hct116_matrix\n",
    "# celltype = \"MCF7\"\n",
    "# bid_counts = bid_counts_mcf7_matrix\n",
    "# bid_fix_counts = bid_fix_counts_mcf7_matrix\n",
    "# tss_bid_fix_counts = tss_bid_fix_counts_mcf7_matrix\n",
    "# nontss_bid_fix_counts = nontss_bid_fix_counts_mcf7_matrix\n",
    "# gene_counts = gene_counts_mcf7_matrix\n",
    "# gene_fix_counts = gene_fix_counts_mcf7_matrix\n",
    "# celltype = \"SJSA\"\n",
    "# bid_counts = bid_counts_sjsa_matrix\n",
    "# bid_fix_counts = bid_fix_counts_sjsa_matrix\n",
    "# tss_bid_fix_counts = tss_bid_fix_counts_sjsa_matrix\n",
    "# nontss_bid_fix_counts = nontss_bid_fix_counts_sjsa_matrix\n",
    "# gene_counts = gene_counts_sjsa_matrix\n",
    "# gene_fix_counts = gene_fix_counts_sjsa_matrix\n",
    "\n",
    "# celltype = \"MCF10A\"\n",
    "# bid_counts = bid_counts_mcf10a_matrix\n",
    "# bid_fix_counts = bid_fix_counts_mcf10a_matrix\n",
    "# tss_bid_fix_counts = tss_bid_fix_counts_mcf10a_matrix\n",
    "# nontss_bid_fix_counts = nontss_bid_fix_counts_mcf10a_matrix\n",
    "# gene_counts = gene_counts_mcf10a_matrix\n",
    "# gene_fix_counts = gene_fix_counts_mcf10a_matrix"
   ]
  },
  {
   "cell_type": "markdown",
   "id": "8c0a3e0f-55b4-4e91-8fd5-d33e85a54f92",
   "metadata": {},
   "source": [
    "### 0F. Get the Expected Answers"
   ]
  },
  {
   "cell_type": "code",
   "execution_count": 119,
   "id": "fd1694fd-ab79-4bc4-8f0d-82456ca491a1",
   "metadata": {},
   "outputs": [
    {
     "data": {
      "text/html": [
       "15669"
      ],
      "text/latex": [
       "15669"
      ],
      "text/markdown": [
       "15669"
      ],
      "text/plain": [
       "[1] 15669"
      ]
     },
     "metadata": {},
     "output_type": "display_data"
    },
    {
     "data": {
      "text/html": [
       "2444"
      ],
      "text/latex": [
       "2444"
      ],
      "text/markdown": [
       "2444"
      ],
      "text/plain": [
       "[1] 2444"
      ]
     },
     "metadata": {},
     "output_type": "display_data"
    },
    {
     "data": {
      "text/html": [
       "127"
      ],
      "text/latex": [
       "127"
      ],
      "text/markdown": [
       "127"
      ],
      "text/plain": [
       "[1] 127"
      ]
     },
     "metadata": {},
     "output_type": "display_data"
    },
    {
     "data": {
      "text/html": [
       "2218"
      ],
      "text/latex": [
       "2218"
      ],
      "text/markdown": [
       "2218"
      ],
      "text/plain": [
       "[1] 2218"
      ]
     },
     "metadata": {},
     "output_type": "display_data"
    },
    {
     "data": {
      "text/html": [
       "2345"
      ],
      "text/latex": [
       "2345"
      ],
      "text/markdown": [
       "2345"
      ],
      "text/plain": [
       "[1] 2345"
      ]
     },
     "metadata": {},
     "output_type": "display_data"
    }
   ],
   "source": [
    "## TP Bids (ChIP+Motif)\n",
    "over_dir <- \"/Users/hopekirby/Desktop/TF_Enh_Linking/Bench_DE/p53/data/overlaps/\"\n",
    "# motif overlaps \n",
    "motif <- fread(paste0(over_dir, \"overlaps_all_bid_hg38_combined_P53_HUMAN.bed\"))\n",
    "nrow(motif)\n",
    "# p53 peak overlaps\n",
    "if (celltype == \"MCF10A\") {\n",
    "    chip <- fread(paste0(over_dir, \"overlaps_all_bid_hg38_MCF10A7.bed\"))\n",
    "    } else {\n",
    "    chip <- fread(paste0(over_dir, \"overlaps_all_bid_hg38_\", celltype, \".bed\"))\n",
    "    }\n",
    "\n",
    "chip <- intersect(motif$V4, chip$V4)\n",
    "length(chip)\n",
    "chip_tss <- intersect(chip, rownames(tss_bid_fix_counts))\n",
    "length(chip_tss)\n",
    "chip_nontss <- intersect(chip, rownames(nontss_bid_fix_counts))\n",
    "length(chip_nontss)\n",
    "length(chip_tss)+length(chip_nontss)"
   ]
  },
  {
   "cell_type": "code",
   "execution_count": 120,
   "id": "1e7078c0-6129-4ad6-983c-7535839853a0",
   "metadata": {},
   "outputs": [
    {
     "data": {
      "text/html": [
       "127"
      ],
      "text/latex": [
       "127"
      ],
      "text/markdown": [
       "127"
      ],
      "text/plain": [
       "[1] 127"
      ]
     },
     "metadata": {},
     "output_type": "display_data"
    },
    {
     "data": {
      "text/html": [
       "1906"
      ],
      "text/latex": [
       "1906"
      ],
      "text/markdown": [
       "1906"
      ],
      "text/plain": [
       "[1] 1906"
      ]
     },
     "metadata": {},
     "output_type": "display_data"
    },
    {
     "data": {
      "text/html": [
       "2033"
      ],
      "text/latex": [
       "2033"
      ],
      "text/markdown": [
       "2033"
      ],
      "text/plain": [
       "[1] 2033"
      ]
     },
     "metadata": {},
     "output_type": "display_data"
    }
   ],
   "source": [
    "## TN Bids\n",
    "TN <- readRDS(\"/Users/hopekirby/Desktop/TF_Enh_Linking/fix_counts_p53_DESeq/data/ChIP/FINAL_TNS_03-28-24.rds\")\n",
    "length(TN[[celltype]][[\"TSS\"]][[1]])\n",
    "length(TN[[celltype]][[\"NonTSS\"]][[1]])\n",
    "length(TN[[celltype]][[\"Both\"]][[1]])"
   ]
  },
  {
   "cell_type": "code",
   "execution_count": 121,
   "id": "9368aaee-2dc0-4b4b-be23-e9e86b919ba0",
   "metadata": {},
   "outputs": [
    {
     "data": {
      "text/html": [
       "31"
      ],
      "text/latex": [
       "31"
      ],
      "text/markdown": [
       "31"
      ],
      "text/plain": [
       "[1] 31"
      ]
     },
     "metadata": {},
     "output_type": "display_data"
    },
    {
     "data": {
      "text/html": [
       "107"
      ],
      "text/latex": [
       "107"
      ],
      "text/markdown": [
       "107"
      ],
      "text/plain": [
       "[1] 107"
      ]
     },
     "metadata": {},
     "output_type": "display_data"
    }
   ],
   "source": [
    "\n",
    "## Genes = Early Target Genes\n",
    "known_early_targets <- c(\"BAX\", \"BBC3\", \"CYFIP2\", \"FAS\", \"IKBIP\", \"PHLDA3\", \n",
    "                         \"RPS27L\", \"TNFRSF10B\", \"TP53INP1\", \n",
    "                         \"MDM2\", \"PPM1D\", \n",
    "                         \"BTG2\", \"CCNG1\", \"CDKN1A\", \n",
    "                         \"DRAM1\", \"SESN1\", \"SESN2\", \n",
    "                         \"GDF15\", \"ASCC3\", \"DDB2\", \"POLH\", \"RRM2B\", \"XPC\", \n",
    "                         \"ACER2\", \"FDXR\", \"PRKAB1\", \"TIGAR\", \n",
    "                         \"ANXA4\", \"BLOC1S2\", \"INKA2\", \"FBXO22\")\n",
    "if (celltype != \"MCF10A\") {\n",
    "    ct_known = fread(paste0(\"/Users/hopekirby/Desktop/TF_Enh_Linking/fix_counts_p53_DESeq/data/processed_annotations/truthsets/\", \n",
    "                            celltype, \".txt\"))$Gene_ID\n",
    "    } else ct_known = c()\n",
    "length(known_early_targets)\n",
    "length(ct_known)"
   ]
  },
  {
   "cell_type": "code",
   "execution_count": 122,
   "id": "f3b86b02-4cbf-4f6d-9fca-f88b3b5de900",
   "metadata": {},
   "outputs": [],
   "source": [
    "get_results_dict <- function(results_dict, name, test, norm, method, ressig) {\n",
    "    ## Get names info ##\n",
    "    results_dict[[\"name\"]] <- c(results_dict[[\"name\"]], name)\n",
    "    results_dict[[\"test\"]] <- c(results_dict[[\"test\"]], test)\n",
    "    results_dict[[\"norm\"]] <- c(results_dict[[\"norm\"]], norm)\n",
    "    results_dict[[\"disp\"]] <- c(results_dict[[\"disp\"]], method)\n",
    "    # Get total number features significant\n",
    "    results_dict[[\"Tot_Sig\"]] <- c(results_dict[[\"Tot_Sig\"]], nrow(ressig))\n",
    "    ################## TP GENES ######################\n",
    "    if (name %in% c(\"Gene\", \"Orig_Gene\")) {\n",
    "        ## See if early target genes are identified ##\n",
    "        results_dict[[\"TP_eartar\"]] <- c(results_dict[[\"TP_eartar\"]], \n",
    "                                         length(intersect(known_early_targets, rownames(ressig))))\n",
    "        ## See if expected genes are identified ##\n",
    "        if (celltype == \"MCF10A\") {\n",
    "            add=NA\n",
    "        } else {add=length(intersect(ct_known, rownames(ressig)))}\n",
    "        results_dict[[\"TP_ctknown\"]] <- c(results_dict[[\"TP_ctknown\"]], add)\n",
    "        results_dict[[\"TP_chip\"]] <- c(results_dict[[\"TP_chip\"]], NA)\n",
    "        fp_list = c(NA)\n",
    "    } else {\n",
    "        results_dict[[\"TP_eartar\"]] <- c(results_dict[[\"TP_eartar\"]], NA)\n",
    "        results_dict[[\"TP_ctknown\"]] <- c(results_dict[[\"TP_ctknown\"]], NA)\n",
    "    }\n",
    "    ################## TP & FP Bids ######################\n",
    "    ## See if the Bids match the ChIP+Motif Peaks OR where no ChIP peak is##\n",
    "    # get the FP comparison list\n",
    "        get_tn_nums <- function(TN_list) {\n",
    "            return(length(intersect(TN_list, rownames(ressig))))\n",
    "            }\n",
    "    if (name %in% c(\"Bid\", \"Orig_Bid\")) {\n",
    "        results_dict[[\"TP_chip\"]] <- c(results_dict[[\"TP_chip\"]], \n",
    "                                         length(intersect(chip, rownames(ressig))))\n",
    "        fp_list = as.numeric(lapply(TN[[celltype]][[\"Both\"]], get_tn_nums))\n",
    "    } else if (name == \"TSS\") {\n",
    "        results_dict[[\"TP_chip\"]] <- c(results_dict[[\"TP_chip\"]], \n",
    "                                         length(intersect(chip_tss, rownames(ressig))))\n",
    "        fp_list = as.numeric(lapply(TN[[celltype]][[\"TSS\"]], get_tn_nums))\n",
    "        ## See if the genes of the TSS bids are DE ## TODO:\n",
    "    } else if (name == \"NonTSS\") {\n",
    "        results_dict[[\"TP_chip\"]] <- c(results_dict[[\"TP_chip\"]], \n",
    "                                         length(intersect(chip_nontss, rownames(ressig))))\n",
    "        fp_list = as.numeric(lapply(TN[[celltype]][[\"NonTSS\"]], get_tn_nums))\n",
    "    }\n",
    "    results_dict[[\"FP_chip_mean\"]] <- c(results_dict[[\"FP_chip_mean\"]], mean(fp_list))\n",
    "    results_dict[[\"FP_chip_median\"]] <- c(results_dict[[\"FP_chip_median\"]], median(fp_list))\n",
    "    results_dict[[\"FP_chip_sd\"]] <- c(results_dict[[\"FP_chip_sd\"]], sd(fp_list))\n",
    "    return(results_dict)\n",
    "}"
   ]
  },
  {
   "cell_type": "code",
   "execution_count": 123,
   "id": "971a9ea5-e240-43aa-8bd3-f43b0e53e4cc",
   "metadata": {},
   "outputs": [
    {
     "data": {
      "text/html": [
       "31"
      ],
      "text/latex": [
       "31"
      ],
      "text/markdown": [
       "31"
      ],
      "text/plain": [
       "[1] 31"
      ]
     },
     "metadata": {},
     "output_type": "display_data"
    },
    {
     "data": {
      "text/html": [
       "31"
      ],
      "text/latex": [
       "31"
      ],
      "text/markdown": [
       "31"
      ],
      "text/plain": [
       "[1] 31"
      ]
     },
     "metadata": {},
     "output_type": "display_data"
    },
    {
     "data": {
      "text/html": [
       "<style>\n",
       ".list-inline {list-style: none; margin:0; padding: 0}\n",
       ".list-inline>li {display: inline-block}\n",
       ".list-inline>li:not(:last-child)::after {content: \"\\00b7\"; padding: 0 .5ex}\n",
       "</style>\n",
       "<ol class=list-inline><li>'LOC284080'</li><li>'LOC101927501'</li></ol>\n"
      ],
      "text/latex": [
       "\\begin{enumerate*}\n",
       "\\item 'LOC284080'\n",
       "\\item 'LOC101927501'\n",
       "\\end{enumerate*}\n"
      ],
      "text/markdown": [
       "1. 'LOC284080'\n",
       "2. 'LOC101927501'\n",
       "\n",
       "\n"
      ],
      "text/plain": [
       "[1] \"LOC284080\"    \"LOC101927501\""
      ]
     },
     "metadata": {},
     "output_type": "display_data"
    }
   ],
   "source": [
    "# only consider the genes that are found in the counts\n",
    "length(known_early_targets)\n",
    "length(intersect(known_early_targets, rownames(gene_fix_counts)))\n",
    "setdiff(ct_known, rownames(gene_fix_counts))\n",
    "ct_known <- intersect(rownames(gene_fix_counts), ct_known)\n",
    "# FAM212B=INKA2\n",
    "# KIAA0247=SUSD6\n",
    "# LOC101928100=KLRK1-AS1\n",
    "# C19orf82=ZNF561-AS1\n",
    "# C12orf5=TIGAR\n",
    "# SGK223=PRAG1\n",
    "# SMEK1=PPP4R3A\n",
    "# FAM198B=GASK1B\n",
    "# KIAA1683=IQCN"
   ]
  },
  {
   "cell_type": "code",
   "execution_count": 124,
   "id": "3de481e5-cf9d-4182-81f6-03f7d46f65e3",
   "metadata": {},
   "outputs": [
    {
     "data": {
      "text/html": [
       "14"
      ],
      "text/latex": [
       "14"
      ],
      "text/markdown": [
       "14"
      ],
      "text/plain": [
       "[1] 14"
      ]
     },
     "metadata": {},
     "output_type": "display_data"
    },
    {
     "data": {
      "text/html": [
       "<style>\n",
       ".list-inline {list-style: none; margin:0; padding: 0}\n",
       ".list-inline>li {display: inline-block}\n",
       ".list-inline>li:not(:last-child)::after {content: \"\\00b7\"; padding: 0 .5ex}\n",
       "</style>\n",
       "<ol class=list-inline><li>14</li><li>4</li></ol>\n"
      ],
      "text/latex": [
       "\\begin{enumerate*}\n",
       "\\item 14\n",
       "\\item 4\n",
       "\\end{enumerate*}\n"
      ],
      "text/markdown": [
       "1. 14\n",
       "2. 4\n",
       "\n",
       "\n"
      ],
      "text/plain": [
       "[1] 14  4"
      ]
     },
     "metadata": {},
     "output_type": "display_data"
    }
   ],
   "source": [
    "hk_genes <- c(\"ACTB\", \"GAPDH\", \"PGK1\", \"PPIA\", 'RPL13A', \"RPLP0\", \"B2M\", \n",
    "                                 \"YWHAZ\", \"SDHA\", \"TFRC\", \"GUSB\", \"HMBS\", \"HPRT1\", \"TBP\")\n",
    "length(hk_genes)\n",
    "gene_fix_hk_counts <- subset(gene_fix_counts, rownames(gene_fix_counts) %in% hk_genes)\n",
    "dim(gene_fix_hk_counts)"
   ]
  },
  {
   "cell_type": "code",
   "execution_count": 125,
   "id": "10180fd1-82db-43b8-9df4-c261bc6d408a",
   "metadata": {},
   "outputs": [
    {
     "name": "stdout",
     "output_type": "stream",
     "text": [
      "\n",
      " HCT116\n",
      "Orig Bid: removed 46067  Bid ( 120915 72.4 % kept)\n",
      "Fixed Bid: removed 76559  Bid ( 88043 53.5 % kept)\n",
      "Fixed TSS Bid: removed 2928  Bid ( 20275 87.4 % kept)\n",
      "Fixed nonTSS Bid: removed 73631  Bid ( 67768 47.9 % kept)\n",
      "Orig Gene: removed 6760  Gene ( 22129 76.6 % kept)\n",
      "Fixed Gene: removed 6856  Gene ( 22019 76.3 % kept)"
     ]
    },
    {
     "data": {
      "text/html": [
       "20289"
      ],
      "text/latex": [
       "20289"
      ],
      "text/markdown": [
       "20289"
      ],
      "text/plain": [
       "[1] 20289"
      ]
     },
     "metadata": {},
     "output_type": "display_data"
    }
   ],
   "source": [
    "### Filter Counts\n",
    "count_cutoff = 14\n",
    "cat(\"\\n\", celltype)\n",
    "# Bid\n",
    "old <- nrow(bid_counts)\n",
    "bid_counts = bid_counts[rowSums(bid_counts) > count_cutoff,]\n",
    "cat(\"\\nOrig Bid: removed\",old - nrow(bid_counts), \" Bid (\", \n",
    "   nrow(bid_counts), round(nrow(bid_counts)/old, 3)*100, \"% kept)\")\n",
    "# Bid Fixed\n",
    "old <- nrow(bid_fix_counts)\n",
    "bid_fix_counts = bid_fix_counts[rowSums(bid_fix_counts) > count_cutoff,]\n",
    "cat(\"\\nFixed Bid: removed\",old - nrow(bid_fix_counts), \" Bid (\", \n",
    "   nrow(bid_fix_counts), round(nrow(bid_fix_counts)/old, 3)*100, \"% kept)\")\n",
    "# TSS Bid\n",
    "old <- nrow(tss_bid_fix_counts)\n",
    "tss_bid_fix_counts = tss_bid_fix_counts[rowSums(tss_bid_fix_counts) > count_cutoff,]\n",
    "cat(\"\\nFixed TSS Bid: removed\",old - nrow(tss_bid_fix_counts), \" Bid (\", \n",
    "   nrow(tss_bid_fix_counts), round(nrow(tss_bid_fix_counts)/old, 3)*100, \"% kept)\")\n",
    "# NonTSS Bid\n",
    "old <- nrow(nontss_bid_fix_counts)\n",
    "nontss_bid_fix_counts = nontss_bid_fix_counts[rowSums(nontss_bid_fix_counts) > count_cutoff,]\n",
    "cat(\"\\nFixed nonTSS Bid: removed\",old - nrow(nontss_bid_fix_counts), \" Bid (\", \n",
    "   nrow(nontss_bid_fix_counts), round(nrow(nontss_bid_fix_counts)/old, 3)*100, \"% kept)\")\n",
    "# Orig Gene\n",
    "old <- nrow(gene_counts)\n",
    "gene_counts = gene_counts[rowSums(gene_counts) > count_cutoff,]\n",
    "cat(\"\\nOrig Gene: removed\",old - nrow(gene_counts), \" Gene (\", \n",
    "   nrow(gene_counts), round(nrow(gene_counts)/old, 3)*100, \"% kept)\")\n",
    "# Fixed Gene\n",
    "old <- nrow(gene_fix_counts)\n",
    "gene_fix_counts = gene_fix_counts[rowSums(gene_fix_counts) > count_cutoff,]\n",
    "cat(\"\\nFixed Gene: removed\",old - nrow(gene_fix_counts), \" Gene (\", \n",
    "   nrow(gene_fix_counts), round(nrow(gene_fix_counts)/old, 3)*100, \"% kept)\")\n",
    "# TSS bid + Fixed Gene\n",
    "gene_hk_tss_fix_counts <- rbind(tss_bid_fix_counts, gene_fix_hk_counts)\n",
    "nrow(gene_hk_tss_fix_counts)"
   ]
  },
  {
   "cell_type": "code",
   "execution_count": 126,
   "id": "e5b39dad-5a24-4527-a66e-2c207e05a758",
   "metadata": {},
   "outputs": [
    {
     "name": "stdout",
     "output_type": "stream",
     "text": [
      "Number of Bid TPs no longer considered for HCT116 : 411\n",
      "\tNumber of TSS Bid TPs no longer considered for HCT116 : 0\n",
      "\tNumber of NonTSSBid TPs no longer considered for HCT116 : 312\n",
      "Number of ET Genes no longer considered for HCT116 : 0\n",
      "Number of CT Genes no longer considered for HCT116 : 0"
     ]
    },
    {
     "data": {
      "text/html": [
       "1906"
      ],
      "text/latex": [
       "1906"
      ],
      "text/markdown": [
       "1906"
      ],
      "text/plain": [
       "[1] 1906"
      ]
     },
     "metadata": {},
     "output_type": "display_data"
    },
    {
     "data": {
      "text/html": [
       "<table class=\"dataframe\">\n",
       "<caption>A data.table: 1 × 14</caption>\n",
       "<thead>\n",
       "\t<tr><th scope=col>Celltype</th><th scope=col>Bid_TP</th><th scope=col>Bid_TP_filt</th><th scope=col>TSS_TP</th><th scope=col>TSS_TP_filt</th><th scope=col>NonTSS_TP</th><th scope=col>NonTSS_TP_filt</th><th scope=col>Bid_TN_filt</th><th scope=col>TSS_TN_filt</th><th scope=col>NonTSS_TN_filt</th><th scope=col>ET_TP</th><th scope=col>ET_TP_filt</th><th scope=col>CT_TP</th><th scope=col>CT_TP_filt</th></tr>\n",
       "\t<tr><th scope=col>&lt;chr&gt;</th><th scope=col>&lt;int&gt;</th><th scope=col>&lt;int&gt;</th><th scope=col>&lt;int&gt;</th><th scope=col>&lt;int&gt;</th><th scope=col>&lt;int&gt;</th><th scope=col>&lt;int&gt;</th><th scope=col>&lt;int&gt;</th><th scope=col>&lt;int&gt;</th><th scope=col>&lt;int&gt;</th><th scope=col>&lt;int&gt;</th><th scope=col>&lt;int&gt;</th><th scope=col>&lt;int&gt;</th><th scope=col>&lt;int&gt;</th></tr>\n",
       "</thead>\n",
       "<tbody>\n",
       "\t<tr><td>HCT116</td><td>2444</td><td>2033</td><td>127</td><td>127</td><td>2218</td><td>1906</td><td>2033</td><td>127</td><td>1906</td><td>31</td><td>31</td><td>105</td><td>105</td></tr>\n",
       "</tbody>\n",
       "</table>\n"
      ],
      "text/latex": [
       "A data.table: 1 × 14\n",
       "\\begin{tabular}{llllllllllllll}\n",
       " Celltype & Bid\\_TP & Bid\\_TP\\_filt & TSS\\_TP & TSS\\_TP\\_filt & NonTSS\\_TP & NonTSS\\_TP\\_filt & Bid\\_TN\\_filt & TSS\\_TN\\_filt & NonTSS\\_TN\\_filt & ET\\_TP & ET\\_TP\\_filt & CT\\_TP & CT\\_TP\\_filt\\\\\n",
       " <chr> & <int> & <int> & <int> & <int> & <int> & <int> & <int> & <int> & <int> & <int> & <int> & <int> & <int>\\\\\n",
       "\\hline\n",
       "\t HCT116 & 2444 & 2033 & 127 & 127 & 2218 & 1906 & 2033 & 127 & 1906 & 31 & 31 & 105 & 105\\\\\n",
       "\\end{tabular}\n"
      ],
      "text/markdown": [
       "\n",
       "A data.table: 1 × 14\n",
       "\n",
       "| Celltype &lt;chr&gt; | Bid_TP &lt;int&gt; | Bid_TP_filt &lt;int&gt; | TSS_TP &lt;int&gt; | TSS_TP_filt &lt;int&gt; | NonTSS_TP &lt;int&gt; | NonTSS_TP_filt &lt;int&gt; | Bid_TN_filt &lt;int&gt; | TSS_TN_filt &lt;int&gt; | NonTSS_TN_filt &lt;int&gt; | ET_TP &lt;int&gt; | ET_TP_filt &lt;int&gt; | CT_TP &lt;int&gt; | CT_TP_filt &lt;int&gt; |\n",
       "|---|---|---|---|---|---|---|---|---|---|---|---|---|---|\n",
       "| HCT116 | 2444 | 2033 | 127 | 127 | 2218 | 1906 | 2033 | 127 | 1906 | 31 | 31 | 105 | 105 |\n",
       "\n"
      ],
      "text/plain": [
       "  Celltype Bid_TP Bid_TP_filt TSS_TP TSS_TP_filt NonTSS_TP NonTSS_TP_filt\n",
       "1 HCT116   2444   2033        127    127         2218      1906          \n",
       "  Bid_TN_filt TSS_TN_filt NonTSS_TN_filt ET_TP ET_TP_filt CT_TP CT_TP_filt\n",
       "1 2033        127         1906           31    31         105   105       "
      ]
     },
     "metadata": {},
     "output_type": "display_data"
    }
   ],
   "source": [
    "# Get the number of TPs/Negatives lost\n",
    "bid_tp_lost <- setdiff(chip, rownames(bid_fix_counts))\n",
    "cat(\"Number of Bid TPs no longer considered for\", celltype, \":\", length(bid_tp_lost)) \n",
    "tss_bid_tp_lost <- setdiff(chip_tss, rownames(bid_fix_counts))\n",
    "cat(\"\\n\\tNumber of TSS Bid TPs no longer considered for\", celltype, \":\", length(tss_bid_tp_lost)) \n",
    "nontss_bid_tp_lost <- setdiff(chip_nontss, rownames(bid_fix_counts))\n",
    "cat(\"\\n\\tNumber of NonTSSBid TPs no longer considered for\", celltype, \":\", length(nontss_bid_tp_lost)) \n",
    "\n",
    "et_lost <- setdiff(known_early_targets, rownames(gene_fix_counts))\n",
    "cat(\"\\nNumber of ET Genes no longer considered for\", celltype, \":\", length(et_lost)) \n",
    "ct_lost <- setdiff(ct_known, rownames(gene_fix_counts))\n",
    "cat(\"\\nNumber of CT Genes no longer considered for\", celltype, \":\", length(ct_lost)) \n",
    "\n",
    "\n",
    "length(TN[[celltype]][[\"NonTSS\"]][[1]])\n",
    "\n",
    "df <- data.table(\"Celltype\"=celltype, \n",
    "                 \"Bid_TP\"=length(chip), \"Bid_TP_filt\"=length(chip)-length(bid_tp_lost), \n",
    "                 \"TSS_TP\"=length(chip_tss), \"TSS_TP_filt\"=length(chip_tss)-length(tss_bid_tp_lost), \n",
    "                 \"NonTSS_TP\"=length(chip_nontss), \"NonTSS_TP_filt\"=length(chip_nontss)-length(nontss_bid_tp_lost), \n",
    "                 \"Bid_TN_filt\"=length(TN[[celltype]][[\"TSS\"]][[1]])+length(TN[[celltype]][[\"NonTSS\"]][[1]]), \n",
    "                 \"TSS_TN_filt\"=length(TN[[celltype]][[\"TSS\"]][[1]]), \n",
    "                 \"NonTSS_TN_filt\"=length(TN[[celltype]][[\"NonTSS\"]][[1]]), \n",
    "                 \"ET_TP\"=length(known_early_targets), \"ET_TP_filt\"=length(known_early_targets)-length(et_lost), \n",
    "                 \"CT_TP\"=length(ct_known), \"CT_TP_filt\"=length(ct_known)-length(ct_lost))\n",
    "\n",
    "df"
   ]
  },
  {
   "cell_type": "code",
   "execution_count": 127,
   "id": "b8a61761-a156-4554-90d6-2407ccbdea78",
   "metadata": {},
   "outputs": [
    {
     "data": {
      "text/html": [
       "<table class=\"dataframe\">\n",
       "<caption>A data.frame: 4 × 3</caption>\n",
       "<thead>\n",
       "\t<tr><th scope=col>Name</th><th scope=col>Replicate</th><th scope=col>Treatment</th></tr>\n",
       "\t<tr><th scope=col>&lt;chr&gt;</th><th scope=col>&lt;fct&gt;</th><th scope=col>&lt;fct&gt;</th></tr>\n",
       "</thead>\n",
       "<tbody>\n",
       "\t<tr><td>HCT116_DMSO_R1</td><td>R1</td><td>DMSO</td></tr>\n",
       "\t<tr><td>HCT116_DMSO_R2</td><td>R2</td><td>DMSO</td></tr>\n",
       "\t<tr><td>HCT116_Nut_R1 </td><td>R1</td><td>Nut </td></tr>\n",
       "\t<tr><td>HCT116_Nut_R2 </td><td>R2</td><td>Nut </td></tr>\n",
       "</tbody>\n",
       "</table>\n"
      ],
      "text/latex": [
       "A data.frame: 4 × 3\n",
       "\\begin{tabular}{lll}\n",
       " Name & Replicate & Treatment\\\\\n",
       " <chr> & <fct> & <fct>\\\\\n",
       "\\hline\n",
       "\t HCT116\\_DMSO\\_R1 & R1 & DMSO\\\\\n",
       "\t HCT116\\_DMSO\\_R2 & R2 & DMSO\\\\\n",
       "\t HCT116\\_Nut\\_R1  & R1 & Nut \\\\\n",
       "\t HCT116\\_Nut\\_R2  & R2 & Nut \\\\\n",
       "\\end{tabular}\n"
      ],
      "text/markdown": [
       "\n",
       "A data.frame: 4 × 3\n",
       "\n",
       "| Name &lt;chr&gt; | Replicate &lt;fct&gt; | Treatment &lt;fct&gt; |\n",
       "|---|---|---|\n",
       "| HCT116_DMSO_R1 | R1 | DMSO |\n",
       "| HCT116_DMSO_R2 | R2 | DMSO |\n",
       "| HCT116_Nut_R1  | R1 | Nut  |\n",
       "| HCT116_Nut_R2  | R2 | Nut  |\n",
       "\n"
      ],
      "text/plain": [
       "  Name           Replicate Treatment\n",
       "1 HCT116_DMSO_R1 R1        DMSO     \n",
       "2 HCT116_DMSO_R2 R2        DMSO     \n",
       "3 HCT116_Nut_R1  R1        Nut      \n",
       "4 HCT116_Nut_R2  R2        Nut      "
      ]
     },
     "metadata": {},
     "output_type": "display_data"
    }
   ],
   "source": [
    "design <- get_metadata(bid_fix_counts)\n",
    "design"
   ]
  },
  {
   "cell_type": "code",
   "execution_count": 128,
   "id": "428e235b-c2d6-4221-a23a-bce6afc4607b",
   "metadata": {},
   "outputs": [
    {
     "data": {
      "image/png": "[encoded data removed]",
      "text/plain": [
       "plot without title"
      ]
     },
     "metadata": {
      "image/png": {
       "height": 240,
       "width": 1800
      }
     },
     "output_type": "display_data"
    }
   ],
   "source": [
    "\n",
    "p1 <- plotPCA_hope_meta(bid_counts, metadata=design, ntop=500) + ggtitle(paste0(celltype,\": Orig Bid\"))\n",
    "p2 <- plotPCA_hope_meta(bid_fix_counts, metadata=design, ntop=500) + ggtitle(paste0(celltype,\": Fixed Bid\"))\n",
    "p3 <- plotPCA_hope_meta(gene_counts, metadata=design, ntop=500) + ggtitle(paste0(celltype,\": Orig Gene\"))\n",
    "p4 <- plotPCA_hope_meta(gene_fix_counts, metadata=design, ntop=500) + ggtitle(paste0(celltype,\": Fixed Gene\"))\n",
    "p5 <- plotPCA_hope_meta(tss_bid_fix_counts, metadata=design, ntop=500) + ggtitle(paste0(celltype,\": Fixed TSS Bid\"))\n",
    "p6 <- plotPCA_hope_meta(nontss_bid_fix_counts, metadata=design, ntop=500) + ggtitle(paste0(celltype,\": Fixed nonTSS Bid\"))\n",
    "options(repr.plot.height = 4, repr.plot.width = 30)\n",
    "plot_grid(p1, p2, p3, p4, p5, p6, nrow=1)"
   ]
  },
  {
   "cell_type": "markdown",
   "id": "14e8b08e-592e-4483-9f99-efba4359cfec",
   "metadata": {},
   "source": [
    "## 1. Run DESeq2"
   ]
  },
  {
   "cell_type": "code",
   "execution_count": 129,
   "id": "74722f37-b1c8-4ba1-9e8a-df2561f45958",
   "metadata": {},
   "outputs": [],
   "source": [
    "dds_bid <- DESeqDataSetFromMatrix(countData = bid_counts, colData = design, design = ~ Treatment+Replicate)\n",
    "dds_bid_fix <- DESeqDataSetFromMatrix(countData = bid_fix_counts, colData = design, design = ~ Treatment+Replicate)\n",
    "dds_tss_bid_fix <- DESeqDataSetFromMatrix(countData = tss_bid_fix_counts, colData = design, design = ~ Treatment+Replicate)\n",
    "dds_nontss_bid_fix <- DESeqDataSetFromMatrix(countData = nontss_bid_fix_counts, colData = design, design = ~ Treatment+Replicate)\n",
    "dds_gene <- DESeqDataSetFromMatrix(countData = gene_counts, colData = design, design = ~ Treatment+Replicate)\n",
    "dds_gene_fix <- DESeqDataSetFromMatrix(countData = gene_fix_counts, colData = design, design = ~ Treatment+Replicate)"
   ]
  },
  {
   "cell_type": "code",
   "execution_count": 130,
   "id": "b6b4806c-946d-4423-a89d-4fa6493ec7f4",
   "metadata": {},
   "outputs": [
    {
     "data": {
      "text/html": [
       "14"
      ],
      "text/latex": [
       "14"
      ],
      "text/markdown": [
       "14"
      ],
      "text/plain": [
       "[1] 14"
      ]
     },
     "metadata": {},
     "output_type": "display_data"
    },
    {
     "data": {
      "text/html": [
       "14"
      ],
      "text/latex": [
       "14"
      ],
      "text/markdown": [
       "14"
      ],
      "text/plain": [
       "[1] 14"
      ]
     },
     "metadata": {},
     "output_type": "display_data"
    },
    {
     "data": {
      "text/html": [
       "14"
      ],
      "text/latex": [
       "14"
      ],
      "text/markdown": [
       "14"
      ],
      "text/plain": [
       "[1] 14"
      ]
     },
     "metadata": {},
     "output_type": "display_data"
    }
   ],
   "source": [
    "isControl_fix <- which(rownames(gene_fix_counts) %in% hk_genes)\n",
    "isControl <- which(rownames(gene_counts) %in% hk_genes)\n",
    "length(hk_genes)\n",
    "gene_hk_counts <- gene_counts[isControl,]\n",
    "gene_fix_hk_counts <- gene_fix_counts[isControl_fix,]\n",
    "length(intersect(rownames(gene_fix_hk_counts), hk_genes))\n",
    "length(intersect(rownames(gene_hk_counts), hk_genes))"
   ]
  },
  {
   "cell_type": "markdown",
   "id": "872cbeae-0cce-4893-b820-a75d628c8282",
   "metadata": {},
   "source": [
    "### A. Size Factors\n",
    "Use the control genes"
   ]
  },
  {
   "cell_type": "code",
   "execution_count": 131,
   "id": "ba2743d4-fbaa-4684-bd1d-dc3bd0fb0a4e",
   "metadata": {},
   "outputs": [],
   "source": [
    "## Ratio\n",
    "dds_gene_fix_rat = estimateSizeFactors(dds_gene_fix, type=\"ratio\", controlGenes=isControl_fix)\n",
    "dds_bid_fix_rat = dds_bid_fix\n",
    "dds_tss_fix_rat = dds_tss_bid_fix\n",
    "dds_nontss_fix_rat = dds_nontss_bid_fix\n",
    "sizeFactors(dds_bid_fix_rat) <- sizeFactors(dds_gene_fix_rat)\n",
    "sizeFactors(dds_tss_fix_rat) <- sizeFactors(dds_gene_fix_rat)\n",
    "sizeFactors(dds_nontss_fix_rat) <- sizeFactors(dds_gene_fix_rat)\n",
    "\n",
    "#### Nonfixed counts\n",
    "dds_gene = estimateSizeFactors(dds_gene, type=\"ratio\", controlGenes=isControl)\n",
    "sizeFactors(dds_bid) <- sizeFactors(dds_gene)"
   ]
  },
  {
   "cell_type": "code",
   "execution_count": 132,
   "id": "227fbf56-db2b-44ff-829e-0815c90b31bb",
   "metadata": {},
   "outputs": [],
   "source": [
    "## Poscounts\n",
    "dds_gene_fix_pc = estimateSizeFactors(dds_gene_fix, type=\"poscounts\", controlGenes=isControl_fix)\n",
    "dds_bid_fix_pc = dds_bid_fix\n",
    "dds_tss_fix_pc = dds_tss_bid_fix\n",
    "dds_nontss_fix_pc = dds_nontss_bid_fix\n",
    "sizeFactors(dds_bid_fix_pc) <- sizeFactors(dds_gene_fix_pc)\n",
    "sizeFactors(dds_tss_fix_pc) <- sizeFactors(dds_gene_fix_pc)\n",
    "sizeFactors(dds_nontss_fix_pc) <- sizeFactors(dds_gene_fix_pc)"
   ]
  },
  {
   "cell_type": "code",
   "execution_count": 133,
   "id": "f6a4f648-e896-4169-a5fd-740ab3497cd6",
   "metadata": {},
   "outputs": [],
   "source": [
    "## Iter\n",
    "dds_gene_fix_iter = estimateSizeFactors(dds_gene_fix, type=\"iterate\", controlGenes=isControl_fix)\n",
    "dds_bid_fix_iter = dds_bid_fix\n",
    "dds_tss_fix_iter = dds_tss_bid_fix\n",
    "dds_nontss_fix_iter = dds_nontss_bid_fix\n",
    "sizeFactors(dds_bid_fix_iter) <- sizeFactors(dds_gene_fix_iter)\n",
    "sizeFactors(dds_tss_fix_iter) <- sizeFactors(dds_gene_fix_iter)\n",
    "sizeFactors(dds_nontss_fix_iter) <- sizeFactors(dds_gene_fix_iter)"
   ]
  },
  {
   "cell_type": "code",
   "execution_count": 134,
   "id": "4222ec3b-e89b-4886-9f7b-bac6329dbf9a",
   "metadata": {},
   "outputs": [],
   "source": [
    "# remove the original\n",
    "rm(dds_bid_fix)\n",
    "rm(dds_tss_bid_fix)\n",
    "rm(dds_nontss_bid_fix)\n",
    "rm(dds_gene_fix)"
   ]
  },
  {
   "cell_type": "code",
   "execution_count": 135,
   "id": "c7cfd856-69bb-4d4e-ae40-386b3a9c1011",
   "metadata": {},
   "outputs": [
    {
     "data": {
      "image/png": "[encoded data removed]",
      "text/plain": [
       "plot without title"
      ]
     },
     "metadata": {
      "image/png": {
       "height": 300,
       "width": 1200
      }
     },
     "output_type": "display_data"
    },
    {
     "data": {
      "image/png": "[encoded data removed]",
      "text/plain": [
       "plot without title"
      ]
     },
     "metadata": {
      "image/png": {
       "height": 300,
       "width": 1200
      }
     },
     "output_type": "display_data"
    },
    {
     "data": {
      "image/png": "[encoded data removed]",
      "text/plain": [
       "plot without title"
      ]
     },
     "metadata": {
      "image/png": {
       "height": 300,
       "width": 1200
      }
     },
     "output_type": "display_data"
    }
   ],
   "source": [
    "options(repr.plot.width=20, repr.plot.height=5)\n",
    "# Ratio\n",
    "vsd1 <- vst(dds_gene_fix_rat, blind = FALSE, fitType='local')\n",
    "vsd2 <- vst(dds_bid_fix_rat, blind = FALSE, fitType='local')\n",
    "vsd3 <- vst(dds_tss_fix_rat, blind = FALSE, fitType='local')\n",
    "vsd4 <- vst(dds_nontss_fix_rat, blind = FALSE, fitType='local')\n",
    "p1 <- plotPCA(vsd1, intgroup = c(\"Treatment\")) + ggtitle(\"Gene Ratio Normalization\")\n",
    "p2 <- plotPCA(vsd2, intgroup = c(\"Treatment\")) + ggtitle(\"Bid Ratio Normalization\")\n",
    "p3 <- plotPCA(vsd3, intgroup = c(\"Treatment\")) + ggtitle(\"TSS Ratio Normalization\")\n",
    "p4 <- plotPCA(vsd4, intgroup = c(\"Treatment\")) + ggtitle(\"nonTSS Ratio Normalization\")\n",
    "plot_grid(p1, p2, p3, p4, nrow=1)\n",
    "# Poscounts\n",
    "vsd1 <- vst(dds_gene_fix_pc, blind = FALSE, fitType='local')\n",
    "vsd2 <- vst(dds_bid_fix_pc, blind = FALSE, fitType='local')\n",
    "vsd3 <- vst(dds_tss_fix_pc, blind = FALSE, fitType='local')\n",
    "vsd4 <- vst(dds_nontss_fix_pc, blind = FALSE, fitType='local')\n",
    "p1 <- plotPCA(vsd1, intgroup = c(\"Treatment\")) + ggtitle(\"Gene Poscounts Normalization\")\n",
    "p2 <- plotPCA(vsd2, intgroup = c(\"Treatment\")) + ggtitle(\"Bid Poscounts Normalization\")\n",
    "p3 <- plotPCA(vsd3, intgroup = c(\"Treatment\")) + ggtitle(\"TSS Poscounts Normalization\")\n",
    "p4 <- plotPCA(vsd4, intgroup = c(\"Treatment\")) + ggtitle(\"nonTSS Poscounts Normalization\")\n",
    "plot_grid(p1, p2, p3, p4, nrow=1)\n",
    "# Iterative\n",
    "vsd1 <- vst(dds_gene_fix_iter, blind = FALSE, fitType='local')\n",
    "vsd2 <- vst(dds_bid_fix_iter, blind = FALSE, fitType='local')\n",
    "vsd3 <- vst(dds_tss_fix_iter, blind = FALSE, fitType='local')\n",
    "vsd4 <- vst(dds_nontss_fix_iter, blind = FALSE, fitType='local')\n",
    "p1 <- plotPCA(vsd1, intgroup = c(\"Treatment\")) + ggtitle(\"Gene Iterative Normalization)\")\n",
    "p2 <- plotPCA(vsd2, intgroup = c(\"Treatment\")) + ggtitle(\"Bid Iterative Normalization\")\n",
    "p3 <- plotPCA(vsd3, intgroup = c(\"Treatment\")) + ggtitle(\"TSS Iterative Normalization\")\n",
    "p4 <- plotPCA(vsd4, intgroup = c(\"Treatment\")) + ggtitle(\"nonTSS Iterative Normalization\")\n",
    "plot_grid(p1, p2, p3, p4, nrow=1)"
   ]
  },
  {
   "cell_type": "markdown",
   "id": "ce5bbd3c-d7cb-4968-ab02-f3c381dd26e7",
   "metadata": {},
   "source": [
    "### B. Estimate Dispersions"
   ]
  },
  {
   "cell_type": "code",
   "execution_count": 136,
   "id": "3ab13d57-5678-4e7d-9f41-3f0bf57ce568",
   "metadata": {},
   "outputs": [
    {
     "name": "stderr",
     "output_type": "stream",
     "text": [
      "gene-wise dispersion estimates\n",
      "\n",
      "mean-dispersion relationship\n",
      "\n",
      "final dispersion estimates\n",
      "\n",
      "gene-wise dispersion estimates\n",
      "\n",
      "mean-dispersion relationship\n",
      "\n",
      "final dispersion estimates\n",
      "\n",
      "gene-wise dispersion estimates\n",
      "\n",
      "mean-dispersion relationship\n",
      "\n",
      "final dispersion estimates\n",
      "\n",
      "gene-wise dispersion estimates\n",
      "\n",
      "mean-dispersion relationship\n",
      "\n",
      "final dispersion estimates\n",
      "\n",
      "gene-wise dispersion estimates\n",
      "\n",
      "mean-dispersion relationship\n",
      "\n",
      "-- note: fitType='parametric', but the dispersion trend was not well captured by the\n",
      "   function: y = a/x + b, and a local regression fit was automatically substituted.\n",
      "   specify fitType='local' or 'mean' to avoid this message next time.\n",
      "\n",
      "final dispersion estimates\n",
      "\n",
      "gene-wise dispersion estimates\n",
      "\n",
      "mean-dispersion relationship\n",
      "\n",
      "final dispersion estimates\n",
      "\n",
      "gene-wise dispersion estimates\n",
      "\n",
      "mean-dispersion relationship\n",
      "\n",
      "final dispersion estimates\n",
      "\n",
      "gene-wise dispersion estimates\n",
      "\n",
      "mean-dispersion relationship\n",
      "\n",
      "final dispersion estimates\n",
      "\n",
      "gene-wise dispersion estimates\n",
      "\n",
      "mean-dispersion relationship\n",
      "\n",
      "final dispersion estimates\n",
      "\n",
      "gene-wise dispersion estimates\n",
      "\n",
      "mean-dispersion relationship\n",
      "\n",
      "final dispersion estimates\n",
      "\n",
      "gene-wise dispersion estimates\n",
      "\n",
      "mean-dispersion relationship\n",
      "\n",
      "final dispersion estimates\n",
      "\n",
      "gene-wise dispersion estimates\n",
      "\n",
      "mean-dispersion relationship\n",
      "\n",
      "final dispersion estimates\n",
      "\n",
      "gene-wise dispersion estimates\n",
      "\n",
      "mean-dispersion relationship\n",
      "\n",
      "final dispersion estimates\n",
      "\n",
      "gene-wise dispersion estimates\n",
      "\n",
      "mean-dispersion relationship\n",
      "\n",
      "final dispersion estimates\n",
      "\n"
     ]
    }
   ],
   "source": [
    "## Ratio\n",
    "dds_gene_fix_rat_mn = estimateDispersions(dds_gene_fix_rat, fitType=\"mean\")\n",
    "dds_gene_fix_rat_par = estimateDispersions(dds_gene_fix_rat, fitType=\"parametric\")\n",
    "dds_gene_fix_rat = estimateDispersions(dds_gene_fix_rat, fitType=\"local\")\n",
    "dds_bid_fix_rat_mn = estimateDispersions(dds_bid_fix_rat, fitType=\"mean\")\n",
    "dds_bid_fix_rat_par = estimateDispersions(dds_bid_fix_rat, fitType=\"parametric\")\n",
    "dds_bid_fix_rat = estimateDispersions(dds_bid_fix_rat, fitType=\"local\")\n",
    "dds_tss_fix_rat_mn = estimateDispersions(dds_tss_fix_rat, fitType=\"mean\")\n",
    "dds_tss_fix_rat_par = estimateDispersions(dds_tss_fix_rat, fitType=\"parametric\")\n",
    "dds_tss_fix_rat = estimateDispersions(dds_tss_fix_rat, fitType=\"local\")\n",
    "dds_nontss_fix_rat_mn = estimateDispersions(dds_nontss_fix_rat, fitType=\"mean\")\n",
    "dds_nontss_fix_rat_par = estimateDispersions(dds_nontss_fix_rat, fitType=\"parametric\")\n",
    "dds_nontss_fix_rat = estimateDispersions(dds_nontss_fix_rat, fitType=\"local\")\n",
    "\n",
    "\n",
    "#### Nonfixed\n",
    "dds_gene = estimateDispersions(dds_gene, fitType=\"local\")\n",
    "dds_bid = estimateDispersions(dds_bid, fitType=\"local\")"
   ]
  },
  {
   "cell_type": "code",
   "execution_count": 137,
   "id": "29b7a457-6b11-4676-801a-2b496f857510",
   "metadata": {},
   "outputs": [
    {
     "name": "stderr",
     "output_type": "stream",
     "text": [
      "gene-wise dispersion estimates\n",
      "\n",
      "mean-dispersion relationship\n",
      "\n",
      "final dispersion estimates\n",
      "\n",
      "gene-wise dispersion estimates\n",
      "\n",
      "mean-dispersion relationship\n",
      "\n",
      "final dispersion estimates\n",
      "\n",
      "gene-wise dispersion estimates\n",
      "\n",
      "mean-dispersion relationship\n",
      "\n",
      "final dispersion estimates\n",
      "\n",
      "gene-wise dispersion estimates\n",
      "\n",
      "mean-dispersion relationship\n",
      "\n",
      "final dispersion estimates\n",
      "\n",
      "gene-wise dispersion estimates\n",
      "\n",
      "mean-dispersion relationship\n",
      "\n",
      "final dispersion estimates\n",
      "\n",
      "gene-wise dispersion estimates\n",
      "\n",
      "mean-dispersion relationship\n",
      "\n",
      "final dispersion estimates\n",
      "\n",
      "gene-wise dispersion estimates\n",
      "\n",
      "mean-dispersion relationship\n",
      "\n",
      "final dispersion estimates\n",
      "\n",
      "gene-wise dispersion estimates\n",
      "\n",
      "mean-dispersion relationship\n",
      "\n",
      "final dispersion estimates\n",
      "\n",
      "gene-wise dispersion estimates\n",
      "\n",
      "mean-dispersion relationship\n",
      "\n",
      "final dispersion estimates\n",
      "\n",
      "gene-wise dispersion estimates\n",
      "\n",
      "mean-dispersion relationship\n",
      "\n",
      "final dispersion estimates\n",
      "\n",
      "gene-wise dispersion estimates\n",
      "\n",
      "mean-dispersion relationship\n",
      "\n",
      "final dispersion estimates\n",
      "\n",
      "gene-wise dispersion estimates\n",
      "\n",
      "mean-dispersion relationship\n",
      "\n",
      "final dispersion estimates\n",
      "\n"
     ]
    }
   ],
   "source": [
    "## Poscounts\n",
    "dds_gene_fix_pc_mn = estimateDispersions(dds_gene_fix_pc, fitType=\"mean\")\n",
    "dds_gene_fix_pc_par = estimateDispersions(dds_gene_fix_pc, fitType=\"parametric\")\n",
    "dds_gene_fix_pc = estimateDispersions(dds_gene_fix_pc, fitType=\"local\")\n",
    "dds_bid_fix_pc_mn = estimateDispersions(dds_bid_fix_pc, fitType=\"mean\")\n",
    "dds_bid_fix_pc_par = estimateDispersions(dds_bid_fix_pc, fitType=\"parametric\")\n",
    "dds_bid_fix_pc = estimateDispersions(dds_bid_fix_pc, fitType=\"local\")\n",
    "dds_tss_fix_pc_mn = estimateDispersions(dds_tss_fix_pc, fitType=\"mean\")\n",
    "dds_tss_fix_pc_par = estimateDispersions(dds_tss_fix_pc, fitType=\"parametric\")\n",
    "dds_tss_fix_pc = estimateDispersions(dds_tss_fix_pc, fitType=\"local\")\n",
    "dds_nontss_fix_pc_mn = estimateDispersions(dds_nontss_fix_pc, fitType=\"mean\")\n",
    "dds_nontss_fix_pc_par = estimateDispersions(dds_nontss_fix_pc, fitType=\"parametric\")\n",
    "dds_nontss_fix_pc = estimateDispersions(dds_nontss_fix_pc, fitType=\"local\")\n"
   ]
  },
  {
   "cell_type": "code",
   "execution_count": 138,
   "id": "b1fd8b45-21f8-4696-becc-fad4210ff490",
   "metadata": {},
   "outputs": [
    {
     "name": "stderr",
     "output_type": "stream",
     "text": [
      "gene-wise dispersion estimates\n",
      "\n",
      "mean-dispersion relationship\n",
      "\n",
      "final dispersion estimates\n",
      "\n",
      "gene-wise dispersion estimates\n",
      "\n",
      "mean-dispersion relationship\n",
      "\n",
      "final dispersion estimates\n",
      "\n",
      "gene-wise dispersion estimates\n",
      "\n",
      "mean-dispersion relationship\n",
      "\n",
      "final dispersion estimates\n",
      "\n",
      "gene-wise dispersion estimates\n",
      "\n",
      "mean-dispersion relationship\n",
      "\n",
      "final dispersion estimates\n",
      "\n",
      "gene-wise dispersion estimates\n",
      "\n",
      "mean-dispersion relationship\n",
      "\n",
      "final dispersion estimates\n",
      "\n",
      "gene-wise dispersion estimates\n",
      "\n",
      "mean-dispersion relationship\n",
      "\n",
      "final dispersion estimates\n",
      "\n",
      "gene-wise dispersion estimates\n",
      "\n",
      "mean-dispersion relationship\n",
      "\n",
      "final dispersion estimates\n",
      "\n",
      "gene-wise dispersion estimates\n",
      "\n",
      "mean-dispersion relationship\n",
      "\n",
      "final dispersion estimates\n",
      "\n",
      "gene-wise dispersion estimates\n",
      "\n",
      "mean-dispersion relationship\n",
      "\n",
      "final dispersion estimates\n",
      "\n",
      "gene-wise dispersion estimates\n",
      "\n",
      "mean-dispersion relationship\n",
      "\n",
      "final dispersion estimates\n",
      "\n",
      "gene-wise dispersion estimates\n",
      "\n",
      "mean-dispersion relationship\n",
      "\n",
      "final dispersion estimates\n",
      "\n",
      "gene-wise dispersion estimates\n",
      "\n",
      "mean-dispersion relationship\n",
      "\n",
      "final dispersion estimates\n",
      "\n"
     ]
    }
   ],
   "source": [
    "## Iterative\n",
    "dds_gene_fix_iter_mn = estimateDispersions(dds_gene_fix_iter, fitType=\"mean\")\n",
    "dds_gene_fix_iter_par = estimateDispersions(dds_gene_fix_iter, fitType=\"parametric\")\n",
    "dds_gene_fix_iter = estimateDispersions(dds_gene_fix_iter, fitType=\"local\")\n",
    "dds_bid_fix_iter_mn = estimateDispersions(dds_bid_fix_iter, fitType=\"mean\")\n",
    "dds_bid_fix_iter_par = estimateDispersions(dds_bid_fix_iter, fitType=\"parametric\")\n",
    "dds_bid_fix_iter = estimateDispersions(dds_bid_fix_iter, fitType=\"local\")\n",
    "dds_tss_fix_iter_mn = estimateDispersions(dds_tss_fix_iter, fitType=\"mean\")\n",
    "dds_tss_fix_iter_par = estimateDispersions(dds_tss_fix_iter, fitType=\"parametric\")\n",
    "dds_tss_fix_iter = estimateDispersions(dds_tss_fix_iter, fitType=\"local\")\n",
    "dds_nontss_fix_iter_mn = estimateDispersions(dds_nontss_fix_iter, fitType=\"mean\")\n",
    "dds_nontss_fix_iter_par = estimateDispersions(dds_nontss_fix_iter, fitType=\"parametric\")\n",
    "dds_nontss_fix_iter = estimateDispersions(dds_nontss_fix_iter, fitType=\"local\")\n"
   ]
  },
  {
   "cell_type": "markdown",
   "id": "506d2793-c446-4ab6-b341-ac6a0137bafe",
   "metadata": {},
   "source": [
    "### C. Run Significance Tests"
   ]
  },
  {
   "cell_type": "code",
   "execution_count": 139,
   "id": "023f4718-45cc-43d7-8543-eee478f546a8",
   "metadata": {},
   "outputs": [],
   "source": [
    "## RATIO ##\n",
    "dds_gene_fix_rat_mn_Wd <- nbinomWaldTest(dds_gene_fix_rat_mn)\n",
    "dds_gene_fix_rat_mn_LRT <- nbinomLRT(dds_gene_fix_rat_mn, reduced=~Replicate)\n",
    "dds_gene_fix_rat_par_Wd <- nbinomWaldTest(dds_gene_fix_rat_par)\n",
    "dds_gene_fix_rat_par_LRT <- nbinomLRT(dds_gene_fix_rat_par, reduced=~Replicate)\n",
    "dds_gene_fix_rat_Wd <- nbinomWaldTest(dds_gene_fix_rat)\n",
    "dds_gene_fix_rat_LRT <- nbinomLRT(dds_gene_fix_rat, reduced=~Replicate)\n",
    "\n",
    "dds_bid_fix_rat_mn_Wd <- nbinomWaldTest(dds_bid_fix_rat_mn)\n",
    "dds_bid_fix_rat_mn_LRT <- nbinomLRT(dds_bid_fix_rat_mn, reduced=~Replicate)\n",
    "dds_bid_fix_rat_par_Wd <- nbinomWaldTest(dds_bid_fix_rat_par)\n",
    "dds_bid_fix_rat_par_LRT <- nbinomLRT(dds_bid_fix_rat_par, reduced=~Replicate)\n",
    "dds_bid_fix_rat_Wd <- nbinomWaldTest(dds_bid_fix_rat)\n",
    "dds_bid_fix_rat_LRT <- nbinomLRT(dds_bid_fix_rat, reduced=~Replicate)\n",
    "\n",
    "dds_tss_fix_rat_mn_Wd <- nbinomWaldTest(dds_tss_fix_rat_mn)\n",
    "dds_tss_fix_rat_mn_LRT <- nbinomLRT(dds_tss_fix_rat_mn, reduced=~Replicate)\n",
    "dds_tss_fix_rat_par_Wd <- nbinomWaldTest(dds_tss_fix_rat_par)\n",
    "dds_tss_fix_rat_par_LRT <- nbinomLRT(dds_tss_fix_rat_par, reduced=~Replicate)\n",
    "dds_tss_fix_rat_Wd <- nbinomWaldTest(dds_tss_fix_rat)\n",
    "dds_tss_fix_rat_LRT <- nbinomLRT(dds_tss_fix_rat, reduced=~Replicate)\n",
    "\n",
    "dds_nontss_fix_rat_mn_Wd <- nbinomWaldTest(dds_nontss_fix_rat_mn)\n",
    "dds_nontss_fix_rat_mn_LRT <- nbinomLRT(dds_nontss_fix_rat_mn, reduced=~Replicate)\n",
    "dds_nontss_fix_rat_par_Wd <- nbinomWaldTest(dds_nontss_fix_rat_par)\n",
    "dds_nontss_fix_rat_par_LRT <- nbinomLRT(dds_nontss_fix_rat_par, reduced=~Replicate)\n",
    "dds_nontss_fix_rat_Wd <- nbinomWaldTest(dds_nontss_fix_rat)\n",
    "dds_nontss_fix_rat_LRT <- nbinomLRT(dds_nontss_fix_rat, reduced=~Replicate)\n",
    "\n",
    "#### Nonfixed\n",
    "dds_gene = nbinomWaldTest(dds_gene)\n",
    "dds_bid = nbinomWaldTest(dds_bid)"
   ]
  },
  {
   "cell_type": "code",
   "execution_count": 140,
   "id": "e47a3ccf-f200-4690-a34a-bfcc47da6680",
   "metadata": {},
   "outputs": [],
   "source": [
    "## Poscounts  ##\n",
    "dds_gene_fix_pc_mn_Wd <- nbinomWaldTest(dds_gene_fix_pc_mn)\n",
    "dds_gene_fix_pc_mn_LRT <- nbinomLRT(dds_gene_fix_pc_mn, reduced=~Replicate)\n",
    "dds_gene_fix_pc_par_Wd <- nbinomWaldTest(dds_gene_fix_pc_par)\n",
    "dds_gene_fix_pc_par_LRT <- nbinomLRT(dds_gene_fix_pc_par, reduced=~Replicate)\n",
    "dds_gene_fix_pc_Wd <- nbinomWaldTest(dds_gene_fix_pc)\n",
    "dds_gene_fix_pc_LRT <- nbinomLRT(dds_gene_fix_pc, reduced=~Replicate)\n",
    "\n",
    "dds_bid_fix_pc_mn_Wd <- nbinomWaldTest(dds_bid_fix_pc_mn)\n",
    "dds_bid_fix_pc_mn_LRT <- nbinomLRT(dds_bid_fix_pc_mn, reduced=~Replicate)\n",
    "dds_bid_fix_pc_par_Wd <- nbinomWaldTest(dds_bid_fix_pc_par)\n",
    "dds_bid_fix_pc_par_LRT <- nbinomLRT(dds_bid_fix_pc_par, reduced=~Replicate)\n",
    "dds_bid_fix_pc_Wd <- nbinomWaldTest(dds_bid_fix_pc)\n",
    "dds_bid_fix_pc_LRT <- nbinomLRT(dds_bid_fix_pc, reduced=~Replicate)\n",
    "\n",
    "dds_tss_fix_pc_mn_Wd <- nbinomWaldTest(dds_tss_fix_pc_mn)\n",
    "dds_tss_fix_pc_mn_LRT <- nbinomLRT(dds_tss_fix_pc_mn, reduced=~Replicate)\n",
    "dds_tss_fix_pc_par_Wd <- nbinomWaldTest(dds_tss_fix_pc_par)\n",
    "dds_tss_fix_pc_par_LRT <- nbinomLRT(dds_tss_fix_pc_par, reduced=~Replicate)\n",
    "dds_tss_fix_pc_Wd <- nbinomWaldTest(dds_tss_fix_pc)\n",
    "dds_tss_fix_pc_LRT <- nbinomLRT(dds_tss_fix_pc, reduced=~Replicate)\n",
    "\n",
    "dds_nontss_fix_pc_mn_Wd <- nbinomWaldTest(dds_nontss_fix_pc_mn)\n",
    "dds_nontss_fix_pc_mn_LRT <- nbinomLRT(dds_nontss_fix_pc_mn, reduced=~Replicate)\n",
    "dds_nontss_fix_pc_par_Wd <- nbinomWaldTest(dds_nontss_fix_pc_par)\n",
    "dds_nontss_fix_pc_par_LRT <- nbinomLRT(dds_nontss_fix_pc_par, reduced=~Replicate)\n",
    "dds_nontss_fix_pc_Wd <- nbinomWaldTest(dds_nontss_fix_pc)\n",
    "dds_nontss_fix_pc_LRT <- nbinomLRT(dds_nontss_fix_pc, reduced=~Replicate)\n"
   ]
  },
  {
   "cell_type": "code",
   "execution_count": 141,
   "id": "37bb2439-f884-4f41-a551-b51e98775f0a",
   "metadata": {},
   "outputs": [],
   "source": [
    "## Iterative  ##\n",
    "dds_gene_fix_iter_mn_Wd <- nbinomWaldTest(dds_gene_fix_iter_mn)\n",
    "dds_gene_fix_iter_mn_LRT <- nbinomLRT(dds_gene_fix_iter_mn, reduced=~Replicate)\n",
    "dds_gene_fix_iter_par_Wd <- nbinomWaldTest(dds_gene_fix_iter_par)\n",
    "dds_gene_fix_iter_par_LRT <- nbinomLRT(dds_gene_fix_iter_par, reduced=~Replicate)\n",
    "dds_gene_fix_iter_Wd <- nbinomWaldTest(dds_gene_fix_iter)\n",
    "dds_gene_fix_iter_LRT <- nbinomLRT(dds_gene_fix_iter, reduced=~Replicate)\n",
    "\n",
    "dds_bid_fix_iter_mn_Wd <- nbinomWaldTest(dds_bid_fix_iter_mn)\n",
    "dds_bid_fix_iter_mn_LRT <- nbinomLRT(dds_bid_fix_iter_mn, reduced=~Replicate)\n",
    "dds_bid_fix_iter_par_Wd <- nbinomWaldTest(dds_bid_fix_iter_par)\n",
    "dds_bid_fix_iter_par_LRT <- nbinomLRT(dds_bid_fix_iter_par, reduced=~Replicate)\n",
    "dds_bid_fix_iter_Wd <- nbinomWaldTest(dds_bid_fix_iter)\n",
    "dds_bid_fix_iter_LRT <- nbinomLRT(dds_bid_fix_iter, reduced=~Replicate)\n",
    "\n",
    "dds_tss_fix_iter_mn_Wd <- nbinomWaldTest(dds_tss_fix_iter_mn)\n",
    "dds_tss_fix_iter_mn_LRT <- nbinomLRT(dds_tss_fix_iter_mn, reduced=~Replicate)\n",
    "dds_tss_fix_iter_par_Wd <- nbinomWaldTest(dds_tss_fix_iter_par)\n",
    "dds_tss_fix_iter_par_LRT <- nbinomLRT(dds_tss_fix_iter_par, reduced=~Replicate)\n",
    "dds_tss_fix_iter_Wd <- nbinomWaldTest(dds_tss_fix_iter)\n",
    "dds_tss_fix_iter_LRT <- nbinomLRT(dds_tss_fix_iter, reduced=~Replicate)\n",
    "\n",
    "dds_nontss_fix_iter_mn_Wd <- nbinomWaldTest(dds_nontss_fix_iter_mn)\n",
    "dds_nontss_fix_iter_mn_LRT <- nbinomLRT(dds_nontss_fix_iter_mn, reduced=~Replicate)\n",
    "dds_nontss_fix_iter_par_Wd <- nbinomWaldTest(dds_nontss_fix_iter_par)\n",
    "dds_nontss_fix_iter_par_LRT <- nbinomLRT(dds_nontss_fix_iter_par, reduced=~Replicate)\n",
    "dds_nontss_fix_iter_Wd <- nbinomWaldTest(dds_nontss_fix_iter)\n",
    "dds_nontss_fix_iter_LRT <- nbinomLRT(dds_nontss_fix_iter, reduced=~Replicate)\n"
   ]
  },
  {
   "cell_type": "markdown",
   "id": "48576850-af55-43c2-83d9-20262a91e06e",
   "metadata": {},
   "source": [
    "### D. Get Summary Stats"
   ]
  },
  {
   "cell_type": "code",
   "execution_count": 142,
   "id": "c384cdf3-6136-4dad-96ae-dbecb5a52850",
   "metadata": {},
   "outputs": [
    {
     "name": "stdout",
     "output_type": "stream",
     "text": [
      "74 74 74 74 74"
     ]
    }
   ],
   "source": [
    "name_list = c(rep(\"Bid\", 18), rep(\"TSS\", 18), rep(\"NonTSS\", 18),  rep(\"Gene\", 18), \n",
    "              \"Orig_Bid\",  \"Orig_Gene\")\n",
    "test_list = c(rep(c(\"Wald\", \"Wald\", \"Wald\", \"LRT\", \"LRT\", \"LRT\"), 12), \"Wald\", \"Wald\")\n",
    "norm_list = c(rep(c(rep(\"Ratio\", 6), rep(\"Poscounts\", 6), rep(\"Iterative\", 6)), 4), \"Ratio\", \"Ratio\")\n",
    "disp_list = c(rep(c(\"Mean\", \"Parametric\", \"Local\"), 6*4), \"Local\", \"Local\")\n",
    "\n",
    "dds_list <- list(dds_bid_fix_rat_mn_Wd, dds_bid_fix_rat_par_Wd, dds_bid_fix_rat_Wd,  dds_bid_fix_rat_mn_LRT, dds_bid_fix_rat_par_LRT, dds_bid_fix_rat_LRT,\n",
    "                 dds_bid_fix_pc_mn_Wd, dds_bid_fix_pc_par_Wd, dds_bid_fix_pc_Wd,  dds_bid_fix_pc_mn_LRT, dds_bid_fix_pc_par_LRT, dds_bid_fix_pc_LRT,\n",
    "                 dds_bid_fix_iter_mn_Wd, dds_bid_fix_iter_par_Wd, dds_bid_fix_iter_Wd,  dds_bid_fix_iter_mn_LRT, dds_bid_fix_iter_par_LRT, dds_bid_fix_iter_LRT,\n",
    "                 \n",
    "                 dds_tss_fix_rat_mn_Wd, dds_tss_fix_rat_par_Wd, dds_tss_fix_rat_Wd,  dds_tss_fix_rat_mn_LRT, dds_tss_fix_rat_par_LRT, dds_tss_fix_rat_LRT,\n",
    "                 dds_tss_fix_pc_mn_Wd, dds_tss_fix_pc_par_Wd, dds_tss_fix_pc_Wd,  dds_tss_fix_pc_mn_LRT, dds_tss_fix_pc_par_LRT, dds_tss_fix_pc_LRT,\n",
    "                 dds_tss_fix_iter_mn_Wd, dds_tss_fix_iter_par_Wd, dds_tss_fix_iter_Wd,  dds_tss_fix_iter_mn_LRT, dds_tss_fix_iter_par_LRT, dds_tss_fix_iter_LRT,\n",
    "\n",
    "                 dds_nontss_fix_rat_mn_Wd, dds_nontss_fix_rat_par_Wd, dds_nontss_fix_rat_Wd,  dds_nontss_fix_rat_mn_LRT, dds_nontss_fix_rat_par_LRT, dds_nontss_fix_rat_LRT,\n",
    "                 dds_nontss_fix_pc_mn_Wd, dds_nontss_fix_pc_par_Wd, dds_nontss_fix_pc_Wd,  dds_nontss_fix_pc_mn_LRT, dds_nontss_fix_pc_par_LRT, dds_nontss_fix_pc_LRT,\n",
    "                 dds_nontss_fix_iter_mn_Wd, dds_nontss_fix_iter_par_Wd, dds_nontss_fix_iter_Wd,  dds_nontss_fix_iter_mn_LRT, dds_nontss_fix_iter_par_LRT, dds_nontss_fix_iter_LRT,\n",
    "                 \n",
    "                 dds_gene_fix_rat_mn_Wd, dds_gene_fix_rat_par_Wd, dds_gene_fix_rat_Wd,  dds_gene_fix_rat_mn_LRT, dds_gene_fix_rat_par_LRT, dds_gene_fix_rat_LRT,\n",
    "                 dds_gene_fix_pc_mn_Wd, dds_gene_fix_pc_par_Wd, dds_gene_fix_pc_Wd,  dds_gene_fix_pc_mn_LRT, dds_gene_fix_pc_par_LRT, dds_gene_fix_pc_LRT,\n",
    "                 dds_gene_fix_iter_mn_Wd, dds_gene_fix_iter_par_Wd, dds_gene_fix_iter_Wd,  dds_gene_fix_iter_mn_LRT, dds_gene_fix_iter_par_LRT, dds_gene_fix_iter_LRT, \n",
    "                \n",
    "                 dds_bid, dds_gene)\n",
    "\n",
    "cat(length(name_list), length(test_list), length(norm_list), length(disp_list), length(dds_list))   \n",
    "                   "
   ]
  },
  {
   "cell_type": "code",
   "execution_count": 143,
   "id": "7c78a0b8-6b3c-46dc-975b-b782ebbc9813",
   "metadata": {},
   "outputs": [],
   "source": [
    "contrast = c(\"Treatment\", \"DMSO\", \"Nut\")"
   ]
  },
  {
   "cell_type": "code",
   "execution_count": 144,
   "id": "aa2e5a18-378a-4e5e-b56f-2550b4715c31",
   "metadata": {},
   "outputs": [
    {
     "data": {
      "text/html": [
       "'/Users/hopekirby/Desktop/TF_Enh_Linking/Bench_DE/p53/out/'"
      ],
      "text/latex": [
       "'/Users/hopekirby/Desktop/TF\\_Enh\\_Linking/Bench\\_DE/p53/out/'"
      ],
      "text/markdown": [
       "'/Users/hopekirby/Desktop/TF_Enh_Linking/Bench_DE/p53/out/'"
      ],
      "text/plain": [
       "[1] \"/Users/hopekirby/Desktop/TF_Enh_Linking/Bench_DE/p53/out/\""
      ]
     },
     "metadata": {},
     "output_type": "display_data"
    }
   ],
   "source": [
    "outdir"
   ]
  },
  {
   "cell_type": "code",
   "execution_count": 145,
   "id": "1db72f54-500d-4dcf-97d8-90487d91db97",
   "metadata": {},
   "outputs": [],
   "source": [
    "get_DESeq_stats <- function(results_dict, name, celltype, res, test, norm, disp) {\n",
    "    #####################\n",
    "    ## Get sig results ##\n",
    "    ressig <- data.frame(subset(res, padj < 0.05))\n",
    "    save = ressig[,c(\"log2FoldChange\", \"padj\")]\n",
    "    ####################\n",
    "    results_dict[[\"platform\"]] <- c(results_dict[[\"platform\"]], \"DESeq2\")\n",
    "    results_dict <- get_results_dict(results_dict, name, test, norm, disp, ressig)\n",
    "    # ###############################################\n",
    "    # ## Save the significant results ##\n",
    "    filename <- paste0(outdir, \"results/\", celltype, \"_ressig_DESeq2_\", name, \"_\", norm, \"_\", test, \"_\", disp, \".txt\")\n",
    "    write.table(save, filename, quote=FALSE, sep=\"\\t\")\n",
    "    return(results_dict)\n",
    "    }"
   ]
  },
  {
   "cell_type": "code",
   "execution_count": 146,
   "id": "8061ce67-0d9f-4e0c-a639-8c569ebd7cd8",
   "metadata": {},
   "outputs": [],
   "source": [
    "results_dict_DE = list(\"name\"=c(), \"platform\"=c(), \"test\"=c(), \"disp\"=c(), \"norm\"=c(), \"Tot_Sig\"=c(), \n",
    "                    \"TP_eartar\"=c(), \"TP_ctknown\"=c(), \"TP_chip\"=c(), \"FP_chip_mean\"=c(), \"FP_chip_median\"=c(), \"FP_chip_sd\"=c())\n",
    "\n",
    "#pdf(paste0(outdir, \"plots/\", celltype, \"_DESeq2_plots.pdf\"), onefile=TRUE)\n",
    "binwidth_use=0.05\n",
    "for (indx in seq(1, length(name_list))) {\n",
    "    ptitle=paste0(name_list[indx], \"_\", test_list[indx], \"_\", norm_list[indx], \"_\", disp_list[indx])\n",
    "    # plot dispersions\n",
    "    # plotDispEsts(dds_list[[indx]], main=ptitle)\n",
    "    # get the results\n",
    "    res = results(dds_list[[indx]], contrast, alpha=0.05)\n",
    "    # ## Plot p-values\n",
    "    # pl <- ggplot(data.frame(res), aes(x=pvalue)) + geom_histogram(fill=\"grey64\", binwidth=binwidth_use, color=\"black\", boundary=0) + theme_bw(base_size=15) + \n",
    "    #    geom_vline(xintercept=0.05, color=\"red\") + ggtitle(ptitle)\n",
    "    # print(pl)\n",
    "    # if (name_list[indx] %in% c(\"Bid\", \"TSS\", \"NonTSS\") & norm_list[indx]==\"Ratio\") {\n",
    "    #     filename <- paste0(outdir, \"results/RESULTS_\", celltype, \"_DESeq2_\", name_list[indx], \"_\", norm_list[indx], \"_\", test_list[indx], \"_\", disp_list[indx], \".txt\")\n",
    "    #     write.table(res[,c(\"baseMean\", \"log2FoldChange\", \"pvalue\", \"padj\")], filename, quote=FALSE, sep=\"\\t\")\n",
    "\n",
    "    results_dict_DE = get_DESeq_stats(results_dict_DE, name_list[indx], celltype, \n",
    "                                      res, test=test_list[indx], norm=norm_list[indx], disp=disp_list[indx])\n",
    "    \n",
    "    }\n",
    "# dev.off()\n",
    "# graphics.off()\n",
    "results_dict_DE <- as.data.frame(results_dict_DE)\n",
    "# results_dict_DE[1:5,]\n",
    "# dim(results_dict_DE)"
   ]
  },
  {
   "cell_type": "markdown",
   "id": "6708e82c-b935-41e1-899f-890326ade1ca",
   "metadata": {},
   "source": [
    "## 2. Prep for Limma & Voom"
   ]
  },
  {
   "cell_type": "markdown",
   "id": "45f953d1-b335-4644-848b-43a66046b132",
   "metadata": {},
   "source": [
    "### 2A. DGEList Objects"
   ]
  },
  {
   "cell_type": "code",
   "execution_count": 147,
   "id": "00c0b772-d5e2-4d18-bfff-7880d35b7393",
   "metadata": {},
   "outputs": [],
   "source": [
    "d0_bid <- DGEList(bid_counts, samples=design, group = design$Treatment)\n",
    "d0_bid_fix <- DGEList(bid_fix_counts, samples=design, group = design$Treatment)\n",
    "d0_tss_bid_fix <- DGEList(tss_bid_fix_counts, samples=design, group = design$Treatment)\n",
    "d0_nontss_bid_fix <- DGEList(nontss_bid_fix_counts, samples=design, group = design$Treatment)\n",
    "d0_gene <- DGEList(gene_counts, samples=design, group = design$Treatment)\n",
    "d0_gene_fix <- DGEList(gene_fix_counts, csamples=design, group = design$Treatment)\n",
    "\n",
    "# for normalization only (just using hk)\n",
    "d0_gene_hk <- DGEList(gene_hk_counts, samples=design, group = design$Treatment)\n",
    "d0_gene_fix_hk <- DGEList(gene_fix_hk_counts, samples=design, group = design$Treatment)"
   ]
  },
  {
   "cell_type": "markdown",
   "id": "2ac485d0-2f3a-4cbf-8cab-d9024a3949af",
   "metadata": {},
   "source": [
    "### 2B. Normalization"
   ]
  },
  {
   "cell_type": "code",
   "execution_count": 148,
   "id": "d893084f-48d3-4e9e-8495-d6bb9d7a044e",
   "metadata": {},
   "outputs": [
    {
     "name": "stdout",
     "output_type": "stream",
     "text": [
      "1.025912 0.9895752 1.000204 0.9848107"
     ]
    }
   ],
   "source": [
    "### TMM\n",
    "d0_gene_hk = calcNormFactors(d0_gene_hk)\n",
    "d0_gene_fix_hk = calcNormFactors(d0_gene_fix_hk)\n",
    "cat(d0_gene_hk$samples$norm.factors)\n",
    "d0_gene$samples$norm.factors  = d0_gene_hk$samples$norm.factors\n",
    "d0_gene_fix$samples$norm.factors  = d0_gene_fix_hk$samples$norm.factors\n",
    "# full\n",
    "d0_bid$samples$norm.factors  = d0_gene_hk$samples$norm.factors\n",
    "d0_bid_fix$samples$norm.factors  = d0_gene_fix_hk$samples$norm.factors\n",
    "# tss\n",
    "d0_tss_bid_fix$samples$norm.factors  = d0_gene_fix_hk$samples$norm.factors\n",
    "# nontss\n",
    "d0_nontss_bid_fix$samples$norm.factors  = d0_gene_fix_hk$samples$norm.factors"
   ]
  },
  {
   "cell_type": "code",
   "execution_count": 149,
   "id": "58939790-4a3a-4e0c-aa71-a7128cc8f81d",
   "metadata": {},
   "outputs": [],
   "source": [
    "### TMMwsp\n",
    "d0_gene_fix_hk = calcNormFactors(d0_gene_fix_hk, method=\"TMMwsp\")\n",
    "d0_gene_fix_tw <- d0_gene_fix\n",
    "d0_gene_fix_tw$samples$norm.factors  = d0_gene_fix_hk$samples$norm.factors\n",
    "# full\n",
    "d0_bid_fix_tw <- d0_bid_fix\n",
    "d0_bid_fix_tw$samples$norm.factors  = d0_gene_fix_hk$samples$norm.factors\n",
    "# tss\n",
    "d0_tss_bid_fix_tw <- d0_tss_bid_fix\n",
    "d0_tss_bid_fix_tw$samples$norm.factors  = d0_gene_fix_hk$samples$norm.factors\n",
    "# nontss\n",
    "d0_nontss_bid_fix_tw <- d0_nontss_bid_fix\n",
    "d0_nontss_bid_fix_tw$samples$norm.factors  = d0_gene_fix_hk$samples$norm.factors"
   ]
  },
  {
   "cell_type": "code",
   "execution_count": 150,
   "id": "8a721225-90cb-41fc-871f-7c92c3efe7ff",
   "metadata": {},
   "outputs": [],
   "source": [
    "### RLE\n",
    "d0_gene_fix_hk = calcNormFactors(d0_gene_fix_hk, method=\"RLE\")\n",
    "d0_gene_fix_rle <- d0_gene_fix\n",
    "d0_gene_fix_rle$samples$norm.factors  = d0_gene_fix_hk$samples$norm.factors\n",
    "# full\n",
    "d0_bid_fix_rle <- d0_bid_fix\n",
    "d0_bid_fix_rle$samples$norm.factors  = d0_gene_fix_hk$samples$norm.factors\n",
    "# tss\n",
    "d0_tss_bid_fix_rle <- d0_tss_bid_fix\n",
    "d0_tss_bid_fix_rle$samples$norm.factors  = d0_gene_fix_hk$samples$norm.factors\n",
    "# nontss\n",
    "d0_nontss_bid_fix_rle <- d0_nontss_bid_fix\n",
    "d0_nontss_bid_fix_rle$samples$norm.factors  = d0_gene_fix_hk$samples$norm.factors"
   ]
  },
  {
   "cell_type": "code",
   "execution_count": 151,
   "id": "90d5357f-4632-47cf-b98a-56a3fe94abc8",
   "metadata": {},
   "outputs": [],
   "source": [
    "### Upperquartile\n",
    "d0_gene_fix_hk = calcNormFactors(d0_gene_fix_hk, method=\"upperquartile\")\n",
    "d0_gene_fix_uq <- d0_gene_fix\n",
    "d0_gene_fix_uq$samples$norm.factors  = d0_gene_fix_hk$samples$norm.factors\n",
    "# full\n",
    "d0_bid_fix_uq <- d0_bid_fix\n",
    "d0_bid_fix_uq$samples$norm.factors  = d0_gene_fix_hk$samples$norm.factors\n",
    "# tss\n",
    "d0_tss_bid_fix_uq <- d0_tss_bid_fix\n",
    "d0_tss_bid_fix_uq$samples$norm.factors  = d0_gene_fix_hk$samples$norm.factors\n",
    "# nontss\n",
    "d0_nontss_bid_fix_uq <- d0_nontss_bid_fix\n",
    "d0_nontss_bid_fix_uq$samples$norm.factors  = d0_gene_fix_hk$samples$norm.factors"
   ]
  },
  {
   "cell_type": "code",
   "execution_count": 152,
   "id": "7629fde4-3d58-42bc-84c7-0ac51d3e17ba",
   "metadata": {},
   "outputs": [
    {
     "name": "stdout",
     "output_type": "stream",
     "text": [
      "1.028703 0.9880209 0.9971262 0.9867196 \n",
      " 1.010337 0.9819894 1.023205 0.9850639"
     ]
    }
   ],
   "source": [
    "### TMM (EVALUATING HOW BIG DIFFERENCES ARE IN NORM FACTORS CALCULATED\n",
    "d0_gene_hk = calcNormFactors(d0_gene_hk)\n",
    "d0_gene_fix_hk = calcNormFactors(d0_gene_fix_hk)\n",
    "d0_gene_fix = calcNormFactors(d0_gene_fix)\n",
    "cat(d0_gene_fix$samples$norm.factors, \"\\n\", d0_gene_fix_hk$samples$norm.factors)"
   ]
  },
  {
   "cell_type": "code",
   "execution_count": 153,
   "id": "571e8944-2c1e-4079-b85f-3e49a50ef673",
   "metadata": {},
   "outputs": [
    {
     "name": "stdout",
     "output_type": "stream",
     "text": [
      "1.633582 4.188366 5.324152 4.450766 \n",
      " 1.62893 4.125436 5.415217 4.455357 \n",
      " 1.609461 4.178383 5.481573 4.39822 \n",
      " 1.499444 4.17334 5.600885 4.625941 \n",
      " 0.4434534 1.229997 1.396996 1.275785 \n",
      " 0.4465981 1.238719 1.406903 1.284831 \n",
      " 0.4633398 1.170259 1.484716 1.242152"
     ]
    }
   ],
   "source": [
    "# Consider the differences in the \"sizeFactor\" like numbers\n",
    "cat(d0_gene_fix$samples$norm.factors*d0_gene_fix$samples$lib.size/10000000, \"\\n\",\n",
    "      d0_gene_fix_tw$samples$norm.factors*d0_gene_fix_tw$samples$lib.size/10000000, \"\\n\",\n",
    "      d0_gene_fix_rle$samples$norm.factors*d0_gene_fix_rle$samples$lib.size/10000000,  \"\\n\",\n",
    "      d0_gene_fix_uq$samples$norm.factors*d0_gene_fix_uq$samples$lib.size/10000000, \"\\n\",\n",
    "   sizeFactors(dds_gene_fix_rat), \"\\n\",\n",
    "   sizeFactors(dds_gene_fix_pc), \"\\n\",\n",
    "   sizeFactors(dds_gene_fix_iter))"
   ]
  },
  {
   "cell_type": "code",
   "execution_count": 154,
   "id": "015adb39-055a-4e2b-8b02-93b14be52966",
   "metadata": {},
   "outputs": [
    {
     "data": {
      "text/html": [
       "<table class=\"dataframe\">\n",
       "<caption>A matrix: 2 × 6 of type dbl</caption>\n",
       "<thead>\n",
       "\t<tr><th></th><th scope=col>used</th><th scope=col>(Mb)</th><th scope=col>gc trigger</th><th scope=col>(Mb)</th><th scope=col>max used</th><th scope=col>(Mb)</th></tr>\n",
       "</thead>\n",
       "<tbody>\n",
       "\t<tr><th scope=row>Ncells</th><td>  7918959</td><td> 423.0</td><td> 13877181</td><td> 741.2</td><td> 13877181</td><td> 741.2</td></tr>\n",
       "\t<tr><th scope=row>Vcells</th><td>382396289</td><td>2917.5</td><td>744144851</td><td>5677.4</td><td>744142572</td><td>5677.4</td></tr>\n",
       "</tbody>\n",
       "</table>\n"
      ],
      "text/latex": [
       "A matrix: 2 × 6 of type dbl\n",
       "\\begin{tabular}{r|llllll}\n",
       "  & used & (Mb) & gc trigger & (Mb) & max used & (Mb)\\\\\n",
       "\\hline\n",
       "\tNcells &   7918959 &  423.0 &  13877181 &  741.2 &  13877181 &  741.2\\\\\n",
       "\tVcells & 382396289 & 2917.5 & 744144851 & 5677.4 & 744142572 & 5677.4\\\\\n",
       "\\end{tabular}\n"
      ],
      "text/markdown": [
       "\n",
       "A matrix: 2 × 6 of type dbl\n",
       "\n",
       "| <!--/--> | used | (Mb) | gc trigger | (Mb) | max used | (Mb) |\n",
       "|---|---|---|---|---|---|---|\n",
       "| Ncells |   7918959 |  423.0 |  13877181 |  741.2 |  13877181 |  741.2 |\n",
       "| Vcells | 382396289 | 2917.5 | 744144851 | 5677.4 | 744142572 | 5677.4 |\n",
       "\n"
      ],
      "text/plain": [
       "       used      (Mb)   gc trigger (Mb)   max used  (Mb)  \n",
       "Ncells   7918959  423.0  13877181   741.2  13877181  741.2\n",
       "Vcells 382396289 2917.5 744144851  5677.4 744142572 5677.4"
      ]
     },
     "metadata": {},
     "output_type": "display_data"
    }
   ],
   "source": [
    "rm(list=ls(pattern=\"dds_\"))\n",
    "gc()"
   ]
  },
  {
   "cell_type": "markdown",
   "id": "8ad85d37-a05e-471f-bc88-d6bbee0548cf",
   "metadata": {},
   "source": [
    "### 2C. Preassessment"
   ]
  },
  {
   "cell_type": "code",
   "execution_count": 155,
   "id": "46da3473-44fe-4f0a-b66a-ff6e8aa38ba2",
   "metadata": {},
   "outputs": [
    {
     "data": {
      "text/html": [
       "<strong>pdf:</strong> 2"
      ],
      "text/latex": [
       "\\textbf{pdf:} 2"
      ],
      "text/markdown": [
       "**pdf:** 2"
      ],
      "text/plain": [
       "pdf \n",
       "  2 "
      ]
     },
     "metadata": {},
     "output_type": "display_data"
    }
   ],
   "source": [
    "pdf(paste0(outdir, \"plots/\", celltype, \"_Limma_EdgeR_MDSs.pdf\"), onefile=TRUE)\n",
    "options(repr.plot.height = 6, repr.plot.width = 6)\n",
    "plotMDS(d0_gene, labels=design$Treatment, main = paste0(celltype, \" Orig Gene, TMM normalization\"))\n",
    "plotMDS(d0_gene_fix, labels=design$Treatment, main = paste0(celltype, \" Gene TMM normalization\"))\n",
    "plotMDS(d0_bid, labels=design$Treatment, main = paste0(celltype, \" Orig Bid, TMM normalization\"))\n",
    "plotMDS(d0_bid_fix, labels=design$Treatment, main = paste0(celltype, \" Bid TMM normalization\"))\n",
    "plotMDS(d0_tss_bid_fix, labels=design$Treatment, main = paste0(celltype, \" TSS Bids TMM normalization\"))\n",
    "plotMDS(d0_nontss_bid_fix, labels=design$Treatment, main = paste0(celltype, \" nonTSS Bids TMM normalization\"))\n",
    "plotMDS(d0_gene_fix_tw, labels=design$Treatment, main = paste0(celltype, \" Gene TMMwsp normalization\"))\n",
    "plotMDS(d0_bid_fix_tw, labels=design$Treatment, main = paste0(celltype, \" Bid TMMwsp normalization\"))\n",
    "plotMDS(d0_tss_bid_fix_tw, labels=design$Treatment, main = paste0(celltype, \" TSS Bids TMMwsp normalization\"))\n",
    "plotMDS(d0_nontss_bid_fix_tw, labels=design$Treatment, main = paste0(celltype, \" nonTSS Bids TMMwsp normalization\"))\n",
    "plotMDS(d0_gene_fix_rle, labels=design$Treatment, main = paste0(celltype, \" Gene RLE normalization\"))\n",
    "plotMDS(d0_bid_fix_rle, labels=design$Treatment, main = paste0(celltype, \" Bid RLE normalization\"))\n",
    "plotMDS(d0_tss_bid_fix_rle, labels=design$Treatment, main = paste0(celltype, \" TSS Bids RLE normalization\"))\n",
    "plotMDS(d0_nontss_bid_fix_rle, labels=design$Treatment, main = paste0(celltype, \" nonTSS Bids RLE normalization\"))\n",
    "plotMDS(d0_gene_fix_uq, labels=design$Treatment, main = paste0(celltype, \" Gene UpQuart normalization\"))\n",
    "plotMDS(d0_bid_fix_uq, labels=design$Treatment, main = paste0(celltype, \" Bid UpQuart normalization\"))\n",
    "plotMDS(d0_tss_bid_fix_uq, labels=design$Treatment, main = paste0(celltype, \" TSS Bids UpQuart normalization\"))\n",
    "plotMDS(d0_nontss_bid_fix_uq, labels=design$Treatment, main = paste0(celltype, \" nonTSS Bids UpQuart normalization\"))\n",
    "dev.off()"
   ]
  },
  {
   "cell_type": "markdown",
   "id": "cba8cd21-3a07-4774-b2f4-deae6c23caad",
   "metadata": {},
   "source": [
    "## 3. DE with Limma-Voom (with quality) or Trend"
   ]
  },
  {
   "cell_type": "code",
   "execution_count": 156,
   "id": "0cbe588b-7089-4ab4-be03-b6a6fed70c62",
   "metadata": {},
   "outputs": [
    {
     "data": {
      "text/html": [
       "<table class=\"dataframe\">\n",
       "<caption>A data.frame: 4 × 3</caption>\n",
       "<thead>\n",
       "\t<tr><th scope=col>Name</th><th scope=col>Replicate</th><th scope=col>Treatment</th></tr>\n",
       "\t<tr><th scope=col>&lt;chr&gt;</th><th scope=col>&lt;fct&gt;</th><th scope=col>&lt;fct&gt;</th></tr>\n",
       "</thead>\n",
       "<tbody>\n",
       "\t<tr><td>HCT116_DMSO_R1</td><td>R1</td><td>DMSO</td></tr>\n",
       "\t<tr><td>HCT116_DMSO_R2</td><td>R2</td><td>DMSO</td></tr>\n",
       "\t<tr><td>HCT116_Nut_R1 </td><td>R1</td><td>Nut </td></tr>\n",
       "\t<tr><td>HCT116_Nut_R2 </td><td>R2</td><td>Nut </td></tr>\n",
       "</tbody>\n",
       "</table>\n"
      ],
      "text/latex": [
       "A data.frame: 4 × 3\n",
       "\\begin{tabular}{lll}\n",
       " Name & Replicate & Treatment\\\\\n",
       " <chr> & <fct> & <fct>\\\\\n",
       "\\hline\n",
       "\t HCT116\\_DMSO\\_R1 & R1 & DMSO\\\\\n",
       "\t HCT116\\_DMSO\\_R2 & R2 & DMSO\\\\\n",
       "\t HCT116\\_Nut\\_R1  & R1 & Nut \\\\\n",
       "\t HCT116\\_Nut\\_R2  & R2 & Nut \\\\\n",
       "\\end{tabular}\n"
      ],
      "text/markdown": [
       "\n",
       "A data.frame: 4 × 3\n",
       "\n",
       "| Name &lt;chr&gt; | Replicate &lt;fct&gt; | Treatment &lt;fct&gt; |\n",
       "|---|---|---|\n",
       "| HCT116_DMSO_R1 | R1 | DMSO |\n",
       "| HCT116_DMSO_R2 | R2 | DMSO |\n",
       "| HCT116_Nut_R1  | R1 | Nut  |\n",
       "| HCT116_Nut_R2  | R2 | Nut  |\n",
       "\n"
      ],
      "text/plain": [
       "  Name           Replicate Treatment\n",
       "1 HCT116_DMSO_R1 R1        DMSO     \n",
       "2 HCT116_DMSO_R2 R2        DMSO     \n",
       "3 HCT116_Nut_R1  R1        Nut      \n",
       "4 HCT116_Nut_R2  R2        Nut      "
      ]
     },
     "metadata": {},
     "output_type": "display_data"
    },
    {
     "data": {
      "text/html": [
       "<table class=\"dataframe\">\n",
       "<caption>A matrix: 4 × 3 of type dbl</caption>\n",
       "<thead>\n",
       "\t<tr><th></th><th scope=col>Intercept</th><th scope=col>ReplicateR2</th><th scope=col>TreatmentNut</th></tr>\n",
       "</thead>\n",
       "<tbody>\n",
       "\t<tr><th scope=row>1</th><td>1</td><td>0</td><td>0</td></tr>\n",
       "\t<tr><th scope=row>2</th><td>1</td><td>1</td><td>0</td></tr>\n",
       "\t<tr><th scope=row>3</th><td>1</td><td>0</td><td>1</td></tr>\n",
       "\t<tr><th scope=row>4</th><td>1</td><td>1</td><td>1</td></tr>\n",
       "</tbody>\n",
       "</table>\n"
      ],
      "text/latex": [
       "A matrix: 4 × 3 of type dbl\n",
       "\\begin{tabular}{r|lll}\n",
       "  & Intercept & ReplicateR2 & TreatmentNut\\\\\n",
       "\\hline\n",
       "\t1 & 1 & 0 & 0\\\\\n",
       "\t2 & 1 & 1 & 0\\\\\n",
       "\t3 & 1 & 0 & 1\\\\\n",
       "\t4 & 1 & 1 & 1\\\\\n",
       "\\end{tabular}\n"
      ],
      "text/markdown": [
       "\n",
       "A matrix: 4 × 3 of type dbl\n",
       "\n",
       "| <!--/--> | Intercept | ReplicateR2 | TreatmentNut |\n",
       "|---|---|---|---|\n",
       "| 1 | 1 | 0 | 0 |\n",
       "| 2 | 1 | 1 | 0 |\n",
       "| 3 | 1 | 0 | 1 |\n",
       "| 4 | 1 | 1 | 1 |\n",
       "\n"
      ],
      "text/plain": [
       "  Intercept ReplicateR2 TreatmentNut\n",
       "1 1         0           0           \n",
       "2 1         1           0           \n",
       "3 1         0           1           \n",
       "4 1         1           1           "
      ]
     },
     "metadata": {},
     "output_type": "display_data"
    }
   ],
   "source": [
    "design\n",
    "Replicate = design$Replicate\n",
    "Treatment = design$Treatment\n",
    "design_mat = model.matrix(~Replicate+Treatment)\n",
    "colnames(design_mat) <- c(\"Intercept\", \"ReplicateR2\", \"TreatmentNut\")\n",
    "design_mat"
   ]
  },
  {
   "cell_type": "code",
   "execution_count": 157,
   "id": "42ab63cb-199a-4977-b59f-19add6c928a7",
   "metadata": {},
   "outputs": [],
   "source": [
    "coefficient=\"TreatmentNut\""
   ]
  },
  {
   "cell_type": "markdown",
   "id": "5bd55872-c9ed-400d-890e-2fcba075323b",
   "metadata": {},
   "source": [
    "### 3A. Trend"
   ]
  },
  {
   "cell_type": "code",
   "execution_count": 158,
   "id": "d02b9802-4203-4eb2-82b7-d1f036f00086",
   "metadata": {},
   "outputs": [],
   "source": [
    "## TREND TMM normalization\n",
    "logCPM <- cpm(d0_gene, log=TRUE, prior.count=0.5) ## need to check prior count\n",
    "fit <- lmFit(logCPM, design_mat)\n",
    "t_gene <- eBayes(fit, trend=TRUE)\n",
    "\n",
    "logCPM <- cpm(d0_gene_fix, log=TRUE, prior.count=0.5) ## need to check prior count\n",
    "fit <- lmFit(logCPM, design_mat)\n",
    "t_gene_fix <- eBayes(fit, trend=TRUE)\n",
    "t_gene_fix_rob <- eBayes(fit, trend=TRUE, robust=TRUE)\n",
    "\n",
    "logCPM <- cpm(d0_bid, log=TRUE, prior.count=0.5) ## need to check prior count\n",
    "fit <- lmFit(logCPM, design_mat)\n",
    "t_bid <- eBayes(fit, trend=TRUE)\n",
    "\n",
    "logCPM <- cpm(d0_bid_fix, log=TRUE, prior.count=0.5) ## need to check prior count\n",
    "fit <- lmFit(logCPM, design_mat)\n",
    "t_bid_fix <- eBayes(fit, trend=TRUE)\n",
    "t_bid_fix_rob <- eBayes(fit, trend=TRUE, robust=TRUE)\n",
    "\n",
    "logCPM <- cpm(d0_tss_bid_fix, log=TRUE, prior.count=0.5) ## need to check prior count\n",
    "fit <- lmFit(logCPM, design_mat)\n",
    "t_tss_bid_fix <- eBayes(fit, trend=TRUE)\n",
    "t_tss_bid_fix_rob <- eBayes(fit, trend=TRUE, robust=TRUE)\n",
    "\n",
    "logCPM <- cpm(d0_nontss_bid_fix, log=TRUE, prior.count=0.5) ## need to check prior count\n",
    "fit <- lmFit(logCPM, design_mat)\n",
    "t_nontss_bid_fix <- eBayes(fit, trend=TRUE)\n",
    "t_nontss_bid_fix_rob <- eBayes(fit, trend=TRUE, robust=TRUE)\n"
   ]
  },
  {
   "cell_type": "code",
   "execution_count": 159,
   "id": "b938ecbc-4df9-4df6-8b1e-b1990cd6979f",
   "metadata": {},
   "outputs": [
    {
     "name": "stderr",
     "output_type": "stream",
     "text": [
      "Warning message:\n",
      "“One very small variance detected, has been offset away from zero”\n"
     ]
    }
   ],
   "source": [
    "## TREND TMM wsp\n",
    "logCPM <- cpm(d0_gene_fix_tw, log=TRUE, prior.count=0.5) ## need to check prior count\n",
    "fit <- lmFit(logCPM, design_mat)\n",
    "t_gene_fix_tw <- eBayes(fit, trend=TRUE)\n",
    "t_gene_fix_tw_rob <- eBayes(fit, trend=TRUE, robust=TRUE)\n",
    "\n",
    "logCPM <- cpm(d0_bid_fix_tw, log=TRUE, prior.count=0.5) ## need to check prior count\n",
    "fit <- lmFit(logCPM, design_mat)\n",
    "t_bid_fix_tw <- eBayes(fit, trend=TRUE)\n",
    "t_bid_fix_tw_rob <- eBayes(fit, trend=TRUE, robust=TRUE)\n",
    "\n",
    "logCPM <- cpm(d0_tss_bid_fix_tw, log=TRUE, prior.count=0.5) ## need to check prior count\n",
    "fit <- lmFit(logCPM, design_mat)\n",
    "t_tss_bid_fix_tw <- eBayes(fit, trend=TRUE)\n",
    "t_tss_bid_fix_tw_rob <- eBayes(fit, trend=TRUE, robust=TRUE)\n",
    "\n",
    "logCPM <- cpm(d0_nontss_bid_fix_tw, log=TRUE, prior.count=0.5) ## need to check prior count\n",
    "fit <- lmFit(logCPM, design_mat)\n",
    "t_nontss_bid_fix_tw <- eBayes(fit, trend=TRUE)\n",
    "t_nontss_bid_fix_tw_rob <- eBayes(fit, trend=TRUE, robust=TRUE)\n"
   ]
  },
  {
   "cell_type": "code",
   "execution_count": 160,
   "id": "3db2e093-8617-4324-b622-c581f2d9dcfb",
   "metadata": {},
   "outputs": [],
   "source": [
    "## TREND RLE\n",
    "logCPM <- cpm(d0_gene_fix_rle, log=TRUE, prior.count=0.5) ## need to check prior count\n",
    "fit <- lmFit(logCPM, design_mat)\n",
    "t_gene_fix_rle <- eBayes(fit, trend=TRUE)\n",
    "t_gene_fix_rle_rob <- eBayes(fit, trend=TRUE, robust=TRUE)\n",
    "\n",
    "logCPM <- cpm(d0_bid_fix_rle, log=TRUE, prior.count=0.5) ## need to check prior count\n",
    "fit <- lmFit(logCPM, design_mat)\n",
    "t_bid_fix_rle <- eBayes(fit, trend=TRUE)\n",
    "t_bid_fix_rle_rob <- eBayes(fit, trend=TRUE, robust=TRUE)\n",
    "\n",
    "logCPM <- cpm(d0_tss_bid_fix_rle, log=TRUE, prior.count=0.5) ## need to check prior count\n",
    "fit <- lmFit(logCPM, design_mat)\n",
    "t_tss_bid_fix_rle <- eBayes(fit, trend=TRUE)\n",
    "t_tss_bid_fix_rle_rob <- eBayes(fit, trend=TRUE, robust=TRUE)\n",
    "\n",
    "logCPM <- cpm(d0_nontss_bid_fix_rle, log=TRUE, prior.count=0.5) ## need to check prior count\n",
    "fit <- lmFit(logCPM, design_mat)\n",
    "t_nontss_bid_fix_rle <- eBayes(fit, trend=TRUE)\n",
    "t_nontss_bid_fix_rle_rob <- eBayes(fit, trend=TRUE, robust=TRUE)\n"
   ]
  },
  {
   "cell_type": "code",
   "execution_count": 161,
   "id": "c08e1f74-80da-4c5b-a3c7-cd0e9223e697",
   "metadata": {},
   "outputs": [],
   "source": [
    "## TREND Upper quartile normalization\n",
    "logCPM <- cpm(d0_gene_fix_uq, log=TRUE, prior.count=0.5) ## need to check prior count\n",
    "fit <- lmFit(logCPM, design_mat)\n",
    "t_gene_fix_uq <- eBayes(fit, trend=TRUE)\n",
    "t_gene_fix_uq_rob <- eBayes(fit, trend=TRUE, robust=TRUE)\n",
    "\n",
    "logCPM <- cpm(d0_bid_fix_uq, log=TRUE, prior.count=0.5) ## need to check prior count\n",
    "fit <- lmFit(logCPM, design_mat)\n",
    "t_bid_fix_uq <- eBayes(fit, trend=TRUE)\n",
    "t_bid_fix_uq_rob <- eBayes(fit, trend=TRUE, robust=TRUE)\n",
    "\n",
    "logCPM <- cpm(d0_tss_bid_fix_uq, log=TRUE, prior.count=0.5) ## need to check prior count\n",
    "fit <- lmFit(logCPM, design_mat)\n",
    "t_tss_bid_fix_uq <- eBayes(fit, trend=TRUE)\n",
    "t_tss_bid_fix_uq_rob <- eBayes(fit, trend=TRUE, robust=TRUE)\n",
    "\n",
    "logCPM <- cpm(d0_nontss_bid_fix_uq, log=TRUE, prior.count=0.5) ## need to check prior count\n",
    "fit <- lmFit(logCPM, design_mat)\n",
    "t_nontss_bid_fix_uq <- eBayes(fit, trend=TRUE)\n",
    "t_nontss_bid_fix_uq_rob <- eBayes(fit, trend=TRUE, robust=TRUE)\n"
   ]
  },
  {
   "cell_type": "markdown",
   "id": "17dcd58d-20bb-4d1b-8433-c280a4f9d237",
   "metadata": {},
   "source": [
    "### 3B. Voom"
   ]
  },
  {
   "cell_type": "code",
   "execution_count": 162,
   "id": "90910503-4107-44db-b1d0-ec3505d4b43a",
   "metadata": {},
   "outputs": [
    {
     "data": {
      "text/html": [
       "<strong>pdf:</strong> 2"
      ],
      "text/latex": [
       "\\textbf{pdf:} 2"
      ],
      "text/markdown": [
       "**pdf:** 2"
      ],
      "text/plain": [
       "pdf \n",
       "  2 "
      ]
     },
     "metadata": {},
     "output_type": "display_data"
    }
   ],
   "source": [
    "pdf(paste0(outdir, \"plots/\", celltype, \"_LimmaVoom.pdf\"))\n",
    "\n",
    "## Voom TMM normalization\n",
    "vout <- voomWithQualityWeights(d0_gene, design = design_mat, plot=TRUE)\n",
    "lout <- lmFit(vout, design_mat)\n",
    "e_gene <- eBayes(lout)\n",
    "\n",
    "vout <- voomWithQualityWeights(d0_gene_fix, design = design_mat, plot=TRUE)\n",
    "lout <- lmFit(vout, design_mat)\n",
    "e_gene_fix <- eBayes(lout)\n",
    "e_gene_fix_rob <- eBayes(lout, robust=TRUE)\n",
    "\n",
    "vout <- voomWithQualityWeights(d0_bid, design = design_mat, plot=TRUE)\n",
    "lout <- lmFit(vout, design_mat)\n",
    "e_bid <- eBayes(lout)\n",
    "\n",
    "vout <- voomWithQualityWeights(d0_bid_fix, design = design_mat, plot=TRUE)\n",
    "lout <- lmFit(vout, design_mat)\n",
    "e_bid_fix <- eBayes(lout)\n",
    "e_bid_fix_rob <- eBayes(lout, robust=TRUE)\n",
    "\n",
    "vout <- voomWithQualityWeights(d0_tss_bid_fix, design = design_mat, plot=TRUE)\n",
    "lout <- lmFit(vout, design_mat)\n",
    "e_tss_bid_fix <- eBayes(lout)\n",
    "e_tss_bid_fix_rob <- eBayes(lout, robust=TRUE)\n",
    "\n",
    "vout <- voomWithQualityWeights(d0_nontss_bid_fix, design = design_mat, plot=TRUE)\n",
    "lout <- lmFit(vout, design_mat)\n",
    "e_nontss_bid_fix <- eBayes(lout)\n",
    "e_nontss_bid_fix_rob <- eBayes(lout, robust=TRUE)\n",
    "\n",
    "## Voom TMM wsp\n",
    "vout <- voomWithQualityWeights(d0_gene_fix_tw, design = design_mat, plot=TRUE)\n",
    "lout <- lmFit(vout, design_mat)\n",
    "e_gene_fix_tw <- eBayes(lout)\n",
    "e_gene_fix_tw_rob <- eBayes(lout, robust=TRUE)\n",
    "\n",
    "vout <- voomWithQualityWeights(d0_bid_fix_tw, design = design_mat, plot=TRUE)\n",
    "lout <- lmFit(vout, design_mat)\n",
    "e_bid_fix_tw <- eBayes(lout)\n",
    "e_bid_fix_tw_rob <- eBayes(lout, robust=TRUE)\n",
    "\n",
    "vout <- voomWithQualityWeights(d0_tss_bid_fix_tw, design = design_mat, plot=TRUE)\n",
    "lout <- lmFit(vout, design_mat)\n",
    "e_tss_bid_fix_tw <- eBayes(lout)\n",
    "e_tss_bid_fix_tw_rob <- eBayes(lout, robust=TRUE)\n",
    "\n",
    "vout <- voomWithQualityWeights(d0_nontss_bid_fix_tw, design = design_mat, plot=TRUE)\n",
    "lout <- lmFit(vout, design_mat)\n",
    "e_nontss_bid_fix_tw <- eBayes(lout)\n",
    "e_nontss_bid_fix_tw_rob <- eBayes(lout, robust=TRUE)\n",
    "\n",
    "## Voom RLE\n",
    "vout <- voomWithQualityWeights(d0_gene_fix_rle, design = design_mat, plot=TRUE)\n",
    "lout <- lmFit(vout, design_mat)\n",
    "e_gene_fix_rle <- eBayes(lout)\n",
    "e_gene_fix_rle_rob <- eBayes(lout, robust=TRUE)\n",
    "\n",
    "vout <- voomWithQualityWeights(d0_bid_fix_rle, design = design_mat, plot=TRUE)\n",
    "lout <- lmFit(vout, design_mat)\n",
    "e_bid_fix_rle <- eBayes(lout)\n",
    "e_bid_fix_rle_rob <- eBayes(lout, robust=TRUE)\n",
    "\n",
    "vout <- voomWithQualityWeights(d0_tss_bid_fix_rle, design = design_mat, plot=TRUE)\n",
    "lout <- lmFit(vout, design_mat)\n",
    "e_tss_bid_fix_rle <- eBayes(lout)\n",
    "e_tss_bid_fix_rle_rob <- eBayes(lout, robust=TRUE)\n",
    "\n",
    "vout <- voomWithQualityWeights(d0_nontss_bid_fix_rle, design = design_mat, plot=TRUE)\n",
    "lout <- lmFit(vout, design_mat)\n",
    "e_nontss_bid_fix_rle <- eBayes(lout)\n",
    "e_nontss_bid_fix_rle_rob <- eBayes(lout, robust=TRUE)\n",
    "\n",
    "## Voom upper quartalization\n",
    "\n",
    "vout <- voomWithQualityWeights(d0_gene_fix_uq, design = design_mat, plot=TRUE)\n",
    "lout <- lmFit(vout, design_mat)\n",
    "e_gene_fix_uq <- eBayes(lout)\n",
    "e_gene_fix_uq_rob <- eBayes(lout, robust=TRUE)\n",
    "\n",
    "vout <- voomWithQualityWeights(d0_bid_fix_uq, design = design_mat, plot=TRUE)\n",
    "lout <- lmFit(vout, design_mat)\n",
    "e_bid_fix_uq <- eBayes(lout)\n",
    "e_bid_fix_uq_rob <- eBayes(lout, robust=TRUE)\n",
    "\n",
    "vout <- voomWithQualityWeights(d0_tss_bid_fix_uq, design = design_mat, plot=TRUE)\n",
    "lout <- lmFit(vout, design_mat)\n",
    "e_tss_bid_fix_uq <- eBayes(lout)\n",
    "e_tss_bid_fix_uq_rob <- eBayes(lout, robust=TRUE)\n",
    "\n",
    "vout <- voomWithQualityWeights(d0_nontss_bid_fix_uq, design = design_mat, plot=TRUE)\n",
    "lout <- lmFit(vout, design_mat)\n",
    "e_nontss_bid_fix_uq <- eBayes(lout)\n",
    "e_nontss_bid_fix_uq_rob <- eBayes(lout, robust=TRUE)\n",
    "\n",
    "dev.off()\n",
    "\n"
   ]
  },
  {
   "cell_type": "code",
   "execution_count": 163,
   "id": "13d0c730-7d8c-4c0a-b68c-d195d60a8ef8",
   "metadata": {},
   "outputs": [
    {
     "name": "stdout",
     "output_type": "stream",
     "text": [
      "68 68 68 68 68"
     ]
    }
   ],
   "source": [
    "name_list = c(\"Orig_Gene\", \"Orig_Bid\", \"Orig_Gene\", \"Orig_Bid\", \n",
    "              rep(c(rep(\"Gene\", 2), rep(\"Bid\", 2), rep(\"TSS\", 2),  rep(\"NonTSS\", 2)), 8))\n",
    "\n",
    "test_list = c(rep(\"eBayes\", 4), rep(c(\"eBayes\", \"eBayes-robust\"), 32))\n",
    "norm_list = c(rep(\"TMM\", 4), rep(c(rep(\"TMM\", 8), rep(\"TMM-wsp\", 8), rep(\"RLE\", 8), rep(\"UpperQuart\", 8)), 2))\n",
    "disp_list = c(\"Trend\", \"Trend\", \"Voom\", \"Voom\", rep(\"Trend\", 32), rep(\"Voom\",32))\n",
    "\n",
    "limma_list <- list(t_gene, t_bid, e_gene, e_bid, \n",
    "                   \n",
    "                t_gene_fix, t_gene_fix_rob, t_bid_fix, t_bid_fix_rob, t_tss_bid_fix, t_tss_bid_fix_rob, t_nontss_bid_fix, t_nontss_bid_fix_rob, \n",
    "                t_gene_fix_tw, t_gene_fix_tw_rob, t_bid_fix_tw, t_bid_fix_tw_rob, t_tss_bid_fix_tw, t_tss_bid_fix_tw_rob, t_nontss_bid_fix_tw, t_nontss_bid_fix_tw_rob, \n",
    "                t_gene_fix_rle, t_gene_fix_rle_rob, t_bid_fix_rle, t_bid_fix_rle_rob, t_tss_bid_fix_rle, t_tss_bid_fix_rle_rob, t_nontss_bid_fix_rle, t_nontss_bid_fix_rle_rob, \n",
    "                t_gene_fix_uq, t_gene_fix_uq_rob, t_bid_fix_uq, t_bid_fix_uq_rob, t_tss_bid_fix_uq, t_tss_bid_fix_uq_rob, t_nontss_bid_fix_uq, t_nontss_bid_fix_uq_rob, \n",
    "\n",
    "                    e_gene_fix, e_gene_fix_rob, e_bid_fix, e_bid_fix_rob, e_tss_bid_fix, e_tss_bid_fix_rob, e_nontss_bid_fix, e_nontss_bid_fix_rob, \n",
    "                e_gene_fix_tw, e_gene_fix_tw_rob, e_bid_fix_tw, e_bid_fix_tw_rob, e_tss_bid_fix_tw, e_tss_bid_fix_tw_rob, e_nontss_bid_fix_tw, e_nontss_bid_fix_tw_rob, \n",
    "                e_gene_fix_rle, e_gene_fix_rle_rob, e_bid_fix_rle, e_bid_fix_rle_rob, e_tss_bid_fix_rle, e_tss_bid_fix_rle_rob, e_nontss_bid_fix_rle, e_nontss_bid_fix_rle_rob, \n",
    "                e_gene_fix_uq, e_gene_fix_uq_rob, e_bid_fix_uq, e_bid_fix_uq_rob, e_tss_bid_fix_uq, e_tss_bid_fix_uq_rob, e_nontss_bid_fix_uq, e_nontss_bid_fix_uq_rob)\n",
    "\n",
    "cat(length(name_list), length(test_list), length(norm_list), length(disp_list), length(limma_list))              \n"
   ]
  },
  {
   "cell_type": "code",
   "execution_count": 164,
   "id": "6286b9fd-b79d-4229-883d-e3f5047d0aa6",
   "metadata": {},
   "outputs": [],
   "source": [
    "get_Limma_stats <- function(results_dict, name, celltype, res, test, norm, disp) {\n",
    "    #####################\n",
    "    ## Get sig results ##\n",
    "    ressig <- subset(res, adj.P.Val < 0.05)\n",
    "    ptitle=paste(name_list[indx], test_list[indx], disp_list[indx])\n",
    "    # Plot p-values\n",
    "    pl <- ggplot(data.frame(res), aes(x=P.Value)) + geom_histogram(fill=\"grey64\", binwidth=binwidth_use, color=\"black\", boundary=0) + theme_bw(base_size=15) + \n",
    "        geom_vline(xintercept=0.05, color=\"red\") + ggtitle(ptitle)\n",
    "    ####################\n",
    "    results_dict[[\"platform\"]] <- c(results_dict[[\"platform\"]], \"Limma\")\n",
    "    results_dict <- get_results_dict(results_dict, name, test, norm, disp, ressig)\n",
    "    ###############################################\n",
    "    ## Save the significant results ##\n",
    "    filename <- paste0(outdir, \"/results/\", celltype, \"_ressig_Limma_\", name, \"_\", norm, \"_\", test, \"_\", disp, \".txt\")\n",
    "    ressig <- ressig[,c(\"logFC\", \"adj.P.Val\")]\n",
    "    write.table(ressig, filename,  quote=FALSE, sep=\"\\t\")\n",
    "    return(results_dict)\n",
    "    }"
   ]
  },
  {
   "cell_type": "code",
   "execution_count": 165,
   "id": "c26fb53c-0fbf-4a3d-8ed5-a86a3cd9c3d9",
   "metadata": {},
   "outputs": [
    {
     "data": {
      "text/html": [
       "<style>\n",
       ".list-inline {list-style: none; margin:0; padding: 0}\n",
       ".list-inline>li {display: inline-block}\n",
       ".list-inline>li:not(:last-child)::after {content: \"\\00b7\"; padding: 0 .5ex}\n",
       "</style>\n",
       "<ol class=list-inline><li>74</li><li>12</li></ol>\n"
      ],
      "text/latex": [
       "\\begin{enumerate*}\n",
       "\\item 74\n",
       "\\item 12\n",
       "\\end{enumerate*}\n"
      ],
      "text/markdown": [
       "1. 74\n",
       "2. 12\n",
       "\n",
       "\n"
      ],
      "text/plain": [
       "[1] 74 12"
      ]
     },
     "metadata": {},
     "output_type": "display_data"
    },
    {
     "data": {
      "text/html": [
       "<table class=\"dataframe\">\n",
       "<caption>A data.frame: 4 × 12</caption>\n",
       "<thead>\n",
       "\t<tr><th></th><th scope=col>name</th><th scope=col>platform</th><th scope=col>test</th><th scope=col>disp</th><th scope=col>norm</th><th scope=col>Tot_Sig</th><th scope=col>TP_eartar</th><th scope=col>TP_ctknown</th><th scope=col>TP_chip</th><th scope=col>FP_chip_mean</th><th scope=col>FP_chip_median</th><th scope=col>FP_chip_sd</th></tr>\n",
       "\t<tr><th></th><th scope=col>&lt;chr&gt;</th><th scope=col>&lt;chr&gt;</th><th scope=col>&lt;chr&gt;</th><th scope=col>&lt;chr&gt;</th><th scope=col>&lt;chr&gt;</th><th scope=col>&lt;int&gt;</th><th scope=col>&lt;int&gt;</th><th scope=col>&lt;int&gt;</th><th scope=col>&lt;int&gt;</th><th scope=col>&lt;dbl&gt;</th><th scope=col>&lt;dbl&gt;</th><th scope=col>&lt;dbl&gt;</th></tr>\n",
       "</thead>\n",
       "<tbody>\n",
       "\t<tr><th scope=row>1</th><td>Bid</td><td>DESeq2</td><td>Wald</td><td>Mean      </td><td>Ratio</td><td>  0</td><td>NA</td><td>NA</td><td>  0</td><td>0.0</td><td>0</td><td>0.00000</td></tr>\n",
       "\t<tr><th scope=row>2</th><td>Bid</td><td>DESeq2</td><td>Wald</td><td>Parametric</td><td>Ratio</td><td>625</td><td>NA</td><td>NA</td><td>247</td><td>4.2</td><td>4</td><td>0.83666</td></tr>\n",
       "\t<tr><th scope=row>3</th><td>Bid</td><td>DESeq2</td><td>Wald</td><td>Local     </td><td>Ratio</td><td>625</td><td>NA</td><td>NA</td><td>247</td><td>4.2</td><td>4</td><td>0.83666</td></tr>\n",
       "\t<tr><th scope=row>4</th><td>Bid</td><td>DESeq2</td><td>LRT </td><td>Mean      </td><td>Ratio</td><td>  0</td><td>NA</td><td>NA</td><td>  0</td><td>0.0</td><td>0</td><td>0.00000</td></tr>\n",
       "</tbody>\n",
       "</table>\n"
      ],
      "text/latex": [
       "A data.frame: 4 × 12\n",
       "\\begin{tabular}{r|llllllllllll}\n",
       "  & name & platform & test & disp & norm & Tot\\_Sig & TP\\_eartar & TP\\_ctknown & TP\\_chip & FP\\_chip\\_mean & FP\\_chip\\_median & FP\\_chip\\_sd\\\\\n",
       "  & <chr> & <chr> & <chr> & <chr> & <chr> & <int> & <int> & <int> & <int> & <dbl> & <dbl> & <dbl>\\\\\n",
       "\\hline\n",
       "\t1 & Bid & DESeq2 & Wald & Mean       & Ratio &   0 & NA & NA &   0 & 0.0 & 0 & 0.00000\\\\\n",
       "\t2 & Bid & DESeq2 & Wald & Parametric & Ratio & 625 & NA & NA & 247 & 4.2 & 4 & 0.83666\\\\\n",
       "\t3 & Bid & DESeq2 & Wald & Local      & Ratio & 625 & NA & NA & 247 & 4.2 & 4 & 0.83666\\\\\n",
       "\t4 & Bid & DESeq2 & LRT  & Mean       & Ratio &   0 & NA & NA &   0 & 0.0 & 0 & 0.00000\\\\\n",
       "\\end{tabular}\n"
      ],
      "text/markdown": [
       "\n",
       "A data.frame: 4 × 12\n",
       "\n",
       "| <!--/--> | name &lt;chr&gt; | platform &lt;chr&gt; | test &lt;chr&gt; | disp &lt;chr&gt; | norm &lt;chr&gt; | Tot_Sig &lt;int&gt; | TP_eartar &lt;int&gt; | TP_ctknown &lt;int&gt; | TP_chip &lt;int&gt; | FP_chip_mean &lt;dbl&gt; | FP_chip_median &lt;dbl&gt; | FP_chip_sd &lt;dbl&gt; |\n",
       "|---|---|---|---|---|---|---|---|---|---|---|---|---|\n",
       "| 1 | Bid | DESeq2 | Wald | Mean       | Ratio |   0 | NA | NA |   0 | 0.0 | 0 | 0.00000 |\n",
       "| 2 | Bid | DESeq2 | Wald | Parametric | Ratio | 625 | NA | NA | 247 | 4.2 | 4 | 0.83666 |\n",
       "| 3 | Bid | DESeq2 | Wald | Local      | Ratio | 625 | NA | NA | 247 | 4.2 | 4 | 0.83666 |\n",
       "| 4 | Bid | DESeq2 | LRT  | Mean       | Ratio |   0 | NA | NA |   0 | 0.0 | 0 | 0.00000 |\n",
       "\n"
      ],
      "text/plain": [
       "  name platform test disp       norm  Tot_Sig TP_eartar TP_ctknown TP_chip\n",
       "1 Bid  DESeq2   Wald Mean       Ratio   0     NA        NA           0    \n",
       "2 Bid  DESeq2   Wald Parametric Ratio 625     NA        NA         247    \n",
       "3 Bid  DESeq2   Wald Local      Ratio 625     NA        NA         247    \n",
       "4 Bid  DESeq2   LRT  Mean       Ratio   0     NA        NA           0    \n",
       "  FP_chip_mean FP_chip_median FP_chip_sd\n",
       "1 0.0          0              0.00000   \n",
       "2 4.2          4              0.83666   \n",
       "3 4.2          4              0.83666   \n",
       "4 0.0          0              0.00000   "
      ]
     },
     "metadata": {},
     "output_type": "display_data"
    }
   ],
   "source": [
    "results_dict_final <- results_dict_DE\n",
    "dim(results_dict_final)\n",
    "results_dict_final[1:4,]"
   ]
  },
  {
   "cell_type": "code",
   "execution_count": 166,
   "id": "8259840d-d898-4bc5-b307-0a5e8e44bcd6",
   "metadata": {},
   "outputs": [
    {
     "data": {
      "text/html": [
       "<strong>pdf:</strong> 2"
      ],
      "text/latex": [
       "\\textbf{pdf:} 2"
      ],
      "text/markdown": [
       "**pdf:** 2"
      ],
      "text/plain": [
       "pdf \n",
       "  2 "
      ]
     },
     "metadata": {},
     "output_type": "display_data"
    }
   ],
   "source": [
    "results_dict_DE = list(\"name\"=c(), \"platform\"=c(), \"test\"=c(), \"disp\"=c(), \"norm\"=c(), \"Tot_Sig\"=c(), \n",
    "                    \"TP_eartar\"=c(), \"TP_ctknown\"=c(), \"TP_chip\"=c(), \"FP_chip_mean\"=c(), \"FP_chip_median\"=c(), \"FP_chip_sd\"=c())\n",
    "\n",
    "pdf(paste0(outdir, \"plots/\", celltype, \"_Limma.pdf\"))\n",
    "# add the results dict to the previous results dict\n",
    "for (indx in seq(1, length(name_list))) {\n",
    "    # get the results\n",
    "    results = topTable(limma_list[[indx]], coef=coefficient, sort.by = \"P\", number=Inf)\n",
    "    title = paste0(name_list[indx], \"_\", norm_list[indx], \"_\", test_list[indx], \"_\", disp_list[indx])\n",
    "    pl <- ggplot(results, aes(x=P.Value)) + \n",
    "    geom_histogram(fill=\"grey64\", binwidth=binwidth_use, color=\"black\", boundary=0) + theme_bw(base_size=15) + \n",
    "    geom_vline(xintercept=0.05, color=\"red\") + ggtitle(title) \n",
    "    print(pl)\n",
    "    if (name_list[indx] %in% c(\"Bid\", \"TSS\", \"NonTSS\") & norm_list[indx]==\"TMM\") {\n",
    "        filename <- paste0(outdir, \"results/RESULTS_\", celltype, \"_Limma_\", name_list[indx], \"_\", norm_list[indx], \"_\", test_list[indx], \"_\", disp_list[indx], \".txt\")\n",
    "        write.table(results[,c(\"logFC\",\"AveExpr\",\"P.Value\",\"adj.P.Val\")], filename, quote=FALSE, sep=\"\\t\")\n",
    "    }\n",
    "    results_dict_DE = get_Limma_stats(results_dict_DE, name_list[indx], celltype, \n",
    "                                       results, test_list[indx], norm_list[indx], disp_list[indx])\n",
    "    \n",
    "    }\n",
    "dev.off()"
   ]
  },
  {
   "cell_type": "code",
   "execution_count": 167,
   "id": "4a3ee950-6c20-4c61-9b5f-f2e9e1a68d1e",
   "metadata": {},
   "outputs": [
    {
     "data": {
      "text/html": [
       "<style>\n",
       ".list-inline {list-style: none; margin:0; padding: 0}\n",
       ".list-inline>li {display: inline-block}\n",
       ".list-inline>li:not(:last-child)::after {content: \"\\00b7\"; padding: 0 .5ex}\n",
       "</style>\n",
       "<ol class=list-inline><li>68</li><li>12</li></ol>\n"
      ],
      "text/latex": [
       "\\begin{enumerate*}\n",
       "\\item 68\n",
       "\\item 12\n",
       "\\end{enumerate*}\n"
      ],
      "text/markdown": [
       "1. 68\n",
       "2. 12\n",
       "\n",
       "\n"
      ],
      "text/plain": [
       "[1] 68 12"
      ]
     },
     "metadata": {},
     "output_type": "display_data"
    },
    {
     "data": {
      "text/html": [
       "<table class=\"dataframe\">\n",
       "<caption>A data.frame: 2 × 12</caption>\n",
       "<thead>\n",
       "\t<tr><th></th><th scope=col>name</th><th scope=col>platform</th><th scope=col>test</th><th scope=col>disp</th><th scope=col>norm</th><th scope=col>Tot_Sig</th><th scope=col>TP_eartar</th><th scope=col>TP_ctknown</th><th scope=col>TP_chip</th><th scope=col>FP_chip_mean</th><th scope=col>FP_chip_median</th><th scope=col>FP_chip_sd</th></tr>\n",
       "\t<tr><th></th><th scope=col>&lt;chr&gt;</th><th scope=col>&lt;chr&gt;</th><th scope=col>&lt;chr&gt;</th><th scope=col>&lt;chr&gt;</th><th scope=col>&lt;chr&gt;</th><th scope=col>&lt;int&gt;</th><th scope=col>&lt;int&gt;</th><th scope=col>&lt;int&gt;</th><th scope=col>&lt;int&gt;</th><th scope=col>&lt;dbl&gt;</th><th scope=col>&lt;dbl&gt;</th><th scope=col>&lt;dbl&gt;</th></tr>\n",
       "</thead>\n",
       "<tbody>\n",
       "\t<tr><th scope=row>1</th><td>Orig_Gene</td><td>Limma</td><td>eBayes</td><td>Trend</td><td>TMM</td><td>428</td><td>31</td><td>103</td><td> NA</td><td>NA</td><td>NA</td><td>NA</td></tr>\n",
       "\t<tr><th scope=row>2</th><td>Orig_Bid </td><td>Limma</td><td>eBayes</td><td>Trend</td><td>TMM</td><td>724</td><td>NA</td><td> NA</td><td>211</td><td> 3</td><td> 3</td><td> 1</td></tr>\n",
       "</tbody>\n",
       "</table>\n"
      ],
      "text/latex": [
       "A data.frame: 2 × 12\n",
       "\\begin{tabular}{r|llllllllllll}\n",
       "  & name & platform & test & disp & norm & Tot\\_Sig & TP\\_eartar & TP\\_ctknown & TP\\_chip & FP\\_chip\\_mean & FP\\_chip\\_median & FP\\_chip\\_sd\\\\\n",
       "  & <chr> & <chr> & <chr> & <chr> & <chr> & <int> & <int> & <int> & <int> & <dbl> & <dbl> & <dbl>\\\\\n",
       "\\hline\n",
       "\t1 & Orig\\_Gene & Limma & eBayes & Trend & TMM & 428 & 31 & 103 &  NA & NA & NA & NA\\\\\n",
       "\t2 & Orig\\_Bid  & Limma & eBayes & Trend & TMM & 724 & NA &  NA & 211 &  3 &  3 &  1\\\\\n",
       "\\end{tabular}\n"
      ],
      "text/markdown": [
       "\n",
       "A data.frame: 2 × 12\n",
       "\n",
       "| <!--/--> | name &lt;chr&gt; | platform &lt;chr&gt; | test &lt;chr&gt; | disp &lt;chr&gt; | norm &lt;chr&gt; | Tot_Sig &lt;int&gt; | TP_eartar &lt;int&gt; | TP_ctknown &lt;int&gt; | TP_chip &lt;int&gt; | FP_chip_mean &lt;dbl&gt; | FP_chip_median &lt;dbl&gt; | FP_chip_sd &lt;dbl&gt; |\n",
       "|---|---|---|---|---|---|---|---|---|---|---|---|---|\n",
       "| 1 | Orig_Gene | Limma | eBayes | Trend | TMM | 428 | 31 | 103 |  NA | NA | NA | NA |\n",
       "| 2 | Orig_Bid  | Limma | eBayes | Trend | TMM | 724 | NA |  NA | 211 |  3 |  3 |  1 |\n",
       "\n"
      ],
      "text/plain": [
       "  name      platform test   disp  norm Tot_Sig TP_eartar TP_ctknown TP_chip\n",
       "1 Orig_Gene Limma    eBayes Trend TMM  428     31        103         NA    \n",
       "2 Orig_Bid  Limma    eBayes Trend TMM  724     NA         NA        211    \n",
       "  FP_chip_mean FP_chip_median FP_chip_sd\n",
       "1 NA           NA             NA        \n",
       "2  3            3              1        "
      ]
     },
     "metadata": {},
     "output_type": "display_data"
    },
    {
     "data": {
      "text/html": [
       "<table class=\"dataframe\">\n",
       "<caption>A data.frame: 2 × 12</caption>\n",
       "<thead>\n",
       "\t<tr><th></th><th scope=col>name</th><th scope=col>platform</th><th scope=col>test</th><th scope=col>disp</th><th scope=col>norm</th><th scope=col>Tot_Sig</th><th scope=col>TP_eartar</th><th scope=col>TP_ctknown</th><th scope=col>TP_chip</th><th scope=col>FP_chip_mean</th><th scope=col>FP_chip_median</th><th scope=col>FP_chip_sd</th></tr>\n",
       "\t<tr><th></th><th scope=col>&lt;chr&gt;</th><th scope=col>&lt;chr&gt;</th><th scope=col>&lt;chr&gt;</th><th scope=col>&lt;chr&gt;</th><th scope=col>&lt;chr&gt;</th><th scope=col>&lt;int&gt;</th><th scope=col>&lt;int&gt;</th><th scope=col>&lt;int&gt;</th><th scope=col>&lt;int&gt;</th><th scope=col>&lt;dbl&gt;</th><th scope=col>&lt;dbl&gt;</th><th scope=col>&lt;dbl&gt;</th></tr>\n",
       "</thead>\n",
       "<tbody>\n",
       "\t<tr><th scope=row>1</th><td>Bid</td><td>DESeq2</td><td>Wald</td><td>Mean      </td><td>Ratio</td><td>  0</td><td>NA</td><td>NA</td><td>  0</td><td>0.0</td><td>0</td><td>0.00000</td></tr>\n",
       "\t<tr><th scope=row>2</th><td>Bid</td><td>DESeq2</td><td>Wald</td><td>Parametric</td><td>Ratio</td><td>625</td><td>NA</td><td>NA</td><td>247</td><td>4.2</td><td>4</td><td>0.83666</td></tr>\n",
       "</tbody>\n",
       "</table>\n"
      ],
      "text/latex": [
       "A data.frame: 2 × 12\n",
       "\\begin{tabular}{r|llllllllllll}\n",
       "  & name & platform & test & disp & norm & Tot\\_Sig & TP\\_eartar & TP\\_ctknown & TP\\_chip & FP\\_chip\\_mean & FP\\_chip\\_median & FP\\_chip\\_sd\\\\\n",
       "  & <chr> & <chr> & <chr> & <chr> & <chr> & <int> & <int> & <int> & <int> & <dbl> & <dbl> & <dbl>\\\\\n",
       "\\hline\n",
       "\t1 & Bid & DESeq2 & Wald & Mean       & Ratio &   0 & NA & NA &   0 & 0.0 & 0 & 0.00000\\\\\n",
       "\t2 & Bid & DESeq2 & Wald & Parametric & Ratio & 625 & NA & NA & 247 & 4.2 & 4 & 0.83666\\\\\n",
       "\\end{tabular}\n"
      ],
      "text/markdown": [
       "\n",
       "A data.frame: 2 × 12\n",
       "\n",
       "| <!--/--> | name &lt;chr&gt; | platform &lt;chr&gt; | test &lt;chr&gt; | disp &lt;chr&gt; | norm &lt;chr&gt; | Tot_Sig &lt;int&gt; | TP_eartar &lt;int&gt; | TP_ctknown &lt;int&gt; | TP_chip &lt;int&gt; | FP_chip_mean &lt;dbl&gt; | FP_chip_median &lt;dbl&gt; | FP_chip_sd &lt;dbl&gt; |\n",
       "|---|---|---|---|---|---|---|---|---|---|---|---|---|\n",
       "| 1 | Bid | DESeq2 | Wald | Mean       | Ratio |   0 | NA | NA |   0 | 0.0 | 0 | 0.00000 |\n",
       "| 2 | Bid | DESeq2 | Wald | Parametric | Ratio | 625 | NA | NA | 247 | 4.2 | 4 | 0.83666 |\n",
       "\n"
      ],
      "text/plain": [
       "  name platform test disp       norm  Tot_Sig TP_eartar TP_ctknown TP_chip\n",
       "1 Bid  DESeq2   Wald Mean       Ratio   0     NA        NA           0    \n",
       "2 Bid  DESeq2   Wald Parametric Ratio 625     NA        NA         247    \n",
       "  FP_chip_mean FP_chip_median FP_chip_sd\n",
       "1 0.0          0              0.00000   \n",
       "2 4.2          4              0.83666   "
      ]
     },
     "metadata": {},
     "output_type": "display_data"
    }
   ],
   "source": [
    "results_dict_DE <- as.data.frame(results_dict_DE)\n",
    "dim(results_dict_DE)\n",
    "results_dict_DE[1:2,]\n",
    "results_dict_final[1:2,]"
   ]
  },
  {
   "cell_type": "code",
   "execution_count": 168,
   "id": "a91242d8-1fc8-459d-b5ca-1f792f829d40",
   "metadata": {},
   "outputs": [
    {
     "data": {
      "text/html": [
       "<style>\n",
       ".list-inline {list-style: none; margin:0; padding: 0}\n",
       ".list-inline>li {display: inline-block}\n",
       ".list-inline>li:not(:last-child)::after {content: \"\\00b7\"; padding: 0 .5ex}\n",
       "</style>\n",
       "<ol class=list-inline><li>74</li><li>12</li></ol>\n"
      ],
      "text/latex": [
       "\\begin{enumerate*}\n",
       "\\item 74\n",
       "\\item 12\n",
       "\\end{enumerate*}\n"
      ],
      "text/markdown": [
       "1. 74\n",
       "2. 12\n",
       "\n",
       "\n"
      ],
      "text/plain": [
       "[1] 74 12"
      ]
     },
     "metadata": {},
     "output_type": "display_data"
    },
    {
     "data": {
      "text/html": [
       "<style>\n",
       ".list-inline {list-style: none; margin:0; padding: 0}\n",
       ".list-inline>li {display: inline-block}\n",
       ".list-inline>li:not(:last-child)::after {content: \"\\00b7\"; padding: 0 .5ex}\n",
       "</style>\n",
       "<ol class=list-inline><li>142</li><li>12</li></ol>\n"
      ],
      "text/latex": [
       "\\begin{enumerate*}\n",
       "\\item 142\n",
       "\\item 12\n",
       "\\end{enumerate*}\n"
      ],
      "text/markdown": [
       "1. 142\n",
       "2. 12\n",
       "\n",
       "\n"
      ],
      "text/plain": [
       "[1] 142  12"
      ]
     },
     "metadata": {},
     "output_type": "display_data"
    }
   ],
   "source": [
    "dim(results_dict_final)\n",
    "results_dict_final <- rbind(results_dict_final, results_dict_DE)\n",
    "dim(results_dict_final)"
   ]
  },
  {
   "cell_type": "markdown",
   "id": "6eec51d9-03e3-438c-9ed3-58d0fd89aabc",
   "metadata": {},
   "source": [
    "## 4. DE with EdgeR"
   ]
  },
  {
   "cell_type": "markdown",
   "id": "006e3339-9805-4106-81b1-3f36a885d41c",
   "metadata": {},
   "source": [
    "### 4A. Estimate Dispersions"
   ]
  },
  {
   "cell_type": "code",
   "execution_count": 169,
   "id": "958b673a-6710-4d0e-851f-613192f67740",
   "metadata": {},
   "outputs": [],
   "source": [
    "## TMM normalization\n",
    "### Locfit\n",
    "d0_gene_lf <- estimateDisp(d0_gene, design = design_mat)\n",
    "d0_gene_fix_lf <- estimateDisp(d0_gene_fix, design = design_mat)\n",
    "d0_gene_fix_lf_rob <- estimateDisp(d0_gene_fix, design = design_mat, robust=TRUE)\n",
    "d0_bid_lf <- estimateDisp(d0_bid, design = design_mat)\n",
    "d0_bid_fix_lf <- estimateDisp(d0_bid_fix, design = design_mat)\n",
    "d0_bid_fix_lf_rob <- estimateDisp(d0_bid_fix, design = design_mat, robust=TRUE)\n",
    "d0_tss_bid_fix_lf <- estimateDisp(d0_tss_bid_fix, design = design_mat)\n",
    "d0_tss_bid_fix_lf_rob <- estimateDisp(d0_tss_bid_fix, design = design_mat, robust=TRUE)\n",
    "d0_nontss_bid_fix_lf <- estimateDisp(d0_nontss_bid_fix, design = design_mat)\n",
    "d0_nontss_bid_fix_lf_rob <- estimateDisp(d0_nontss_bid_fix, design = design_mat, robust=TRUE)\n",
    "\n",
    "### Movingave\n",
    "d0_gene_fix_ma <- estimateDisp(d0_gene_fix, design = design_mat, trend.method = \"movingave\")\n",
    "d0_gene_fix_ma_rob <- estimateDisp(d0_gene_fix, design = design_mat, trend.method = \"movingave\", robust=TRUE)\n",
    "d0_bid_fix_ma <- estimateDisp(d0_bid_fix, design = design_mat, trend.method = \"movingave\")\n",
    "d0_bid_fix_ma_rob <- estimateDisp(d0_bid_fix, design = design_mat, trend.method = \"movingave\", robust=TRUE)\n",
    "d0_tss_bid_fix_ma <- estimateDisp(d0_tss_bid_fix, design = design_mat, trend.method = \"movingave\")\n",
    "d0_tss_bid_fix_ma_rob <- estimateDisp(d0_tss_bid_fix, design = design_mat, trend.method = \"movingave\", robust=TRUE)\n",
    "d0_nontss_bid_fix_ma <- estimateDisp(d0_nontss_bid_fix, design = design_mat, trend.method = \"movingave\")\n",
    "d0_nontss_bid_fix_ma_rob <- estimateDisp(d0_nontss_bid_fix, design = design_mat, trend.method = \"movingave\", robust=TRUE)\n",
    "\n",
    "### LOESS\n",
    "d0_gene_fix_ls <- estimateDisp(d0_gene_fix, design = design_mat, trend.method = \"loess\")\n",
    "d0_gene_fix_ls_rob <- estimateDisp(d0_gene_fix, design = design_mat, trend.method = \"loess\", robust=TRUE)\n",
    "d0_bid_fix_ls <- estimateDisp(d0_bid_fix, design = design_mat, trend.method = \"loess\")\n",
    "d0_bid_fix_ls_rob <- estimateDisp(d0_bid_fix, design = design_mat, trend.method = \"loess\", robust=TRUE)\n",
    "d0_tss_bid_fix_ls <- estimateDisp(d0_tss_bid_fix, design = design_mat, trend.method = \"loess\")\n",
    "d0_tss_bid_fix_ls_rob <- estimateDisp(d0_tss_bid_fix, design = design_mat, trend.method = \"loess\", robust=TRUE)\n",
    "d0_nontss_bid_fix_ls <- estimateDisp(d0_nontss_bid_fix, design = design_mat, trend.method = \"loess\")\n",
    "d0_nontss_bid_fix_ls_rob <- estimateDisp(d0_nontss_bid_fix, design = design_mat, trend.method = \"loess\", robust=TRUE)\n",
    "\n",
    "### Locfit.mixed\n",
    "d0_gene_fix_lcf <- estimateDisp(d0_gene_fix, design = design_mat, trend.method = \"locfit.mixed\")\n",
    "d0_gene_fix_lcf_rob <- estimateDisp(d0_gene_fix, design = design_mat, trend.method = \"locfit.mixed\", robust=TRUE)\n",
    "d0_bid_fix_lcf <- estimateDisp(d0_bid_fix, design = design_mat, trend.method = \"locfit.mixed\")\n",
    "d0_bid_fix_lcf_rob <- estimateDisp(d0_bid_fix, design = design_mat, trend.method = \"locfit.mixed\", robust=TRUE)\n",
    "d0_tss_bid_fix_lcf <- estimateDisp(d0_tss_bid_fix, design = design_mat, trend.method = \"locfit.mixed\")\n",
    "d0_tss_bid_fix_lcf_rob <- estimateDisp(d0_tss_bid_fix, design = design_mat, trend.method = \"locfit.mixed\", robust=TRUE)\n",
    "d0_nontss_bid_fix_lcf <- estimateDisp(d0_nontss_bid_fix, design = design_mat, trend.method = \"locfit.mixed\")\n",
    "d0_nontss_bid_fix_lcf_rob <- estimateDisp(d0_nontss_bid_fix, design = design_mat, trend.method = \"locfit.mixed\", robust=TRUE)\n"
   ]
  },
  {
   "cell_type": "code",
   "execution_count": 170,
   "id": "8f807f25-14ab-41d7-8e0e-341e47f32322",
   "metadata": {},
   "outputs": [],
   "source": [
    "## TMM wsp normalization\n",
    "### Locfit\n",
    "d0_gene_fix_tw_lf <- estimateDisp(d0_gene_fix_tw, design = design_mat)\n",
    "d0_gene_fix_tw_lf_rob <- estimateDisp(d0_gene_fix_tw, design = design_mat, robust=TRUE)\n",
    "d0_bid_fix_tw_lf <- estimateDisp(d0_bid_fix_tw, design = design_mat)\n",
    "d0_bid_fix_tw_lf_rob <- estimateDisp(d0_bid_fix_tw, design = design_mat, robust=TRUE)\n",
    "d0_tss_bid_fix_tw_lf <- estimateDisp(d0_tss_bid_fix_tw, design = design_mat)\n",
    "d0_tss_bid_fix_tw_lf_rob <- estimateDisp(d0_tss_bid_fix_tw, design = design_mat, robust=TRUE)\n",
    "d0_nontss_bid_fix_tw_lf <- estimateDisp(d0_nontss_bid_fix_tw, design = design_mat)\n",
    "d0_nontss_bid_fix_tw_lf_rob <- estimateDisp(d0_nontss_bid_fix_tw, design = design_mat, robust=TRUE)\n",
    "\n",
    "### Movingave\n",
    "d0_gene_fix_tw_ma <- estimateDisp(d0_gene_fix_tw, design = design_mat, trend.method = \"movingave\")\n",
    "d0_gene_fix_tw_ma_rob <- estimateDisp(d0_gene_fix_tw, design = design_mat, trend.method = \"movingave\", robust=TRUE)\n",
    "d0_bid_fix_tw_ma <- estimateDisp(d0_bid_fix_tw, design = design_mat, trend.method = \"movingave\")\n",
    "d0_bid_fix_tw_ma_rob <- estimateDisp(d0_bid_fix_tw, design = design_mat, trend.method = \"movingave\", robust=TRUE)\n",
    "d0_tss_bid_fix_tw_ma <- estimateDisp(d0_tss_bid_fix_tw, design = design_mat, trend.method = \"movingave\")\n",
    "d0_tss_bid_fix_tw_ma_rob <- estimateDisp(d0_tss_bid_fix_tw, design = design_mat, trend.method = \"movingave\", robust=TRUE)\n",
    "d0_nontss_bid_fix_tw_ma <- estimateDisp(d0_nontss_bid_fix_tw, design = design_mat, trend.method = \"movingave\")\n",
    "d0_nontss_bid_fix_tw_ma_rob <- estimateDisp(d0_nontss_bid_fix_tw, design = design_mat, trend.method = \"movingave\", robust=TRUE)\n",
    "\n",
    "### LOESS\n",
    "d0_gene_fix_tw_ls <- estimateDisp(d0_gene_fix_tw, design = design_mat, trend.method = \"loess\")\n",
    "d0_gene_fix_tw_ls_rob <- estimateDisp(d0_gene_fix_tw, design = design_mat, trend.method = \"loess\", robust=TRUE)\n",
    "d0_bid_fix_tw_ls <- estimateDisp(d0_bid_fix_tw, design = design_mat, trend.method = \"loess\")\n",
    "d0_bid_fix_tw_ls_rob <- estimateDisp(d0_bid_fix_tw, design = design_mat, trend.method = \"loess\", robust=TRUE)\n",
    "d0_tss_bid_fix_tw_ls <- estimateDisp(d0_tss_bid_fix_tw, design = design_mat, trend.method = \"loess\")\n",
    "d0_tss_bid_fix_tw_ls_rob <- estimateDisp(d0_tss_bid_fix_tw, design = design_mat, trend.method = \"loess\", robust=TRUE)\n",
    "d0_nontss_bid_fix_tw_ls <- estimateDisp(d0_nontss_bid_fix_tw, design = design_mat, trend.method = \"loess\")\n",
    "d0_nontss_bid_fix_tw_ls_rob <- estimateDisp(d0_nontss_bid_fix_tw, design = design_mat, trend.method = \"loess\", robust=TRUE)\n",
    "\n",
    "### Locfit.mixed\n",
    "d0_gene_fix_tw_lcf <- estimateDisp(d0_gene_fix_tw, design = design_mat, trend.method = \"locfit.mixed\")\n",
    "d0_gene_fix_tw_lcf_rob <- estimateDisp(d0_gene_fix_tw, design = design_mat, trend.method = \"locfit.mixed\", robust=TRUE)\n",
    "d0_bid_fix_tw_lcf <- estimateDisp(d0_bid_fix_tw, design = design_mat, trend.method = \"locfit.mixed\")\n",
    "d0_bid_fix_tw_lcf_rob <- estimateDisp(d0_bid_fix_tw, design = design_mat, trend.method = \"locfit.mixed\", robust=TRUE)\n",
    "d0_tss_bid_fix_tw_lcf <- estimateDisp(d0_tss_bid_fix_tw, design = design_mat, trend.method = \"locfit.mixed\")\n",
    "d0_tss_bid_fix_tw_lcf_rob <- estimateDisp(d0_tss_bid_fix_tw, design = design_mat, trend.method = \"locfit.mixed\", robust=TRUE)\n",
    "d0_nontss_bid_fix_tw_lcf <- estimateDisp(d0_nontss_bid_fix_tw, design = design_mat, trend.method = \"locfit.mixed\")\n",
    "d0_nontss_bid_fix_tw_lcf_rob <- estimateDisp(d0_nontss_bid_fix_tw, design = design_mat, trend.method = \"locfit.mixed\", robust=TRUE)\n"
   ]
  },
  {
   "cell_type": "code",
   "execution_count": 171,
   "id": "64ac660c-23c5-4525-b3f1-e6e6fbd61242",
   "metadata": {},
   "outputs": [],
   "source": [
    "## RLE normalization\n",
    "### Locfit\n",
    "d0_gene_fix_rle_lf <- estimateDisp(d0_gene_fix_rle, design = design_mat)\n",
    "d0_gene_fix_rle_lf_rob <- estimateDisp(d0_gene_fix_rle, design = design_mat, robust=TRUE)\n",
    "d0_bid_fix_rle_lf <- estimateDisp(d0_bid_fix_rle, design = design_mat)\n",
    "d0_bid_fix_rle_lf_rob <- estimateDisp(d0_bid_fix_rle, design = design_mat, robust=TRUE)\n",
    "d0_tss_bid_fix_rle_lf <- estimateDisp(d0_tss_bid_fix_rle, design = design_mat)\n",
    "d0_tss_bid_fix_rle_lf_rob <- estimateDisp(d0_tss_bid_fix_rle, design = design_mat, robust=TRUE)\n",
    "d0_nontss_bid_fix_rle_lf <- estimateDisp(d0_nontss_bid_fix_rle, design = design_mat)\n",
    "d0_nontss_bid_fix_rle_lf_rob <- estimateDisp(d0_nontss_bid_fix_rle, design = design_mat, robust=TRUE)\n",
    "\n",
    "### Movingave\n",
    "d0_gene_fix_rle_ma <- estimateDisp(d0_gene_fix_rle, design = design_mat, trend.method = \"movingave\")\n",
    "d0_gene_fix_rle_ma_rob <- estimateDisp(d0_gene_fix_rle, design = design_mat, trend.method = \"movingave\", robust=TRUE)\n",
    "d0_bid_fix_rle_ma <- estimateDisp(d0_bid_fix_rle, design = design_mat, trend.method = \"movingave\")\n",
    "d0_bid_fix_rle_ma_rob <- estimateDisp(d0_bid_fix_rle, design = design_mat, trend.method = \"movingave\", robust=TRUE)\n",
    "d0_tss_bid_fix_rle_ma <- estimateDisp(d0_tss_bid_fix_rle, design = design_mat, trend.method = \"movingave\")\n",
    "d0_tss_bid_fix_rle_ma_rob <- estimateDisp(d0_tss_bid_fix_rle, design = design_mat, trend.method = \"movingave\", robust=TRUE)\n",
    "d0_nontss_bid_fix_rle_ma <- estimateDisp(d0_nontss_bid_fix_rle, design = design_mat, trend.method = \"movingave\")\n",
    "d0_nontss_bid_fix_rle_ma_rob <- estimateDisp(d0_nontss_bid_fix_rle, design = design_mat, trend.method = \"movingave\", robust=TRUE)\n",
    "\n",
    "### LOESS\n",
    "d0_gene_fix_rle_ls <- estimateDisp(d0_gene_fix_rle, design = design_mat, trend.method = \"loess\")\n",
    "d0_gene_fix_rle_ls_rob <- estimateDisp(d0_gene_fix_rle, design = design_mat, trend.method = \"loess\", robust=TRUE)\n",
    "d0_bid_fix_rle_ls <- estimateDisp(d0_bid_fix_rle, design = design_mat, trend.method = \"loess\")\n",
    "d0_bid_fix_rle_ls_rob <- estimateDisp(d0_bid_fix_rle, design = design_mat, trend.method = \"loess\", robust=TRUE)\n",
    "d0_tss_bid_fix_rle_ls <- estimateDisp(d0_tss_bid_fix_rle, design = design_mat, trend.method = \"loess\")\n",
    "d0_tss_bid_fix_rle_ls_rob <- estimateDisp(d0_tss_bid_fix_rle, design = design_mat, trend.method = \"loess\", robust=TRUE)\n",
    "d0_nontss_bid_fix_rle_ls <- estimateDisp(d0_nontss_bid_fix_rle, design = design_mat, trend.method = \"loess\")\n",
    "d0_nontss_bid_fix_rle_ls_rob <- estimateDisp(d0_nontss_bid_fix_rle, design = design_mat, trend.method = \"loess\", robust=TRUE)\n",
    "\n",
    "### Locfit.mixed\n",
    "d0_gene_fix_rle_lcf <- estimateDisp(d0_gene_fix_rle, design = design_mat, trend.method = \"locfit.mixed\")\n",
    "d0_gene_fix_rle_lcf_rob <- estimateDisp(d0_gene_fix_rle, design = design_mat, trend.method = \"locfit.mixed\", robust=TRUE)\n",
    "d0_bid_fix_rle_lcf <- estimateDisp(d0_bid_fix_rle, design = design_mat, trend.method = \"locfit.mixed\")\n",
    "d0_bid_fix_rle_lcf_rob <- estimateDisp(d0_bid_fix_rle, design = design_mat, trend.method = \"locfit.mixed\", robust=TRUE)\n",
    "d0_tss_bid_fix_rle_lcf <- estimateDisp(d0_tss_bid_fix_rle, design = design_mat, trend.method = \"locfit.mixed\")\n",
    "d0_tss_bid_fix_rle_lcf_rob <- estimateDisp(d0_tss_bid_fix_rle, design = design_mat, trend.method = \"locfit.mixed\", robust=TRUE)\n",
    "d0_nontss_bid_fix_rle_lcf <- estimateDisp(d0_nontss_bid_fix_rle, design = design_mat, trend.method = \"locfit.mixed\")\n",
    "d0_nontss_bid_fix_rle_lcf_rob <- estimateDisp(d0_nontss_bid_fix_rle, design = design_mat, trend.method = \"locfit.mixed\", robust=TRUE)\n"
   ]
  },
  {
   "cell_type": "code",
   "execution_count": 173,
   "id": "d5595285-f904-45e8-aaa4-f3ceec3bd99d",
   "metadata": {},
   "outputs": [],
   "source": [
    "## Upper quartile normalization\n",
    "### Locfit\n",
    "d0_gene_fix_uq_lf <- estimateDisp(d0_gene_fix_uq, design = design_mat)\n",
    "d0_gene_fix_uq_lf_rob <- estimateDisp(d0_gene_fix_uq, design = design_mat, robust=TRUE)\n",
    "d0_bid_fix_uq_lf <- estimateDisp(d0_bid_fix_uq, design = design_mat)\n",
    "d0_bid_fix_uq_lf_rob <- estimateDisp(d0_bid_fix_uq, design = design_mat, robust=TRUE)\n",
    "d0_tss_bid_fix_uq_lf <- estimateDisp(d0_tss_bid_fix_uq, design = design_mat)\n",
    "d0_tss_bid_fix_uq_lf_rob <- estimateDisp(d0_tss_bid_fix_uq, design = design_mat, robust=TRUE)\n",
    "d0_nontss_bid_fix_uq_lf <- estimateDisp(d0_nontss_bid_fix_uq, design = design_mat)\n",
    "d0_nontss_bid_fix_uq_lf_rob <- estimateDisp(d0_nontss_bid_fix_uq, design = design_mat, robust=TRUE)\n",
    "\n",
    "### Movingave\n",
    "d0_gene_fix_uq_ma <- estimateDisp(d0_gene_fix_uq, design = design_mat, trend.method = \"movingave\")\n",
    "d0_gene_fix_uq_ma_rob <- estimateDisp(d0_gene_fix_uq, design = design_mat, trend.method = \"movingave\", robust=TRUE)\n",
    "d0_bid_fix_uq_ma <- estimateDisp(d0_bid_fix_uq, design = design_mat, trend.method = \"movingave\")\n",
    "d0_bid_fix_uq_ma_rob <- estimateDisp(d0_bid_fix_uq, design = design_mat, trend.method = \"movingave\", robust=TRUE)\n",
    "d0_tss_bid_fix_uq_ma <- estimateDisp(d0_tss_bid_fix_uq, design = design_mat, trend.method = \"movingave\")\n",
    "d0_tss_bid_fix_uq_ma_rob <- estimateDisp(d0_tss_bid_fix_uq, design = design_mat, trend.method = \"movingave\", robust=TRUE)\n",
    "d0_nontss_bid_fix_uq_ma <- estimateDisp(d0_nontss_bid_fix_uq, design = design_mat, trend.method = \"movingave\")\n",
    "d0_nontss_bid_fix_uq_ma_rob <- estimateDisp(d0_nontss_bid_fix_uq, design = design_mat, trend.method = \"movingave\", robust=TRUE)\n",
    "\n",
    "### LOESS\n",
    "d0_gene_fix_uq_ls <- estimateDisp(d0_gene_fix_uq, design = design_mat, trend.method = \"loess\")\n",
    "d0_gene_fix_uq_ls_rob <- estimateDisp(d0_gene_fix_uq, design = design_mat, trend.method = \"loess\", robust=TRUE)\n",
    "d0_bid_fix_uq_ls <- estimateDisp(d0_bid_fix_uq, design = design_mat, trend.method = \"loess\")\n",
    "d0_bid_fix_uq_ls_rob <- estimateDisp(d0_bid_fix_uq, design = design_mat, trend.method = \"loess\", robust=TRUE)\n",
    "d0_tss_bid_fix_uq_ls <- estimateDisp(d0_tss_bid_fix_uq, design = design_mat, trend.method = \"loess\")\n",
    "d0_tss_bid_fix_uq_ls_rob <- estimateDisp(d0_tss_bid_fix_uq, design = design_mat, trend.method = \"loess\", robust=TRUE)\n",
    "d0_nontss_bid_fix_uq_ls <- estimateDisp(d0_nontss_bid_fix_uq, design = design_mat, trend.method = \"loess\")\n",
    "d0_nontss_bid_fix_uq_ls_rob <- estimateDisp(d0_nontss_bid_fix_uq, design = design_mat, trend.method = \"loess\", robust=TRUE)\n",
    "\n",
    "### Locfit.mixed\n",
    "d0_gene_fix_uq_lcf <- estimateDisp(d0_gene_fix_uq, design = design_mat, trend.method = \"locfit.mixed\")\n",
    "d0_gene_fix_uq_lcf_rob <- estimateDisp(d0_gene_fix_uq, design = design_mat, trend.method = \"locfit.mixed\", robust=TRUE)\n",
    "d0_bid_fix_uq_lcf <- estimateDisp(d0_bid_fix_uq, design = design_mat, trend.method = \"locfit.mixed\")\n",
    "d0_bid_fix_uq_lcf_rob <- estimateDisp(d0_bid_fix_uq, design = design_mat, trend.method = \"locfit.mixed\", robust=TRUE)\n",
    "d0_tss_bid_fix_uq_lcf <- estimateDisp(d0_tss_bid_fix_uq, design = design_mat, trend.method = \"locfit.mixed\")\n",
    "d0_tss_bid_fix_uq_lcf_rob <- estimateDisp(d0_tss_bid_fix_uq, design = design_mat, trend.method = \"locfit.mixed\", robust=TRUE)\n",
    "d0_nontss_bid_fix_uq_lcf <- estimateDisp(d0_nontss_bid_fix_uq, design = design_mat, trend.method = \"locfit.mixed\")\n",
    "d0_nontss_bid_fix_uq_lcf_rob <- estimateDisp(d0_nontss_bid_fix_uq, design = design_mat, trend.method = \"locfit.mixed\", robust=TRUE)\n"
   ]
  },
  {
   "cell_type": "markdown",
   "id": "7a22a26e-2a4a-4109-99e3-cc96ddc215d8",
   "metadata": {},
   "source": [
    "### 4B. GLM Testing"
   ]
  },
  {
   "cell_type": "code",
   "execution_count": 196,
   "id": "ace56296-4f09-4584-862c-f6aa820f98f8",
   "metadata": {},
   "outputs": [
    {
     "data": {
      "text/html": [
       "'TreatmentNut'"
      ],
      "text/latex": [
       "'TreatmentNut'"
      ],
      "text/markdown": [
       "'TreatmentNut'"
      ],
      "text/plain": [
       "[1] \"TreatmentNut\""
      ]
     },
     "metadata": {},
     "output_type": "display_data"
    }
   ],
   "source": [
    "coefficient"
   ]
  },
  {
   "cell_type": "code",
   "execution_count": 197,
   "id": "f5d706ef-640a-4c46-8258-682bd1ae80c9",
   "metadata": {},
   "outputs": [],
   "source": [
    "## GLM testing for DE\n",
    "glm_test <- function(d0, X) {\n",
    "    fit <- glmFit(d0, X)\n",
    "    lrt <- glmLRT(fit, coef=coefficient)\n",
    "    return(lrt)\n",
    "    }"
   ]
  },
  {
   "cell_type": "code",
   "execution_count": 198,
   "id": "ca5c1658-9efd-4416-af70-f6acdf4d7f7d",
   "metadata": {},
   "outputs": [],
   "source": [
    "## TMM normalization\n",
    "### Locfit\n",
    "lrt_gene_lf <- glm_test(d0_gene_lf, design_mat)\n",
    "lrt_gene_fix_lf <- glm_test(d0_gene_fix_lf, design_mat)\n",
    "lrt_gene_fix_lf_rob <- glm_test(d0_gene_fix_lf_rob, design_mat)\n",
    "lrt_bid_lf <- glm_test(d0_bid_lf, design_mat)\n",
    "lrt_bid_fix_lf <- glm_test(d0_bid_fix_lf, design_mat)\n",
    "lrt_bid_fix_lf_rob <- glm_test(d0_bid_fix_lf_rob, design_mat)\n",
    "lrt_tss_bid_fix_lf <- glm_test(d0_tss_bid_fix_lf, design_mat)\n",
    "lrt_tss_bid_fix_lf_rob <- glm_test(d0_tss_bid_fix_lf_rob, design_mat)\n",
    "lrt_nontss_bid_fix_lf <- glm_test(d0_nontss_bid_fix_lf, design_mat)\n",
    "lrt_nontss_bid_fix_lf_rob <- glm_test(d0_nontss_bid_fix_lf_rob, design_mat)\n",
    "### Movingave\n",
    "lrt_gene_fix_ma <- glm_test(d0_gene_fix_ma, design_mat)\n",
    "lrt_gene_fix_ma_rob <- glm_test(d0_gene_fix_ma_rob, design_mat)\n",
    "lrt_bid_fix_ma <- glm_test(d0_bid_fix_ma, design_mat)\n",
    "lrt_bid_fix_ma_rob <- glm_test(d0_bid_fix_ma_rob, design_mat)\n",
    "lrt_tss_bid_fix_ma <- glm_test(d0_tss_bid_fix_ma, design_mat)\n",
    "lrt_tss_bid_fix_ma_rob <- glm_test(d0_tss_bid_fix_ma_rob, design_mat)\n",
    "lrt_nontss_bid_fix_ma <- glm_test(d0_nontss_bid_fix_ma, design_mat)\n",
    "lrt_nontss_bid_fix_ma_rob <- glm_test(d0_nontss_bid_fix_ma_rob, design_mat)\n",
    "### LOESS\n",
    "lrt_gene_fix_ls <- glm_test(d0_gene_fix_ls, design_mat)\n",
    "lrt_gene_fix_ls_rob <- glm_test(d0_gene_fix_ls_rob, design_mat)\n",
    "lrt_bid_fix_ls <- glm_test(d0_bid_fix_ls, design_mat)\n",
    "lrt_bid_fix_ls_rob <- glm_test(d0_bid_fix_ls_rob, design_mat)\n",
    "lrt_tss_bid_fix_ls <- glm_test(d0_tss_bid_fix_ls, design_mat)\n",
    "lrt_tss_bid_fix_ls_rob <- glm_test(d0_tss_bid_fix_ls_rob, design_mat)\n",
    "lrt_nontss_bid_fix_ls <- glm_test(d0_nontss_bid_fix_ls, design_mat)\n",
    "lrt_nontss_bid_fix_ls_rob <- glm_test(d0_nontss_bid_fix_ls_rob, design_mat)\n",
    "### Locfit.mixedd\n",
    "lrt_gene_fix_lcf <- glm_test(d0_gene_fix_lcf, design_mat)\n",
    "lrt_gene_fix_lcf_rob <- glm_test(d0_gene_fix_lcf_rob, design_mat)\n",
    "lrt_bid_fix_lcf <- glm_test(d0_bid_fix_lcf, design_mat)\n",
    "lrt_bid_fix_lcf_rob <- glm_test(d0_bid_fix_lcf_rob, design_mat)\n",
    "lrt_tss_bid_fix_lcf <- glm_test(d0_tss_bid_fix_lcf, design_mat)\n",
    "lrt_tss_bid_fix_lcf_rob <- glm_test(d0_tss_bid_fix_lcf_rob, design_mat)\n",
    "lrt_nontss_bid_fix_lcf <- glm_test(d0_nontss_bid_fix_lcf, design_mat)\n",
    "lrt_nontss_bid_fix_lcf_rob <- glm_test(d0_nontss_bid_fix_lcf_rob, design_mat)"
   ]
  },
  {
   "cell_type": "code",
   "execution_count": 199,
   "id": "b4aba2b6-77df-4f7f-bfd9-6bee06c9dc0c",
   "metadata": {},
   "outputs": [],
   "source": [
    "## TWS normalization\n",
    "### Locfit\n",
    "lrt_gene_fix_tw_lf <- glm_test(d0_gene_fix_tw_lf, design_mat)\n",
    "lrt_gene_fix_tw_lf_rob <- glm_test(d0_gene_fix_tw_lf_rob, design_mat)\n",
    "lrt_bid_fix_tw_lf <- glm_test(d0_bid_fix_tw_lf, design_mat)\n",
    "lrt_bid_fix_tw_lf_rob <- glm_test(d0_bid_fix_tw_lf_rob, design_mat)\n",
    "lrt_tss_bid_fix_tw_lf <- glm_test(d0_tss_bid_fix_tw_lf, design_mat)\n",
    "lrt_tss_bid_fix_tw_lf_rob <- glm_test(d0_tss_bid_fix_tw_lf_rob, design_mat)\n",
    "lrt_nontss_bid_fix_tw_lf <- glm_test(d0_nontss_bid_fix_tw_lf, design_mat)\n",
    "lrt_nontss_bid_fix_tw_lf_rob <- glm_test(d0_nontss_bid_fix_tw_lf_rob, design_mat)\n",
    "### Movingave\n",
    "lrt_gene_fix_tw_ma <- glm_test(d0_gene_fix_tw_ma, design_mat)\n",
    "lrt_gene_fix_tw_ma_rob <- glm_test(d0_gene_fix_tw_ma_rob, design_mat)\n",
    "lrt_bid_fix_tw_ma <- glm_test(d0_bid_fix_tw_ma, design_mat)\n",
    "lrt_bid_fix_tw_ma_rob <- glm_test(d0_bid_fix_tw_ma_rob, design_mat)\n",
    "lrt_tss_bid_fix_tw_ma <- glm_test(d0_tss_bid_fix_tw_ma, design_mat)\n",
    "lrt_tss_bid_fix_tw_ma_rob <- glm_test(d0_tss_bid_fix_tw_ma_rob, design_mat)\n",
    "lrt_nontss_bid_fix_tw_ma <- glm_test(d0_nontss_bid_fix_tw_ma, design_mat)\n",
    "lrt_nontss_bid_fix_tw_ma_rob <- glm_test(d0_nontss_bid_fix_tw_ma_rob, design_mat)\n",
    "### LOESS\n",
    "lrt_gene_fix_tw_ls <- glm_test(d0_gene_fix_tw_ls, design_mat)\n",
    "lrt_gene_fix_tw_ls_rob <- glm_test(d0_gene_fix_tw_ls_rob, design_mat)\n",
    "lrt_bid_fix_tw_ls <- glm_test(d0_bid_fix_tw_ls, design_mat)\n",
    "lrt_bid_fix_tw_ls_rob <- glm_test(d0_bid_fix_tw_ls_rob, design_mat)\n",
    "lrt_tss_bid_fix_tw_ls <- glm_test(d0_tss_bid_fix_tw_ls, design_mat)\n",
    "lrt_tss_bid_fix_tw_ls_rob <- glm_test(d0_tss_bid_fix_tw_ls_rob, design_mat)\n",
    "lrt_nontss_bid_fix_tw_ls <- glm_test(d0_nontss_bid_fix_tw_ls, design_mat)\n",
    "lrt_nontss_bid_fix_tw_ls_rob <- glm_test(d0_nontss_bid_fix_tw_ls_rob, design_mat)\n",
    "### Locfit.mixedd\n",
    "lrt_gene_fix_tw_lcf <- glm_test(d0_gene_fix_tw_lcf, design_mat)\n",
    "lrt_gene_fix_tw_lcf_rob <- glm_test(d0_gene_fix_tw_lcf_rob, design_mat)\n",
    "lrt_bid_fix_tw_lcf <- glm_test(d0_bid_fix_tw_lcf, design_mat)\n",
    "lrt_bid_fix_tw_lcf_rob <- glm_test(d0_bid_fix_tw_lcf_rob, design_mat)\n",
    "lrt_tss_bid_fix_tw_lcf <- glm_test(d0_tss_bid_fix_tw_lcf, design_mat)\n",
    "lrt_tss_bid_fix_tw_lcf_rob <- glm_test(d0_tss_bid_fix_tw_lcf_rob, design_mat)\n",
    "lrt_nontss_bid_fix_tw_lcf <- glm_test(d0_nontss_bid_fix_tw_lcf, design_mat)\n",
    "lrt_nontss_bid_fix_tw_lcf_rob <- glm_test(d0_nontss_bid_fix_tw_lcf_rob, design_mat)"
   ]
  },
  {
   "cell_type": "code",
   "execution_count": 200,
   "id": "085f5d0e-6653-435a-aac4-8000a29e14f5",
   "metadata": {},
   "outputs": [],
   "source": [
    "## RLE normalization\n",
    "### Locfit\n",
    "lrt_gene_fix_rle_lf <- glm_test(d0_gene_fix_rle_lf, design_mat)\n",
    "lrt_gene_fix_rle_lf_rob <- glm_test(d0_gene_fix_rle_lf_rob, design_mat)\n",
    "lrt_bid_fix_rle_lf <- glm_test(d0_bid_fix_rle_lf, design_mat)\n",
    "lrt_bid_fix_rle_lf_rob <- glm_test(d0_bid_fix_rle_lf_rob, design_mat)\n",
    "lrt_tss_bid_fix_rle_lf <- glm_test(d0_tss_bid_fix_rle_lf, design_mat)\n",
    "lrt_tss_bid_fix_rle_lf_rob <- glm_test(d0_tss_bid_fix_rle_lf_rob, design_mat)\n",
    "lrt_nontss_bid_fix_rle_lf <- glm_test(d0_nontss_bid_fix_rle_lf, design_mat)\n",
    "lrt_nontss_bid_fix_rle_lf_rob <- glm_test(d0_nontss_bid_fix_rle_lf_rob, design_mat)\n",
    "### Movingave\n",
    "lrt_gene_fix_rle_ma <- glm_test(d0_gene_fix_rle_ma, design_mat)\n",
    "lrt_gene_fix_rle_ma_rob <- glm_test(d0_gene_fix_rle_ma_rob, design_mat)\n",
    "lrt_bid_fix_rle_ma <- glm_test(d0_bid_fix_rle_ma, design_mat)\n",
    "lrt_bid_fix_rle_ma_rob <- glm_test(d0_bid_fix_rle_ma_rob, design_mat)\n",
    "lrt_tss_bid_fix_rle_ma <- glm_test(d0_tss_bid_fix_rle_ma, design_mat)\n",
    "lrt_tss_bid_fix_rle_ma_rob <- glm_test(d0_tss_bid_fix_rle_ma_rob, design_mat)\n",
    "lrt_nontss_bid_fix_rle_ma <- glm_test(d0_nontss_bid_fix_rle_ma, design_mat)\n",
    "lrt_nontss_bid_fix_rle_ma_rob <- glm_test(d0_nontss_bid_fix_rle_ma_rob, design_mat)\n",
    "### LOESS\n",
    "lrt_gene_fix_rle_ls <- glm_test(d0_gene_fix_rle_ls, design_mat)\n",
    "lrt_gene_fix_rle_ls_rob <- glm_test(d0_gene_fix_rle_ls_rob, design_mat)\n",
    "lrt_bid_fix_rle_ls <- glm_test(d0_bid_fix_rle_ls, design_mat)\n",
    "lrt_bid_fix_rle_ls_rob <- glm_test(d0_bid_fix_rle_ls_rob, design_mat)\n",
    "lrt_tss_bid_fix_rle_ls <- glm_test(d0_tss_bid_fix_rle_ls, design_mat)\n",
    "lrt_tss_bid_fix_rle_ls_rob <- glm_test(d0_tss_bid_fix_rle_ls_rob, design_mat)\n",
    "lrt_nontss_bid_fix_rle_ls <- glm_test(d0_nontss_bid_fix_rle_ls, design_mat)\n",
    "lrt_nontss_bid_fix_rle_ls_rob <- glm_test(d0_nontss_bid_fix_rle_ls_rob, design_mat)\n",
    "### Locfit.mixedd\n",
    "lrt_gene_fix_rle_lcf <- glm_test(d0_gene_fix_rle_lcf, design_mat)\n",
    "lrt_gene_fix_rle_lcf_rob <- glm_test(d0_gene_fix_rle_lcf_rob, design_mat)\n",
    "lrt_bid_fix_rle_lcf <- glm_test(d0_bid_fix_rle_lcf, design_mat)\n",
    "lrt_bid_fix_rle_lcf_rob <- glm_test(d0_bid_fix_rle_lcf_rob, design_mat)\n",
    "lrt_tss_bid_fix_rle_lcf <- glm_test(d0_tss_bid_fix_rle_lcf, design_mat)\n",
    "lrt_tss_bid_fix_rle_lcf_rob <- glm_test(d0_tss_bid_fix_rle_lcf_rob, design_mat)\n",
    "lrt_nontss_bid_fix_rle_lcf <- glm_test(d0_nontss_bid_fix_rle_lcf, design_mat)\n",
    "lrt_nontss_bid_fix_rle_lcf_rob <- glm_test(d0_nontss_bid_fix_rle_lcf_rob, design_mat)"
   ]
  },
  {
   "cell_type": "code",
   "execution_count": 201,
   "id": "7322c459-f352-42da-a382-9857a0aeca2f",
   "metadata": {},
   "outputs": [],
   "source": [
    "## Upperquartile normalization\n",
    "### Locfit\n",
    "lrt_gene_fix_uq_lf <- glm_test(d0_gene_fix_uq_lf, design_mat)\n",
    "lrt_gene_fix_uq_lf_rob <- glm_test(d0_gene_fix_uq_lf_rob, design_mat)\n",
    "lrt_bid_fix_uq_lf <- glm_test(d0_bid_fix_uq_lf, design_mat)\n",
    "lrt_bid_fix_uq_lf_rob <- glm_test(d0_bid_fix_uq_lf_rob, design_mat)\n",
    "lrt_tss_bid_fix_uq_lf <- glm_test(d0_tss_bid_fix_uq_lf, design_mat)\n",
    "lrt_tss_bid_fix_uq_lf_rob <- glm_test(d0_tss_bid_fix_uq_lf_rob, design_mat)\n",
    "lrt_nontss_bid_fix_uq_lf <- glm_test(d0_nontss_bid_fix_uq_lf, design_mat)\n",
    "lrt_nontss_bid_fix_uq_lf_rob <- glm_test(d0_nontss_bid_fix_uq_lf_rob, design_mat)\n",
    "### Movingave\n",
    "lrt_gene_fix_uq_ma <- glm_test(d0_gene_fix_uq_ma, design_mat)\n",
    "lrt_gene_fix_uq_ma_rob <- glm_test(d0_gene_fix_uq_ma_rob, design_mat)\n",
    "lrt_bid_fix_uq_ma <- glm_test(d0_bid_fix_uq_ma, design_mat)\n",
    "lrt_bid_fix_uq_ma_rob <- glm_test(d0_bid_fix_uq_ma_rob, design_mat)\n",
    "lrt_tss_bid_fix_uq_ma <- glm_test(d0_tss_bid_fix_uq_ma, design_mat)\n",
    "lrt_tss_bid_fix_uq_ma_rob <- glm_test(d0_tss_bid_fix_uq_ma_rob, design_mat)\n",
    "lrt_nontss_bid_fix_uq_ma <- glm_test(d0_nontss_bid_fix_uq_ma, design_mat)\n",
    "lrt_nontss_bid_fix_uq_ma_rob <- glm_test(d0_nontss_bid_fix_uq_ma_rob, design_mat)\n",
    "### LOESS\n",
    "lrt_gene_fix_uq_ls <- glm_test(d0_gene_fix_uq_ls, design_mat)\n",
    "lrt_gene_fix_uq_ls_rob <- glm_test(d0_gene_fix_uq_ls_rob, design_mat)\n",
    "lrt_bid_fix_uq_ls <- glm_test(d0_bid_fix_uq_ls, design_mat)\n",
    "lrt_bid_fix_uq_ls_rob <- glm_test(d0_bid_fix_uq_ls_rob, design_mat)\n",
    "lrt_tss_bid_fix_uq_ls <- glm_test(d0_tss_bid_fix_uq_ls, design_mat)\n",
    "lrt_tss_bid_fix_uq_ls_rob <- glm_test(d0_tss_bid_fix_uq_ls_rob, design_mat)\n",
    "lrt_nontss_bid_fix_uq_ls <- glm_test(d0_nontss_bid_fix_uq_ls, design_mat)\n",
    "lrt_nontss_bid_fix_uq_ls_rob <- glm_test(d0_nontss_bid_fix_uq_ls_rob, design_mat)\n",
    "### Locfit.mixedd\n",
    "lrt_gene_fix_uq_lcf <- glm_test(d0_gene_fix_uq_lcf, design_mat)\n",
    "lrt_gene_fix_uq_lcf_rob <- glm_test(d0_gene_fix_uq_lcf_rob, design_mat)\n",
    "lrt_bid_fix_uq_lcf <- glm_test(d0_bid_fix_uq_lcf, design_mat)\n",
    "lrt_bid_fix_uq_lcf_rob <- glm_test(d0_bid_fix_uq_lcf_rob, design_mat)\n",
    "lrt_tss_bid_fix_uq_lcf <- glm_test(d0_tss_bid_fix_uq_lcf, design_mat)\n",
    "lrt_tss_bid_fix_uq_lcf_rob <- glm_test(d0_tss_bid_fix_uq_lcf_rob, design_mat)\n",
    "lrt_nontss_bid_fix_uq_lcf <- glm_test(d0_nontss_bid_fix_uq_lcf, design_mat)\n",
    "lrt_nontss_bid_fix_uq_lcf_rob <- glm_test(d0_nontss_bid_fix_uq_lcf_rob, design_mat)"
   ]
  },
  {
   "cell_type": "code",
   "execution_count": 202,
   "id": "7b7b627a-5183-412a-9567-e876bcfefef7",
   "metadata": {},
   "outputs": [
    {
     "name": "stdout",
     "output_type": "stream",
     "text": [
      "130 130 130 130 130"
     ]
    }
   ],
   "source": [
    "norm_list <- c(rep(\"TMM\", 34), rep(\"TWS\", 32), rep(\"RLE\", 32), rep(\"UpperQuart\", 32))\n",
    "\n",
    "disp_list <- c(rep(c(\"Locfit\", \"Locfit\", \"Locfit-robust\"), 2), rep(c(\"Locfit\", \"Locfit-robust\"), 2), \n",
    "                 rep(c(\"Movingave\", \"Movingave-robust\"), 4), rep(c(\"LOESS\", \"LOESS-robust\"), 4), rep(c(\"Locfit.mixed\", \"Locfit.mixed-robust\"), 4),\n",
    "                  rep(c(rep(c(\"Locfit\", \"Locfit-robust\"), 4), rep(c(\"Movingave\", \"Movingave-robust\"), 4), rep(c(\"LOESS\", \"LOESS-robust\"), 4), rep(c(\"Locfit.mixed\", \"Locfit.mixed-robust\"), 4)), 3))\n",
    "test_list <- rep(\"LRT\", 130)\n",
    "name_list <- c(c(\"Orig_Gene\", \"Gene\", \"Gene\", \"Orig_Bid\", \"Bid\", \"Bid\", \"TSS\", \"TSS\", \"NonTSS\", \"NonTSS\"), \n",
    "              rep(c(\"Gene\", \"Gene\", \"Bid\", \"Bid\", \"TSS\", \"TSS\", \"NonTSS\", \"NonTSS\"), 15))\n",
    "lrt_list <- list(lrt_gene_lf, lrt_gene_fix_lf, lrt_gene_fix_lf_rob,  lrt_bid_lf, lrt_bid_fix_lf, lrt_bid_fix_lf_rob, \n",
    "                lrt_tss_bid_fix_lf, lrt_tss_bid_fix_lf_rob, lrt_nontss_bid_fix_lf, lrt_nontss_bid_fix_lf_rob,\n",
    "                 \n",
    "                 lrt_gene_fix_ma, lrt_gene_fix_ma_rob, lrt_bid_fix_ma, lrt_bid_fix_ma_rob, \n",
    "                 lrt_tss_bid_fix_ma, lrt_tss_bid_fix_ma_rob, lrt_nontss_bid_fix_ma, lrt_nontss_bid_fix_ma_rob, \n",
    "                 lrt_gene_fix_ls, lrt_gene_fix_ls_rob, lrt_bid_fix_ls, lrt_bid_fix_ls_rob, \n",
    "                 lrt_tss_bid_fix_ls, lrt_tss_bid_fix_ls_rob, lrt_nontss_bid_fix_ls, lrt_nontss_bid_fix_ls_rob, \n",
    "                 lrt_gene_fix_lcf, lrt_gene_fix_lcf_rob, lrt_bid_fix_lcf, lrt_bid_fix_lcf_rob, \n",
    "                 lrt_tss_bid_fix_lcf, lrt_tss_bid_fix_lcf_rob, lrt_nontss_bid_fix_lcf, lrt_nontss_bid_fix_lcf_rob, \n",
    "\n",
    "                 lrt_gene_fix_tw_lf, lrt_gene_fix_tw_lf_rob, lrt_bid_fix_tw_lf, lrt_bid_fix_tw_lf_rob, \n",
    "                lrt_tss_bid_fix_tw_lf, lrt_tss_bid_fix_tw_lf_rob, lrt_nontss_bid_fix_tw_lf, lrt_nontss_bid_fix_tw_lf_rob,\n",
    "                 lrt_gene_fix_tw_ma, lrt_gene_fix_tw_ma_rob, lrt_bid_fix_tw_ma, lrt_bid_fix_tw_ma_rob, \n",
    "                 lrt_tss_bid_fix_tw_ma, lrt_tss_bid_fix_tw_ma_rob, lrt_nontss_bid_fix_tw_ma, lrt_nontss_bid_fix_tw_ma_rob, \n",
    "                 lrt_gene_fix_tw_ls, lrt_gene_fix_tw_ls_rob, lrt_bid_fix_tw_ls, lrt_bid_fix_tw_ls_rob, \n",
    "                 lrt_tss_bid_fix_tw_ls, lrt_tss_bid_fix_tw_ls_rob, lrt_nontss_bid_fix_tw_ls, lrt_nontss_bid_fix_tw_ls_rob, \n",
    "                 lrt_gene_fix_tw_lcf, lrt_gene_fix_tw_lcf_rob, lrt_bid_fix_tw_lcf, lrt_bid_fix_tw_lcf_rob, \n",
    "                 lrt_tss_bid_fix_tw_lcf, lrt_tss_bid_fix_tw_lcf_rob, lrt_nontss_bid_fix_tw_lcf, lrt_nontss_bid_fix_tw_lcf_rob, \n",
    "                \n",
    "                   lrt_gene_fix_rle_lf, lrt_gene_fix_rle_lf_rob,  lrt_bid_fix_rle_lf, lrt_bid_fix_rle_lf_rob, \n",
    "                lrt_tss_bid_fix_rle_lf, lrt_tss_bid_fix_rle_lf_rob, lrt_nontss_bid_fix_rle_lf, lrt_nontss_bid_fix_rle_lf_rob,\n",
    "                 lrt_gene_fix_rle_ma, lrt_gene_fix_rle_ma_rob, lrt_bid_fix_rle_ma, lrt_bid_fix_rle_ma_rob, \n",
    "                 lrt_tss_bid_fix_rle_ma, lrt_tss_bid_fix_rle_ma_rob, lrt_nontss_bid_fix_rle_ma, lrt_nontss_bid_fix_rle_ma_rob, \n",
    "                 lrt_gene_fix_rle_ls, lrt_gene_fix_rle_ls_rob, lrt_bid_fix_rle_ls, lrt_bid_fix_rle_ls_rob, \n",
    "                 lrt_tss_bid_fix_rle_ls, lrt_tss_bid_fix_rle_ls_rob, lrt_nontss_bid_fix_rle_ls, lrt_nontss_bid_fix_rle_ls_rob, \n",
    "                 lrt_gene_fix_rle_lcf, lrt_gene_fix_rle_lcf_rob, lrt_bid_fix_rle_lcf, lrt_bid_fix_rle_lcf_rob, \n",
    "                 lrt_tss_bid_fix_rle_lcf, lrt_tss_bid_fix_rle_lcf_rob, lrt_nontss_bid_fix_rle_lcf, lrt_nontss_bid_fix_rle_lcf_rob,\n",
    "\n",
    "                  lrt_gene_fix_uq_lf, lrt_gene_fix_uq_lf_rob,  lrt_bid_fix_uq_lf, lrt_bid_fix_uq_lf_rob, \n",
    "                lrt_tss_bid_fix_uq_lf, lrt_tss_bid_fix_uq_lf_rob, lrt_nontss_bid_fix_uq_lf, lrt_nontss_bid_fix_uq_lf_rob,\n",
    "                 lrt_gene_fix_uq_ma, lrt_gene_fix_uq_ma_rob, lrt_bid_fix_uq_ma, lrt_bid_fix_uq_ma_rob, \n",
    "                 lrt_tss_bid_fix_uq_ma, lrt_tss_bid_fix_uq_ma_rob, lrt_nontss_bid_fix_uq_ma, lrt_nontss_bid_fix_uq_ma_rob, \n",
    "                 lrt_gene_fix_uq_ls, lrt_gene_fix_uq_ls_rob, lrt_bid_fix_uq_ls, lrt_bid_fix_uq_ls_rob, \n",
    "                 lrt_tss_bid_fix_uq_ls, lrt_tss_bid_fix_uq_ls_rob, lrt_nontss_bid_fix_uq_ls, lrt_nontss_bid_fix_uq_ls_rob, \n",
    "                 lrt_gene_fix_uq_lcf, lrt_gene_fix_uq_lcf_rob, lrt_bid_fix_uq_lcf, lrt_bid_fix_uq_lcf_rob, \n",
    "                 lrt_tss_bid_fix_uq_lcf, lrt_tss_bid_fix_uq_lcf_rob, lrt_nontss_bid_fix_uq_lcf, lrt_nontss_bid_fix_uq_lcf_rob)\n",
    "\n",
    "cat(length(norm_list), length(disp_list), length(lrt_list), length(test_list), length(name_list))"
   ]
  },
  {
   "cell_type": "code",
   "execution_count": 203,
   "id": "6db79f76-cf8d-4d38-b1df-65775108f213",
   "metadata": {},
   "outputs": [
    {
     "data": {
      "text/html": [
       "<dl>\n",
       "\t<dt>$table</dt>\n",
       "\t\t<dd><table class=\"dataframe\">\n",
       "<caption>A data.frame: 2 × 5</caption>\n",
       "<thead>\n",
       "\t<tr><th></th><th scope=col>logFC</th><th scope=col>logCPM</th><th scope=col>LR</th><th scope=col>PValue</th><th scope=col>FDR</th></tr>\n",
       "\t<tr><th></th><th scope=col>&lt;dbl&gt;</th><th scope=col>&lt;dbl&gt;</th><th scope=col>&lt;dbl&gt;</th><th scope=col>&lt;dbl&gt;</th><th scope=col>&lt;dbl&gt;</th></tr>\n",
       "</thead>\n",
       "<tbody>\n",
       "\t<tr><th scope=row>MDM2</th><td>1.896238</td><td>9.878786</td><td>111.7028</td><td>4.150926e-26</td><td>9.139923e-22</td></tr>\n",
       "\t<tr><th scope=row>CDKN1A</th><td>1.907742</td><td>8.914592</td><td>110.1463</td><td>9.101902e-26</td><td>1.002074e-21</td></tr>\n",
       "</tbody>\n",
       "</table>\n",
       "</dd>\n",
       "\t<dt>$adjust.method</dt>\n",
       "\t\t<dd>'BH'</dd>\n",
       "\t<dt>$comparison</dt>\n",
       "\t\t<dd>'TreatmentNut'</dd>\n",
       "\t<dt>$test</dt>\n",
       "\t\t<dd>'glm'</dd>\n",
       "</dl>\n"
      ],
      "text/latex": [
       "\\begin{description}\n",
       "\\item[\\$table] A data.frame: 2 × 5\n",
       "\\begin{tabular}{r|lllll}\n",
       "  & logFC & logCPM & LR & PValue & FDR\\\\\n",
       "  & <dbl> & <dbl> & <dbl> & <dbl> & <dbl>\\\\\n",
       "\\hline\n",
       "\tMDM2 & 1.896238 & 9.878786 & 111.7028 & 4.150926e-26 & 9.139923e-22\\\\\n",
       "\tCDKN1A & 1.907742 & 8.914592 & 110.1463 & 9.101902e-26 & 1.002074e-21\\\\\n",
       "\\end{tabular}\n",
       "\n",
       "\\item[\\$adjust.method] 'BH'\n",
       "\\item[\\$comparison] 'TreatmentNut'\n",
       "\\item[\\$test] 'glm'\n",
       "\\end{description}\n"
      ],
      "text/markdown": [
       "$table\n",
       ":   \n",
       "A data.frame: 2 × 5\n",
       "\n",
       "| <!--/--> | logFC &lt;dbl&gt; | logCPM &lt;dbl&gt; | LR &lt;dbl&gt; | PValue &lt;dbl&gt; | FDR &lt;dbl&gt; |\n",
       "|---|---|---|---|---|---|\n",
       "| MDM2 | 1.896238 | 9.878786 | 111.7028 | 4.150926e-26 | 9.139923e-22 |\n",
       "| CDKN1A | 1.907742 | 8.914592 | 110.1463 | 9.101902e-26 | 1.002074e-21 |\n",
       "\n",
       "\n",
       "$adjust.method\n",
       ":   'BH'\n",
       "$comparison\n",
       ":   'TreatmentNut'\n",
       "$test\n",
       ":   'glm'\n",
       "\n",
       "\n"
      ],
      "text/plain": [
       "Coefficient:  TreatmentNut \n",
       "          logFC   logCPM       LR       PValue          FDR\n",
       "MDM2   1.896238 9.878786 111.7028 4.150926e-26 9.139923e-22\n",
       "CDKN1A 1.907742 8.914592 110.1463 9.101902e-26 1.002074e-21"
      ]
     },
     "metadata": {},
     "output_type": "display_data"
    }
   ],
   "source": [
    "results = topTags(lrt_gene_fix_uq_lf, n=\"Inf\")\n",
    "results[1:2,]"
   ]
  },
  {
   "cell_type": "code",
   "execution_count": 204,
   "id": "8add6817-050e-404c-b440-6f54ba30654c",
   "metadata": {},
   "outputs": [
    {
     "data": {
      "text/html": [
       "<style>\n",
       ".list-inline {list-style: none; margin:0; padding: 0}\n",
       ".list-inline>li {display: inline-block}\n",
       ".list-inline>li:not(:last-child)::after {content: \"\\00b7\"; padding: 0 .5ex}\n",
       "</style>\n",
       "<ol class=list-inline><li>142</li><li>12</li></ol>\n"
      ],
      "text/latex": [
       "\\begin{enumerate*}\n",
       "\\item 142\n",
       "\\item 12\n",
       "\\end{enumerate*}\n"
      ],
      "text/markdown": [
       "1. 142\n",
       "2. 12\n",
       "\n",
       "\n"
      ],
      "text/plain": [
       "[1] 142  12"
      ]
     },
     "metadata": {},
     "output_type": "display_data"
    }
   ],
   "source": [
    "dim(results_dict_final)"
   ]
  },
  {
   "cell_type": "code",
   "execution_count": 205,
   "id": "ea8b31eb-7477-444c-9362-641ea92515f2",
   "metadata": {},
   "outputs": [],
   "source": [
    "get_EdgeR_stats <- function(results_dict, name, celltype, res, test, norm, disp) {\n",
    "    #####################\n",
    "    ## Get sig results ##\n",
    "    ressig <- subset(res, FDR < 0.05)\n",
    "    ####################\n",
    "    results_dict[[\"platform\"]] <- c(results_dict[[\"platform\"]], \"EdgeR\")\n",
    "    results_dict <- get_results_dict(results_dict, name, test, norm, disp, ressig)\n",
    "    ###############################################\n",
    "    ## Save the significant results ##\n",
    "    filename <- paste0(outdir, \"/results/\", celltype, \"_ressig_EdgeR_\", name, \"_\", norm, \"_\", test, \"_\", disp, \".txt\")\n",
    "    #print(filename)\n",
    "    write.table(ressig[,c(\"logFC\", \"FDR\")], filename, \n",
    "                  quote=FALSE, sep=\"\\t\")\n",
    "    return(results_dict)\n",
    "    }"
   ]
  },
  {
   "cell_type": "code",
   "execution_count": 206,
   "id": "0cce4b46-8422-4b5c-9b43-d1747a7732d5",
   "metadata": {},
   "outputs": [
    {
     "data": {
      "text/html": [
       "<dl>\n",
       "\t<dt>$table</dt>\n",
       "\t\t<dd><table class=\"dataframe\">\n",
       "<caption>A data.frame: 2 × 5</caption>\n",
       "<thead>\n",
       "\t<tr><th></th><th scope=col>logFC</th><th scope=col>logCPM</th><th scope=col>LR</th><th scope=col>PValue</th><th scope=col>FDR</th></tr>\n",
       "\t<tr><th></th><th scope=col>&lt;dbl&gt;</th><th scope=col>&lt;dbl&gt;</th><th scope=col>&lt;dbl&gt;</th><th scope=col>&lt;dbl&gt;</th><th scope=col>&lt;dbl&gt;</th></tr>\n",
       "</thead>\n",
       "<tbody>\n",
       "\t<tr><th scope=row>BTG2</th><td>2.365715</td><td>6.482665</td><td>148.3802</td><td>3.917568e-34</td><td>8.669186e-30</td></tr>\n",
       "\t<tr><th scope=row>CDKN1A</th><td>2.128989</td><td>9.194735</td><td>143.7851</td><td>3.958931e-33</td><td>4.380359e-29</td></tr>\n",
       "</tbody>\n",
       "</table>\n",
       "</dd>\n",
       "\t<dt>$adjust.method</dt>\n",
       "\t\t<dd>'BH'</dd>\n",
       "\t<dt>$comparison</dt>\n",
       "\t\t<dd>'TreatmentNut'</dd>\n",
       "\t<dt>$test</dt>\n",
       "\t\t<dd>'glm'</dd>\n",
       "</dl>\n"
      ],
      "text/latex": [
       "\\begin{description}\n",
       "\\item[\\$table] A data.frame: 2 × 5\n",
       "\\begin{tabular}{r|lllll}\n",
       "  & logFC & logCPM & LR & PValue & FDR\\\\\n",
       "  & <dbl> & <dbl> & <dbl> & <dbl> & <dbl>\\\\\n",
       "\\hline\n",
       "\tBTG2 & 2.365715 & 6.482665 & 148.3802 & 3.917568e-34 & 8.669186e-30\\\\\n",
       "\tCDKN1A & 2.128989 & 9.194735 & 143.7851 & 3.958931e-33 & 4.380359e-29\\\\\n",
       "\\end{tabular}\n",
       "\n",
       "\\item[\\$adjust.method] 'BH'\n",
       "\\item[\\$comparison] 'TreatmentNut'\n",
       "\\item[\\$test] 'glm'\n",
       "\\end{description}\n"
      ],
      "text/markdown": [
       "$table\n",
       ":   \n",
       "A data.frame: 2 × 5\n",
       "\n",
       "| <!--/--> | logFC &lt;dbl&gt; | logCPM &lt;dbl&gt; | LR &lt;dbl&gt; | PValue &lt;dbl&gt; | FDR &lt;dbl&gt; |\n",
       "|---|---|---|---|---|---|\n",
       "| BTG2 | 2.365715 | 6.482665 | 148.3802 | 3.917568e-34 | 8.669186e-30 |\n",
       "| CDKN1A | 2.128989 | 9.194735 | 143.7851 | 3.958931e-33 | 4.380359e-29 |\n",
       "\n",
       "\n",
       "$adjust.method\n",
       ":   'BH'\n",
       "$comparison\n",
       ":   'TreatmentNut'\n",
       "$test\n",
       ":   'glm'\n",
       "\n",
       "\n"
      ],
      "text/plain": [
       "Coefficient:  TreatmentNut \n",
       "          logFC   logCPM       LR       PValue          FDR\n",
       "BTG2   2.365715 6.482665 148.3802 3.917568e-34 8.669186e-30\n",
       "CDKN1A 2.128989 9.194735 143.7851 3.958931e-33 4.380359e-29"
      ]
     },
     "metadata": {},
     "output_type": "display_data"
    }
   ],
   "source": [
    "results = topTags(lrt_list[[1]], n=\"Inf\")\n",
    "results[1:2,]"
   ]
  },
  {
   "cell_type": "code",
   "execution_count": 207,
   "id": "4408076f-d93f-4ae3-a0e1-08be5ab83a44",
   "metadata": {},
   "outputs": [
    {
     "data": {
      "text/html": [
       "'/Users/hopekirby/Desktop/TF_Enh_Linking/Bench_DE/p53/out/'"
      ],
      "text/latex": [
       "'/Users/hopekirby/Desktop/TF\\_Enh\\_Linking/Bench\\_DE/p53/out/'"
      ],
      "text/markdown": [
       "'/Users/hopekirby/Desktop/TF_Enh_Linking/Bench_DE/p53/out/'"
      ],
      "text/plain": [
       "[1] \"/Users/hopekirby/Desktop/TF_Enh_Linking/Bench_DE/p53/out/\""
      ]
     },
     "metadata": {},
     "output_type": "display_data"
    }
   ],
   "source": [
    "outdir"
   ]
  },
  {
   "cell_type": "code",
   "execution_count": 208,
   "id": "2601104a-7376-412c-bf02-e358db590350",
   "metadata": {},
   "outputs": [],
   "source": [
    "results_dict_DE = list(\"name\"=c(), \"platform\"=c(), \"test\"=c(), \"disp\"=c(), \"norm\"=c(), \"Tot_Sig\"=c(), \n",
    "                    \"TP_eartar\"=c(), \"TP_ctknown\"=c(), \"TP_chip\"=c(), \"FP_chip_mean\"=c(), \"FP_chip_median\"=c(), \"FP_chip_sd\"=c())\n",
    "\n",
    "#pdf(paste0(outdir, \"plots/\", celltype, \"_EdgeR_LRT_pval.pdf\"), onefile=TRUE)\n",
    "for (indx in seq(1, length(name_list))) {\n",
    "    # get the results\n",
    "    results = topTags(lrt_list[[indx]], n=\"Inf\")\n",
    "    if (results$comparison == coefficient) {results = results$table} else {stop(\"STOP\")}\n",
    "    # Plot the p-values\n",
    "    title = paste0(name_list[indx], \"_\", norm_list[indx], \"_\", test_list[indx], \"_\", disp_list[indx])\n",
    "    # pl <- ggplot(results, aes(x=PValue)) + \n",
    "    # geom_histogram(fill=\"grey64\", binwidth=binwidth_use, color=\"black\", boundary=0) + theme_bw(base_size=15) + \n",
    "    # geom_vline(xintercept=0.05, color=\"red\") + ggtitle(title) \n",
    "    # print(pl)\n",
    "    if (name_list[indx] %in% c(\"Bid\", \"TSS\", \"NonTSS\") & norm_list[indx]==\"TMM\" & (disp_list[indx] %in% c(\"Locfit.mixed\", \"Locfit.mixed-robust\"))) {\n",
    "        filename <- paste0(outdir, \"results/RESULTS_\", celltype, \"_EdgeR_\", name_list[indx], \"_\", norm_list[indx], \"_\", test_list[indx], \"_\", disp_list[indx], \".txt\")\n",
    "        write.table(results, filename, quote=FALSE, sep=\"\\t\")\n",
    "    }\n",
    "    results_dict_DE = get_EdgeR_stats(results_dict_DE, name_list[indx], celltype, \n",
    "                                      results, test_list[indx], norm_list[indx], disp_list[indx])\n",
    "    \n",
    "    }\n",
    "#dev.off()\n"
   ]
  },
  {
   "cell_type": "code",
   "execution_count": 209,
   "id": "03ccfa66-a9d0-43f0-838d-a0127f91d753",
   "metadata": {},
   "outputs": [
    {
     "name": "stdout",
     "output_type": "stream",
     "text": [
      "[1] \"HCT116\"\n"
     ]
    }
   ],
   "source": [
    "print(celltype)"
   ]
  },
  {
   "cell_type": "code",
   "execution_count": 104,
   "id": "8a49a2f8-a9e9-4adf-be47-18e2e3a6b215",
   "metadata": {},
   "outputs": [
    {
     "data": {
      "text/html": [
       "<style>\n",
       ".list-inline {list-style: none; margin:0; padding: 0}\n",
       ".list-inline>li {display: inline-block}\n",
       ".list-inline>li:not(:last-child)::after {content: \"\\00b7\"; padding: 0 .5ex}\n",
       "</style>\n",
       "<ol class=list-inline><li>130</li><li>12</li></ol>\n"
      ],
      "text/latex": [
       "\\begin{enumerate*}\n",
       "\\item 130\n",
       "\\item 12\n",
       "\\end{enumerate*}\n"
      ],
      "text/markdown": [
       "1. 130\n",
       "2. 12\n",
       "\n",
       "\n"
      ],
      "text/plain": [
       "[1] 130  12"
      ]
     },
     "metadata": {},
     "output_type": "display_data"
    }
   ],
   "source": [
    "results_dict_DE <- data.frame(results_dict_DE)\n",
    "dim(results_dict_DE)"
   ]
  },
  {
   "cell_type": "code",
   "execution_count": 105,
   "id": "1b884e91-c5dd-4627-8c56-fc7fc623dc35",
   "metadata": {},
   "outputs": [
    {
     "data": {
      "text/html": [
       "<table class=\"dataframe\">\n",
       "<caption>A data.frame: 2 × 12</caption>\n",
       "<thead>\n",
       "\t<tr><th></th><th scope=col>name</th><th scope=col>platform</th><th scope=col>test</th><th scope=col>disp</th><th scope=col>norm</th><th scope=col>Tot_Sig</th><th scope=col>TP_eartar</th><th scope=col>TP_ctknown</th><th scope=col>TP_chip</th><th scope=col>FP_chip_mean</th><th scope=col>FP_chip_median</th><th scope=col>FP_chip_sd</th></tr>\n",
       "\t<tr><th></th><th scope=col>&lt;chr&gt;</th><th scope=col>&lt;chr&gt;</th><th scope=col>&lt;chr&gt;</th><th scope=col>&lt;chr&gt;</th><th scope=col>&lt;chr&gt;</th><th scope=col>&lt;int&gt;</th><th scope=col>&lt;int&gt;</th><th scope=col>&lt;lgl&gt;</th><th scope=col>&lt;int&gt;</th><th scope=col>&lt;dbl&gt;</th><th scope=col>&lt;dbl&gt;</th><th scope=col>&lt;dbl&gt;</th></tr>\n",
       "</thead>\n",
       "<tbody>\n",
       "\t<tr><th scope=row>1</th><td>Orig_Gene</td><td>EdgeR</td><td>LRT</td><td>Locfit</td><td>TMM</td><td>8562</td><td>30</td><td>NA</td><td>NA</td><td>NA</td><td>NA</td><td>NA</td></tr>\n",
       "\t<tr><th scope=row>2</th><td>Gene     </td><td>EdgeR</td><td>LRT</td><td>Locfit</td><td>TMM</td><td>8460</td><td>30</td><td>NA</td><td>NA</td><td>NA</td><td>NA</td><td>NA</td></tr>\n",
       "</tbody>\n",
       "</table>\n"
      ],
      "text/latex": [
       "A data.frame: 2 × 12\n",
       "\\begin{tabular}{r|llllllllllll}\n",
       "  & name & platform & test & disp & norm & Tot\\_Sig & TP\\_eartar & TP\\_ctknown & TP\\_chip & FP\\_chip\\_mean & FP\\_chip\\_median & FP\\_chip\\_sd\\\\\n",
       "  & <chr> & <chr> & <chr> & <chr> & <chr> & <int> & <int> & <lgl> & <int> & <dbl> & <dbl> & <dbl>\\\\\n",
       "\\hline\n",
       "\t1 & Orig\\_Gene & EdgeR & LRT & Locfit & TMM & 8562 & 30 & NA & NA & NA & NA & NA\\\\\n",
       "\t2 & Gene      & EdgeR & LRT & Locfit & TMM & 8460 & 30 & NA & NA & NA & NA & NA\\\\\n",
       "\\end{tabular}\n"
      ],
      "text/markdown": [
       "\n",
       "A data.frame: 2 × 12\n",
       "\n",
       "| <!--/--> | name &lt;chr&gt; | platform &lt;chr&gt; | test &lt;chr&gt; | disp &lt;chr&gt; | norm &lt;chr&gt; | Tot_Sig &lt;int&gt; | TP_eartar &lt;int&gt; | TP_ctknown &lt;lgl&gt; | TP_chip &lt;int&gt; | FP_chip_mean &lt;dbl&gt; | FP_chip_median &lt;dbl&gt; | FP_chip_sd &lt;dbl&gt; |\n",
       "|---|---|---|---|---|---|---|---|---|---|---|---|---|\n",
       "| 1 | Orig_Gene | EdgeR | LRT | Locfit | TMM | 8562 | 30 | NA | NA | NA | NA | NA |\n",
       "| 2 | Gene      | EdgeR | LRT | Locfit | TMM | 8460 | 30 | NA | NA | NA | NA | NA |\n",
       "\n"
      ],
      "text/plain": [
       "  name      platform test disp   norm Tot_Sig TP_eartar TP_ctknown TP_chip\n",
       "1 Orig_Gene EdgeR    LRT  Locfit TMM  8562    30        NA         NA     \n",
       "2 Gene      EdgeR    LRT  Locfit TMM  8460    30        NA         NA     \n",
       "  FP_chip_mean FP_chip_median FP_chip_sd\n",
       "1 NA           NA             NA        \n",
       "2 NA           NA             NA        "
      ]
     },
     "metadata": {},
     "output_type": "display_data"
    },
    {
     "data": {
      "text/html": [
       "<table class=\"dataframe\">\n",
       "<caption>A data.frame: 2 × 12</caption>\n",
       "<thead>\n",
       "\t<tr><th></th><th scope=col>name</th><th scope=col>platform</th><th scope=col>test</th><th scope=col>disp</th><th scope=col>norm</th><th scope=col>Tot_Sig</th><th scope=col>TP_eartar</th><th scope=col>TP_ctknown</th><th scope=col>TP_chip</th><th scope=col>FP_chip_mean</th><th scope=col>FP_chip_median</th><th scope=col>FP_chip_sd</th></tr>\n",
       "\t<tr><th></th><th scope=col>&lt;chr&gt;</th><th scope=col>&lt;chr&gt;</th><th scope=col>&lt;chr&gt;</th><th scope=col>&lt;chr&gt;</th><th scope=col>&lt;chr&gt;</th><th scope=col>&lt;int&gt;</th><th scope=col>&lt;int&gt;</th><th scope=col>&lt;lgl&gt;</th><th scope=col>&lt;int&gt;</th><th scope=col>&lt;dbl&gt;</th><th scope=col>&lt;dbl&gt;</th><th scope=col>&lt;dbl&gt;</th></tr>\n",
       "</thead>\n",
       "<tbody>\n",
       "\t<tr><th scope=row>1</th><td>Bid</td><td>DESeq2</td><td>Wald</td><td>Mean      </td><td>Ratio</td><td>   0</td><td>NA</td><td>NA</td><td>  0</td><td> 0.0</td><td> 0</td><td>0.000000</td></tr>\n",
       "\t<tr><th scope=row>2</th><td>Bid</td><td>DESeq2</td><td>Wald</td><td>Parametric</td><td>Ratio</td><td>4523</td><td>NA</td><td>NA</td><td>125</td><td>12.6</td><td>11</td><td>3.209361</td></tr>\n",
       "</tbody>\n",
       "</table>\n"
      ],
      "text/latex": [
       "A data.frame: 2 × 12\n",
       "\\begin{tabular}{r|llllllllllll}\n",
       "  & name & platform & test & disp & norm & Tot\\_Sig & TP\\_eartar & TP\\_ctknown & TP\\_chip & FP\\_chip\\_mean & FP\\_chip\\_median & FP\\_chip\\_sd\\\\\n",
       "  & <chr> & <chr> & <chr> & <chr> & <chr> & <int> & <int> & <lgl> & <int> & <dbl> & <dbl> & <dbl>\\\\\n",
       "\\hline\n",
       "\t1 & Bid & DESeq2 & Wald & Mean       & Ratio &    0 & NA & NA &   0 &  0.0 &  0 & 0.000000\\\\\n",
       "\t2 & Bid & DESeq2 & Wald & Parametric & Ratio & 4523 & NA & NA & 125 & 12.6 & 11 & 3.209361\\\\\n",
       "\\end{tabular}\n"
      ],
      "text/markdown": [
       "\n",
       "A data.frame: 2 × 12\n",
       "\n",
       "| <!--/--> | name &lt;chr&gt; | platform &lt;chr&gt; | test &lt;chr&gt; | disp &lt;chr&gt; | norm &lt;chr&gt; | Tot_Sig &lt;int&gt; | TP_eartar &lt;int&gt; | TP_ctknown &lt;lgl&gt; | TP_chip &lt;int&gt; | FP_chip_mean &lt;dbl&gt; | FP_chip_median &lt;dbl&gt; | FP_chip_sd &lt;dbl&gt; |\n",
       "|---|---|---|---|---|---|---|---|---|---|---|---|---|\n",
       "| 1 | Bid | DESeq2 | Wald | Mean       | Ratio |    0 | NA | NA |   0 |  0.0 |  0 | 0.000000 |\n",
       "| 2 | Bid | DESeq2 | Wald | Parametric | Ratio | 4523 | NA | NA | 125 | 12.6 | 11 | 3.209361 |\n",
       "\n"
      ],
      "text/plain": [
       "  name platform test disp       norm  Tot_Sig TP_eartar TP_ctknown TP_chip\n",
       "1 Bid  DESeq2   Wald Mean       Ratio    0    NA        NA           0    \n",
       "2 Bid  DESeq2   Wald Parametric Ratio 4523    NA        NA         125    \n",
       "  FP_chip_mean FP_chip_median FP_chip_sd\n",
       "1  0.0          0             0.000000  \n",
       "2 12.6         11             3.209361  "
      ]
     },
     "metadata": {},
     "output_type": "display_data"
    },
    {
     "data": {
      "text/html": [
       "<style>\n",
       ".list-inline {list-style: none; margin:0; padding: 0}\n",
       ".list-inline>li {display: inline-block}\n",
       ".list-inline>li:not(:last-child)::after {content: \"\\00b7\"; padding: 0 .5ex}\n",
       "</style>\n",
       "<ol class=list-inline><li>142</li><li>12</li></ol>\n"
      ],
      "text/latex": [
       "\\begin{enumerate*}\n",
       "\\item 142\n",
       "\\item 12\n",
       "\\end{enumerate*}\n"
      ],
      "text/markdown": [
       "1. 142\n",
       "2. 12\n",
       "\n",
       "\n"
      ],
      "text/plain": [
       "[1] 142  12"
      ]
     },
     "metadata": {},
     "output_type": "display_data"
    },
    {
     "data": {
      "text/html": [
       "<style>\n",
       ".list-inline {list-style: none; margin:0; padding: 0}\n",
       ".list-inline>li {display: inline-block}\n",
       ".list-inline>li:not(:last-child)::after {content: \"\\00b7\"; padding: 0 .5ex}\n",
       "</style>\n",
       "<ol class=list-inline><li>272</li><li>12</li></ol>\n"
      ],
      "text/latex": [
       "\\begin{enumerate*}\n",
       "\\item 272\n",
       "\\item 12\n",
       "\\end{enumerate*}\n"
      ],
      "text/markdown": [
       "1. 272\n",
       "2. 12\n",
       "\n",
       "\n"
      ],
      "text/plain": [
       "[1] 272  12"
      ]
     },
     "metadata": {},
     "output_type": "display_data"
    }
   ],
   "source": [
    "results_dict_DE[1:2,]\n",
    "results_dict_final[1:2,]\n",
    "dim(results_dict_final)\n",
    "results_dict_final <- rbind(results_dict_final, results_dict_DE)\n",
    "dim(results_dict_final)"
   ]
  },
  {
   "cell_type": "markdown",
   "id": "a2197a82-807c-49b2-b54e-ad4f4ea3f793",
   "metadata": {},
   "source": [
    "### 4C. QL Testing (Robust & Not)"
   ]
  },
  {
   "cell_type": "code",
   "execution_count": 106,
   "id": "e737d21a-0b12-4d75-afed-c18bb3435c8f",
   "metadata": {},
   "outputs": [],
   "source": [
    "glm_ql_test <- function(d0, X, rob=FALSE) {\n",
    "    fit <- glmQLFit(d0, X, robust=rob)\n",
    "    ql <- glmQLFTest(fit, coef=coefficient)\n",
    "    }"
   ]
  },
  {
   "cell_type": "code",
   "execution_count": 107,
   "id": "f6a800b2-74e1-411e-b546-4c21e99d5d8e",
   "metadata": {},
   "outputs": [],
   "source": [
    "## TMM normalization\n",
    "### Locfit\n",
    "ql_gene_fix_lf <- glm_ql_test(d0_gene_fix_lf, design_mat)\n",
    "ql_gene_fix_lf_rob <- glm_ql_test(d0_gene_fix_lf_rob, design_mat)\n",
    "ql_bid_fix_lf <- glm_ql_test(d0_bid_fix_lf, design_mat)\n",
    "ql_bid_fix_lf_rob <- glm_ql_test(d0_bid_fix_lf_rob, design_mat)\n",
    "ql_tss_bid_fix_lf <- glm_ql_test(d0_tss_bid_fix_lf, design_mat)\n",
    "ql_tss_bid_fix_lf_rob <- glm_ql_test(d0_tss_bid_fix_lf_rob, design_mat)\n",
    "ql_nontss_bid_fix_lf <- glm_ql_test(d0_nontss_bid_fix_lf, design_mat)\n",
    "ql_nontss_bid_fix_lf_rob <- glm_ql_test(d0_nontss_bid_fix_lf_rob, design_mat)\n",
    "### Movingave\n",
    "ql_gene_fix_ma <- glm_ql_test(d0_gene_fix_ma, design_mat)\n",
    "ql_gene_fix_ma_rob <- glm_ql_test(d0_gene_fix_ma_rob, design_mat)\n",
    "ql_bid_fix_ma <- glm_ql_test(d0_bid_fix_ma, design_mat)\n",
    "ql_bid_fix_ma_rob <- glm_ql_test(d0_bid_fix_ma_rob, design_mat)\n",
    "ql_tss_bid_fix_ma <- glm_ql_test(d0_tss_bid_fix_ma, design_mat)\n",
    "ql_tss_bid_fix_ma_rob <- glm_ql_test(d0_tss_bid_fix_ma_rob, design_mat)\n",
    "ql_nontss_bid_fix_ma <- glm_ql_test(d0_nontss_bid_fix_ma, design_mat)\n",
    "ql_nontss_bid_fix_ma_rob <- glm_ql_test(d0_nontss_bid_fix_ma_rob, design_mat)\n",
    "### LOESS\n",
    "ql_gene_fix_ls <- glm_ql_test(d0_gene_fix_ls, design_mat)\n",
    "ql_gene_fix_ls_rob <- glm_ql_test(d0_gene_fix_ls_rob, design_mat)\n",
    "ql_bid_fix_ls <- glm_ql_test(d0_bid_fix_ls, design_mat)\n",
    "ql_bid_fix_ls_rob <- glm_ql_test(d0_bid_fix_ls_rob, design_mat)\n",
    "ql_tss_bid_fix_ls <- glm_ql_test(d0_tss_bid_fix_ls, design_mat)\n",
    "ql_tss_bid_fix_ls_rob <- glm_ql_test(d0_tss_bid_fix_ls_rob, design_mat)\n",
    "ql_nontss_bid_fix_ls <- glm_ql_test(d0_nontss_bid_fix_ls, design_mat)\n",
    "ql_nontss_bid_fix_ls_rob <- glm_ql_test(d0_nontss_bid_fix_ls_rob, design_mat)\n",
    "### Locfit.mixedd\n",
    "ql_gene_fix_lcf <- glm_ql_test(d0_gene_fix_lcf, design_mat)\n",
    "ql_gene_fix_lcf_rob <- glm_ql_test(d0_gene_fix_lcf_rob, design_mat)\n",
    "ql_bid_fix_lcf <- glm_ql_test(d0_bid_fix_lcf, design_mat)\n",
    "ql_bid_fix_lcf_rob <- glm_ql_test(d0_bid_fix_lcf_rob, design_mat)\n",
    "ql_tss_bid_fix_lcf <- glm_ql_test(d0_tss_bid_fix_lcf, design_mat)\n",
    "ql_tss_bid_fix_lcf_rob <- glm_ql_test(d0_tss_bid_fix_lcf_rob, design_mat)\n",
    "ql_nontss_bid_fix_lcf <- glm_ql_test(d0_nontss_bid_fix_lcf, design_mat)\n",
    "ql_nontss_bid_fix_lcf_rob <- glm_ql_test(d0_nontss_bid_fix_lcf_rob, design_mat)\n",
    "\n",
    "## TMM normalization ROBUST\n",
    "### Locfit\n",
    "qlrob_gene_fix_lf <- glm_ql_test(d0_gene_fix_lf, design_mat, rob=TRUE)\n",
    "qlrob_gene_fix_lf_rob <- glm_ql_test(d0_gene_fix_lf_rob, design_mat, rob=TRUE)\n",
    "qlrob_bid_fix_lf <- glm_ql_test(d0_bid_fix_lf, design_mat, rob=TRUE)\n",
    "qlrob_bid_fix_lf_rob <- glm_ql_test(d0_bid_fix_lf_rob, design_mat, rob=TRUE)\n",
    "qlrob_tss_bid_fix_lf <- glm_ql_test(d0_tss_bid_fix_lf, design_mat, rob=TRUE)\n",
    "qlrob_tss_bid_fix_lf_rob <- glm_ql_test(d0_tss_bid_fix_lf_rob, design_mat, rob=TRUE)\n",
    "qlrob_nontss_bid_fix_lf <- glm_ql_test(d0_nontss_bid_fix_lf, design_mat, rob=TRUE)\n",
    "qlrob_nontss_bid_fix_lf_rob <- glm_ql_test(d0_nontss_bid_fix_lf_rob, design_mat, rob=TRUE)\n",
    "### Movingave\n",
    "qlrob_gene_fix_ma <- glm_ql_test(d0_gene_fix_ma, design_mat, rob=TRUE)\n",
    "qlrob_gene_fix_ma_rob <- glm_ql_test(d0_gene_fix_ma_rob, design_mat, rob=TRUE)\n",
    "qlrob_bid_fix_ma <- glm_ql_test(d0_bid_fix_ma, design_mat, rob=TRUE)\n",
    "qlrob_bid_fix_ma_rob <- glm_ql_test(d0_bid_fix_ma_rob, design_mat, rob=TRUE)\n",
    "qlrob_tss_bid_fix_ma <- glm_ql_test(d0_tss_bid_fix_ma, design_mat, rob=TRUE)\n",
    "qlrob_tss_bid_fix_ma_rob <- glm_ql_test(d0_tss_bid_fix_ma_rob, design_mat, rob=TRUE)\n",
    "qlrob_nontss_bid_fix_ma <- glm_ql_test(d0_nontss_bid_fix_ma, design_mat, rob=TRUE)\n",
    "qlrob_nontss_bid_fix_ma_rob <- glm_ql_test(d0_nontss_bid_fix_ma_rob, design_mat, rob=TRUE)\n",
    "### LOESS\n",
    "qlrob_gene_fix_ls <- glm_ql_test(d0_gene_fix_ls, design_mat, rob=TRUE)\n",
    "qlrob_gene_fix_ls_rob <- glm_ql_test(d0_gene_fix_ls_rob, design_mat, rob=TRUE)\n",
    "qlrob_bid_fix_ls <- glm_ql_test(d0_bid_fix_ls, design_mat, rob=TRUE)\n",
    "qlrob_bid_fix_ls_rob <- glm_ql_test(d0_bid_fix_ls_rob, design_mat, rob=TRUE)\n",
    "qlrob_tss_bid_fix_ls <- glm_ql_test(d0_tss_bid_fix_ls, design_mat, rob=TRUE)\n",
    "qlrob_tss_bid_fix_ls_rob <- glm_ql_test(d0_tss_bid_fix_ls_rob, design_mat, rob=TRUE)\n",
    "qlrob_nontss_bid_fix_ls <- glm_ql_test(d0_nontss_bid_fix_ls, design_mat, rob=TRUE)\n",
    "qlrob_nontss_bid_fix_ls_rob <- glm_ql_test(d0_nontss_bid_fix_ls_rob, design_mat, rob=TRUE)\n",
    "### Locfit.mixedd\n",
    "qlrob_gene_fix_lcf <- glm_ql_test(d0_gene_fix_lcf, design_mat, rob=TRUE)\n",
    "qlrob_gene_fix_lcf_rob <- glm_ql_test(d0_gene_fix_lcf_rob, design_mat, rob=TRUE)\n",
    "qlrob_bid_fix_lcf <- glm_ql_test(d0_bid_fix_lcf, design_mat, rob=TRUE)\n",
    "qlrob_bid_fix_lcf_rob <- glm_ql_test(d0_bid_fix_lcf_rob, design_mat, rob=TRUE)\n",
    "qlrob_tss_bid_fix_lcf <- glm_ql_test(d0_tss_bid_fix_lcf, design_mat, rob=TRUE)\n",
    "qlrob_tss_bid_fix_lcf_rob <- glm_ql_test(d0_tss_bid_fix_lcf_rob, design_mat, rob=TRUE)\n",
    "qlrob_nontss_bid_fix_lcf <- glm_ql_test(d0_nontss_bid_fix_lcf, design_mat, rob=TRUE)\n",
    "qlrob_nontss_bid_fix_lcf_rob <- glm_ql_test(d0_nontss_bid_fix_lcf_rob, design_mat, rob=TRUE)"
   ]
  },
  {
   "cell_type": "code",
   "execution_count": 108,
   "id": "cf94524b-4e8b-4da2-884d-10bbfab0cdfc",
   "metadata": {},
   "outputs": [],
   "source": [
    "## TWS normalization\n",
    "### Locfit\n",
    "ql_gene_fix_tw_lf <- glm_ql_test(d0_gene_fix_tw_lf, design_mat)\n",
    "ql_gene_fix_tw_lf_rob <- glm_ql_test(d0_gene_fix_tw_lf_rob, design_mat)\n",
    "ql_bid_fix_tw_lf <- glm_ql_test(d0_bid_fix_tw_lf, design_mat)\n",
    "ql_bid_fix_tw_lf_rob <- glm_ql_test(d0_bid_fix_tw_lf_rob, design_mat)\n",
    "ql_tss_bid_fix_tw_lf <- glm_ql_test(d0_tss_bid_fix_tw_lf, design_mat)\n",
    "ql_tss_bid_fix_tw_lf_rob <- glm_ql_test(d0_tss_bid_fix_tw_lf_rob, design_mat)\n",
    "ql_nontss_bid_fix_tw_lf <- glm_ql_test(d0_nontss_bid_fix_tw_lf, design_mat)\n",
    "ql_nontss_bid_fix_tw_lf_rob <- glm_ql_test(d0_nontss_bid_fix_tw_lf_rob, design_mat)\n",
    "### Movingave\n",
    "ql_gene_fix_tw_ma <- glm_ql_test(d0_gene_fix_tw_ma, design_mat)\n",
    "ql_gene_fix_tw_ma_rob <- glm_ql_test(d0_gene_fix_tw_ma_rob, design_mat)\n",
    "ql_bid_fix_tw_ma <- glm_ql_test(d0_bid_fix_tw_ma, design_mat)\n",
    "ql_bid_fix_tw_ma_rob <- glm_ql_test(d0_bid_fix_tw_ma_rob, design_mat)\n",
    "ql_tss_bid_fix_tw_ma <- glm_ql_test(d0_tss_bid_fix_tw_ma, design_mat)\n",
    "ql_tss_bid_fix_tw_ma_rob <- glm_ql_test(d0_tss_bid_fix_tw_ma_rob, design_mat)\n",
    "ql_nontss_bid_fix_tw_ma <- glm_ql_test(d0_nontss_bid_fix_tw_ma, design_mat)\n",
    "ql_nontss_bid_fix_tw_ma_rob <- glm_ql_test(d0_nontss_bid_fix_tw_ma_rob, design_mat)\n",
    "### LOESS\n",
    "ql_gene_fix_tw_ls <- glm_ql_test(d0_gene_fix_tw_ls, design_mat)\n",
    "ql_gene_fix_tw_ls_rob <- glm_ql_test(d0_gene_fix_tw_ls_rob, design_mat)\n",
    "ql_bid_fix_tw_ls <- glm_ql_test(d0_bid_fix_tw_ls, design_mat)\n",
    "ql_bid_fix_tw_ls_rob <- glm_ql_test(d0_bid_fix_tw_ls_rob, design_mat)\n",
    "ql_tss_bid_fix_tw_ls <- glm_ql_test(d0_tss_bid_fix_tw_ls, design_mat)\n",
    "ql_tss_bid_fix_tw_ls_rob <- glm_ql_test(d0_tss_bid_fix_tw_ls_rob, design_mat)\n",
    "ql_nontss_bid_fix_tw_ls <- glm_ql_test(d0_nontss_bid_fix_tw_ls, design_mat)\n",
    "ql_nontss_bid_fix_tw_ls_rob <- glm_ql_test(d0_nontss_bid_fix_tw_ls_rob, design_mat)\n",
    "### Locfit.mixedd\n",
    "ql_gene_fix_tw_lcf <- glm_ql_test(d0_gene_fix_tw_lcf, design_mat)\n",
    "ql_gene_fix_tw_lcf_rob <- glm_ql_test(d0_gene_fix_tw_lcf_rob, design_mat)\n",
    "ql_bid_fix_tw_lcf <- glm_ql_test(d0_bid_fix_tw_lcf, design_mat)\n",
    "ql_bid_fix_tw_lcf_rob <- glm_ql_test(d0_bid_fix_tw_lcf_rob, design_mat)\n",
    "ql_tss_bid_fix_tw_lcf <- glm_ql_test(d0_tss_bid_fix_tw_lcf, design_mat)\n",
    "ql_tss_bid_fix_tw_lcf_rob <- glm_ql_test(d0_tss_bid_fix_tw_lcf_rob, design_mat)\n",
    "ql_nontss_bid_fix_tw_lcf <- glm_ql_test(d0_nontss_bid_fix_tw_lcf, design_mat)\n",
    "ql_nontss_bid_fix_tw_lcf_rob <- glm_ql_test(d0_nontss_bid_fix_tw_lcf_rob, design_mat)\n",
    "\n",
    "## ROBUST\n",
    "### Locfit\n",
    "qlrob_gene_fix_tw_lf <- glm_ql_test(d0_gene_fix_tw_lf, design_mat, rob=TRUE)\n",
    "qlrob_gene_fix_tw_lf_rob <- glm_ql_test(d0_gene_fix_tw_lf_rob, design_mat, rob=TRUE)\n",
    "qlrob_bid_fix_tw_lf <- glm_ql_test(d0_bid_fix_tw_lf, design_mat, rob=TRUE)\n",
    "qlrob_bid_fix_tw_lf_rob <- glm_ql_test(d0_bid_fix_tw_lf_rob, design_mat, rob=TRUE)\n",
    "qlrob_tss_bid_fix_tw_lf <- glm_ql_test(d0_tss_bid_fix_tw_lf, design_mat, rob=TRUE)\n",
    "qlrob_tss_bid_fix_tw_lf_rob <- glm_ql_test(d0_tss_bid_fix_tw_lf_rob, design_mat, rob=TRUE)\n",
    "qlrob_nontss_bid_fix_tw_lf <- glm_ql_test(d0_nontss_bid_fix_tw_lf, design_mat, rob=TRUE)\n",
    "qlrob_nontss_bid_fix_tw_lf_rob <- glm_ql_test(d0_nontss_bid_fix_tw_lf_rob, design_mat, rob=TRUE)\n",
    "### Movingave\n",
    "qlrob_gene_fix_tw_ma <- glm_ql_test(d0_gene_fix_tw_ma, design_mat, rob=TRUE)\n",
    "qlrob_gene_fix_tw_ma_rob <- glm_ql_test(d0_gene_fix_tw_ma_rob, design_mat, rob=TRUE)\n",
    "qlrob_bid_fix_tw_ma <- glm_ql_test(d0_bid_fix_tw_ma, design_mat, rob=TRUE)\n",
    "qlrob_bid_fix_tw_ma_rob <- glm_ql_test(d0_bid_fix_tw_ma_rob, design_mat, rob=TRUE)\n",
    "qlrob_tss_bid_fix_tw_ma <- glm_ql_test(d0_tss_bid_fix_tw_ma, design_mat, rob=TRUE)\n",
    "qlrob_tss_bid_fix_tw_ma_rob <- glm_ql_test(d0_tss_bid_fix_tw_ma_rob, design_mat, rob=TRUE)\n",
    "qlrob_nontss_bid_fix_tw_ma <- glm_ql_test(d0_nontss_bid_fix_tw_ma, design_mat, rob=TRUE)\n",
    "qlrob_nontss_bid_fix_tw_ma_rob <- glm_ql_test(d0_nontss_bid_fix_ma_rob, design_mat, rob=TRUE)\n",
    "### LOESS\n",
    "qlrob_gene_fix_tw_ls <- glm_ql_test(d0_gene_fix_tw_ls, design_mat, rob=TRUE)\n",
    "qlrob_gene_fix_tw_ls_rob <- glm_ql_test(d0_gene_fix_tw_ls_rob, design_mat, rob=TRUE)\n",
    "qlrob_bid_fix_tw_ls <- glm_ql_test(d0_bid_fix_tw_ls, design_mat, rob=TRUE)\n",
    "qlrob_bid_fix_tw_ls_rob <- glm_ql_test(d0_bid_fix_tw_ls_rob, design_mat, rob=TRUE)\n",
    "qlrob_tss_bid_fix_tw_ls <- glm_ql_test(d0_tss_bid_fix_tw_ls, design_mat, rob=TRUE)\n",
    "qlrob_tss_bid_fix_tw_ls_rob <- glm_ql_test(d0_tss_bid_fix_tw_ls_rob, design_mat, rob=TRUE)\n",
    "qlrob_nontss_bid_fix_tw_ls <- glm_ql_test(d0_nontss_bid_fix_tw_ls, design_mat, rob=TRUE)\n",
    "qlrob_nontss_bid_fix_tw_ls_rob <- glm_ql_test(d0_nontss_bid_fix_tw_ls_rob, design_mat, rob=TRUE)\n",
    "### Locfit.mixedd\n",
    "qlrob_gene_fix_tw_lcf <- glm_ql_test(d0_gene_fix_tw_lcf, design_mat, rob=TRUE)\n",
    "qlrob_gene_fix_tw_lcf_rob <- glm_ql_test(d0_gene_fix_tw_lcf_rob, design_mat, rob=TRUE)\n",
    "qlrob_bid_fix_tw_lcf <- glm_ql_test(d0_bid_fix_tw_lcf, design_mat, rob=TRUE)\n",
    "qlrob_bid_fix_tw_lcf_rob <- glm_ql_test(d0_bid_fix_tw_lcf_rob, design_mat, rob=TRUE)\n",
    "qlrob_tss_bid_fix_tw_lcf <- glm_ql_test(d0_tss_bid_fix_tw_lcf, design_mat, rob=TRUE)\n",
    "qlrob_tss_bid_fix_tw_lcf_rob <- glm_ql_test(d0_tss_bid_fix_tw_lcf_rob, design_mat, rob=TRUE)\n",
    "qlrob_nontss_bid_fix_tw_lcf <- glm_ql_test(d0_nontss_bid_fix_tw_lcf, design_mat, rob=TRUE)\n",
    "qlrob_nontss_bid_fix_tw_lcf_rob <- glm_ql_test(d0_nontss_bid_fix_tw_lcf_rob, design_mat, rob=TRUE)\n",
    "\n"
   ]
  },
  {
   "cell_type": "code",
   "execution_count": 109,
   "id": "fced8137-5e8a-4231-8238-1fd34019da3d",
   "metadata": {},
   "outputs": [],
   "source": [
    "## RLE normalization\n",
    "### Locfit\n",
    "ql_gene_fix_rle_lf <- glm_ql_test(d0_gene_fix_rle_lf, design_mat)\n",
    "ql_gene_fix_rle_lf_rob <- glm_ql_test(d0_gene_fix_rle_lf_rob, design_mat)\n",
    "ql_bid_fix_rle_lf <- glm_ql_test(d0_bid_fix_rle_lf, design_mat)\n",
    "ql_bid_fix_rle_lf_rob <- glm_ql_test(d0_bid_fix_rle_lf_rob, design_mat)\n",
    "ql_tss_bid_fix_rle_lf <- glm_ql_test(d0_tss_bid_fix_rle_lf, design_mat)\n",
    "ql_tss_bid_fix_rle_lf_rob <- glm_ql_test(d0_tss_bid_fix_rle_lf_rob, design_mat)\n",
    "ql_nontss_bid_fix_rle_lf <- glm_ql_test(d0_nontss_bid_fix_rle_lf, design_mat)\n",
    "ql_nontss_bid_fix_rle_lf_rob <- glm_ql_test(d0_nontss_bid_fix_rle_lf_rob, design_mat)\n",
    "### Movingave\n",
    "ql_gene_fix_rle_ma <- glm_ql_test(d0_gene_fix_rle_ma, design_mat)\n",
    "ql_gene_fix_rle_ma_rob <- glm_ql_test(d0_gene_fix_rle_ma_rob, design_mat)\n",
    "ql_bid_fix_rle_ma <- glm_ql_test(d0_bid_fix_rle_ma, design_mat)\n",
    "ql_bid_fix_rle_ma_rob <- glm_ql_test(d0_bid_fix_rle_ma_rob, design_mat)\n",
    "ql_tss_bid_fix_rle_ma <- glm_ql_test(d0_tss_bid_fix_rle_ma, design_mat)\n",
    "ql_tss_bid_fix_rle_ma_rob <- glm_ql_test(d0_tss_bid_fix_rle_ma_rob, design_mat)\n",
    "ql_nontss_bid_fix_rle_ma <- glm_ql_test(d0_nontss_bid_fix_rle_ma, design_mat)\n",
    "ql_nontss_bid_fix_rle_ma_rob <- glm_ql_test(d0_nontss_bid_fix_rle_ma_rob, design_mat)\n",
    "### LOESS\n",
    "ql_gene_fix_rle_ls <- glm_ql_test(d0_gene_fix_rle_ls, design_mat)\n",
    "ql_gene_fix_rle_ls_rob <- glm_ql_test(d0_gene_fix_rle_ls_rob, design_mat)\n",
    "ql_bid_fix_rle_ls <- glm_ql_test(d0_bid_fix_rle_ls, design_mat)\n",
    "ql_bid_fix_rle_ls_rob <- glm_ql_test(d0_bid_fix_rle_ls_rob, design_mat)\n",
    "ql_tss_bid_fix_rle_ls <- glm_ql_test(d0_tss_bid_fix_rle_ls, design_mat)\n",
    "ql_tss_bid_fix_rle_ls_rob <- glm_ql_test(d0_tss_bid_fix_rle_ls_rob, design_mat)\n",
    "ql_nontss_bid_fix_rle_ls <- glm_ql_test(d0_nontss_bid_fix_rle_ls, design_mat)\n",
    "ql_nontss_bid_fix_rle_ls_rob <- glm_ql_test(d0_nontss_bid_fix_rle_ls_rob, design_mat)\n",
    "### Locfit.mixedd\n",
    "ql_gene_fix_rle_lcf <- glm_ql_test(d0_gene_fix_rle_lcf, design_mat)\n",
    "ql_gene_fix_rle_lcf_rob <- glm_ql_test(d0_gene_fix_rle_lcf_rob, design_mat)\n",
    "ql_bid_fix_rle_lcf <- glm_ql_test(d0_bid_fix_rle_lcf, design_mat)\n",
    "ql_bid_fix_rle_lcf_rob <- glm_ql_test(d0_bid_fix_rle_lcf_rob, design_mat)\n",
    "ql_tss_bid_fix_rle_lcf <- glm_ql_test(d0_tss_bid_fix_rle_lcf, design_mat)\n",
    "ql_tss_bid_fix_rle_lcf_rob <- glm_ql_test(d0_tss_bid_fix_rle_lcf_rob, design_mat)\n",
    "ql_nontss_bid_fix_rle_lcf <- glm_ql_test(d0_nontss_bid_fix_rle_lcf, design_mat)\n",
    "ql_nontss_bid_fix_rle_lcf_rob <- glm_ql_test(d0_nontss_bid_fix_rle_lcf_rob, design_mat)\n",
    "\n",
    "## ROBUST\n",
    "### Locfit\n",
    "qlrob_gene_fix_rle_lf <- glm_ql_test(d0_gene_fix_rle_lf, design_mat, rob=TRUE)\n",
    "qlrob_gene_fix_rle_lf_rob <- glm_ql_test(d0_gene_fix_rle_lf_rob, design_mat, rob=TRUE)\n",
    "qlrob_bid_fix_rle_lf <- glm_ql_test(d0_bid_fix_rle_lf, design_mat, rob=TRUE)\n",
    "qlrob_bid_fix_rle_lf_rob <- glm_ql_test(d0_bid_fix_rle_lf_rob, design_mat, rob=TRUE)\n",
    "qlrob_tss_bid_fix_rle_lf <- glm_ql_test(d0_tss_bid_fix_rle_lf, design_mat, rob=TRUE)\n",
    "qlrob_tss_bid_fix_rle_lf_rob <- glm_ql_test(d0_tss_bid_fix_rle_lf_rob, design_mat, rob=TRUE)\n",
    "qlrob_nontss_bid_fix_rle_lf <- glm_ql_test(d0_nontss_bid_fix_rle_lf, design_mat, rob=TRUE)\n",
    "qlrob_nontss_bid_fix_rle_lf_rob <- glm_ql_test(d0_nontss_bid_fix_rle_lf_rob, design_mat, rob=TRUE)\n",
    "### Movingave\n",
    "qlrob_gene_fix_rle_ma <- glm_ql_test(d0_gene_fix_rle_ma, design_mat, rob=TRUE)\n",
    "qlrob_gene_fix_rle_ma_rob <- glm_ql_test(d0_gene_fix_rle_ma_rob, design_mat, rob=TRUE)\n",
    "qlrob_bid_fix_rle_ma <- glm_ql_test(d0_bid_fix_rle_ma, design_mat, rob=TRUE)\n",
    "qlrob_bid_fix_rle_ma_rob <- glm_ql_test(d0_bid_fix_rle_ma_rob, design_mat, rob=TRUE)\n",
    "qlrob_tss_bid_fix_rle_ma <- glm_ql_test(d0_tss_bid_fix_rle_ma, design_mat, rob=TRUE)\n",
    "qlrob_tss_bid_fix_rle_ma_rob <- glm_ql_test(d0_tss_bid_fix_rle_ma_rob, design_mat, rob=TRUE)\n",
    "qlrob_nontss_bid_fix_rle_ma <- glm_ql_test(d0_nontss_bid_fix_rle_ma, design_mat, rob=TRUE)\n",
    "qlrob_nontss_bid_fix_rle_ma_rob <- glm_ql_test(d0_nontss_bid_fix_ma_rob, design_mat, rob=TRUE)\n",
    "### LOESS\n",
    "qlrob_gene_fix_rle_ls <- glm_ql_test(d0_gene_fix_rle_ls, design_mat, rob=TRUE)\n",
    "qlrob_gene_fix_rle_ls_rob <- glm_ql_test(d0_gene_fix_rle_ls_rob, design_mat, rob=TRUE)\n",
    "qlrob_bid_fix_rle_ls <- glm_ql_test(d0_bid_fix_rle_ls, design_mat, rob=TRUE)\n",
    "qlrob_bid_fix_rle_ls_rob <- glm_ql_test(d0_bid_fix_rle_ls_rob, design_mat, rob=TRUE)\n",
    "qlrob_tss_bid_fix_rle_ls <- glm_ql_test(d0_tss_bid_fix_rle_ls, design_mat, rob=TRUE)\n",
    "qlrob_tss_bid_fix_rle_ls_rob <- glm_ql_test(d0_tss_bid_fix_rle_ls_rob, design_mat, rob=TRUE)\n",
    "qlrob_nontss_bid_fix_rle_ls <- glm_ql_test(d0_nontss_bid_fix_rle_ls, design_mat, rob=TRUE)\n",
    "qlrob_nontss_bid_fix_rle_ls_rob <- glm_ql_test(d0_nontss_bid_fix_rle_ls_rob, design_mat, rob=TRUE)\n",
    "### Locfit.mixedd\n",
    "qlrob_gene_fix_rle_lcf <- glm_ql_test(d0_gene_fix_rle_lcf, design_mat, rob=TRUE)\n",
    "qlrob_gene_fix_rle_lcf_rob <- glm_ql_test(d0_gene_fix_rle_lcf_rob, design_mat, rob=TRUE)\n",
    "qlrob_bid_fix_rle_lcf <- glm_ql_test(d0_bid_fix_rle_lcf, design_mat, rob=TRUE)\n",
    "qlrob_bid_fix_rle_lcf_rob <- glm_ql_test(d0_bid_fix_rle_lcf_rob, design_mat, rob=TRUE)\n",
    "qlrob_tss_bid_fix_rle_lcf <- glm_ql_test(d0_tss_bid_fix_rle_lcf, design_mat, rob=TRUE)\n",
    "qlrob_tss_bid_fix_rle_lcf_rob <- glm_ql_test(d0_tss_bid_fix_rle_lcf_rob, design_mat, rob=TRUE)\n",
    "qlrob_nontss_bid_fix_rle_lcf <- glm_ql_test(d0_nontss_bid_fix_rle_lcf, design_mat, rob=TRUE)\n",
    "qlrob_nontss_bid_fix_rle_lcf_rob <- glm_ql_test(d0_nontss_bid_fix_rle_lcf_rob, design_mat, rob=TRUE)"
   ]
  },
  {
   "cell_type": "code",
   "execution_count": 110,
   "id": "23b2a81b-37d2-4982-8823-bc4cc3b988fa",
   "metadata": {},
   "outputs": [],
   "source": [
    "## Upperquartile normalization\n",
    "### Locfit\n",
    "ql_gene_fix_uq_lf <- glm_ql_test(d0_gene_fix_uq_lf, design_mat)\n",
    "ql_gene_fix_uq_lf_rob <- glm_ql_test(d0_gene_fix_uq_lf_rob, design_mat)\n",
    "ql_bid_fix_uq_lf <- glm_ql_test(d0_bid_fix_uq_lf, design_mat)\n",
    "ql_bid_fix_uq_lf_rob <- glm_ql_test(d0_bid_fix_uq_lf_rob, design_mat)\n",
    "ql_tss_bid_fix_uq_lf <- glm_ql_test(d0_tss_bid_fix_uq_lf, design_mat)\n",
    "ql_tss_bid_fix_uq_lf_rob <- glm_ql_test(d0_tss_bid_fix_uq_lf_rob, design_mat)\n",
    "ql_nontss_bid_fix_uq_lf <- glm_ql_test(d0_nontss_bid_fix_uq_lf, design_mat)\n",
    "ql_nontss_bid_fix_uq_lf_rob <- glm_ql_test(d0_nontss_bid_fix_uq_lf_rob, design_mat)\n",
    "### Movingave\n",
    "ql_gene_fix_uq_ma <- glm_ql_test(d0_gene_fix_uq_ma, design_mat)\n",
    "ql_gene_fix_uq_ma_rob <- glm_ql_test(d0_gene_fix_uq_ma_rob, design_mat)\n",
    "ql_bid_fix_uq_ma <- glm_ql_test(d0_bid_fix_uq_ma, design_mat)\n",
    "ql_bid_fix_uq_ma_rob <- glm_ql_test(d0_bid_fix_uq_ma_rob, design_mat)\n",
    "ql_tss_bid_fix_uq_ma <- glm_ql_test(d0_tss_bid_fix_uq_ma, design_mat)\n",
    "ql_tss_bid_fix_uq_ma_rob <- glm_ql_test(d0_tss_bid_fix_uq_ma_rob, design_mat)\n",
    "ql_nontss_bid_fix_uq_ma <- glm_ql_test(d0_nontss_bid_fix_uq_ma, design_mat)\n",
    "ql_nontss_bid_fix_uq_ma_rob <- glm_ql_test(d0_nontss_bid_fix_uq_ma_rob, design_mat)\n",
    "### LOESS\n",
    "ql_gene_fix_uq_ls <- glm_ql_test(d0_gene_fix_uq_ls, design_mat)\n",
    "ql_gene_fix_uq_ls_rob <- glm_ql_test(d0_gene_fix_uq_ls_rob, design_mat)\n",
    "ql_bid_fix_uq_ls <- glm_ql_test(d0_bid_fix_uq_ls, design_mat)\n",
    "ql_bid_fix_uq_ls_rob <- glm_ql_test(d0_bid_fix_uq_ls_rob, design_mat)\n",
    "ql_tss_bid_fix_uq_ls <- glm_ql_test(d0_tss_bid_fix_uq_ls, design_mat)\n",
    "ql_tss_bid_fix_uq_ls_rob <- glm_ql_test(d0_tss_bid_fix_uq_ls_rob, design_mat)\n",
    "ql_nontss_bid_fix_uq_ls <- glm_ql_test(d0_nontss_bid_fix_uq_ls, design_mat)\n",
    "ql_nontss_bid_fix_uq_ls_rob <- glm_ql_test(d0_nontss_bid_fix_uq_ls_rob, design_mat)\n",
    "### Locfit.mixedd\n",
    "ql_gene_fix_uq_lcf <- glm_ql_test(d0_gene_fix_uq_lcf, design_mat)\n",
    "ql_gene_fix_uq_lcf_rob <- glm_ql_test(d0_gene_fix_uq_lcf_rob, design_mat)\n",
    "ql_bid_fix_uq_lcf <- glm_ql_test(d0_bid_fix_uq_lcf, design_mat)\n",
    "ql_bid_fix_uq_lcf_rob <- glm_ql_test(d0_bid_fix_uq_lcf_rob, design_mat)\n",
    "ql_tss_bid_fix_uq_lcf <- glm_ql_test(d0_tss_bid_fix_uq_lcf, design_mat)\n",
    "ql_tss_bid_fix_uq_lcf_rob <- glm_ql_test(d0_tss_bid_fix_uq_lcf_rob, design_mat)\n",
    "ql_nontss_bid_fix_uq_lcf <- glm_ql_test(d0_nontss_bid_fix_uq_lcf, design_mat)\n",
    "ql_nontss_bid_fix_uq_lcf_rob <- glm_ql_test(d0_nontss_bid_fix_uq_lcf_rob, design_mat)\n",
    "\n",
    "## ROBUST\n",
    "### Locfit\n",
    "qlrob_gene_fix_uq_lf <- glm_ql_test(d0_gene_fix_uq_lf, design_mat, rob=TRUE)\n",
    "qlrob_gene_fix_uq_lf_rob <- glm_ql_test(d0_gene_fix_uq_lf_rob, design_mat, rob=TRUE)\n",
    "qlrob_bid_fix_uq_lf <- glm_ql_test(d0_bid_fix_uq_lf, design_mat, rob=TRUE)\n",
    "qlrob_bid_fix_uq_lf_rob <- glm_ql_test(d0_bid_fix_uq_lf_rob, design_mat, rob=TRUE)\n",
    "qlrob_tss_bid_fix_uq_lf <- glm_ql_test(d0_tss_bid_fix_uq_lf, design_mat, rob=TRUE)\n",
    "qlrob_tss_bid_fix_uq_lf_rob <- glm_ql_test(d0_tss_bid_fix_uq_lf_rob, design_mat, rob=TRUE)\n",
    "qlrob_nontss_bid_fix_uq_lf <- glm_ql_test(d0_nontss_bid_fix_uq_lf, design_mat, rob=TRUE)\n",
    "qlrob_nontss_bid_fix_uq_lf_rob <- glm_ql_test(d0_nontss_bid_fix_uq_lf_rob, design_mat, rob=TRUE)\n",
    "### Movingave\n",
    "qlrob_gene_fix_uq_ma <- glm_ql_test(d0_gene_fix_uq_ma, design_mat, rob=TRUE)\n",
    "qlrob_gene_fix_uq_ma_rob <- glm_ql_test(d0_gene_fix_uq_ma_rob, design_mat, rob=TRUE)\n",
    "qlrob_bid_fix_uq_ma <- glm_ql_test(d0_bid_fix_uq_ma, design_mat, rob=TRUE)\n",
    "qlrob_bid_fix_uq_ma_rob <- glm_ql_test(d0_bid_fix_uq_ma_rob, design_mat, rob=TRUE)\n",
    "qlrob_tss_bid_fix_uq_ma <- glm_ql_test(d0_tss_bid_fix_uq_ma, design_mat, rob=TRUE)\n",
    "qlrob_tss_bid_fix_uq_ma_rob <- glm_ql_test(d0_tss_bid_fix_uq_ma_rob, design_mat, rob=TRUE)\n",
    "qlrob_nontss_bid_fix_uq_ma <- glm_ql_test(d0_nontss_bid_fix_uq_ma, design_mat, rob=TRUE)\n",
    "qlrob_nontss_bid_fix_uq_ma_rob <- glm_ql_test(d0_nontss_bid_fix_ma_rob, design_mat, rob=TRUE)\n",
    "### LOESS\n",
    "qlrob_gene_fix_uq_ls <- glm_ql_test(d0_gene_fix_uq_ls, design_mat, rob=TRUE)\n",
    "qlrob_gene_fix_uq_ls_rob <- glm_ql_test(d0_gene_fix_uq_ls_rob, design_mat, rob=TRUE)\n",
    "qlrob_bid_fix_uq_ls <- glm_ql_test(d0_bid_fix_uq_ls, design_mat, rob=TRUE)\n",
    "qlrob_bid_fix_uq_ls_rob <- glm_ql_test(d0_bid_fix_uq_ls_rob, design_mat, rob=TRUE)\n",
    "qlrob_tss_bid_fix_uq_ls <- glm_ql_test(d0_tss_bid_fix_uq_ls, design_mat, rob=TRUE)\n",
    "qlrob_tss_bid_fix_uq_ls_rob <- glm_ql_test(d0_tss_bid_fix_uq_ls_rob, design_mat, rob=TRUE)\n",
    "qlrob_nontss_bid_fix_uq_ls <- glm_ql_test(d0_nontss_bid_fix_uq_ls, design_mat, rob=TRUE)\n",
    "qlrob_nontss_bid_fix_uq_ls_rob <- glm_ql_test(d0_nontss_bid_fix_uq_ls_rob, design_mat, rob=TRUE)\n",
    "### Locfit.mixedd\n",
    "qlrob_gene_fix_uq_lcf <- glm_ql_test(d0_gene_fix_uq_lcf, design_mat, rob=TRUE)\n",
    "qlrob_gene_fix_uq_lcf_rob <- glm_ql_test(d0_gene_fix_uq_lcf_rob, design_mat, rob=TRUE)\n",
    "qlrob_bid_fix_uq_lcf <- glm_ql_test(d0_bid_fix_uq_lcf, design_mat, rob=TRUE)\n",
    "qlrob_bid_fix_uq_lcf_rob <- glm_ql_test(d0_bid_fix_uq_lcf_rob, design_mat, rob=TRUE)\n",
    "qlrob_tss_bid_fix_uq_lcf <- glm_ql_test(d0_tss_bid_fix_uq_lcf, design_mat, rob=TRUE)\n",
    "qlrob_tss_bid_fix_uq_lcf_rob <- glm_ql_test(d0_tss_bid_fix_uq_lcf_rob, design_mat, rob=TRUE)\n",
    "qlrob_nontss_bid_fix_uq_lcf <- glm_ql_test(d0_nontss_bid_fix_uq_lcf, design_mat, rob=TRUE)\n",
    "qlrob_nontss_bid_fix_uq_lcf_rob <- glm_ql_test(d0_nontss_bid_fix_uq_lcf_rob, design_mat, rob=TRUE)"
   ]
  },
  {
   "cell_type": "code",
   "execution_count": 194,
   "id": "7ee9c1e9-793a-49f5-bd10-d262d2e47682",
   "metadata": {},
   "outputs": [
    {
     "name": "stdout",
     "output_type": "stream",
     "text": [
      "256 256 256 256 256"
     ]
    }
   ],
   "source": [
    "norm_list <- rep(c(rep(\"TMM\", 32), rep(\"TWS\", 32), rep(\"RLE\", 32), rep(\"UpperQuart\", 32)),2)\n",
    "\n",
    "disp_list <- rep(c(rep(c(rep(c(\"Locfit\", \"Locfit-robust\"), 4), rep(c(\"Movingave\", \"Movingave-robust\"), 4), \n",
    "                         rep(c(\"LOESS\", \"LOESS-robust\"), 4), rep(c(\"Locfit.mixed\", \"Locfit.mixed-robust\"), 4)), 4)), 2)\n",
    "test_list <- c(rep(\"QL\", 128), rep(\"QL-Robust\", 128))\n",
    "name_list <- rep(c(\"Gene\", \"Gene\", \"Bid\", \"Bid\", \"TSS\", \"TSS\", \"NonTSS\", \"NonTSS\"), 32)\n",
    "ql_list <- list(ql_gene_fix_lf, ql_gene_fix_lf_rob, ql_bid_fix_lf, ql_bid_fix_lf_rob, \n",
    "                ql_tss_bid_fix_lf, ql_tss_bid_fix_lf_rob, ql_nontss_bid_fix_lf, ql_nontss_bid_fix_lf_rob,\n",
    "                 ql_gene_fix_ma, ql_gene_fix_ma_rob, ql_bid_fix_ma, ql_bid_fix_ma_rob, \n",
    "                 ql_tss_bid_fix_ma, ql_tss_bid_fix_ma_rob, ql_nontss_bid_fix_ma, ql_nontss_bid_fix_ma_rob, \n",
    "                 ql_gene_fix_ls, ql_gene_fix_ls_rob, ql_bid_fix_ls, ql_bid_fix_ls_rob, \n",
    "                 ql_tss_bid_fix_ls, ql_tss_bid_fix_ls_rob, ql_nontss_bid_fix_ls, ql_nontss_bid_fix_ls_rob, \n",
    "                 ql_gene_fix_lcf, ql_gene_fix_lcf_rob, ql_bid_fix_lcf, ql_bid_fix_lcf_rob, \n",
    "                 ql_tss_bid_fix_lcf, ql_tss_bid_fix_lcf_rob, ql_nontss_bid_fix_lcf, ql_nontss_bid_fix_lcf_rob, \n",
    "\n",
    "                 ql_gene_fix_tw_lf, ql_gene_fix_tw_lf_rob, ql_bid_fix_tw_lf, ql_bid_fix_tw_lf_rob, \n",
    "                ql_tss_bid_fix_tw_lf, ql_tss_bid_fix_tw_lf_rob, ql_nontss_bid_fix_tw_lf, ql_nontss_bid_fix_tw_lf_rob,\n",
    "                 ql_gene_fix_tw_ma, ql_gene_fix_tw_ma_rob, ql_bid_fix_tw_ma, ql_bid_fix_tw_ma_rob, \n",
    "                 ql_tss_bid_fix_tw_ma, ql_tss_bid_fix_tw_ma_rob, ql_nontss_bid_fix_tw_ma, ql_nontss_bid_fix_tw_ma_rob, \n",
    "                 ql_gene_fix_tw_ls, ql_gene_fix_tw_ls_rob, ql_bid_fix_tw_ls, ql_bid_fix_tw_ls_rob, \n",
    "                 ql_tss_bid_fix_tw_ls, ql_tss_bid_fix_tw_ls_rob, ql_nontss_bid_fix_tw_ls, ql_nontss_bid_fix_tw_ls_rob, \n",
    "                 ql_gene_fix_tw_lcf, ql_gene_fix_tw_lcf_rob, ql_bid_fix_tw_lcf, ql_bid_fix_tw_lcf_rob, \n",
    "                 ql_tss_bid_fix_tw_lcf, ql_tss_bid_fix_tw_lcf_rob, ql_nontss_bid_fix_tw_lcf, ql_nontss_bid_fix_tw_lcf_rob, \n",
    "                \n",
    "                   ql_gene_fix_rle_lf, ql_gene_fix_rle_lf_rob,  ql_bid_fix_rle_lf, ql_bid_fix_rle_lf_rob, \n",
    "                ql_tss_bid_fix_rle_lf, ql_tss_bid_fix_rle_lf_rob, ql_nontss_bid_fix_rle_lf, ql_nontss_bid_fix_rle_lf_rob,\n",
    "                 ql_gene_fix_rle_ma, ql_gene_fix_rle_ma_rob, ql_bid_fix_rle_ma, ql_bid_fix_rle_ma_rob, \n",
    "                 ql_tss_bid_fix_rle_ma, ql_tss_bid_fix_rle_ma_rob, ql_nontss_bid_fix_rle_ma, ql_nontss_bid_fix_rle_ma_rob, \n",
    "                 ql_gene_fix_rle_ls, ql_gene_fix_rle_ls_rob, ql_bid_fix_rle_ls, ql_bid_fix_rle_ls_rob, \n",
    "                 ql_tss_bid_fix_rle_ls, ql_tss_bid_fix_rle_ls_rob, ql_nontss_bid_fix_rle_ls, ql_nontss_bid_fix_rle_ls_rob, \n",
    "                 ql_gene_fix_rle_lcf, ql_gene_fix_rle_lcf_rob, ql_bid_fix_rle_lcf, ql_bid_fix_rle_lcf_rob, \n",
    "                 ql_tss_bid_fix_rle_lcf, ql_tss_bid_fix_rle_lcf_rob, ql_nontss_bid_fix_rle_lcf, ql_nontss_bid_fix_rle_lcf_rob,\n",
    "\n",
    "                  ql_gene_fix_uq_lf, ql_gene_fix_uq_lf_rob,  ql_bid_fix_uq_lf, ql_bid_fix_uq_lf_rob, \n",
    "                ql_tss_bid_fix_uq_lf, ql_tss_bid_fix_uq_lf_rob, ql_nontss_bid_fix_uq_lf, ql_nontss_bid_fix_uq_lf_rob,\n",
    "                 ql_gene_fix_uq_ma, ql_gene_fix_uq_ma_rob, ql_bid_fix_uq_ma, ql_bid_fix_uq_ma_rob, \n",
    "                 ql_tss_bid_fix_uq_ma, ql_tss_bid_fix_uq_ma_rob, ql_nontss_bid_fix_uq_ma, ql_nontss_bid_fix_uq_ma_rob, \n",
    "                 ql_gene_fix_uq_ls, ql_gene_fix_uq_ls_rob, ql_bid_fix_uq_ls, ql_bid_fix_uq_ls_rob, \n",
    "                 ql_tss_bid_fix_uq_ls, ql_tss_bid_fix_uq_ls_rob, ql_nontss_bid_fix_uq_ls, ql_nontss_bid_fix_uq_ls_rob, \n",
    "                 ql_gene_fix_uq_lcf, ql_gene_fix_uq_lcf_rob, ql_bid_fix_uq_lcf, ql_bid_fix_uq_lcf_rob, \n",
    "                 ql_tss_bid_fix_uq_lcf, ql_tss_bid_fix_uq_lcf_rob, ql_nontss_bid_fix_uq_lcf, ql_nontss_bid_fix_uq_lcf_rob, \n",
    "\n",
    "                qlrob_gene_fix_lf, qlrob_gene_fix_lf_rob,  qlrob_bid_fix_lf, qlrob_bid_fix_lf_rob, \n",
    "                qlrob_tss_bid_fix_lf, qlrob_tss_bid_fix_lf_rob, qlrob_nontss_bid_fix_lf, qlrob_nontss_bid_fix_lf_rob,\n",
    "                 qlrob_gene_fix_ma, qlrob_gene_fix_ma_rob, qlrob_bid_fix_ma, qlrob_bid_fix_ma_rob, \n",
    "                 qlrob_tss_bid_fix_ma, qlrob_tss_bid_fix_ma_rob, qlrob_nontss_bid_fix_ma, qlrob_nontss_bid_fix_ma_rob, \n",
    "                 qlrob_gene_fix_ls, qlrob_gene_fix_ls_rob, qlrob_bid_fix_ls, qlrob_bid_fix_ls_rob, \n",
    "                 qlrob_tss_bid_fix_ls, qlrob_tss_bid_fix_ls_rob, qlrob_nontss_bid_fix_ls, qlrob_nontss_bid_fix_ls_rob, \n",
    "                 qlrob_gene_fix_lcf, qlrob_gene_fix_lcf_rob, qlrob_bid_fix_lcf, qlrob_bid_fix_lcf_rob, \n",
    "                 qlrob_tss_bid_fix_lcf, qlrob_tss_bid_fix_lcf_rob, qlrob_nontss_bid_fix_lcf, qlrob_nontss_bid_fix_lcf_rob, \n",
    "\n",
    "                 qlrob_gene_fix_tw_lf, qlrob_gene_fix_tw_lf_rob, qlrob_bid_fix_tw_lf, qlrob_bid_fix_tw_lf_rob, \n",
    "                qlrob_tss_bid_fix_tw_lf, qlrob_tss_bid_fix_tw_lf_rob, qlrob_nontss_bid_fix_tw_lf, qlrob_nontss_bid_fix_tw_lf_rob,\n",
    "                 qlrob_gene_fix_tw_ma, qlrob_gene_fix_tw_ma_rob, qlrob_bid_fix_tw_ma, qlrob_bid_fix_tw_ma_rob, \n",
    "                 qlrob_tss_bid_fix_tw_ma, qlrob_tss_bid_fix_tw_ma_rob, qlrob_nontss_bid_fix_tw_ma, qlrob_nontss_bid_fix_tw_ma_rob, \n",
    "                 qlrob_gene_fix_tw_ls, qlrob_gene_fix_tw_ls_rob, qlrob_bid_fix_tw_ls, qlrob_bid_fix_tw_ls_rob, \n",
    "                 qlrob_tss_bid_fix_tw_ls, qlrob_tss_bid_fix_tw_ls_rob, qlrob_nontss_bid_fix_tw_ls, qlrob_nontss_bid_fix_tw_ls_rob, \n",
    "                 qlrob_gene_fix_tw_lcf, qlrob_gene_fix_tw_lcf_rob, qlrob_bid_fix_tw_lcf, qlrob_bid_fix_tw_lcf_rob, \n",
    "                 qlrob_tss_bid_fix_tw_lcf, qlrob_tss_bid_fix_tw_lcf_rob, qlrob_nontss_bid_fix_tw_lcf, qlrob_nontss_bid_fix_tw_lcf_rob, \n",
    "                \n",
    "                   qlrob_gene_fix_rle_lf, qlrob_gene_fix_rle_lf_rob,  qlrob_bid_fix_rle_lf, qlrob_bid_fix_rle_lf_rob, \n",
    "                qlrob_tss_bid_fix_rle_lf, qlrob_tss_bid_fix_rle_lf_rob, qlrob_nontss_bid_fix_rle_lf, qlrob_nontss_bid_fix_rle_lf_rob,\n",
    "                 qlrob_gene_fix_rle_ma, qlrob_gene_fix_rle_ma_rob, qlrob_bid_fix_rle_ma, qlrob_bid_fix_rle_ma_rob, \n",
    "                 qlrob_tss_bid_fix_rle_ma, qlrob_tss_bid_fix_rle_ma_rob, qlrob_nontss_bid_fix_rle_ma, qlrob_nontss_bid_fix_rle_ma_rob, \n",
    "                 qlrob_gene_fix_rle_ls, qlrob_gene_fix_rle_ls_rob, qlrob_bid_fix_rle_ls, qlrob_bid_fix_rle_ls_rob, \n",
    "                 qlrob_tss_bid_fix_rle_ls, qlrob_tss_bid_fix_rle_ls_rob, qlrob_nontss_bid_fix_rle_ls, qlrob_nontss_bid_fix_rle_ls_rob, \n",
    "                 qlrob_gene_fix_rle_lcf, qlrob_gene_fix_rle_lcf_rob, qlrob_bid_fix_rle_lcf, qlrob_bid_fix_rle_lcf_rob, \n",
    "                 qlrob_tss_bid_fix_rle_lcf, qlrob_tss_bid_fix_rle_lcf_rob, qlrob_nontss_bid_fix_rle_lcf, qlrob_nontss_bid_fix_rle_lcf_rob,\n",
    "\n",
    "                  qlrob_gene_fix_uq_lf, qlrob_gene_fix_uq_lf_rob,  qlrob_bid_fix_uq_lf, qlrob_bid_fix_uq_lf_rob, \n",
    "                qlrob_tss_bid_fix_uq_lf, qlrob_tss_bid_fix_uq_lf_rob, qlrob_nontss_bid_fix_uq_lf, qlrob_nontss_bid_fix_uq_lf_rob,\n",
    "                 qlrob_gene_fix_uq_ma, qlrob_gene_fix_uq_ma_rob, qlrob_bid_fix_uq_ma, qlrob_bid_fix_uq_ma_rob, \n",
    "                 qlrob_tss_bid_fix_uq_ma, qlrob_tss_bid_fix_uq_ma_rob, qlrob_nontss_bid_fix_uq_ma, qlrob_nontss_bid_fix_uq_ma_rob, \n",
    "                 qlrob_gene_fix_uq_ls, qlrob_gene_fix_uq_ls_rob, qlrob_bid_fix_uq_ls, qlrob_bid_fix_uq_ls_rob, \n",
    "                 qlrob_tss_bid_fix_uq_ls, qlrob_tss_bid_fix_uq_ls_rob, qlrob_nontss_bid_fix_uq_ls, qlrob_nontss_bid_fix_uq_ls_rob, \n",
    "                 qlrob_gene_fix_uq_lcf, qlrob_gene_fix_uq_lcf_rob, qlrob_bid_fix_uq_lcf, qlrob_bid_fix_uq_lcf_rob, \n",
    "                 qlrob_tss_bid_fix_uq_lcf, qlrob_tss_bid_fix_uq_lcf_rob, qlrob_nontss_bid_fix_uq_lcf, qlrob_nontss_bid_fix_uq_lcf_rob)\n",
    "\n",
    "cat(length(norm_list), length(disp_list), length(ql_list), length(test_list), length(name_list))"
   ]
  },
  {
   "cell_type": "code",
   "execution_count": 195,
   "id": "51150fde-415e-4b33-8be6-0bc61dd46bd2",
   "metadata": {},
   "outputs": [
    {
     "data": {
      "text/html": [
       "<strong>pdf:</strong> 2"
      ],
      "text/latex": [
       "\\textbf{pdf:} 2"
      ],
      "text/markdown": [
       "**pdf:** 2"
      ],
      "text/plain": [
       "pdf \n",
       "  2 "
      ]
     },
     "metadata": {},
     "output_type": "display_data"
    }
   ],
   "source": [
    "results_dict_DE = list(\"name\"=c(), \"platform\"=c(), \"test\"=c(), \"disp\"=c(), \"norm\"=c(), \"Tot_Sig\"=c(), \n",
    "                    \"TP_eartar\"=c(), \"TP_ctknown\"=c(), \"TP_chip\"=c(), \"FP_chip_mean\"=c(), \"FP_chip_median\"=c(), \"FP_chip_sd\"=c())\n",
    "\n",
    "pdf(paste0(outdir, \"plots/\", celltype, \"_EdgeR_QL_disp_pval.pdf\"), onefile=TRUE)\n",
    "for (indx in seq(1, length(name_list))) {\n",
    "    # get the results\n",
    "    results = topTags(ql_list[[indx]], n=\"Inf\")\n",
    "    if (results$comparison == coefficient) {results = results$table} else {stop(\"STOP\")}\n",
    "    title = paste0(name_list[indx], \"_\", norm_list[indx], \"_\", test_list[indx], \"_\", disp_list[indx])\n",
    "    plotQLDisp(ql_list[[indx]], main=title)\n",
    "    pl <- ggplot(results, aes(x=PValue)) + \n",
    "    geom_histogram(fill=\"grey64\", binwidth=binwidth_use, color=\"black\", boundary=0) + theme_bw(base_size=15) + \n",
    "    geom_vline(xintercept=0.05, color=\"red\") + ggtitle(title) \n",
    "    print(pl)\n",
    "    if (name_list[indx] %in% c(\"Bid\", \"TSS\", \"NonTSS\") & norm_list[indx]==\"TMM\" & (disp_list[indx] %in% c(\"Locfit.mixed\", \"Locfit.mixed-robust\"))) {\n",
    "        filename <- paste0(outdir, \"results/RESULTS_\", celltype, \"_EdgeR_\", name_list[indx], \"_\", norm_list[indx], \"_\", test_list[indx], \"_\", disp_list[indx], \".txt\")\n",
    "        write.table(results, filename, quote=FALSE, sep=\"\\t\")\n",
    "    }\n",
    "    results_dict_DE = get_EdgeR_stats(results_dict_DE, name_list[indx], celltype, \n",
    "                                      results, test_list[indx], norm_list[indx], disp_list[indx])\n",
    "    \n",
    "    \n",
    "    }\n",
    "dev.off()"
   ]
  },
  {
   "cell_type": "code",
   "execution_count": 113,
   "id": "d329a2ce-021c-4c92-af0b-46660bce6d90",
   "metadata": {},
   "outputs": [
    {
     "data": {
      "text/html": [
       "<style>\n",
       ".list-inline {list-style: none; margin:0; padding: 0}\n",
       ".list-inline>li {display: inline-block}\n",
       ".list-inline>li:not(:last-child)::after {content: \"\\00b7\"; padding: 0 .5ex}\n",
       "</style>\n",
       "<ol class=list-inline><li>256</li><li>12</li></ol>\n"
      ],
      "text/latex": [
       "\\begin{enumerate*}\n",
       "\\item 256\n",
       "\\item 12\n",
       "\\end{enumerate*}\n"
      ],
      "text/markdown": [
       "1. 256\n",
       "2. 12\n",
       "\n",
       "\n"
      ],
      "text/plain": [
       "[1] 256  12"
      ]
     },
     "metadata": {},
     "output_type": "display_data"
    },
    {
     "data": {
      "text/html": [
       "<style>\n",
       ".list-inline {list-style: none; margin:0; padding: 0}\n",
       ".list-inline>li {display: inline-block}\n",
       ".list-inline>li:not(:last-child)::after {content: \"\\00b7\"; padding: 0 .5ex}\n",
       "</style>\n",
       "<ol class=list-inline><li>272</li><li>12</li></ol>\n"
      ],
      "text/latex": [
       "\\begin{enumerate*}\n",
       "\\item 272\n",
       "\\item 12\n",
       "\\end{enumerate*}\n"
      ],
      "text/markdown": [
       "1. 272\n",
       "2. 12\n",
       "\n",
       "\n"
      ],
      "text/plain": [
       "[1] 272  12"
      ]
     },
     "metadata": {},
     "output_type": "display_data"
    }
   ],
   "source": [
    "results_dict_DE <- data.frame(results_dict_DE)\n",
    "dim(results_dict_DE)\n",
    "dim(results_dict_final)\n"
   ]
  },
  {
   "cell_type": "code",
   "execution_count": 114,
   "id": "565e8214-465b-4ae9-b63d-3e98025307b4",
   "metadata": {},
   "outputs": [
    {
     "data": {
      "text/html": [
       "<table class=\"dataframe\">\n",
       "<caption>A data.frame: 2 × 12</caption>\n",
       "<thead>\n",
       "\t<tr><th></th><th scope=col>name</th><th scope=col>platform</th><th scope=col>test</th><th scope=col>disp</th><th scope=col>norm</th><th scope=col>Tot_Sig</th><th scope=col>TP_eartar</th><th scope=col>TP_ctknown</th><th scope=col>TP_chip</th><th scope=col>FP_chip_mean</th><th scope=col>FP_chip_median</th><th scope=col>FP_chip_sd</th></tr>\n",
       "\t<tr><th></th><th scope=col>&lt;chr&gt;</th><th scope=col>&lt;chr&gt;</th><th scope=col>&lt;chr&gt;</th><th scope=col>&lt;chr&gt;</th><th scope=col>&lt;chr&gt;</th><th scope=col>&lt;int&gt;</th><th scope=col>&lt;int&gt;</th><th scope=col>&lt;lgl&gt;</th><th scope=col>&lt;int&gt;</th><th scope=col>&lt;dbl&gt;</th><th scope=col>&lt;dbl&gt;</th><th scope=col>&lt;dbl&gt;</th></tr>\n",
       "</thead>\n",
       "<tbody>\n",
       "\t<tr><th scope=row>3</th><td>Bid</td><td>EdgeR</td><td>QL</td><td>Locfit       </td><td>TMM</td><td>3096</td><td>NA</td><td>NA</td><td>464</td><td>52.4</td><td>51</td><td>4.449719</td></tr>\n",
       "\t<tr><th scope=row>4</th><td>Bid</td><td>EdgeR</td><td>QL</td><td>Locfit-robust</td><td>TMM</td><td>3096</td><td>NA</td><td>NA</td><td>464</td><td>52.4</td><td>51</td><td>4.449719</td></tr>\n",
       "</tbody>\n",
       "</table>\n"
      ],
      "text/latex": [
       "A data.frame: 2 × 12\n",
       "\\begin{tabular}{r|llllllllllll}\n",
       "  & name & platform & test & disp & norm & Tot\\_Sig & TP\\_eartar & TP\\_ctknown & TP\\_chip & FP\\_chip\\_mean & FP\\_chip\\_median & FP\\_chip\\_sd\\\\\n",
       "  & <chr> & <chr> & <chr> & <chr> & <chr> & <int> & <int> & <lgl> & <int> & <dbl> & <dbl> & <dbl>\\\\\n",
       "\\hline\n",
       "\t3 & Bid & EdgeR & QL & Locfit        & TMM & 3096 & NA & NA & 464 & 52.4 & 51 & 4.449719\\\\\n",
       "\t4 & Bid & EdgeR & QL & Locfit-robust & TMM & 3096 & NA & NA & 464 & 52.4 & 51 & 4.449719\\\\\n",
       "\\end{tabular}\n"
      ],
      "text/markdown": [
       "\n",
       "A data.frame: 2 × 12\n",
       "\n",
       "| <!--/--> | name &lt;chr&gt; | platform &lt;chr&gt; | test &lt;chr&gt; | disp &lt;chr&gt; | norm &lt;chr&gt; | Tot_Sig &lt;int&gt; | TP_eartar &lt;int&gt; | TP_ctknown &lt;lgl&gt; | TP_chip &lt;int&gt; | FP_chip_mean &lt;dbl&gt; | FP_chip_median &lt;dbl&gt; | FP_chip_sd &lt;dbl&gt; |\n",
       "|---|---|---|---|---|---|---|---|---|---|---|---|---|\n",
       "| 3 | Bid | EdgeR | QL | Locfit        | TMM | 3096 | NA | NA | 464 | 52.4 | 51 | 4.449719 |\n",
       "| 4 | Bid | EdgeR | QL | Locfit-robust | TMM | 3096 | NA | NA | 464 | 52.4 | 51 | 4.449719 |\n",
       "\n"
      ],
      "text/plain": [
       "  name platform test disp          norm Tot_Sig TP_eartar TP_ctknown TP_chip\n",
       "3 Bid  EdgeR    QL   Locfit        TMM  3096    NA        NA         464    \n",
       "4 Bid  EdgeR    QL   Locfit-robust TMM  3096    NA        NA         464    \n",
       "  FP_chip_mean FP_chip_median FP_chip_sd\n",
       "3 52.4         51             4.449719  \n",
       "4 52.4         51             4.449719  "
      ]
     },
     "metadata": {},
     "output_type": "display_data"
    },
    {
     "data": {
      "text/html": [
       "<table class=\"dataframe\">\n",
       "<caption>A data.frame: 2 × 12</caption>\n",
       "<thead>\n",
       "\t<tr><th></th><th scope=col>name</th><th scope=col>platform</th><th scope=col>test</th><th scope=col>disp</th><th scope=col>norm</th><th scope=col>Tot_Sig</th><th scope=col>TP_eartar</th><th scope=col>TP_ctknown</th><th scope=col>TP_chip</th><th scope=col>FP_chip_mean</th><th scope=col>FP_chip_median</th><th scope=col>FP_chip_sd</th></tr>\n",
       "\t<tr><th></th><th scope=col>&lt;chr&gt;</th><th scope=col>&lt;chr&gt;</th><th scope=col>&lt;chr&gt;</th><th scope=col>&lt;chr&gt;</th><th scope=col>&lt;chr&gt;</th><th scope=col>&lt;int&gt;</th><th scope=col>&lt;int&gt;</th><th scope=col>&lt;lgl&gt;</th><th scope=col>&lt;int&gt;</th><th scope=col>&lt;dbl&gt;</th><th scope=col>&lt;dbl&gt;</th><th scope=col>&lt;dbl&gt;</th></tr>\n",
       "</thead>\n",
       "<tbody>\n",
       "\t<tr><th scope=row>1</th><td>Bid</td><td>DESeq2</td><td>Wald</td><td>Mean      </td><td>Ratio</td><td>   0</td><td>NA</td><td>NA</td><td>  0</td><td> 0.0</td><td> 0</td><td>0.000000</td></tr>\n",
       "\t<tr><th scope=row>2</th><td>Bid</td><td>DESeq2</td><td>Wald</td><td>Parametric</td><td>Ratio</td><td>4523</td><td>NA</td><td>NA</td><td>125</td><td>12.6</td><td>11</td><td>3.209361</td></tr>\n",
       "</tbody>\n",
       "</table>\n"
      ],
      "text/latex": [
       "A data.frame: 2 × 12\n",
       "\\begin{tabular}{r|llllllllllll}\n",
       "  & name & platform & test & disp & norm & Tot\\_Sig & TP\\_eartar & TP\\_ctknown & TP\\_chip & FP\\_chip\\_mean & FP\\_chip\\_median & FP\\_chip\\_sd\\\\\n",
       "  & <chr> & <chr> & <chr> & <chr> & <chr> & <int> & <int> & <lgl> & <int> & <dbl> & <dbl> & <dbl>\\\\\n",
       "\\hline\n",
       "\t1 & Bid & DESeq2 & Wald & Mean       & Ratio &    0 & NA & NA &   0 &  0.0 &  0 & 0.000000\\\\\n",
       "\t2 & Bid & DESeq2 & Wald & Parametric & Ratio & 4523 & NA & NA & 125 & 12.6 & 11 & 3.209361\\\\\n",
       "\\end{tabular}\n"
      ],
      "text/markdown": [
       "\n",
       "A data.frame: 2 × 12\n",
       "\n",
       "| <!--/--> | name &lt;chr&gt; | platform &lt;chr&gt; | test &lt;chr&gt; | disp &lt;chr&gt; | norm &lt;chr&gt; | Tot_Sig &lt;int&gt; | TP_eartar &lt;int&gt; | TP_ctknown &lt;lgl&gt; | TP_chip &lt;int&gt; | FP_chip_mean &lt;dbl&gt; | FP_chip_median &lt;dbl&gt; | FP_chip_sd &lt;dbl&gt; |\n",
       "|---|---|---|---|---|---|---|---|---|---|---|---|---|\n",
       "| 1 | Bid | DESeq2 | Wald | Mean       | Ratio |    0 | NA | NA |   0 |  0.0 |  0 | 0.000000 |\n",
       "| 2 | Bid | DESeq2 | Wald | Parametric | Ratio | 4523 | NA | NA | 125 | 12.6 | 11 | 3.209361 |\n",
       "\n"
      ],
      "text/plain": [
       "  name platform test disp       norm  Tot_Sig TP_eartar TP_ctknown TP_chip\n",
       "1 Bid  DESeq2   Wald Mean       Ratio    0    NA        NA           0    \n",
       "2 Bid  DESeq2   Wald Parametric Ratio 4523    NA        NA         125    \n",
       "  FP_chip_mean FP_chip_median FP_chip_sd\n",
       "1  0.0          0             0.000000  \n",
       "2 12.6         11             3.209361  "
      ]
     },
     "metadata": {},
     "output_type": "display_data"
    },
    {
     "data": {
      "text/html": [
       "<style>\n",
       ".list-inline {list-style: none; margin:0; padding: 0}\n",
       ".list-inline>li {display: inline-block}\n",
       ".list-inline>li:not(:last-child)::after {content: \"\\00b7\"; padding: 0 .5ex}\n",
       "</style>\n",
       "<ol class=list-inline><li>528</li><li>12</li></ol>\n"
      ],
      "text/latex": [
       "\\begin{enumerate*}\n",
       "\\item 528\n",
       "\\item 12\n",
       "\\end{enumerate*}\n"
      ],
      "text/markdown": [
       "1. 528\n",
       "2. 12\n",
       "\n",
       "\n"
      ],
      "text/plain": [
       "[1] 528  12"
      ]
     },
     "metadata": {},
     "output_type": "display_data"
    }
   ],
   "source": [
    "results_dict_DE[3:4,]\n",
    "results_dict_final[1:2,]\n",
    "results_dict_final <- rbind(results_dict_final, results_dict_DE)\n",
    "dim(results_dict_final)"
   ]
  },
  {
   "cell_type": "markdown",
   "id": "6f2bdff3-96b7-46d8-8f28-696a65c418be",
   "metadata": {},
   "source": [
    "## 5. Save everything"
   ]
  },
  {
   "cell_type": "code",
   "execution_count": 115,
   "id": "c3bc5102-d223-4ad6-8fba-d4bc33cc07b7",
   "metadata": {},
   "outputs": [
    {
     "data": {
      "text/html": [
       "'/Users/hopekirby/Desktop/TF_Enh_Linking/Bench_DE/p53/out/'"
      ],
      "text/latex": [
       "'/Users/hopekirby/Desktop/TF\\_Enh\\_Linking/Bench\\_DE/p53/out/'"
      ],
      "text/markdown": [
       "'/Users/hopekirby/Desktop/TF_Enh_Linking/Bench_DE/p53/out/'"
      ],
      "text/plain": [
       "[1] \"/Users/hopekirby/Desktop/TF_Enh_Linking/Bench_DE/p53/out/\""
      ]
     },
     "metadata": {},
     "output_type": "display_data"
    }
   ],
   "source": [
    "outdir"
   ]
  },
  {
   "cell_type": "code",
   "execution_count": 116,
   "id": "9d016411-6ad4-4f29-8655-60c5a7171ee3",
   "metadata": {},
   "outputs": [
    {
     "data": {
      "text/plain": [
       "\n",
       "DESeq2  EdgeR  Limma \n",
       "    74    386     68 "
      ]
     },
     "metadata": {},
     "output_type": "display_data"
    }
   ],
   "source": [
    "table(results_dict_final$platform)"
   ]
  },
  {
   "cell_type": "code",
   "execution_count": 117,
   "id": "6fd2afaa-7c32-4a26-8cd4-183db1aeba6c",
   "metadata": {},
   "outputs": [],
   "source": [
    "# save file\n",
    "write.table(results_dict_final, \n",
    "            paste0(outdir, \"final_stats/\", celltype, \"_stats_03-29-24.txt\"), \n",
    "            quote=FALSE, sep=\"\\t\", row.names=FALSE)"
   ]
  },
  {
   "cell_type": "code",
   "execution_count": 87,
   "id": "b5f3464f-3ee3-4306-8d7e-1ea436fdf4e8",
   "metadata": {},
   "outputs": [],
   "source": [
    "# at the end save all the overall stats\n",
    "write.table(df, \n",
    "            paste0(outdir, \"final_stats/p53_SJSA_CT_summary_03-29-24.txt\"), \n",
    "            quote=FALSE, sep=\"\\t\", row.names=FALSE)"
   ]
  },
  {
   "cell_type": "code",
   "execution_count": null,
   "id": "5601156e-7273-4afa-ad4f-37c68357c7ce",
   "metadata": {},
   "outputs": [],
   "source": []
  }
 ],
 "metadata": {
  "kernelspec": {
   "display_name": "R",
   "language": "R",
   "name": "ir"
  },
  "language_info": {
   "codemirror_mode": "r",
   "file_extension": ".r",
   "mimetype": "text/x-r-source",
   "name": "R",
   "pygments_lexer": "r",
   "version": "4.3.0"
  }
 },
 "nbformat": 4,
 "nbformat_minor": 5
}
