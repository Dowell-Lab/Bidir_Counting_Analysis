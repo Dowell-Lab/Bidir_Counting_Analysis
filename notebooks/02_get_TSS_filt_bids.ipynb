{
 "cells": [
  {
   "cell_type": "code",
   "execution_count": 1,
   "metadata": {},
   "outputs": [],
   "source": [
    "library(data.table)\n",
    "library(stringr)"
   ]
  },
  {
   "cell_type": "code",
   "execution_count": 50,
   "metadata": {},
   "outputs": [],
   "source": [
    "# files\n",
    "tss_out_file=\"/scratch/Users/hoto7260/Resp_Env/Sasse2019/out/overlaps/overlaps_hg38_TSS1kb_withput_Sasse2019nascent_MUMERGE_50bp_04-4-24.bed\"\n",
    "count_out_file=\"/scratch/Users/hoto7260/Resp_Env/Sasse2019/out/overlaps/overlaps_hg38_withput_Sasse2019nascent_MUMERGE_600bp_04-4-24.bed\"\n",
    "closest_file=\"/scratch/Users/hoto7260/Resp_Env/Sasse2019/out/overlaps/closest_hg38_withput_Sasse2019nascent_MUMERGE_600bp_04-4-24.bed\"\n",
    "og_bid_file=\"/Users/hoto7260/projects/Resp_Env/Sasse2019/data/beds/Sasse2019nascent_04-4-24_MUMERGE_600bpwin_tfit,dreg.sorted.bed\""
   ]
  },
  {
   "cell_type": "markdown",
   "metadata": {},
   "source": [
    "# Get the TSS bids"
   ]
  },
  {
   "cell_type": "code",
   "execution_count": 3,
   "metadata": {},
   "outputs": [
    {
     "data": {
      "text/html": [
       "<table class=\"dataframe\">\n",
       "<caption>A data.table: 3 × 11</caption>\n",
       "<thead>\n",
       "\t<tr><th scope=col>V1</th><th scope=col>V2</th><th scope=col>V3</th><th scope=col>V4</th><th scope=col>V5</th><th scope=col>V6</th><th scope=col>V7</th><th scope=col>V8</th><th scope=col>V9</th><th scope=col>V10</th><th scope=col>V11</th></tr>\n",
       "\t<tr><th scope=col>&lt;chr&gt;</th><th scope=col>&lt;int&gt;</th><th scope=col>&lt;int&gt;</th><th scope=col>&lt;chr&gt;</th><th scope=col>&lt;chr&gt;</th><th scope=col>&lt;int&gt;</th><th scope=col>&lt;int&gt;</th><th scope=col>&lt;chr&gt;</th><th scope=col>&lt;chr&gt;</th><th scope=col>&lt;chr&gt;</th><th scope=col>&lt;int&gt;</th></tr>\n",
       "</thead>\n",
       "<tbody>\n",
       "\t<tr><td>chr1</td><td>17605</td><td>17655</td><td>chr1:17561-17699-tfit</td><td>chr1</td><td>16936</td><td>17936</td><td>MIR6859-1:NR_106918.1     </td><td>.</td><td>-</td><td>50</td></tr>\n",
       "\t<tr><td>chr1</td><td>29231</td><td>29281</td><td>chr1:28793-29719-dreg</td><td>chr1</td><td>28870</td><td>29870</td><td>WASH7P:NR_024540.1        </td><td>.</td><td>-</td><td>50</td></tr>\n",
       "\t<tr><td>chr1</td><td>29231</td><td>29281</td><td>chr1:28793-29719-dreg</td><td>chr1</td><td>29273</td><td>30273</td><td>MIR1302-2HG:XR_007065314.1</td><td>.</td><td>+</td><td> 8</td></tr>\n",
       "</tbody>\n",
       "</table>\n"
      ],
      "text/latex": [
       "A data.table: 3 × 11\n",
       "\\begin{tabular}{lllllllllll}\n",
       " V1 & V2 & V3 & V4 & V5 & V6 & V7 & V8 & V9 & V10 & V11\\\\\n",
       " <chr> & <int> & <int> & <chr> & <chr> & <int> & <int> & <chr> & <chr> & <chr> & <int>\\\\\n",
       "\\hline\n",
       "\t chr1 & 17605 & 17655 & chr1:17561-17699-tfit & chr1 & 16936 & 17936 & MIR6859-1:NR\\_106918.1      & . & - & 50\\\\\n",
       "\t chr1 & 29231 & 29281 & chr1:28793-29719-dreg & chr1 & 28870 & 29870 & WASH7P:NR\\_024540.1         & . & - & 50\\\\\n",
       "\t chr1 & 29231 & 29281 & chr1:28793-29719-dreg & chr1 & 29273 & 30273 & MIR1302-2HG:XR\\_007065314.1 & . & + &  8\\\\\n",
       "\\end{tabular}\n"
      ],
      "text/markdown": [
       "\n",
       "A data.table: 3 × 11\n",
       "\n",
       "| V1 &lt;chr&gt; | V2 &lt;int&gt; | V3 &lt;int&gt; | V4 &lt;chr&gt; | V5 &lt;chr&gt; | V6 &lt;int&gt; | V7 &lt;int&gt; | V8 &lt;chr&gt; | V9 &lt;chr&gt; | V10 &lt;chr&gt; | V11 &lt;int&gt; |\n",
       "|---|---|---|---|---|---|---|---|---|---|---|\n",
       "| chr1 | 17605 | 17655 | chr1:17561-17699-tfit | chr1 | 16936 | 17936 | MIR6859-1:NR_106918.1      | . | - | 50 |\n",
       "| chr1 | 29231 | 29281 | chr1:28793-29719-dreg | chr1 | 28870 | 29870 | WASH7P:NR_024540.1         | . | - | 50 |\n",
       "| chr1 | 29231 | 29281 | chr1:28793-29719-dreg | chr1 | 29273 | 30273 | MIR1302-2HG:XR_007065314.1 | . | + |  8 |\n",
       "\n"
      ],
      "text/plain": [
       "  V1   V2    V3    V4                    V5   V6    V7   \n",
       "1 chr1 17605 17655 chr1:17561-17699-tfit chr1 16936 17936\n",
       "2 chr1 29231 29281 chr1:28793-29719-dreg chr1 28870 29870\n",
       "3 chr1 29231 29281 chr1:28793-29719-dreg chr1 29273 30273\n",
       "  V8                         V9 V10 V11\n",
       "1 MIR6859-1:NR_106918.1      .  -   50 \n",
       "2 WASH7P:NR_024540.1         .  -   50 \n",
       "3 MIR1302-2HG:XR_007065314.1 .  +    8 "
      ]
     },
     "metadata": {},
     "output_type": "display_data"
    },
    {
     "data": {
      "text/html": [
       "39457"
      ],
      "text/latex": [
       "39457"
      ],
      "text/markdown": [
       "39457"
      ],
      "text/plain": [
       "[1] 39457"
      ]
     },
     "metadata": {},
     "output_type": "display_data"
    },
    {
     "data": {
      "text/html": [
       "33217"
      ],
      "text/latex": [
       "33217"
      ],
      "text/markdown": [
       "33217"
      ],
      "text/plain": [
       "[1] 33217"
      ]
     },
     "metadata": {},
     "output_type": "display_data"
    }
   ],
   "source": [
    "over <- fread(tss_out_file)\n",
    "over[1:3,]\n",
    "nrow(over)\n",
    "length(unique(over$V8))"
   ]
  },
  {
   "cell_type": "code",
   "execution_count": 4,
   "metadata": {},
   "outputs": [
    {
     "data": {
      "text/html": [
       "<table class=\"dataframe\">\n",
       "<caption>A data.table: 3 × 14</caption>\n",
       "<thead>\n",
       "\t<tr><th scope=col>V1</th><th scope=col>V2</th><th scope=col>V3</th><th scope=col>V4</th><th scope=col>V5</th><th scope=col>V6</th><th scope=col>V7</th><th scope=col>V8</th><th scope=col>V9</th><th scope=col>V10</th><th scope=col>V11</th><th scope=col>mu</th><th scope=col>tss</th><th scope=col>MUDIFF</th></tr>\n",
       "\t<tr><th scope=col>&lt;chr&gt;</th><th scope=col>&lt;int&gt;</th><th scope=col>&lt;int&gt;</th><th scope=col>&lt;chr&gt;</th><th scope=col>&lt;chr&gt;</th><th scope=col>&lt;int&gt;</th><th scope=col>&lt;int&gt;</th><th scope=col>&lt;chr&gt;</th><th scope=col>&lt;chr&gt;</th><th scope=col>&lt;chr&gt;</th><th scope=col>&lt;int&gt;</th><th scope=col>&lt;int&gt;</th><th scope=col>&lt;int&gt;</th><th scope=col>&lt;int&gt;</th></tr>\n",
       "</thead>\n",
       "<tbody>\n",
       "\t<tr><td>chr1</td><td>17605</td><td>17655</td><td>chr1:17561-17699-tfit</td><td>chr1</td><td>16936</td><td>17936</td><td>MIR6859-1:NR_106918.1     </td><td>.</td><td>-</td><td>50</td><td>17630</td><td>17436</td><td>194</td></tr>\n",
       "\t<tr><td>chr1</td><td>29231</td><td>29281</td><td>chr1:28793-29719-dreg</td><td>chr1</td><td>28870</td><td>29870</td><td>WASH7P:NR_024540.1        </td><td>.</td><td>-</td><td>50</td><td>29256</td><td>29370</td><td>114</td></tr>\n",
       "\t<tr><td>chr1</td><td>29231</td><td>29281</td><td>chr1:28793-29719-dreg</td><td>chr1</td><td>29273</td><td>30273</td><td>MIR1302-2HG:XR_007065314.1</td><td>.</td><td>+</td><td> 8</td><td>29256</td><td>29773</td><td>517</td></tr>\n",
       "</tbody>\n",
       "</table>\n"
      ],
      "text/latex": [
       "A data.table: 3 × 14\n",
       "\\begin{tabular}{llllllllllllll}\n",
       " V1 & V2 & V3 & V4 & V5 & V6 & V7 & V8 & V9 & V10 & V11 & mu & tss & MUDIFF\\\\\n",
       " <chr> & <int> & <int> & <chr> & <chr> & <int> & <int> & <chr> & <chr> & <chr> & <int> & <int> & <int> & <int>\\\\\n",
       "\\hline\n",
       "\t chr1 & 17605 & 17655 & chr1:17561-17699-tfit & chr1 & 16936 & 17936 & MIR6859-1:NR\\_106918.1      & . & - & 50 & 17630 & 17436 & 194\\\\\n",
       "\t chr1 & 29231 & 29281 & chr1:28793-29719-dreg & chr1 & 28870 & 29870 & WASH7P:NR\\_024540.1         & . & - & 50 & 29256 & 29370 & 114\\\\\n",
       "\t chr1 & 29231 & 29281 & chr1:28793-29719-dreg & chr1 & 29273 & 30273 & MIR1302-2HG:XR\\_007065314.1 & . & + &  8 & 29256 & 29773 & 517\\\\\n",
       "\\end{tabular}\n"
      ],
      "text/markdown": [
       "\n",
       "A data.table: 3 × 14\n",
       "\n",
       "| V1 &lt;chr&gt; | V2 &lt;int&gt; | V3 &lt;int&gt; | V4 &lt;chr&gt; | V5 &lt;chr&gt; | V6 &lt;int&gt; | V7 &lt;int&gt; | V8 &lt;chr&gt; | V9 &lt;chr&gt; | V10 &lt;chr&gt; | V11 &lt;int&gt; | mu &lt;int&gt; | tss &lt;int&gt; | MUDIFF &lt;int&gt; |\n",
       "|---|---|---|---|---|---|---|---|---|---|---|---|---|---|\n",
       "| chr1 | 17605 | 17655 | chr1:17561-17699-tfit | chr1 | 16936 | 17936 | MIR6859-1:NR_106918.1      | . | - | 50 | 17630 | 17436 | 194 |\n",
       "| chr1 | 29231 | 29281 | chr1:28793-29719-dreg | chr1 | 28870 | 29870 | WASH7P:NR_024540.1         | . | - | 50 | 29256 | 29370 | 114 |\n",
       "| chr1 | 29231 | 29281 | chr1:28793-29719-dreg | chr1 | 29273 | 30273 | MIR1302-2HG:XR_007065314.1 | . | + |  8 | 29256 | 29773 | 517 |\n",
       "\n"
      ],
      "text/plain": [
       "  V1   V2    V3    V4                    V5   V6    V7   \n",
       "1 chr1 17605 17655 chr1:17561-17699-tfit chr1 16936 17936\n",
       "2 chr1 29231 29281 chr1:28793-29719-dreg chr1 28870 29870\n",
       "3 chr1 29231 29281 chr1:28793-29719-dreg chr1 29273 30273\n",
       "  V8                         V9 V10 V11 mu    tss   MUDIFF\n",
       "1 MIR6859-1:NR_106918.1      .  -   50  17630 17436 194   \n",
       "2 WASH7P:NR_024540.1         .  -   50  29256 29370 114   \n",
       "3 MIR1302-2HG:XR_007065314.1 .  +    8  29256 29773 517   "
      ]
     },
     "metadata": {},
     "output_type": "display_data"
    }
   ],
   "source": [
    "# Get difference between mu and TSS\n",
    "over$mu <- as.integer((over$V3+over$V2)/2)\n",
    "over$tss <- as.integer((over$V6+over$V7)/2)\n",
    "\n",
    "# get the distance between the two\n",
    "over$MUDIFF <- abs(over$mu-over$tss)\n",
    "\n",
    "over[1:3,]"
   ]
  },
  {
   "cell_type": "code",
   "execution_count": 5,
   "metadata": {},
   "outputs": [
    {
     "data": {
      "text/html": [
       "33217"
      ],
      "text/latex": [
       "33217"
      ],
      "text/markdown": [
       "33217"
      ],
      "text/plain": [
       "[1] 33217"
      ]
     },
     "metadata": {},
     "output_type": "display_data"
    },
    {
     "data": {
      "text/html": [
       "17054"
      ],
      "text/latex": [
       "17054"
      ],
      "text/markdown": [
       "17054"
      ],
      "text/plain": [
       "[1] 17054"
      ]
     },
     "metadata": {},
     "output_type": "display_data"
    }
   ],
   "source": [
    "over$Gene <- str_split_fixed(over$V8, \":\", 2)[,1]\n",
    "\n",
    "trans_with_tss <- unique(over$V8)\n",
    "length(trans_with_tss)\n",
    "genes_with_tss <- unique(over$Gene)\n",
    "length(genes_with_tss)"
   ]
  },
  {
   "cell_type": "code",
   "execution_count": 6,
   "metadata": {},
   "outputs": [
    {
     "name": "stdout",
     "output_type": "stream",
     "text": [
      "\n",
      "The isoform UVSSA:XM_017008490.1 has 2 TSS that are closest. Hand annotate"
     ]
    }
   ],
   "source": [
    "over <- data.frame(over)\n",
    "over$unique <- seq(1, nrow(over))\n",
    "hand_annotate = c()\n",
    "TSS_used = c()\n",
    "keep <- c()\n",
    "remove <- c()\n",
    "for (isoform in trans_with_tss) {\n",
    "    # get the overlaps\n",
    "    filt = over[over$V8 == isoform,]\n",
    "    # get the TSS with the minimum MUDIFF\n",
    "    tss = filt[filt$MUDIFF == min(filt$MUDIFF),]$V4\n",
    "    #cat(\"\\n\", isoform, tss)\n",
    "    if (length(tss) != 1) {\n",
    "        hand_annotate <- c(hand_annotate, isoform)\n",
    "        cat(\"\\nThe isoform\", isoform, \"has\", length(tss), \"TSS that are closest. Hand annotate\")\n",
    "    } else if (tss %in% TSS_used) {\n",
    "        # if the TSS has already been assigned to a gene\n",
    "        # check the difference in MUDIFF between the two genes\n",
    "        filt2 = over[over$V4 == tss,]\n",
    "        # if the MUDIFF of the two genes are significantly different, only keep one\n",
    "        if (max(abs(filt2$MUDIFF))-min(abs(filt2$MUDIFF)) > 50) {\n",
    "            keep <- c(keep, filt2[abs(filt2$MUDIFF) == min(abs(filt2$MUDIFF)),]$unique)\n",
    "            remove <- c(remove, filt2[abs(filt2$MUDIFF) == max(abs(filt2$MUDIFF)),]$unique)\n",
    "        } else {\n",
    "            keep <- c(keep, filt$unique)\n",
    "        }}else {\n",
    "            keep <- c(keep, filt[filt$V4 == tss,]$unique)\n",
    "            }\n",
    "    TSS_used <- union(TSS_used, tss)\n",
    "        }"
   ]
  },
  {
   "cell_type": "code",
   "execution_count": null,
   "metadata": {},
   "outputs": [],
   "source": [
    "keep[1:4]"
   ]
  },
  {
   "cell_type": "code",
   "execution_count": 8,
   "metadata": {},
   "outputs": [
    {
     "data": {
      "text/html": [
       "1"
      ],
      "text/latex": [
       "1"
      ],
      "text/markdown": [
       "1"
      ],
      "text/plain": [
       "[1] 1"
      ]
     },
     "metadata": {},
     "output_type": "display_data"
    },
    {
     "data": {
      "text/html": [
       "<table class=\"dataframe\">\n",
       "<caption>A data.frame: 4 × 16</caption>\n",
       "<thead>\n",
       "\t<tr><th></th><th scope=col>V1</th><th scope=col>V2</th><th scope=col>V3</th><th scope=col>V4</th><th scope=col>V5</th><th scope=col>V6</th><th scope=col>V7</th><th scope=col>V8</th><th scope=col>V9</th><th scope=col>V10</th><th scope=col>V11</th><th scope=col>mu</th><th scope=col>tss</th><th scope=col>MUDIFF</th><th scope=col>Gene</th><th scope=col>unique</th></tr>\n",
       "\t<tr><th></th><th scope=col>&lt;chr&gt;</th><th scope=col>&lt;int&gt;</th><th scope=col>&lt;int&gt;</th><th scope=col>&lt;chr&gt;</th><th scope=col>&lt;chr&gt;</th><th scope=col>&lt;int&gt;</th><th scope=col>&lt;int&gt;</th><th scope=col>&lt;chr&gt;</th><th scope=col>&lt;chr&gt;</th><th scope=col>&lt;chr&gt;</th><th scope=col>&lt;int&gt;</th><th scope=col>&lt;int&gt;</th><th scope=col>&lt;int&gt;</th><th scope=col>&lt;int&gt;</th><th scope=col>&lt;chr&gt;</th><th scope=col>&lt;int&gt;</th></tr>\n",
       "</thead>\n",
       "<tbody>\n",
       "\t<tr><th scope=row>27779</th><td>chr4</td><td>1346788</td><td>1346838</td><td>chr4:1346594-1347032-tfit     </td><td>chr4</td><td>1346563</td><td>1347563</td><td>UVSSA:XM_017008490.1</td><td>. </td><td>+ </td><td>50</td><td>1346813</td><td>1347063</td><td>250</td><td>UVSSA</td><td>27779</td></tr>\n",
       "\t<tr><th scope=row>27781</th><td>chr4</td><td>1347288</td><td>1347338</td><td>chr4:1347032-1347594-tfit,dreg</td><td>chr4</td><td>1346563</td><td>1347563</td><td>UVSSA:XM_017008490.1</td><td>. </td><td>+ </td><td>50</td><td>1347313</td><td>1347063</td><td>250</td><td>UVSSA</td><td>27781</td></tr>\n",
       "\t<tr><th scope=row>NA</th><td>NA  </td><td>     NA</td><td>     NA</td><td>NA                            </td><td>NA  </td><td>     NA</td><td>     NA</td><td>NA                  </td><td>NA</td><td>NA</td><td>NA</td><td>     NA</td><td>     NA</td><td> NA</td><td>NA   </td><td>   NA</td></tr>\n",
       "\t<tr><th scope=row>NA.1</th><td>NA  </td><td>     NA</td><td>     NA</td><td>NA                            </td><td>NA  </td><td>     NA</td><td>     NA</td><td>NA                  </td><td>NA</td><td>NA</td><td>NA</td><td>     NA</td><td>     NA</td><td> NA</td><td>NA   </td><td>   NA</td></tr>\n",
       "</tbody>\n",
       "</table>\n"
      ],
      "text/latex": [
       "A data.frame: 4 × 16\n",
       "\\begin{tabular}{r|llllllllllllllll}\n",
       "  & V1 & V2 & V3 & V4 & V5 & V6 & V7 & V8 & V9 & V10 & V11 & mu & tss & MUDIFF & Gene & unique\\\\\n",
       "  & <chr> & <int> & <int> & <chr> & <chr> & <int> & <int> & <chr> & <chr> & <chr> & <int> & <int> & <int> & <int> & <chr> & <int>\\\\\n",
       "\\hline\n",
       "\t27779 & chr4 & 1346788 & 1346838 & chr4:1346594-1347032-tfit      & chr4 & 1346563 & 1347563 & UVSSA:XM\\_017008490.1 & .  & +  & 50 & 1346813 & 1347063 & 250 & UVSSA & 27779\\\\\n",
       "\t27781 & chr4 & 1347288 & 1347338 & chr4:1347032-1347594-tfit,dreg & chr4 & 1346563 & 1347563 & UVSSA:XM\\_017008490.1 & .  & +  & 50 & 1347313 & 1347063 & 250 & UVSSA & 27781\\\\\n",
       "\tNA & NA   &      NA &      NA & NA                             & NA   &      NA &      NA & NA                   & NA & NA & NA &      NA &      NA &  NA & NA    &    NA\\\\\n",
       "\tNA.1 & NA   &      NA &      NA & NA                             & NA   &      NA &      NA & NA                   & NA & NA & NA &      NA &      NA &  NA & NA    &    NA\\\\\n",
       "\\end{tabular}\n"
      ],
      "text/markdown": [
       "\n",
       "A data.frame: 4 × 16\n",
       "\n",
       "| <!--/--> | V1 &lt;chr&gt; | V2 &lt;int&gt; | V3 &lt;int&gt; | V4 &lt;chr&gt; | V5 &lt;chr&gt; | V6 &lt;int&gt; | V7 &lt;int&gt; | V8 &lt;chr&gt; | V9 &lt;chr&gt; | V10 &lt;chr&gt; | V11 &lt;int&gt; | mu &lt;int&gt; | tss &lt;int&gt; | MUDIFF &lt;int&gt; | Gene &lt;chr&gt; | unique &lt;int&gt; |\n",
       "|---|---|---|---|---|---|---|---|---|---|---|---|---|---|---|---|---|\n",
       "| 27779 | chr4 | 1346788 | 1346838 | chr4:1346594-1347032-tfit      | chr4 | 1346563 | 1347563 | UVSSA:XM_017008490.1 | .  | +  | 50 | 1346813 | 1347063 | 250 | UVSSA | 27779 |\n",
       "| 27781 | chr4 | 1347288 | 1347338 | chr4:1347032-1347594-tfit,dreg | chr4 | 1346563 | 1347563 | UVSSA:XM_017008490.1 | .  | +  | 50 | 1347313 | 1347063 | 250 | UVSSA | 27781 |\n",
       "| NA | NA   |      NA |      NA | NA                             | NA   |      NA |      NA | NA                   | NA | NA | NA |      NA |      NA |  NA | NA    |    NA |\n",
       "| NA.1 | NA   |      NA |      NA | NA                             | NA   |      NA |      NA | NA                   | NA | NA | NA |      NA |      NA |  NA | NA    |    NA |\n",
       "\n"
      ],
      "text/plain": [
       "      V1   V2      V3      V4                             V5   V6      V7     \n",
       "27779 chr4 1346788 1346838 chr4:1346594-1347032-tfit      chr4 1346563 1347563\n",
       "27781 chr4 1347288 1347338 chr4:1347032-1347594-tfit,dreg chr4 1346563 1347563\n",
       "NA    NA        NA      NA NA                             NA        NA      NA\n",
       "NA.1  NA        NA      NA NA                             NA        NA      NA\n",
       "      V8                   V9 V10 V11 mu      tss     MUDIFF Gene  unique\n",
       "27779 UVSSA:XM_017008490.1 .  +   50  1346813 1347063 250    UVSSA 27779 \n",
       "27781 UVSSA:XM_017008490.1 .  +   50  1347313 1347063 250    UVSSA 27781 \n",
       "NA    NA                   NA NA  NA       NA      NA  NA    NA       NA \n",
       "NA.1  NA                   NA NA  NA       NA      NA  NA    NA       NA "
      ]
     },
     "metadata": {},
     "output_type": "display_data"
    }
   ],
   "source": [
    "length(hand_annotate)\n",
    "test <- over[over$V8 == \"UVSSA:XM_017008490.1\",]\n",
    "test[1:4,]\n",
    "\n",
    "# none should be kept\n"
   ]
  },
  {
   "cell_type": "code",
   "execution_count": 9,
   "metadata": {},
   "outputs": [
    {
     "data": {
      "text/html": [],
      "text/latex": [],
      "text/markdown": [],
      "text/plain": [
       "numeric(0)"
      ]
     },
     "metadata": {},
     "output_type": "display_data"
    }
   ],
   "source": [
    "setdiff(keep2, keep)\n",
    "keep <- union(keep, keep2)"
   ]
  },
  {
   "cell_type": "code",
   "execution_count": 13,
   "metadata": {},
   "outputs": [
    {
     "name": "stdout",
     "output_type": "stream",
     "text": [
      "\n",
      "Original # Transcripts captured: 33217 and new #: 26452\n",
      "Original # Genes captured: 17054 and new #: 15161\n",
      "Original MUDIFF quantiles vs Filtered"
     ]
    },
    {
     "data": {
      "text/html": [
       "<style>\n",
       ".dl-inline {width: auto; margin:0; padding: 0}\n",
       ".dl-inline>dt, .dl-inline>dd {float: none; width: auto; display: inline-block}\n",
       ".dl-inline>dt::after {content: \":\\0020\"; padding-right: .5ex}\n",
       ".dl-inline>dt:not(:first-of-type) {padding-left: .5ex}\n",
       "</style><dl class=dl-inline><dt>0%</dt><dd>0</dd><dt>25%</dt><dd>57</dd><dt>50%</dt><dd>130</dd><dt>75%</dt><dd>286</dd><dt>100%</dt><dd>524</dd></dl>\n"
      ],
      "text/latex": [
       "\\begin{description*}\n",
       "\\item[0\\textbackslash{}\\%] 0\n",
       "\\item[25\\textbackslash{}\\%] 57\n",
       "\\item[50\\textbackslash{}\\%] 130\n",
       "\\item[75\\textbackslash{}\\%] 286\n",
       "\\item[100\\textbackslash{}\\%] 524\n",
       "\\end{description*}\n"
      ],
      "text/markdown": [
       "0%\n",
       ":   025%\n",
       ":   5750%\n",
       ":   13075%\n",
       ":   286100%\n",
       ":   524\n",
       "\n"
      ],
      "text/plain": [
       "  0%  25%  50%  75% 100% \n",
       "   0   57  130  286  524 "
      ]
     },
     "metadata": {},
     "output_type": "display_data"
    },
    {
     "data": {
      "text/html": [
       "<style>\n",
       ".dl-inline {width: auto; margin:0; padding: 0}\n",
       ".dl-inline>dt, .dl-inline>dd {float: none; width: auto; display: inline-block}\n",
       ".dl-inline>dt::after {content: \":\\0020\"; padding-right: .5ex}\n",
       ".dl-inline>dt:not(:first-of-type) {padding-left: .5ex}\n",
       "</style><dl class=dl-inline><dt>0%</dt><dd>0</dd><dt>25%</dt><dd>39</dd><dt>50%</dt><dd>87</dd><dt>75%</dt><dd>176</dd><dt>100%</dt><dd>524</dd></dl>\n"
      ],
      "text/latex": [
       "\\begin{description*}\n",
       "\\item[0\\textbackslash{}\\%] 0\n",
       "\\item[25\\textbackslash{}\\%] 39\n",
       "\\item[50\\textbackslash{}\\%] 87\n",
       "\\item[75\\textbackslash{}\\%] 176\n",
       "\\item[100\\textbackslash{}\\%] 524\n",
       "\\end{description*}\n"
      ],
      "text/markdown": [
       "0%\n",
       ":   025%\n",
       ":   3950%\n",
       ":   8775%\n",
       ":   176100%\n",
       ":   524\n",
       "\n"
      ],
      "text/plain": [
       "  0%  25%  50%  75% 100% \n",
       "   0   39   87  176  524 "
      ]
     },
     "metadata": {},
     "output_type": "display_data"
    }
   ],
   "source": [
    "over_filt <- over[over$unique %in% keep,]\n",
    "over_filt <- over_filt[!over_filt$unique %in% remove,]\n",
    "\n",
    "trans_with_tss_filt <- unique(over_filt$V8)\n",
    "cat(\"\\nOriginal # Transcripts captured:\", length(trans_with_tss), \"and new #:\", length(trans_with_tss_filt))\n",
    "\n",
    "genes_with_tss_filt <- unique(over_filt$Gene)\n",
    "cat(\"\\nOriginal # Genes captured:\", length(genes_with_tss), \"and new #:\", length(genes_with_tss_filt))\n",
    "\n",
    "cat(\"\\nOriginal MUDIFF quantiles vs Filtered:\")\n",
    "quantile(over$MUDIFF, probs = seq (0, 1, 0.25), na.rm = FALSE)\n",
    "quantile(over_filt$MUDIFF, probs = seq (0, 1, 0.25), na.rm = FALSE)"
   ]
  },
  {
   "cell_type": "code",
   "execution_count": 16,
   "metadata": {},
   "outputs": [
    {
     "data": {
      "text/html": [
       "<table class=\"dataframe\">\n",
       "<caption>A data.frame: 2 × 11</caption>\n",
       "<thead>\n",
       "\t<tr><th></th><th scope=col>Chr</th><th scope=col>Bid_Start</th><th scope=col>Bid_Stop</th><th scope=col>BidID</th><th scope=col>Gene_Start</th><th scope=col>Gene_Stop</th><th scope=col>TranscriptID</th><th scope=col>Strand</th><th scope=col>mu</th><th scope=col>TSS</th><th scope=col>GeneID</th></tr>\n",
       "\t<tr><th></th><th scope=col>&lt;chr&gt;</th><th scope=col>&lt;int&gt;</th><th scope=col>&lt;int&gt;</th><th scope=col>&lt;chr&gt;</th><th scope=col>&lt;int&gt;</th><th scope=col>&lt;int&gt;</th><th scope=col>&lt;chr&gt;</th><th scope=col>&lt;chr&gt;</th><th scope=col>&lt;int&gt;</th><th scope=col>&lt;int&gt;</th><th scope=col>&lt;chr&gt;</th></tr>\n",
       "</thead>\n",
       "<tbody>\n",
       "\t<tr><th scope=row>1</th><td>chr1</td><td>17605</td><td>17655</td><td>chr1:17561-17699-tfit</td><td>16936</td><td>17936</td><td>MIR6859-1:NR_106918.1</td><td>-</td><td>17630</td><td>17436</td><td>MIR6859-1</td></tr>\n",
       "\t<tr><th scope=row>2</th><td>chr1</td><td>29231</td><td>29281</td><td>chr1:28793-29719-dreg</td><td>28870</td><td>29870</td><td>WASH7P:NR_024540.1   </td><td>-</td><td>29256</td><td>29370</td><td>WASH7P   </td></tr>\n",
       "</tbody>\n",
       "</table>\n"
      ],
      "text/latex": [
       "A data.frame: 2 × 11\n",
       "\\begin{tabular}{r|lllllllllll}\n",
       "  & Chr & Bid\\_Start & Bid\\_Stop & BidID & Gene\\_Start & Gene\\_Stop & TranscriptID & Strand & mu & TSS & GeneID\\\\\n",
       "  & <chr> & <int> & <int> & <chr> & <int> & <int> & <chr> & <chr> & <int> & <int> & <chr>\\\\\n",
       "\\hline\n",
       "\t1 & chr1 & 17605 & 17655 & chr1:17561-17699-tfit & 16936 & 17936 & MIR6859-1:NR\\_106918.1 & - & 17630 & 17436 & MIR6859-1\\\\\n",
       "\t2 & chr1 & 29231 & 29281 & chr1:28793-29719-dreg & 28870 & 29870 & WASH7P:NR\\_024540.1    & - & 29256 & 29370 & WASH7P   \\\\\n",
       "\\end{tabular}\n"
      ],
      "text/markdown": [
       "\n",
       "A data.frame: 2 × 11\n",
       "\n",
       "| <!--/--> | Chr &lt;chr&gt; | Bid_Start &lt;int&gt; | Bid_Stop &lt;int&gt; | BidID &lt;chr&gt; | Gene_Start &lt;int&gt; | Gene_Stop &lt;int&gt; | TranscriptID &lt;chr&gt; | Strand &lt;chr&gt; | mu &lt;int&gt; | TSS &lt;int&gt; | GeneID &lt;chr&gt; |\n",
       "|---|---|---|---|---|---|---|---|---|---|---|---|\n",
       "| 1 | chr1 | 17605 | 17655 | chr1:17561-17699-tfit | 16936 | 17936 | MIR6859-1:NR_106918.1 | - | 17630 | 17436 | MIR6859-1 |\n",
       "| 2 | chr1 | 29231 | 29281 | chr1:28793-29719-dreg | 28870 | 29870 | WASH7P:NR_024540.1    | - | 29256 | 29370 | WASH7P    |\n",
       "\n"
      ],
      "text/plain": [
       "  Chr  Bid_Start Bid_Stop BidID                 Gene_Start Gene_Stop\n",
       "1 chr1 17605     17655    chr1:17561-17699-tfit 16936      17936    \n",
       "2 chr1 29231     29281    chr1:28793-29719-dreg 28870      29870    \n",
       "  TranscriptID          Strand mu    TSS   GeneID   \n",
       "1 MIR6859-1:NR_106918.1 -      17630 17436 MIR6859-1\n",
       "2 WASH7P:NR_024540.1    -      29256 29370 WASH7P   "
      ]
     },
     "metadata": {},
     "output_type": "display_data"
    }
   ],
   "source": [
    "# Now save the TSS bids\n",
    "colnames(over_filt) <- c(\"Chr\", \"Bid_Start\", \"Bid_Stop\", \"BidID\", \"Gene_Chr\", \"Gene_Start\", \"Gene_Stop\", \n",
    "                        \"TranscriptID\", \".\", \"Strand\", \"Length\", \"mu\", \"TSS\", \"MUDIFF\", \"GeneID\", \"unique\")\n",
    "over_filt <- over_filt[,c(\"Chr\", \"Bid_Start\", \"Bid_Stop\", \"BidID\", \"Gene_Start\", \"Gene_Stop\",\n",
    "             \"TranscriptID\", \"Strand\", \"mu\", \"TSS\", \"GeneID\")]\n",
    "over_filt[1:2,]\n",
    "\n",
    "write.table(over_filt, \n",
    "           \"/scratch/Users/hoto7260/Resp_Env/Sasse2019/out/regions/tss_bid_Sasse2019nascent_50bpwin_04-4-24.txt\", \n",
    "           row.names=FALSE, sep=\"\\t\", quote=FALSE)"
   ]
  },
  {
   "cell_type": "markdown",
   "metadata": {},
   "source": [
    "# Filter the Bids according to overlaps\n",
    "I will remove any bidirectionals overlapping positive and negative genes that both have significant counts (above 40)"
   ]
  },
  {
   "cell_type": "code",
   "execution_count": 30,
   "metadata": {},
   "outputs": [
    {
     "data": {
      "text/html": [
       "<table class=\"dataframe\">\n",
       "<caption>A data.table: 2 × 11</caption>\n",
       "<thead>\n",
       "\t<tr><th scope=col>V1</th><th scope=col>V2</th><th scope=col>V3</th><th scope=col>V4</th><th scope=col>V5</th><th scope=col>V6</th><th scope=col>V7</th><th scope=col>V8</th><th scope=col>V9</th><th scope=col>V10</th><th scope=col>V11</th></tr>\n",
       "\t<tr><th scope=col>&lt;chr&gt;</th><th scope=col>&lt;int&gt;</th><th scope=col>&lt;int&gt;</th><th scope=col>&lt;chr&gt;</th><th scope=col>&lt;chr&gt;</th><th scope=col>&lt;chr&gt;</th><th scope=col>&lt;chr&gt;</th><th scope=col>&lt;int&gt;</th><th scope=col>&lt;int&gt;</th><th scope=col>&lt;chr&gt;</th><th scope=col>&lt;int&gt;</th></tr>\n",
       "</thead>\n",
       "<tbody>\n",
       "\t<tr><td>chr1</td><td>14361</td><td>29370</td><td>WASH7P:NR_024540.1</td><td>.</td><td>-</td><td>chr1</td><td>14416</td><td>15016</td><td>chr1:14651-14781-tfit,dreg</td><td>600</td></tr>\n",
       "\t<tr><td>chr1</td><td>14361</td><td>29370</td><td>WASH7P:NR_024540.1</td><td>.</td><td>-</td><td>chr1</td><td>16608</td><td>17208</td><td>chr1:16290-17526-tfit     </td><td>600</td></tr>\n",
       "</tbody>\n",
       "</table>\n"
      ],
      "text/latex": [
       "A data.table: 2 × 11\n",
       "\\begin{tabular}{lllllllllll}\n",
       " V1 & V2 & V3 & V4 & V5 & V6 & V7 & V8 & V9 & V10 & V11\\\\\n",
       " <chr> & <int> & <int> & <chr> & <chr> & <chr> & <chr> & <int> & <int> & <chr> & <int>\\\\\n",
       "\\hline\n",
       "\t chr1 & 14361 & 29370 & WASH7P:NR\\_024540.1 & . & - & chr1 & 14416 & 15016 & chr1:14651-14781-tfit,dreg & 600\\\\\n",
       "\t chr1 & 14361 & 29370 & WASH7P:NR\\_024540.1 & . & - & chr1 & 16608 & 17208 & chr1:16290-17526-tfit      & 600\\\\\n",
       "\\end{tabular}\n"
      ],
      "text/markdown": [
       "\n",
       "A data.table: 2 × 11\n",
       "\n",
       "| V1 &lt;chr&gt; | V2 &lt;int&gt; | V3 &lt;int&gt; | V4 &lt;chr&gt; | V5 &lt;chr&gt; | V6 &lt;chr&gt; | V7 &lt;chr&gt; | V8 &lt;int&gt; | V9 &lt;int&gt; | V10 &lt;chr&gt; | V11 &lt;int&gt; |\n",
       "|---|---|---|---|---|---|---|---|---|---|---|\n",
       "| chr1 | 14361 | 29370 | WASH7P:NR_024540.1 | . | - | chr1 | 14416 | 15016 | chr1:14651-14781-tfit,dreg | 600 |\n",
       "| chr1 | 14361 | 29370 | WASH7P:NR_024540.1 | . | - | chr1 | 16608 | 17208 | chr1:16290-17526-tfit      | 600 |\n",
       "\n"
      ],
      "text/plain": [
       "  V1   V2    V3    V4                 V5 V6 V7   V8    V9   \n",
       "1 chr1 14361 29370 WASH7P:NR_024540.1 .  -  chr1 14416 15016\n",
       "2 chr1 14361 29370 WASH7P:NR_024540.1 .  -  chr1 16608 17208\n",
       "  V10                        V11\n",
       "1 chr1:14651-14781-tfit,dreg 600\n",
       "2 chr1:16290-17526-tfit      600"
      ]
     },
     "metadata": {},
     "output_type": "display_data"
    },
    {
     "data": {
      "text/html": [
       "<style>\n",
       ".list-inline {list-style: none; margin:0; padding: 0}\n",
       ".list-inline>li {display: inline-block}\n",
       ".list-inline>li:not(:last-child)::after {content: \"\\00b7\"; padding: 0 .5ex}\n",
       "</style>\n",
       "<ol class=list-inline><li>192198</li><li>11</li></ol>\n"
      ],
      "text/latex": [
       "\\begin{enumerate*}\n",
       "\\item 192198\n",
       "\\item 11\n",
       "\\end{enumerate*}\n"
      ],
      "text/markdown": [
       "1. 192198\n",
       "2. 11\n",
       "\n",
       "\n"
      ],
      "text/plain": [
       "[1] 192198     11"
      ]
     },
     "metadata": {},
     "output_type": "display_data"
    }
   ],
   "source": [
    "count_over <- fread(count_out_file)\n",
    "count_over[1:2,]\n",
    "dim(count_over)"
   ]
  },
  {
   "cell_type": "code",
   "execution_count": 31,
   "metadata": {},
   "outputs": [
    {
     "data": {
      "text/html": [
       "<style>\n",
       ".list-inline {list-style: none; margin:0; padding: 0}\n",
       ".list-inline>li {display: inline-block}\n",
       ".list-inline>li:not(:last-child)::after {content: \"\\00b7\"; padding: 0 .5ex}\n",
       "</style>\n",
       "<ol class=list-inline><li>83826</li><li>12</li></ol>\n"
      ],
      "text/latex": [
       "\\begin{enumerate*}\n",
       "\\item 83826\n",
       "\\item 12\n",
       "\\end{enumerate*}\n"
      ],
      "text/markdown": [
       "1. 83826\n",
       "2. 12\n",
       "\n",
       "\n"
      ],
      "text/plain": [
       "[1] 83826    12"
      ]
     },
     "metadata": {},
     "output_type": "display_data"
    },
    {
     "data": {
      "text/html": [
       "<table class=\"dataframe\">\n",
       "<caption>A data.table: 3 × 12</caption>\n",
       "<thead>\n",
       "\t<tr><th scope=col>Geneid</th><th scope=col>Chr</th><th scope=col>Start</th><th scope=col>End</th><th scope=col>Strand</th><th scope=col>Length</th><th scope=col>/scratch/Users/hoto7260/Resp_Env/Sasse2019/out/bams/SRR8429054.sorted.bam</th><th scope=col>/scratch/Users/hoto7260/Resp_Env/Sasse2019/out/bams/SRR8429055.sorted.bam</th><th scope=col>/scratch/Users/hoto7260/Resp_Env/Sasse2019/out/bams/SRR8429056.sorted.bam</th><th scope=col>/scratch/Users/hoto7260/Resp_Env/Sasse2019/out/bams/SRR8429057.sorted.bam</th><th scope=col>/scratch/Users/hoto7260/Resp_Env/Sasse2019/out/bams/SRR8429058.sorted.bam</th><th scope=col>/scratch/Users/hoto7260/Resp_Env/Sasse2019/out/bams/SRR8429059.sorted.bam</th></tr>\n",
       "\t<tr><th scope=col>&lt;chr&gt;</th><th scope=col>&lt;chr&gt;</th><th scope=col>&lt;int&gt;</th><th scope=col>&lt;int&gt;</th><th scope=col>&lt;chr&gt;</th><th scope=col>&lt;int&gt;</th><th scope=col>&lt;int&gt;</th><th scope=col>&lt;int&gt;</th><th scope=col>&lt;int&gt;</th><th scope=col>&lt;int&gt;</th><th scope=col>&lt;int&gt;</th><th scope=col>&lt;int&gt;</th></tr>\n",
       "</thead>\n",
       "<tbody>\n",
       "\t<tr><td>DDX11L1:NR_046018.2  </td><td>chr1</td><td>12623</td><td>14409</td><td>+</td><td> 1787</td><td>  0</td><td> 0</td><td> 0</td><td> 0</td><td>  0</td><td>  0</td></tr>\n",
       "\t<tr><td>WASH7P:NR_024540.1   </td><td>chr1</td><td>14361</td><td>28620</td><td>-</td><td>14260</td><td>108</td><td>86</td><td>71</td><td>75</td><td>155</td><td>107</td></tr>\n",
       "\t<tr><td>MIR6859-1:NR_106918.1</td><td>chr1</td><td>17368</td><td>17436</td><td>-</td><td>   69</td><td> 13</td><td>12</td><td> 8</td><td> 7</td><td>  3</td><td>  7</td></tr>\n",
       "</tbody>\n",
       "</table>\n"
      ],
      "text/latex": [
       "A data.table: 3 × 12\n",
       "\\begin{tabular}{llllllllllll}\n",
       " Geneid & Chr & Start & End & Strand & Length & /scratch/Users/hoto7260/Resp\\_Env/Sasse2019/out/bams/SRR8429054.sorted.bam & /scratch/Users/hoto7260/Resp\\_Env/Sasse2019/out/bams/SRR8429055.sorted.bam & /scratch/Users/hoto7260/Resp\\_Env/Sasse2019/out/bams/SRR8429056.sorted.bam & /scratch/Users/hoto7260/Resp\\_Env/Sasse2019/out/bams/SRR8429057.sorted.bam & /scratch/Users/hoto7260/Resp\\_Env/Sasse2019/out/bams/SRR8429058.sorted.bam & /scratch/Users/hoto7260/Resp\\_Env/Sasse2019/out/bams/SRR8429059.sorted.bam\\\\\n",
       " <chr> & <chr> & <int> & <int> & <chr> & <int> & <int> & <int> & <int> & <int> & <int> & <int>\\\\\n",
       "\\hline\n",
       "\t DDX11L1:NR\\_046018.2   & chr1 & 12623 & 14409 & + &  1787 &   0 &  0 &  0 &  0 &   0 &   0\\\\\n",
       "\t WASH7P:NR\\_024540.1    & chr1 & 14361 & 28620 & - & 14260 & 108 & 86 & 71 & 75 & 155 & 107\\\\\n",
       "\t MIR6859-1:NR\\_106918.1 & chr1 & 17368 & 17436 & - &    69 &  13 & 12 &  8 &  7 &   3 &   7\\\\\n",
       "\\end{tabular}\n"
      ],
      "text/markdown": [
       "\n",
       "A data.table: 3 × 12\n",
       "\n",
       "| Geneid &lt;chr&gt; | Chr &lt;chr&gt; | Start &lt;int&gt; | End &lt;int&gt; | Strand &lt;chr&gt; | Length &lt;int&gt; | /scratch/Users/hoto7260/Resp_Env/Sasse2019/out/bams/SRR8429054.sorted.bam &lt;int&gt; | /scratch/Users/hoto7260/Resp_Env/Sasse2019/out/bams/SRR8429055.sorted.bam &lt;int&gt; | /scratch/Users/hoto7260/Resp_Env/Sasse2019/out/bams/SRR8429056.sorted.bam &lt;int&gt; | /scratch/Users/hoto7260/Resp_Env/Sasse2019/out/bams/SRR8429057.sorted.bam &lt;int&gt; | /scratch/Users/hoto7260/Resp_Env/Sasse2019/out/bams/SRR8429058.sorted.bam &lt;int&gt; | /scratch/Users/hoto7260/Resp_Env/Sasse2019/out/bams/SRR8429059.sorted.bam &lt;int&gt; |\n",
       "|---|---|---|---|---|---|---|---|---|---|---|---|\n",
       "| DDX11L1:NR_046018.2   | chr1 | 12623 | 14409 | + |  1787 |   0 |  0 |  0 |  0 |   0 |   0 |\n",
       "| WASH7P:NR_024540.1    | chr1 | 14361 | 28620 | - | 14260 | 108 | 86 | 71 | 75 | 155 | 107 |\n",
       "| MIR6859-1:NR_106918.1 | chr1 | 17368 | 17436 | - |    69 |  13 | 12 |  8 |  7 |   3 |   7 |\n",
       "\n"
      ],
      "text/plain": [
       "  Geneid                Chr  Start End   Strand Length\n",
       "1 DDX11L1:NR_046018.2   chr1 12623 14409 +       1787 \n",
       "2 WASH7P:NR_024540.1    chr1 14361 28620 -      14260 \n",
       "3 MIR6859-1:NR_106918.1 chr1 17368 17436 -         69 \n",
       "  /scratch/Users/hoto7260/Resp_Env/Sasse2019/out/bams/SRR8429054.sorted.bam\n",
       "1   0                                                                      \n",
       "2 108                                                                      \n",
       "3  13                                                                      \n",
       "  /scratch/Users/hoto7260/Resp_Env/Sasse2019/out/bams/SRR8429055.sorted.bam\n",
       "1  0                                                                       \n",
       "2 86                                                                       \n",
       "3 12                                                                       \n",
       "  /scratch/Users/hoto7260/Resp_Env/Sasse2019/out/bams/SRR8429056.sorted.bam\n",
       "1  0                                                                       \n",
       "2 71                                                                       \n",
       "3  8                                                                       \n",
       "  /scratch/Users/hoto7260/Resp_Env/Sasse2019/out/bams/SRR8429057.sorted.bam\n",
       "1  0                                                                       \n",
       "2 75                                                                       \n",
       "3  7                                                                       \n",
       "  /scratch/Users/hoto7260/Resp_Env/Sasse2019/out/bams/SRR8429058.sorted.bam\n",
       "1   0                                                                      \n",
       "2 155                                                                      \n",
       "3   3                                                                      \n",
       "  /scratch/Users/hoto7260/Resp_Env/Sasse2019/out/bams/SRR8429059.sorted.bam\n",
       "1   0                                                                      \n",
       "2 107                                                                      \n",
       "3   7                                                                      "
      ]
     },
     "metadata": {},
     "output_type": "display_data"
    },
    {
     "data": {
      "text/html": [
       "<style>\n",
       ".list-inline {list-style: none; margin:0; padding: 0}\n",
       ".list-inline>li {display: inline-block}\n",
       ".list-inline>li:not(:last-child)::after {content: \"\\00b7\"; padding: 0 .5ex}\n",
       "</style>\n",
       "<ol class=list-inline><li>'Geneid'</li><li>'Chr'</li><li>'Start'</li><li>'End'</li><li>'Strand'</li><li>'Length'</li><li>'/scratch/Users/hoto7260/Resp_Env/Sasse2019/out/bams/SRR8429054.sorted.bam'</li><li>'/scratch/Users/hoto7260/Resp_Env/Sasse2019/out/bams/SRR8429055.sorted.bam'</li><li>'/scratch/Users/hoto7260/Resp_Env/Sasse2019/out/bams/SRR8429056.sorted.bam'</li><li>'/scratch/Users/hoto7260/Resp_Env/Sasse2019/out/bams/SRR8429057.sorted.bam'</li><li>'/scratch/Users/hoto7260/Resp_Env/Sasse2019/out/bams/SRR8429058.sorted.bam'</li><li>'/scratch/Users/hoto7260/Resp_Env/Sasse2019/out/bams/SRR8429059.sorted.bam'</li></ol>\n"
      ],
      "text/latex": [
       "\\begin{enumerate*}\n",
       "\\item 'Geneid'\n",
       "\\item 'Chr'\n",
       "\\item 'Start'\n",
       "\\item 'End'\n",
       "\\item 'Strand'\n",
       "\\item 'Length'\n",
       "\\item '/scratch/Users/hoto7260/Resp\\_Env/Sasse2019/out/bams/SRR8429054.sorted.bam'\n",
       "\\item '/scratch/Users/hoto7260/Resp\\_Env/Sasse2019/out/bams/SRR8429055.sorted.bam'\n",
       "\\item '/scratch/Users/hoto7260/Resp\\_Env/Sasse2019/out/bams/SRR8429056.sorted.bam'\n",
       "\\item '/scratch/Users/hoto7260/Resp\\_Env/Sasse2019/out/bams/SRR8429057.sorted.bam'\n",
       "\\item '/scratch/Users/hoto7260/Resp\\_Env/Sasse2019/out/bams/SRR8429058.sorted.bam'\n",
       "\\item '/scratch/Users/hoto7260/Resp\\_Env/Sasse2019/out/bams/SRR8429059.sorted.bam'\n",
       "\\end{enumerate*}\n"
      ],
      "text/markdown": [
       "1. 'Geneid'\n",
       "2. 'Chr'\n",
       "3. 'Start'\n",
       "4. 'End'\n",
       "5. 'Strand'\n",
       "6. 'Length'\n",
       "7. '/scratch/Users/hoto7260/Resp_Env/Sasse2019/out/bams/SRR8429054.sorted.bam'\n",
       "8. '/scratch/Users/hoto7260/Resp_Env/Sasse2019/out/bams/SRR8429055.sorted.bam'\n",
       "9. '/scratch/Users/hoto7260/Resp_Env/Sasse2019/out/bams/SRR8429056.sorted.bam'\n",
       "10. '/scratch/Users/hoto7260/Resp_Env/Sasse2019/out/bams/SRR8429057.sorted.bam'\n",
       "11. '/scratch/Users/hoto7260/Resp_Env/Sasse2019/out/bams/SRR8429058.sorted.bam'\n",
       "12. '/scratch/Users/hoto7260/Resp_Env/Sasse2019/out/bams/SRR8429059.sorted.bam'\n",
       "\n",
       "\n"
      ],
      "text/plain": [
       " [1] \"Geneid\"                                                                   \n",
       " [2] \"Chr\"                                                                      \n",
       " [3] \"Start\"                                                                    \n",
       " [4] \"End\"                                                                      \n",
       " [5] \"Strand\"                                                                   \n",
       " [6] \"Length\"                                                                   \n",
       " [7] \"/scratch/Users/hoto7260/Resp_Env/Sasse2019/out/bams/SRR8429054.sorted.bam\"\n",
       " [8] \"/scratch/Users/hoto7260/Resp_Env/Sasse2019/out/bams/SRR8429055.sorted.bam\"\n",
       " [9] \"/scratch/Users/hoto7260/Resp_Env/Sasse2019/out/bams/SRR8429056.sorted.bam\"\n",
       "[10] \"/scratch/Users/hoto7260/Resp_Env/Sasse2019/out/bams/SRR8429057.sorted.bam\"\n",
       "[11] \"/scratch/Users/hoto7260/Resp_Env/Sasse2019/out/bams/SRR8429058.sorted.bam\"\n",
       "[12] \"/scratch/Users/hoto7260/Resp_Env/Sasse2019/out/bams/SRR8429059.sorted.bam\""
      ]
     },
     "metadata": {},
     "output_type": "display_data"
    }
   ],
   "source": [
    "# read in the counts\n",
    "counts <- fread(\"/scratch/Users/hoto7260/Resp_Env/Sasse2019/out/counts/Sasse2019_str_put_genes.txt\")\n",
    "dim(counts)\n",
    "counts[1:3,]\n",
    "colnames(counts)"
   ]
  },
  {
   "cell_type": "code",
   "execution_count": 32,
   "metadata": {},
   "outputs": [
    {
     "data": {
      "text/html": [
       "47886"
      ],
      "text/latex": [
       "47886"
      ],
      "text/markdown": [
       "47886"
      ],
      "text/plain": [
       "[1] 47886"
      ]
     },
     "metadata": {},
     "output_type": "display_data"
    },
    {
     "data": {
      "text/html": [
       "47886"
      ],
      "text/latex": [
       "47886"
      ],
      "text/markdown": [
       "47886"
      ],
      "text/plain": [
       "[1] 47886"
      ]
     },
     "metadata": {},
     "output_type": "display_data"
    },
    {
     "data": {
      "text/html": [
       "0"
      ],
      "text/latex": [
       "0"
      ],
      "text/markdown": [
       "0"
      ],
      "text/plain": [
       "[1] 0"
      ]
     },
     "metadata": {},
     "output_type": "display_data"
    },
    {
     "data": {
      "text/html": [],
      "text/latex": [],
      "text/markdown": [],
      "text/plain": [
       "character(0)"
      ]
     },
     "metadata": {},
     "output_type": "display_data"
    }
   ],
   "source": [
    "colnames(counts) <- c(\"Geneid\", \"Chr\", \"Start\", \"End\", \"Strand\", \"Length\", \n",
    "                     \"ETH_R1\", \"ETH_R2\", \"TNF_R1\", \"TNF_R1\", \"DEX_R1\", \"DEX_R2\")\n",
    "\n",
    "counts$Geneid <- str_split_fixed(counts$Geneid, \",\", 2)[,1]\n",
    "\n",
    "length(unique(count_over$V4))\n",
    "length(intersect(counts$Geneid, count_over$V4))\n",
    "length(setdiff(count_over$V4, counts$Geneid))\n",
    "setdiff(count_over$V4, counts$Geneid)"
   ]
  },
  {
   "cell_type": "code",
   "execution_count": 41,
   "metadata": {},
   "outputs": [
    {
     "data": {
      "text/html": [
       "<style>\n",
       ".list-inline {list-style: none; margin:0; padding: 0}\n",
       ".list-inline>li {display: inline-block}\n",
       ".list-inline>li:not(:last-child)::after {content: \"\\00b7\"; padding: 0 .5ex}\n",
       "</style>\n",
       "<ol class=list-inline><li>29906</li><li>4</li></ol>\n"
      ],
      "text/latex": [
       "\\begin{enumerate*}\n",
       "\\item 29906\n",
       "\\item 4\n",
       "\\end{enumerate*}\n"
      ],
      "text/markdown": [
       "1. 29906\n",
       "2. 4\n",
       "\n",
       "\n"
      ],
      "text/plain": [
       "[1] 29906     4"
      ]
     },
     "metadata": {},
     "output_type": "display_data"
    },
    {
     "data": {
      "text/html": [
       "<style>\n",
       ".list-inline {list-style: none; margin:0; padding: 0}\n",
       ".list-inline>li {display: inline-block}\n",
       ".list-inline>li:not(:last-child)::after {content: \"\\00b7\"; padding: 0 .5ex}\n",
       "</style>\n",
       "<ol class=list-inline><li>29281</li><li>4</li></ol>\n"
      ],
      "text/latex": [
       "\\begin{enumerate*}\n",
       "\\item 29281\n",
       "\\item 4\n",
       "\\end{enumerate*}\n"
      ],
      "text/markdown": [
       "1. 29281\n",
       "2. 4\n",
       "\n",
       "\n"
      ],
      "text/plain": [
       "[1] 29281     4"
      ]
     },
     "metadata": {},
     "output_type": "display_data"
    }
   ],
   "source": [
    "tnf <- data.frame(counts[,7:10])\n",
    "dex <- data.frame(counts[,7:8])\n",
    "dex <- cbind(dex, counts[,11:12])\n",
    "rownames(tnf) <- counts$Geneid\n",
    "rownames(dex) <- counts$Geneid\n",
    "\n",
    "tnf <- tnf[rowSums(tnf) < 40,]\n",
    "dim(tnf)\n",
    "dex <- dex[rowSums(dex) < 40,]\n",
    "dim(dex)"
   ]
  },
  {
   "cell_type": "code",
   "execution_count": 42,
   "metadata": {},
   "outputs": [
    {
     "data": {
      "text/html": [
       "28307"
      ],
      "text/latex": [
       "28307"
      ],
      "text/markdown": [
       "28307"
      ],
      "text/plain": [
       "[1] 28307"
      ]
     },
     "metadata": {},
     "output_type": "display_data"
    },
    {
     "data": {
      "text/html": [
       "<style>\n",
       ".list-inline {list-style: none; margin:0; padding: 0}\n",
       ".list-inline>li {display: inline-block}\n",
       ".list-inline>li:not(:last-child)::after {content: \"\\00b7\"; padding: 0 .5ex}\n",
       "</style>\n",
       "<ol class=list-inline><li>192198</li><li>11</li></ol>\n"
      ],
      "text/latex": [
       "\\begin{enumerate*}\n",
       "\\item 192198\n",
       "\\item 11\n",
       "\\end{enumerate*}\n"
      ],
      "text/markdown": [
       "1. 192198\n",
       "2. 11\n",
       "\n",
       "\n"
      ],
      "text/plain": [
       "[1] 192198     11"
      ]
     },
     "metadata": {},
     "output_type": "display_data"
    },
    {
     "data": {
      "text/html": [
       "<style>\n",
       ".list-inline {list-style: none; margin:0; padding: 0}\n",
       ".list-inline>li {display: inline-block}\n",
       ".list-inline>li:not(:last-child)::after {content: \"\\00b7\"; padding: 0 .5ex}\n",
       "</style>\n",
       "<ol class=list-inline><li>189536</li><li>11</li></ol>\n"
      ],
      "text/latex": [
       "\\begin{enumerate*}\n",
       "\\item 189536\n",
       "\\item 11\n",
       "\\end{enumerate*}\n"
      ],
      "text/markdown": [
       "1. 189536\n",
       "2. 11\n",
       "\n",
       "\n"
      ],
      "text/plain": [
       "[1] 189536     11"
      ]
     },
     "metadata": {},
     "output_type": "display_data"
    }
   ],
   "source": [
    "low_counts <- intersect(rownames(tnf), rownames(dex))\n",
    "length(low_counts)\n",
    "# use that to account for overlaps to consider\n",
    "count_over_filt <- count_over[!count_over$V4 %in% low_counts]\n",
    "dim(count_over)\n",
    "dim(count_over_filt)"
   ]
  },
  {
   "cell_type": "code",
   "execution_count": 39,
   "metadata": {},
   "outputs": [
    {
     "data": {
      "text/html": [
       "<table class=\"dataframe\">\n",
       "<caption>A data.table: 2 × 11</caption>\n",
       "<thead>\n",
       "\t<tr><th scope=col>V1</th><th scope=col>V2</th><th scope=col>V3</th><th scope=col>V4</th><th scope=col>V5</th><th scope=col>V6</th><th scope=col>V7</th><th scope=col>V8</th><th scope=col>V9</th><th scope=col>V10</th><th scope=col>V11</th></tr>\n",
       "\t<tr><th scope=col>&lt;chr&gt;</th><th scope=col>&lt;int&gt;</th><th scope=col>&lt;int&gt;</th><th scope=col>&lt;chr&gt;</th><th scope=col>&lt;chr&gt;</th><th scope=col>&lt;chr&gt;</th><th scope=col>&lt;chr&gt;</th><th scope=col>&lt;int&gt;</th><th scope=col>&lt;int&gt;</th><th scope=col>&lt;chr&gt;</th><th scope=col>&lt;int&gt;</th></tr>\n",
       "</thead>\n",
       "<tbody>\n",
       "\t<tr><td>chr1</td><td>14361</td><td>29370</td><td>WASH7P:NR_024540.1</td><td>.</td><td>-</td><td>chr1</td><td>14416</td><td>15016</td><td>chr1:14651-14781-tfit,dreg</td><td>600</td></tr>\n",
       "\t<tr><td>chr1</td><td>14361</td><td>29370</td><td>WASH7P:NR_024540.1</td><td>.</td><td>-</td><td>chr1</td><td>16608</td><td>17208</td><td>chr1:16290-17526-tfit     </td><td>600</td></tr>\n",
       "</tbody>\n",
       "</table>\n"
      ],
      "text/latex": [
       "A data.table: 2 × 11\n",
       "\\begin{tabular}{lllllllllll}\n",
       " V1 & V2 & V3 & V4 & V5 & V6 & V7 & V8 & V9 & V10 & V11\\\\\n",
       " <chr> & <int> & <int> & <chr> & <chr> & <chr> & <chr> & <int> & <int> & <chr> & <int>\\\\\n",
       "\\hline\n",
       "\t chr1 & 14361 & 29370 & WASH7P:NR\\_024540.1 & . & - & chr1 & 14416 & 15016 & chr1:14651-14781-tfit,dreg & 600\\\\\n",
       "\t chr1 & 14361 & 29370 & WASH7P:NR\\_024540.1 & . & - & chr1 & 16608 & 17208 & chr1:16290-17526-tfit      & 600\\\\\n",
       "\\end{tabular}\n"
      ],
      "text/markdown": [
       "\n",
       "A data.table: 2 × 11\n",
       "\n",
       "| V1 &lt;chr&gt; | V2 &lt;int&gt; | V3 &lt;int&gt; | V4 &lt;chr&gt; | V5 &lt;chr&gt; | V6 &lt;chr&gt; | V7 &lt;chr&gt; | V8 &lt;int&gt; | V9 &lt;int&gt; | V10 &lt;chr&gt; | V11 &lt;int&gt; |\n",
       "|---|---|---|---|---|---|---|---|---|---|---|\n",
       "| chr1 | 14361 | 29370 | WASH7P:NR_024540.1 | . | - | chr1 | 14416 | 15016 | chr1:14651-14781-tfit,dreg | 600 |\n",
       "| chr1 | 14361 | 29370 | WASH7P:NR_024540.1 | . | - | chr1 | 16608 | 17208 | chr1:16290-17526-tfit      | 600 |\n",
       "\n"
      ],
      "text/plain": [
       "  V1   V2    V3    V4                 V5 V6 V7   V8    V9   \n",
       "1 chr1 14361 29370 WASH7P:NR_024540.1 .  -  chr1 14416 15016\n",
       "2 chr1 14361 29370 WASH7P:NR_024540.1 .  -  chr1 16608 17208\n",
       "  V10                        V11\n",
       "1 chr1:14651-14781-tfit,dreg 600\n",
       "2 chr1:16290-17526-tfit      600"
      ]
     },
     "metadata": {},
     "output_type": "display_data"
    }
   ],
   "source": [
    "count_over_filt[1:2,]"
   ]
  },
  {
   "cell_type": "code",
   "execution_count": 43,
   "metadata": {},
   "outputs": [
    {
     "data": {
      "text/html": [
       "9622"
      ],
      "text/latex": [
       "9622"
      ],
      "text/markdown": [
       "9622"
      ],
      "text/plain": [
       "[1] 9622"
      ]
     },
     "metadata": {},
     "output_type": "display_data"
    },
    {
     "data": {
      "text/html": [
       "8966"
      ],
      "text/latex": [
       "8966"
      ],
      "text/markdown": [
       "8966"
      ],
      "text/plain": [
       "[1] 8966"
      ]
     },
     "metadata": {},
     "output_type": "display_data"
    }
   ],
   "source": [
    "## Split up in positive and negative\n",
    "count_over_neg = count_over[count_over$V6 == \"-\", ]\n",
    "count_over_pos = count_over[count_over$V6 == \"+\", ]\n",
    "\n",
    "pos_bids <- unique(count_over_pos$V10)\n",
    "neg_bids <- unique(count_over_neg$V10)\n",
    "pos_neg <- intersect(pos_bids, neg_bids)\n",
    "length(pos_neg)\n",
    "\n",
    "count_over_neg = count_over_filt[count_over_filt$V6 == \"-\", ]\n",
    "count_over_pos = count_over_filt[count_over_filt$V6 == \"+\", ]\n",
    "\n",
    "pos_bids <- unique(count_over_pos$V10)\n",
    "neg_bids <- unique(count_over_neg$V10)\n",
    "pos_neg_filt <- intersect(pos_bids, neg_bids)\n",
    "length(pos_neg_filt)"
   ]
  },
  {
   "cell_type": "code",
   "execution_count": 44,
   "metadata": {},
   "outputs": [
    {
     "data": {
      "text/html": [
       "4681"
      ],
      "text/latex": [
       "4681"
      ],
      "text/markdown": [
       "4681"
      ],
      "text/plain": [
       "[1] 4681"
      ]
     },
     "metadata": {},
     "output_type": "display_data"
    },
    {
     "data": {
      "text/html": [
       "<style>\n",
       ".list-inline {list-style: none; margin:0; padding: 0}\n",
       ".list-inline>li {display: inline-block}\n",
       ".list-inline>li:not(:last-child)::after {content: \"\\00b7\"; padding: 0 .5ex}\n",
       "</style>\n",
       "<ol class=list-inline><li>'chr1:974890-975162-tfit'</li><li>'chr1:1065855-1066199-dreg'</li><li>'chr1:1310369-1312367-tfit'</li><li>'chr1:1534752-1535196-tfit'</li><li>'chr1:1624842-1625394-tfit'</li><li>'chr1:2049472-2049788-tfit'</li><li>'chr1:2181463-2181685-tfit'</li><li>'chr1:2182714-2183506-tfit'</li><li>'chr1:2184087-2186049-tfit'</li><li>'chr1:2191704-2191968-tfit'</li></ol>\n"
      ],
      "text/latex": [
       "\\begin{enumerate*}\n",
       "\\item 'chr1:974890-975162-tfit'\n",
       "\\item 'chr1:1065855-1066199-dreg'\n",
       "\\item 'chr1:1310369-1312367-tfit'\n",
       "\\item 'chr1:1534752-1535196-tfit'\n",
       "\\item 'chr1:1624842-1625394-tfit'\n",
       "\\item 'chr1:2049472-2049788-tfit'\n",
       "\\item 'chr1:2181463-2181685-tfit'\n",
       "\\item 'chr1:2182714-2183506-tfit'\n",
       "\\item 'chr1:2184087-2186049-tfit'\n",
       "\\item 'chr1:2191704-2191968-tfit'\n",
       "\\end{enumerate*}\n"
      ],
      "text/markdown": [
       "1. 'chr1:974890-975162-tfit'\n",
       "2. 'chr1:1065855-1066199-dreg'\n",
       "3. 'chr1:1310369-1312367-tfit'\n",
       "4. 'chr1:1534752-1535196-tfit'\n",
       "5. 'chr1:1624842-1625394-tfit'\n",
       "6. 'chr1:2049472-2049788-tfit'\n",
       "7. 'chr1:2181463-2181685-tfit'\n",
       "8. 'chr1:2182714-2183506-tfit'\n",
       "9. 'chr1:2184087-2186049-tfit'\n",
       "10. 'chr1:2191704-2191968-tfit'\n",
       "\n",
       "\n"
      ],
      "text/plain": [
       " [1] \"chr1:974890-975162-tfit\"   \"chr1:1065855-1066199-dreg\"\n",
       " [3] \"chr1:1310369-1312367-tfit\" \"chr1:1534752-1535196-tfit\"\n",
       " [5] \"chr1:1624842-1625394-tfit\" \"chr1:2049472-2049788-tfit\"\n",
       " [7] \"chr1:2181463-2181685-tfit\" \"chr1:2182714-2183506-tfit\"\n",
       " [9] \"chr1:2184087-2186049-tfit\" \"chr1:2191704-2191968-tfit\""
      ]
     },
     "metadata": {},
     "output_type": "display_data"
    }
   ],
   "source": [
    "# take out the tss in this list\n",
    "pos_neg_filt_notss <- setdiff(pos_neg_filt, over_filt$BidID)\n",
    "length(pos_neg_filt_notss)\n",
    "pos_neg_filt_notss[1:10]\n",
    "\n",
    "## After checking the first 4, I agree they should be removed. The first is close to a TSS bid but is not the final one as shown below"
   ]
  },
  {
   "cell_type": "markdown",
   "metadata": {},
   "source": [
    "### Now consider those with 5kb downstream of two transcribed genes"
   ]
  },
  {
   "cell_type": "code",
   "execution_count": 46,
   "metadata": {},
   "outputs": [
    {
     "data": {
      "text/html": [
       "<table class=\"dataframe\">\n",
       "<caption>A data.table: 2 × 11</caption>\n",
       "<thead>\n",
       "\t<tr><th scope=col>V1</th><th scope=col>V2</th><th scope=col>V3</th><th scope=col>V4</th><th scope=col>V5</th><th scope=col>V6</th><th scope=col>V7</th><th scope=col>V8</th><th scope=col>V9</th><th scope=col>V10</th><th scope=col>V11</th></tr>\n",
       "\t<tr><th scope=col>&lt;chr&gt;</th><th scope=col>&lt;int&gt;</th><th scope=col>&lt;int&gt;</th><th scope=col>&lt;chr&gt;</th><th scope=col>&lt;chr&gt;</th><th scope=col>&lt;chr&gt;</th><th scope=col>&lt;chr&gt;</th><th scope=col>&lt;int&gt;</th><th scope=col>&lt;int&gt;</th><th scope=col>&lt;chr&gt;</th><th scope=col>&lt;int&gt;</th></tr>\n",
       "</thead>\n",
       "<tbody>\n",
       "\t<tr><td>chr1</td><td>11873</td><td>14409</td><td>DDX11L1:NR_046018.2</td><td>.</td><td>+</td><td>chr1</td><td>14416</td><td>15016</td><td>chr1:14651-14781-tfit,dreg</td><td>   8</td></tr>\n",
       "\t<tr><td>chr1</td><td>11873</td><td>14409</td><td>DDX11L1:NR_046018.2</td><td>.</td><td>+</td><td>chr1</td><td>16608</td><td>17208</td><td>chr1:16290-17526-tfit     </td><td>2200</td></tr>\n",
       "</tbody>\n",
       "</table>\n"
      ],
      "text/latex": [
       "A data.table: 2 × 11\n",
       "\\begin{tabular}{lllllllllll}\n",
       " V1 & V2 & V3 & V4 & V5 & V6 & V7 & V8 & V9 & V10 & V11\\\\\n",
       " <chr> & <int> & <int> & <chr> & <chr> & <chr> & <chr> & <int> & <int> & <chr> & <int>\\\\\n",
       "\\hline\n",
       "\t chr1 & 11873 & 14409 & DDX11L1:NR\\_046018.2 & . & + & chr1 & 14416 & 15016 & chr1:14651-14781-tfit,dreg &    8\\\\\n",
       "\t chr1 & 11873 & 14409 & DDX11L1:NR\\_046018.2 & . & + & chr1 & 16608 & 17208 & chr1:16290-17526-tfit      & 2200\\\\\n",
       "\\end{tabular}\n"
      ],
      "text/markdown": [
       "\n",
       "A data.table: 2 × 11\n",
       "\n",
       "| V1 &lt;chr&gt; | V2 &lt;int&gt; | V3 &lt;int&gt; | V4 &lt;chr&gt; | V5 &lt;chr&gt; | V6 &lt;chr&gt; | V7 &lt;chr&gt; | V8 &lt;int&gt; | V9 &lt;int&gt; | V10 &lt;chr&gt; | V11 &lt;int&gt; |\n",
       "|---|---|---|---|---|---|---|---|---|---|---|\n",
       "| chr1 | 11873 | 14409 | DDX11L1:NR_046018.2 | . | + | chr1 | 14416 | 15016 | chr1:14651-14781-tfit,dreg |    8 |\n",
       "| chr1 | 11873 | 14409 | DDX11L1:NR_046018.2 | . | + | chr1 | 16608 | 17208 | chr1:16290-17526-tfit      | 2200 |\n",
       "\n"
      ],
      "text/plain": [
       "  V1   V2    V3    V4                  V5 V6 V7   V8    V9   \n",
       "1 chr1 11873 14409 DDX11L1:NR_046018.2 .  +  chr1 14416 15016\n",
       "2 chr1 11873 14409 DDX11L1:NR_046018.2 .  +  chr1 16608 17208\n",
       "  V10                        V11 \n",
       "1 chr1:14651-14781-tfit,dreg    8\n",
       "2 chr1:16290-17526-tfit      2200"
      ]
     },
     "metadata": {},
     "output_type": "display_data"
    },
    {
     "data": {
      "text/html": [
       "<style>\n",
       ".list-inline {list-style: none; margin:0; padding: 0}\n",
       ".list-inline>li {display: inline-block}\n",
       ".list-inline>li:not(:last-child)::after {content: \"\\00b7\"; padding: 0 .5ex}\n",
       "</style>\n",
       "<ol class=list-inline><li>317635</li><li>11</li></ol>\n"
      ],
      "text/latex": [
       "\\begin{enumerate*}\n",
       "\\item 317635\n",
       "\\item 11\n",
       "\\end{enumerate*}\n"
      ],
      "text/markdown": [
       "1. 317635\n",
       "2. 11\n",
       "\n",
       "\n"
      ],
      "text/plain": [
       "[1] 317635     11"
      ]
     },
     "metadata": {},
     "output_type": "display_data"
    },
    {
     "data": {
      "text/html": [
       "<style>\n",
       ".list-inline {list-style: none; margin:0; padding: 0}\n",
       ".list-inline>li {display: inline-block}\n",
       ".list-inline>li:not(:last-child)::after {content: \"\\00b7\"; padding: 0 .5ex}\n",
       "</style>\n",
       "<ol class=list-inline><li>299703</li><li>11</li></ol>\n"
      ],
      "text/latex": [
       "\\begin{enumerate*}\n",
       "\\item 299703\n",
       "\\item 11\n",
       "\\end{enumerate*}\n"
      ],
      "text/markdown": [
       "1. 299703\n",
       "2. 11\n",
       "\n",
       "\n"
      ],
      "text/plain": [
       "[1] 299703     11"
      ]
     },
     "metadata": {},
     "output_type": "display_data"
    },
    {
     "data": {
      "text/html": [
       "<table class=\"dataframe\">\n",
       "<caption>A data.table: 10 × 11</caption>\n",
       "<thead>\n",
       "\t<tr><th scope=col>V1</th><th scope=col>V2</th><th scope=col>V3</th><th scope=col>V4</th><th scope=col>V5</th><th scope=col>V6</th><th scope=col>V7</th><th scope=col>V8</th><th scope=col>V9</th><th scope=col>V10</th><th scope=col>V11</th></tr>\n",
       "\t<tr><th scope=col>&lt;chr&gt;</th><th scope=col>&lt;int&gt;</th><th scope=col>&lt;int&gt;</th><th scope=col>&lt;chr&gt;</th><th scope=col>&lt;chr&gt;</th><th scope=col>&lt;chr&gt;</th><th scope=col>&lt;chr&gt;</th><th scope=col>&lt;int&gt;</th><th scope=col>&lt;int&gt;</th><th scope=col>&lt;chr&gt;</th><th scope=col>&lt;int&gt;</th></tr>\n",
       "</thead>\n",
       "<tbody>\n",
       "\t<tr><td>chr1</td><td> 14361</td><td> 29370</td><td>WASH7P:NR_024540.1         </td><td>.</td><td>-</td><td>chr1</td><td> 14416</td><td> 15016</td><td>chr1:14651-14781-tfit,dreg</td><td>    0</td></tr>\n",
       "\t<tr><td>chr1</td><td> 14361</td><td> 29370</td><td>WASH7P:NR_024540.1         </td><td>.</td><td>-</td><td>chr1</td><td> 16608</td><td> 17208</td><td>chr1:16290-17526-tfit     </td><td>    0</td></tr>\n",
       "\t<tr><td>chr1</td><td> 14361</td><td> 29370</td><td>WASH7P:NR_024540.1         </td><td>.</td><td>-</td><td>chr1</td><td> 17330</td><td> 17930</td><td>chr1:17561-17699-tfit     </td><td>    0</td></tr>\n",
       "\t<tr><td>chr1</td><td> 14361</td><td> 29370</td><td>WASH7P:NR_024540.1         </td><td>.</td><td>-</td><td>chr1</td><td> 28956</td><td> 29556</td><td>chr1:28793-29719-dreg     </td><td>    0</td></tr>\n",
       "\t<tr><td>chr1</td><td> 17368</td><td> 17436</td><td>MIR6859-1:NR_106918.1      </td><td>.</td><td>-</td><td>chr1</td><td> 17330</td><td> 17930</td><td>chr1:17561-17699-tfit     </td><td>    0</td></tr>\n",
       "\t<tr><td>chr1</td><td> 17368</td><td> 17436</td><td>MIR6859-1:NR_106918.1      </td><td>.</td><td>-</td><td>chr1</td><td> 16608</td><td> 17208</td><td>chr1:16290-17526-tfit     </td><td> -161</td></tr>\n",
       "\t<tr><td>chr1</td><td> 17368</td><td> 17436</td><td>MIR6859-1:NR_106918.1      </td><td>.</td><td>-</td><td>chr1</td><td> 14416</td><td> 15016</td><td>chr1:14651-14781-tfit,dreg</td><td>-2353</td></tr>\n",
       "\t<tr><td>chr1</td><td>120848</td><td>175246</td><td>LOC124900384:XR_001737579.3</td><td>.</td><td>-</td><td>chr1</td><td>139306</td><td>139906</td><td>chr1:139353-139859-tfit   </td><td>    0</td></tr>\n",
       "\t<tr><td>chr1</td><td>120848</td><td>175246</td><td>LOC124900384:XR_001737579.3</td><td>.</td><td>-</td><td>chr1</td><td>184730</td><td>185330</td><td>chr1:184840-185220-dreg   </td><td> 9485</td></tr>\n",
       "\t<tr><td>chr1</td><td>134772</td><td>140566</td><td>LOC729737:NR_039983.2      </td><td>.</td><td>-</td><td>chr1</td><td>139306</td><td>139906</td><td>chr1:139353-139859-tfit   </td><td>    0</td></tr>\n",
       "</tbody>\n",
       "</table>\n"
      ],
      "text/latex": [
       "A data.table: 10 × 11\n",
       "\\begin{tabular}{lllllllllll}\n",
       " V1 & V2 & V3 & V4 & V5 & V6 & V7 & V8 & V9 & V10 & V11\\\\\n",
       " <chr> & <int> & <int> & <chr> & <chr> & <chr> & <chr> & <int> & <int> & <chr> & <int>\\\\\n",
       "\\hline\n",
       "\t chr1 &  14361 &  29370 & WASH7P:NR\\_024540.1          & . & - & chr1 &  14416 &  15016 & chr1:14651-14781-tfit,dreg &     0\\\\\n",
       "\t chr1 &  14361 &  29370 & WASH7P:NR\\_024540.1          & . & - & chr1 &  16608 &  17208 & chr1:16290-17526-tfit      &     0\\\\\n",
       "\t chr1 &  14361 &  29370 & WASH7P:NR\\_024540.1          & . & - & chr1 &  17330 &  17930 & chr1:17561-17699-tfit      &     0\\\\\n",
       "\t chr1 &  14361 &  29370 & WASH7P:NR\\_024540.1          & . & - & chr1 &  28956 &  29556 & chr1:28793-29719-dreg      &     0\\\\\n",
       "\t chr1 &  17368 &  17436 & MIR6859-1:NR\\_106918.1       & . & - & chr1 &  17330 &  17930 & chr1:17561-17699-tfit      &     0\\\\\n",
       "\t chr1 &  17368 &  17436 & MIR6859-1:NR\\_106918.1       & . & - & chr1 &  16608 &  17208 & chr1:16290-17526-tfit      &  -161\\\\\n",
       "\t chr1 &  17368 &  17436 & MIR6859-1:NR\\_106918.1       & . & - & chr1 &  14416 &  15016 & chr1:14651-14781-tfit,dreg & -2353\\\\\n",
       "\t chr1 & 120848 & 175246 & LOC124900384:XR\\_001737579.3 & . & - & chr1 & 139306 & 139906 & chr1:139353-139859-tfit    &     0\\\\\n",
       "\t chr1 & 120848 & 175246 & LOC124900384:XR\\_001737579.3 & . & - & chr1 & 184730 & 185330 & chr1:184840-185220-dreg    &  9485\\\\\n",
       "\t chr1 & 134772 & 140566 & LOC729737:NR\\_039983.2       & . & - & chr1 & 139306 & 139906 & chr1:139353-139859-tfit    &     0\\\\\n",
       "\\end{tabular}\n"
      ],
      "text/markdown": [
       "\n",
       "A data.table: 10 × 11\n",
       "\n",
       "| V1 &lt;chr&gt; | V2 &lt;int&gt; | V3 &lt;int&gt; | V4 &lt;chr&gt; | V5 &lt;chr&gt; | V6 &lt;chr&gt; | V7 &lt;chr&gt; | V8 &lt;int&gt; | V9 &lt;int&gt; | V10 &lt;chr&gt; | V11 &lt;int&gt; |\n",
       "|---|---|---|---|---|---|---|---|---|---|---|\n",
       "| chr1 |  14361 |  29370 | WASH7P:NR_024540.1          | . | - | chr1 |  14416 |  15016 | chr1:14651-14781-tfit,dreg |     0 |\n",
       "| chr1 |  14361 |  29370 | WASH7P:NR_024540.1          | . | - | chr1 |  16608 |  17208 | chr1:16290-17526-tfit      |     0 |\n",
       "| chr1 |  14361 |  29370 | WASH7P:NR_024540.1          | . | - | chr1 |  17330 |  17930 | chr1:17561-17699-tfit      |     0 |\n",
       "| chr1 |  14361 |  29370 | WASH7P:NR_024540.1          | . | - | chr1 |  28956 |  29556 | chr1:28793-29719-dreg      |     0 |\n",
       "| chr1 |  17368 |  17436 | MIR6859-1:NR_106918.1       | . | - | chr1 |  17330 |  17930 | chr1:17561-17699-tfit      |     0 |\n",
       "| chr1 |  17368 |  17436 | MIR6859-1:NR_106918.1       | . | - | chr1 |  16608 |  17208 | chr1:16290-17526-tfit      |  -161 |\n",
       "| chr1 |  17368 |  17436 | MIR6859-1:NR_106918.1       | . | - | chr1 |  14416 |  15016 | chr1:14651-14781-tfit,dreg | -2353 |\n",
       "| chr1 | 120848 | 175246 | LOC124900384:XR_001737579.3 | . | - | chr1 | 139306 | 139906 | chr1:139353-139859-tfit    |     0 |\n",
       "| chr1 | 120848 | 175246 | LOC124900384:XR_001737579.3 | . | - | chr1 | 184730 | 185330 | chr1:184840-185220-dreg    |  9485 |\n",
       "| chr1 | 134772 | 140566 | LOC729737:NR_039983.2       | . | - | chr1 | 139306 | 139906 | chr1:139353-139859-tfit    |     0 |\n",
       "\n"
      ],
      "text/plain": [
       "   V1   V2     V3     V4                          V5 V6 V7   V8     V9    \n",
       "1  chr1  14361  29370 WASH7P:NR_024540.1          .  -  chr1  14416  15016\n",
       "2  chr1  14361  29370 WASH7P:NR_024540.1          .  -  chr1  16608  17208\n",
       "3  chr1  14361  29370 WASH7P:NR_024540.1          .  -  chr1  17330  17930\n",
       "4  chr1  14361  29370 WASH7P:NR_024540.1          .  -  chr1  28956  29556\n",
       "5  chr1  17368  17436 MIR6859-1:NR_106918.1       .  -  chr1  17330  17930\n",
       "6  chr1  17368  17436 MIR6859-1:NR_106918.1       .  -  chr1  16608  17208\n",
       "7  chr1  17368  17436 MIR6859-1:NR_106918.1       .  -  chr1  14416  15016\n",
       "8  chr1 120848 175246 LOC124900384:XR_001737579.3 .  -  chr1 139306 139906\n",
       "9  chr1 120848 175246 LOC124900384:XR_001737579.3 .  -  chr1 184730 185330\n",
       "10 chr1 134772 140566 LOC729737:NR_039983.2       .  -  chr1 139306 139906\n",
       "   V10                        V11  \n",
       "1  chr1:14651-14781-tfit,dreg     0\n",
       "2  chr1:16290-17526-tfit          0\n",
       "3  chr1:17561-17699-tfit          0\n",
       "4  chr1:28793-29719-dreg          0\n",
       "5  chr1:17561-17699-tfit          0\n",
       "6  chr1:16290-17526-tfit       -161\n",
       "7  chr1:14651-14781-tfit,dreg -2353\n",
       "8  chr1:139353-139859-tfit        0\n",
       "9  chr1:184840-185220-dreg     9485\n",
       "10 chr1:139353-139859-tfit        0"
      ]
     },
     "metadata": {},
     "output_type": "display_data"
    }
   ],
   "source": [
    "closest <- fread(closest_file)\n",
    "\n",
    "closest[1:2,]\n",
    "# only keep those with 10kb distance from either end\n",
    "closest <- closest[abs(closest$V11) < 10000,]\n",
    "dim(closest)\n",
    "# only keep those with genes that are being transcribed significantly\n",
    "closest <- closest[!closest$V4 %in% low_counts]\n",
    "dim(closest)"
   ]
  },
  {
   "cell_type": "code",
   "execution_count": 47,
   "metadata": {},
   "outputs": [
    {
     "data": {
      "text/html": [
       "170612"
      ],
      "text/latex": [
       "170612"
      ],
      "text/markdown": [
       "170612"
      ],
      "text/plain": [
       "[1] 170612"
      ]
     },
     "metadata": {},
     "output_type": "display_data"
    },
    {
     "data": {
      "text/html": [
       "51073"
      ],
      "text/latex": [
       "51073"
      ],
      "text/markdown": [
       "51073"
      ],
      "text/plain": [
       "[1] 51073"
      ]
     },
     "metadata": {},
     "output_type": "display_data"
    },
    {
     "data": {
      "text/html": [
       "<table class=\"dataframe\">\n",
       "<caption>A data.table: 3 × 11</caption>\n",
       "<thead>\n",
       "\t<tr><th scope=col>V1</th><th scope=col>V2</th><th scope=col>V3</th><th scope=col>V4</th><th scope=col>V5</th><th scope=col>V6</th><th scope=col>V7</th><th scope=col>V8</th><th scope=col>V9</th><th scope=col>V10</th><th scope=col>V11</th></tr>\n",
       "\t<tr><th scope=col>&lt;chr&gt;</th><th scope=col>&lt;int&gt;</th><th scope=col>&lt;int&gt;</th><th scope=col>&lt;chr&gt;</th><th scope=col>&lt;chr&gt;</th><th scope=col>&lt;chr&gt;</th><th scope=col>&lt;chr&gt;</th><th scope=col>&lt;int&gt;</th><th scope=col>&lt;int&gt;</th><th scope=col>&lt;chr&gt;</th><th scope=col>&lt;int&gt;</th></tr>\n",
       "</thead>\n",
       "<tbody>\n",
       "\t<tr><td>chr1</td><td>14361</td><td>29370</td><td>WASH7P:NR_024540.1</td><td>.</td><td>-</td><td>chr1</td><td>14416</td><td>15016</td><td>chr1:14651-14781-tfit,dreg</td><td>0</td></tr>\n",
       "\t<tr><td>chr1</td><td>14361</td><td>29370</td><td>WASH7P:NR_024540.1</td><td>.</td><td>-</td><td>chr1</td><td>16608</td><td>17208</td><td>chr1:16290-17526-tfit     </td><td>0</td></tr>\n",
       "\t<tr><td>chr1</td><td>14361</td><td>29370</td><td>WASH7P:NR_024540.1</td><td>.</td><td>-</td><td>chr1</td><td>17330</td><td>17930</td><td>chr1:17561-17699-tfit     </td><td>0</td></tr>\n",
       "</tbody>\n",
       "</table>\n"
      ],
      "text/latex": [
       "A data.table: 3 × 11\n",
       "\\begin{tabular}{lllllllllll}\n",
       " V1 & V2 & V3 & V4 & V5 & V6 & V7 & V8 & V9 & V10 & V11\\\\\n",
       " <chr> & <int> & <int> & <chr> & <chr> & <chr> & <chr> & <int> & <int> & <chr> & <int>\\\\\n",
       "\\hline\n",
       "\t chr1 & 14361 & 29370 & WASH7P:NR\\_024540.1 & . & - & chr1 & 14416 & 15016 & chr1:14651-14781-tfit,dreg & 0\\\\\n",
       "\t chr1 & 14361 & 29370 & WASH7P:NR\\_024540.1 & . & - & chr1 & 16608 & 17208 & chr1:16290-17526-tfit      & 0\\\\\n",
       "\t chr1 & 14361 & 29370 & WASH7P:NR\\_024540.1 & . & - & chr1 & 17330 & 17930 & chr1:17561-17699-tfit      & 0\\\\\n",
       "\\end{tabular}\n"
      ],
      "text/markdown": [
       "\n",
       "A data.table: 3 × 11\n",
       "\n",
       "| V1 &lt;chr&gt; | V2 &lt;int&gt; | V3 &lt;int&gt; | V4 &lt;chr&gt; | V5 &lt;chr&gt; | V6 &lt;chr&gt; | V7 &lt;chr&gt; | V8 &lt;int&gt; | V9 &lt;int&gt; | V10 &lt;chr&gt; | V11 &lt;int&gt; |\n",
       "|---|---|---|---|---|---|---|---|---|---|---|\n",
       "| chr1 | 14361 | 29370 | WASH7P:NR_024540.1 | . | - | chr1 | 14416 | 15016 | chr1:14651-14781-tfit,dreg | 0 |\n",
       "| chr1 | 14361 | 29370 | WASH7P:NR_024540.1 | . | - | chr1 | 16608 | 17208 | chr1:16290-17526-tfit      | 0 |\n",
       "| chr1 | 14361 | 29370 | WASH7P:NR_024540.1 | . | - | chr1 | 17330 | 17930 | chr1:17561-17699-tfit      | 0 |\n",
       "\n"
      ],
      "text/plain": [
       "  V1   V2    V3    V4                 V5 V6 V7   V8    V9   \n",
       "1 chr1 14361 29370 WASH7P:NR_024540.1 .  -  chr1 14416 15016\n",
       "2 chr1 14361 29370 WASH7P:NR_024540.1 .  -  chr1 16608 17208\n",
       "3 chr1 14361 29370 WASH7P:NR_024540.1 .  -  chr1 17330 17930\n",
       "  V10                        V11\n",
       "1 chr1:14651-14781-tfit,dreg 0  \n",
       "2 chr1:16290-17526-tfit      0  \n",
       "3 chr1:17561-17699-tfit      0  "
      ]
     },
     "metadata": {},
     "output_type": "display_data"
    }
   ],
   "source": [
    "# only keep those that are within 10kb to the 3prime end \n",
    "# for positive genes, means V11 <10000 & positive \n",
    "closest_filt <- closest[(closest$V6 == \"+\" & closest$V11 > 0 & closest$V11 < 10001) | closest$V6 == \"-\",]\n",
    "nrow(closest_filt)\n",
    "# for negative genes, means V11 <10000 & negative\n",
    "closest_filt <- closest_filt[(closest_filt$V6 == \"-\" & closest_filt$V11 < 0 & closest_filt$V11 > -10001) | closest_filt$V6 == \"+\",]\n",
    "nrow(closest_filt)\n",
    "# now see which bids are this for two colliding genes\n",
    "closest[1:3,]"
   ]
  },
  {
   "cell_type": "code",
   "execution_count": 48,
   "metadata": {},
   "outputs": [
    {
     "data": {
      "text/html": [
       "3195"
      ],
      "text/latex": [
       "3195"
      ],
      "text/markdown": [
       "3195"
      ],
      "text/plain": [
       "[1] 3195"
      ]
     },
     "metadata": {},
     "output_type": "display_data"
    }
   ],
   "source": [
    "pos_colliding <- closest_filt[closest_filt$V6 == \"+\",]$V10\n",
    "neg_colliding <- closest_filt[closest_filt$V6 == \"-\",]$V10\n",
    "pos_neg_colliding <- intersect(pos_colliding, neg_colliding)\n",
    "length(pos_neg_colliding)"
   ]
  },
  {
   "cell_type": "code",
   "execution_count": 49,
   "metadata": {},
   "outputs": [
    {
     "data": {
      "text/html": [
       "2680"
      ],
      "text/latex": [
       "2680"
      ],
      "text/markdown": [
       "2680"
      ],
      "text/plain": [
       "[1] 2680"
      ]
     },
     "metadata": {},
     "output_type": "display_data"
    }
   ],
   "source": [
    "pos_neg_colliding_notss <- setdiff(pos_neg_colliding, over_filt$BidID)\n",
    "length(pos_neg_colliding_notss)"
   ]
  },
  {
   "cell_type": "markdown",
   "metadata": {},
   "source": [
    "### Make a Saf for the bids according to these"
   ]
  },
  {
   "cell_type": "code",
   "execution_count": 51,
   "metadata": {},
   "outputs": [
    {
     "data": {
      "text/html": [
       "<table class=\"dataframe\">\n",
       "<caption>A data.table: 2 × 4</caption>\n",
       "<thead>\n",
       "\t<tr><th scope=col>V1</th><th scope=col>V2</th><th scope=col>V3</th><th scope=col>V4</th></tr>\n",
       "\t<tr><th scope=col>&lt;chr&gt;</th><th scope=col>&lt;int&gt;</th><th scope=col>&lt;int&gt;</th><th scope=col>&lt;chr&gt;</th></tr>\n",
       "</thead>\n",
       "<tbody>\n",
       "\t<tr><td>chr1</td><td>14416</td><td>15016</td><td>chr1:14651-14781-tfit,dreg</td></tr>\n",
       "\t<tr><td>chr1</td><td>16608</td><td>17208</td><td>chr1:16290-17526-tfit     </td></tr>\n",
       "</tbody>\n",
       "</table>\n"
      ],
      "text/latex": [
       "A data.table: 2 × 4\n",
       "\\begin{tabular}{llll}\n",
       " V1 & V2 & V3 & V4\\\\\n",
       " <chr> & <int> & <int> & <chr>\\\\\n",
       "\\hline\n",
       "\t chr1 & 14416 & 15016 & chr1:14651-14781-tfit,dreg\\\\\n",
       "\t chr1 & 16608 & 17208 & chr1:16290-17526-tfit     \\\\\n",
       "\\end{tabular}\n"
      ],
      "text/markdown": [
       "\n",
       "A data.table: 2 × 4\n",
       "\n",
       "| V1 &lt;chr&gt; | V2 &lt;int&gt; | V3 &lt;int&gt; | V4 &lt;chr&gt; |\n",
       "|---|---|---|---|\n",
       "| chr1 | 14416 | 15016 | chr1:14651-14781-tfit,dreg |\n",
       "| chr1 | 16608 | 17208 | chr1:16290-17526-tfit      |\n",
       "\n"
      ],
      "text/plain": [
       "  V1   V2    V3    V4                        \n",
       "1 chr1 14416 15016 chr1:14651-14781-tfit,dreg\n",
       "2 chr1 16608 17208 chr1:16290-17526-tfit     "
      ]
     },
     "metadata": {},
     "output_type": "display_data"
    }
   ],
   "source": [
    "# read in the original bids\n",
    "bids <- fread(og_bid_file)\n",
    "bids[1:2,]"
   ]
  },
  {
   "cell_type": "code",
   "execution_count": 53,
   "metadata": {},
   "outputs": [
    {
     "data": {
      "text/html": [
       "2680"
      ],
      "text/latex": [
       "2680"
      ],
      "text/markdown": [
       "2680"
      ],
      "text/plain": [
       "[1] 2680"
      ]
     },
     "metadata": {},
     "output_type": "display_data"
    },
    {
     "data": {
      "text/html": [
       "4681"
      ],
      "text/latex": [
       "4681"
      ],
      "text/markdown": [
       "4681"
      ],
      "text/plain": [
       "[1] 4681"
      ]
     },
     "metadata": {},
     "output_type": "display_data"
    },
    {
     "data": {
      "text/html": [
       "188"
      ],
      "text/latex": [
       "188"
      ],
      "text/markdown": [
       "188"
      ],
      "text/plain": [
       "[1] 188"
      ]
     },
     "metadata": {},
     "output_type": "display_data"
    },
    {
     "data": {
      "text/html": [
       "7173"
      ],
      "text/latex": [
       "7173"
      ],
      "text/markdown": [
       "7173"
      ],
      "text/plain": [
       "[1] 7173"
      ]
     },
     "metadata": {},
     "output_type": "display_data"
    },
    {
     "data": {
      "text/html": [
       "7173"
      ],
      "text/latex": [
       "7173"
      ],
      "text/markdown": [
       "7173"
      ],
      "text/plain": [
       "[1] 7173"
      ]
     },
     "metadata": {},
     "output_type": "display_data"
    }
   ],
   "source": [
    "length(pos_neg_colliding_notss)\n",
    "length(pos_neg_filt_notss)\n",
    "length(intersect(pos_neg_colliding_notss, pos_neg_filt_notss))\n",
    "pos_neg_rem <- union(pos_neg_colliding_notss, pos_neg_filt_notss)\n",
    "length(pos_neg_rem)\n",
    "length(intersect(bids$V4, pos_neg_rem))"
   ]
  },
  {
   "cell_type": "code",
   "execution_count": 55,
   "metadata": {},
   "outputs": [
    {
     "data": {
      "text/html": [
       "<style>\n",
       ".list-inline {list-style: none; margin:0; padding: 0}\n",
       ".list-inline>li {display: inline-block}\n",
       ".list-inline>li:not(:last-child)::after {content: \"\\00b7\"; padding: 0 .5ex}\n",
       "</style>\n",
       "<ol class=list-inline><li>78455</li><li>4</li></ol>\n"
      ],
      "text/latex": [
       "\\begin{enumerate*}\n",
       "\\item 78455\n",
       "\\item 4\n",
       "\\end{enumerate*}\n"
      ],
      "text/markdown": [
       "1. 78455\n",
       "2. 4\n",
       "\n",
       "\n"
      ],
      "text/plain": [
       "[1] 78455     4"
      ]
     },
     "metadata": {},
     "output_type": "display_data"
    },
    {
     "data": {
      "text/html": [
       "<table class=\"dataframe\">\n",
       "<caption>A data.table: 2 × 5</caption>\n",
       "<thead>\n",
       "\t<tr><th scope=col>Chr</th><th scope=col>Start</th><th scope=col>End</th><th scope=col>GeneID</th><th scope=col>Strand</th></tr>\n",
       "\t<tr><th scope=col>&lt;chr&gt;</th><th scope=col>&lt;int&gt;</th><th scope=col>&lt;int&gt;</th><th scope=col>&lt;chr&gt;</th><th scope=col>&lt;chr&gt;</th></tr>\n",
       "</thead>\n",
       "<tbody>\n",
       "\t<tr><td>chr1</td><td>14416</td><td>15016</td><td>chr1:14651-14781-tfit,dreg</td><td>+</td></tr>\n",
       "\t<tr><td>chr1</td><td>16608</td><td>17208</td><td>chr1:16290-17526-tfit     </td><td>+</td></tr>\n",
       "</tbody>\n",
       "</table>\n"
      ],
      "text/latex": [
       "A data.table: 2 × 5\n",
       "\\begin{tabular}{lllll}\n",
       " Chr & Start & End & GeneID & Strand\\\\\n",
       " <chr> & <int> & <int> & <chr> & <chr>\\\\\n",
       "\\hline\n",
       "\t chr1 & 14416 & 15016 & chr1:14651-14781-tfit,dreg & +\\\\\n",
       "\t chr1 & 16608 & 17208 & chr1:16290-17526-tfit      & +\\\\\n",
       "\\end{tabular}\n"
      ],
      "text/markdown": [
       "\n",
       "A data.table: 2 × 5\n",
       "\n",
       "| Chr &lt;chr&gt; | Start &lt;int&gt; | End &lt;int&gt; | GeneID &lt;chr&gt; | Strand &lt;chr&gt; |\n",
       "|---|---|---|---|---|\n",
       "| chr1 | 14416 | 15016 | chr1:14651-14781-tfit,dreg | + |\n",
       "| chr1 | 16608 | 17208 | chr1:16290-17526-tfit      | + |\n",
       "\n"
      ],
      "text/plain": [
       "  Chr  Start End   GeneID                     Strand\n",
       "1 chr1 14416 15016 chr1:14651-14781-tfit,dreg +     \n",
       "2 chr1 16608 17208 chr1:16290-17526-tfit      +     "
      ]
     },
     "metadata": {},
     "output_type": "display_data"
    }
   ],
   "source": [
    "bids <- bids[!bids$V4 %in% pos_neg_rem]\n",
    "dim(bids)\n",
    "colnames(bids) <- c(\"Chr\", \"Start\", \"End\", \"GeneID\")\n",
    "bids$Strand <- \"+\"\n",
    "bids[1:2,]"
   ]
  },
  {
   "cell_type": "code",
   "execution_count": 56,
   "metadata": {},
   "outputs": [],
   "source": [
    "write.table(bids[,c(\"GeneID\", \"Chr\", \"Start\", \"End\", \"Strand\")], \n",
    "           \"/scratch/Users/hoto7260/Resp_Env/Sasse2019/out/regions/Sasse2019_MUMERGE_600bpwin_tfit,dreg_04-4-24_filt.saf\", \n",
    "           quote=FALSE, sep=\"\\t\", row.names=FALSE)"
   ]
  }
 ],
 "metadata": {
  "kernelspec": {
   "display_name": "R 4.1.3",
   "language": "R",
   "name": "ir35"
  },
  "language_info": {
   "codemirror_mode": "r",
   "file_extension": ".r",
   "mimetype": "text/x-r-source",
   "name": "R",
   "pygments_lexer": "r",
   "version": "4.1.3"
  },
  "toc": {
   "base_numbering": 1,
   "nav_menu": {},
   "number_sections": true,
   "sideBar": true,
   "skip_h1_title": false,
   "title_cell": "Table of Contents",
   "title_sidebar": "Contents",
   "toc_cell": false,
   "toc_position": {},
   "toc_section_display": true,
   "toc_window_display": false
  }
 },
 "nbformat": 4,
 "nbformat_minor": 2
}
